{
 "cells": [
  {
   "cell_type": "markdown",
   "id": "1c2536fb-9955-4b62-ae0c-08792a06e196",
   "metadata": {},
   "source": [
    "# Data Science Tools and Ecosystem"
   ]
  },
  {
   "cell_type": "markdown",
   "id": "1b922c0d-65f1-4c68-b711-3a637388b47c",
   "metadata": {},
   "source": [
    "## __Objectives:__\n",
    "- List popular languages for Data Science\n",
    "- List commonly used libraries by Data Scientist\n",
    "- List Data Science Tools\n",
    "- Show different types of mathmatical expressions\n"
   ]
  },
  {
   "cell_type": "markdown",
   "id": "4120629c-58cb-499c-96b3-64d0c1d5d532",
   "metadata": {},
   "source": [
    "# In this notebook, Data Science Tools and Ecosystem are summarized."
   ]
  },
  {
   "cell_type": "markdown",
   "id": "b89f393e-e874-4f8b-a03d-a0c6b3908c90",
   "metadata": {},
   "source": [
    "# Some of the popular languages that Data Scientist use are:\n",
    "1. Python\n",
    "2. R\n",
    "3. SQL\n",
    "4. Scala\n",
    "5. Java\n",
    "6. C++\n",
    "7. Julia\n",
    "8. JavaScript (not be related to Java)"
   ]
  },
  {
   "cell_type": "markdown",
   "id": "daca5520-499d-4c34-84d6-fc3443a7f7d3",
   "metadata": {},
   "source": [
    "# Some of the commonly used libraries used by Data Scientists include:\n",
    "1. Pandas\n",
    "2. Numpy\n",
    "3. Matplotlib (visualization)\n",
    "4. Seaborn (visualization)\n",
    "S. Scikit Learn (machine learning)\n",
    "6. Apache Spark (general purpose)\n",
    "7. Scala (Vegas)\n",
    "8. R (ggplot2)\n"
   ]
  },
  {
   "cell_type": "markdown",
   "id": "c7d2cc54-d7de-400d-984b-3552cca10bfa",
   "metadata": {},
   "source": [
    "| Data Science Tools |\n",
    "| ------------------ |\n",
    "| Code Asset Management |\n",
    "| Data Asset Management |\n",
    "| Execution Environment |\n",
    "| Development Environment |"
   ]
  },
  {
   "cell_type": "markdown",
   "id": "fef3b610-a96d-499b-bd00-8ad9f3ebfc16",
   "metadata": {},
   "source": [
    "### Below are a few examples of evaluating arithmetic expressions in Python\n"
   ]
  },
  {
   "cell_type": "code",
   "execution_count": 1,
   "id": "773e977b-cd94-4dde-aed1-1e03bada2643",
   "metadata": {},
   "outputs": [
    {
     "data": {
      "text/html": [
       "6"
      ],
      "text/latex": [
       "6"
      ],
      "text/markdown": [
       "6"
      ],
      "text/plain": [
       "[1] 6"
      ]
     },
     "metadata": {},
     "output_type": "display_data"
    }
   ],
   "source": [
    "2 * 3 # Multiplication"
   ]
  },
  {
   "cell_type": "code",
   "execution_count": 2,
   "id": "bbbdaf7e-cb73-4212-8526-ee0e1223a707",
   "metadata": {},
   "outputs": [
    {
     "data": {
      "text/html": [
       "3"
      ],
      "text/latex": [
       "3"
      ],
      "text/markdown": [
       "3"
      ],
      "text/plain": [
       "[1] 3"
      ]
     },
     "metadata": {},
     "output_type": "display_data"
    }
   ],
   "source": [
    "4 - 1 # Subtraction"
   ]
  },
  {
   "cell_type": "code",
   "execution_count": 3,
   "id": "d60059c8-9ae2-4003-9db4-9aa00358abed",
   "metadata": {},
   "outputs": [
    {
     "data": {
      "text/html": [
       "3"
      ],
      "text/latex": [
       "3"
      ],
      "text/markdown": [
       "3"
      ],
      "text/plain": [
       "[1] 3"
      ]
     },
     "metadata": {},
     "output_type": "display_data"
    }
   ],
   "source": [
    "a <- 1 # Assigning 1 to the variable called \"a\"\n",
    "a + 2 # Adding 2"
   ]
  },
  {
   "cell_type": "code",
   "execution_count": 1,
   "id": "31a2e8ba-ba94-4fcc-89de-4047dbe72989",
   "metadata": {
    "tags": []
   },
   "outputs": [
    {
     "data": {
      "text/plain": [
       "17"
      ]
     },
     "execution_count": 1,
     "metadata": {},
     "output_type": "execute_result"
    }
   ],
   "source": [
    "### This is a simple arithmetic expression to multiply then add integers\n",
    "( 3 * 4 ) + 5\n"
   ]
  },
  {
   "cell_type": "code",
   "execution_count": 7,
   "id": "a5180de9-5f3c-408a-8c88-bdcd969b6b6f",
   "metadata": {
    "tags": []
   },
   "outputs": [
    {
     "name": "stdout",
     "output_type": "stream",
     "text": [
      "3.3333333333333335\n"
     ]
    }
   ],
   "source": [
    "### This will convert 200 minutes to hours by dividing by 60\n",
    "x = 200 \n",
    "y = x / 60\n",
    "print ( y )\n"
   ]
  },
  {
   "cell_type": "markdown",
   "id": "030fd924-507d-49d1-b21e-d1f32eed2bc0",
   "metadata": {},
   "source": [
    "## Author\n",
    "Mickey McCall"
   ]
  },
  {
   "cell_type": "markdown",
   "id": "5e6120b8-679c-4956-a2de-914ec2de587c",
   "metadata": {},
   "source": [
    "# ***STRINGS***\n"
   ]
  },
  {
   "cell_type": "code",
   "execution_count": 3,
   "id": "1ecc6e5a-6569-4acf-bbdf-b65429d5828e",
   "metadata": {
    "tags": []
   },
   "outputs": [
    {
     "data": {
      "text/plain": [
       "'i'"
      ]
     },
     "execution_count": 3,
     "metadata": {},
     "output_type": "execute_result"
    }
   ],
   "source": [
    "name = \"Mickey McCall\"\n",
    "name[ 1 ] "
   ]
  },
  {
   "cell_type": "code",
   "execution_count": 4,
   "id": "5ed0678b-2909-42df-9efd-71646453b552",
   "metadata": {
    "tags": []
   },
   "outputs": [
    {
     "data": {
      "text/plain": [
       "13"
      ]
     },
     "execution_count": 4,
     "metadata": {},
     "output_type": "execute_result"
    }
   ],
   "source": [
    "len (name)"
   ]
  },
  {
   "cell_type": "markdown",
   "id": "51085340-0abf-4787-9e61-803efedd9e4a",
   "metadata": {},
   "source": [
    "## The zero starts the index of positive numbers the space between y and M is sequence # 6\n",
    "| M i c k e y   M c C  a  l  l |\n",
    "|--------------------------|\n",
    "| 0 1 2 3 4 5 6 7 8 9 10 11 12 |\n",
    "\n",
    "### Remember because the index starts with 0 the string is still 13 characters long. so len(name) will be 13 not 12.\n"
   ]
  },
  {
   "cell_type": "code",
   "execution_count": 7,
   "id": "a673d1a3-f129-4930-9ebb-2394f0c079e8",
   "metadata": {
    "tags": []
   },
   "outputs": [
    {
     "data": {
      "text/plain": [
       "'Mick'"
      ]
     },
     "execution_count": 7,
     "metadata": {},
     "output_type": "execute_result"
    }
   ],
   "source": [
    "name [ 0 : 4 ] # Output will be Mick"
   ]
  },
  {
   "cell_type": "code",
   "execution_count": 9,
   "id": "ace330c5-e7ea-473f-91b8-33ab3ff15103",
   "metadata": {
    "tags": []
   },
   "outputs": [
    {
     "data": {
      "text/plain": [
       "'McCa'"
      ]
     },
     "execution_count": 9,
     "metadata": {},
     "output_type": "execute_result"
    }
   ],
   "source": [
    "name [ 7 : 11 ] # Out put will be McCa"
   ]
  },
  {
   "cell_type": "markdown",
   "id": "856bafa7-4bb3-481d-a75f-5df5282bd629",
   "metadata": {},
   "source": [
    "### Remember the negative indexing of a string starts from -1 at the end of the string. Example Mickey McCall the last \"l\" will be -1 and (M) in Mickey will be -13"
   ]
  },
  {
   "cell_type": "markdown",
   "id": "42bf5244-a112-4c3e-a7f0-299e16bbc841",
   "metadata": {},
   "source": [
    "### Slicing Strings"
   ]
  },
  {
   "cell_type": "markdown",
   "id": "ddd4092d-59fa-4ba4-92c7-feaeb997c99e",
   "metadata": {},
   "source": [
    "### When taking the slice, the first number means the index (start at 0), and the second number means the length from the index to the last element you want (start at 1)"
   ]
  },
  {
   "cell_type": "code",
   "execution_count": 11,
   "id": "c2a7281f-7808-4279-8d36-3ad8e748dca5",
   "metadata": {
    "tags": []
   },
   "outputs": [
    {
     "data": {
      "text/plain": [
       "'Mick'"
      ]
     },
     "execution_count": 11,
     "metadata": {},
     "output_type": "execute_result"
    }
   ],
   "source": [
    "name [ -13 : -9 ] # Output will be Mick"
   ]
  },
  {
   "cell_type": "code",
   "execution_count": 12,
   "id": "27bbdbc9-660f-4d2d-94b4-fb839b411d1e",
   "metadata": {
    "tags": []
   },
   "outputs": [
    {
     "data": {
      "text/plain": [
       "str"
      ]
     },
     "execution_count": 12,
     "metadata": {},
     "output_type": "execute_result"
    }
   ],
   "source": [
    "type (name)"
   ]
  },
  {
   "cell_type": "markdown",
   "id": "7b85aec0-4bb2-49ce-9a19-3fde6272354b",
   "metadata": {},
   "source": [
    "### Stride Strings\n"
   ]
  },
  {
   "cell_type": "code",
   "execution_count": 8,
   "id": "5d3c880d-6859-48a2-b00b-dcc2e07024b4",
   "metadata": {
    "tags": []
   },
   "outputs": [
    {
     "data": {
      "text/plain": [
       "'Mce cal'"
      ]
     },
     "execution_count": 8,
     "metadata": {},
     "output_type": "execute_result"
    }
   ],
   "source": [
    "# This is called striding\n",
    "\n",
    "name [ :: 2 ] # The 2 indicates selecting every 2nd variable"
   ]
  },
  {
   "cell_type": "markdown",
   "id": "7bad297a-416e-4df7-b9ae-fe9871811207",
   "metadata": {},
   "source": [
    "### Incorporate slicing with the stride. we can select the first five elements and then use the stride:\n"
   ]
  },
  {
   "cell_type": "code",
   "execution_count": 9,
   "id": "9a1b260c-fcb6-4139-9b05-e1bf49de9a54",
   "metadata": {
    "tags": []
   },
   "outputs": [
    {
     "data": {
      "text/plain": [
       "'Mce'"
      ]
     },
     "execution_count": 9,
     "metadata": {},
     "output_type": "execute_result"
    }
   ],
   "source": [
    "# Get every second element in the range between index 0 to index 4\n",
    "\n",
    "name [ 0 : 5 : 2 ]"
   ]
  },
  {
   "cell_type": "markdown",
   "id": "44348154-cf3a-47e3-b4f5-924883c8a9a8",
   "metadata": {},
   "source": [
    "## Concatenate Strings\n"
   ]
  },
  {
   "cell_type": "code",
   "execution_count": 10,
   "id": "e0558838-cee5-42e9-aa8d-9acad10d4e5e",
   "metadata": {
    "tags": []
   },
   "outputs": [
    {
     "data": {
      "text/plain": [
       "'Mickey McCall is the best '"
      ]
     },
     "execution_count": 10,
     "metadata": {},
     "output_type": "execute_result"
    }
   ],
   "source": [
    "# Using addition symbol can make new string or \"concatenate\"\n",
    "\n",
    "statement = name + \" is the best \"\n",
    "statement"
   ]
  },
  {
   "cell_type": "markdown",
   "id": "04390bd1-9303-4022-b644-6c739c2f16c1",
   "metadata": {},
   "source": [
    "### To replicate values of a string we simply multiply the string by the number of times we would like to replicate it. "
   ]
  },
  {
   "cell_type": "code",
   "execution_count": 20,
   "id": "3d24941f-3244-4383-89dc-8137cb169812",
   "metadata": {
    "tags": []
   },
   "outputs": [
    {
     "data": {
      "text/plain": [
       "'Mickey McCallMickey McCallMickey McCall'"
      ]
     },
     "execution_count": 20,
     "metadata": {},
     "output_type": "execute_result"
    }
   ],
   "source": [
    "3 * \"Mickey McCall\" # this should be three copies of the orginial name string"
   ]
  },
  {
   "cell_type": "code",
   "execution_count": 21,
   "id": "d1d11ce2-5447-4baa-b599-f0d950a337a1",
   "metadata": {
    "tags": []
   },
   "outputs": [
    {
     "data": {
      "text/plain": [
       "'Mickey McCall'"
      ]
     },
     "execution_count": 21,
     "metadata": {},
     "output_type": "execute_result"
    }
   ],
   "source": [
    "name"
   ]
  },
  {
   "cell_type": "code",
   "execution_count": 11,
   "id": "f2c845be-49eb-4e3a-b643-d9c59ab28ffb",
   "metadata": {
    "tags": []
   },
   "outputs": [
    {
     "data": {
      "text/plain": [
       "'Mickey McCallMickey McCallMickey McCall'"
      ]
     },
     "execution_count": 11,
     "metadata": {},
     "output_type": "execute_result"
    }
   ],
   "source": [
    "3 * name"
   ]
  },
  {
   "cell_type": "code",
   "execution_count": 74,
   "id": "c6a4c4e7-f1d3-4297-b7b4-1698dfb9c967",
   "metadata": {
    "tags": []
   },
   "outputs": [
    {
     "data": {
      "text/plain": [
       "' Mickey McCall '"
      ]
     },
     "execution_count": 74,
     "metadata": {},
     "output_type": "execute_result"
    }
   ],
   "source": [
    "name = \" Mickey McCall \"\n",
    "name"
   ]
  },
  {
   "cell_type": "code",
   "execution_count": 27,
   "id": "03df5b05-63dd-45af-8b64-cb48d7472574",
   "metadata": {
    "tags": []
   },
   "outputs": [
    {
     "data": {
      "text/plain": [
       "' Mickey McCall  is the best '"
      ]
     },
     "execution_count": 27,
     "metadata": {},
     "output_type": "execute_result"
    }
   ],
   "source": [
    "name = name + \" is the best \"\n",
    "name"
   ]
  },
  {
   "cell_type": "markdown",
   "id": "3e4fea93-15b8-4a1f-af95-1ccd3a02f320",
   "metadata": {},
   "source": [
    "## backslash are meant to proceed escape sequences\n",
    "## ***Escape sequences*** are strings that are difficult to input"
   ]
  },
  {
   "cell_type": "markdown",
   "id": "88addfb5-b6cf-4af7-9408-c1985ceb9074",
   "metadata": {},
   "source": [
    "## backlash \\n is a new line"
   ]
  },
  {
   "cell_type": "code",
   "execution_count": 29,
   "id": "115a3492-7baa-4ac2-8fc0-4edb7753eca7",
   "metadata": {
    "tags": []
   },
   "outputs": [
    {
     "name": "stdout",
     "output_type": "stream",
     "text": [
      " Mickey McCall \n",
      " is the best \n"
     ]
    }
   ],
   "source": [
    "print ( \" Mickey McCall \\n is the best \" )"
   ]
  },
  {
   "cell_type": "markdown",
   "id": "4a44078f-992f-4cf3-98dd-152bf12b728f",
   "metadata": {},
   "source": [
    "## backlash \\t is where a tab should be"
   ]
  },
  {
   "cell_type": "code",
   "execution_count": 30,
   "id": "dc8ad650-b5b8-4527-8af5-19ead54bc81d",
   "metadata": {
    "tags": []
   },
   "outputs": [
    {
     "name": "stdout",
     "output_type": "stream",
     "text": [
      " Mickey McCall \t is the best \n"
     ]
    }
   ],
   "source": [
    "print ( \" Mickey McCall \\t is the best \" )"
   ]
  },
  {
   "cell_type": "markdown",
   "id": "967a24c6-408b-4220-8a70-aec7c1905f5b",
   "metadata": {},
   "source": [
    "## to place a backslash \\ in your string use a double backslash \\\\"
   ]
  },
  {
   "cell_type": "code",
   "execution_count": 31,
   "id": "29a6bd22-7db7-47bb-bae0-c4fff2a63df5",
   "metadata": {
    "tags": []
   },
   "outputs": [
    {
     "name": "stdout",
     "output_type": "stream",
     "text": [
      " Mickey McCall \\ is the best \n"
     ]
    }
   ],
   "source": [
    "print ( \" Mickey McCall \\\\ is the best \" )"
   ]
  },
  {
   "cell_type": "markdown",
   "id": "61e94428-ab13-44af-80b9-d6ef6c053f52",
   "metadata": {},
   "source": [
    "### to place multiple backslashes through out your string preceed the the string with r"
   ]
  },
  {
   "cell_type": "code",
   "execution_count": 35,
   "id": "1f3353d8-4cc8-4f65-bd05-9e087c9f9080",
   "metadata": {
    "tags": []
   },
   "outputs": [
    {
     "name": "stdout",
     "output_type": "stream",
     "text": [
      " Mickey McCall \\ is the best \n"
     ]
    }
   ],
   "source": [
    "print ( r\" Mickey McCall \\ is the best \" ) #Out put is same as above"
   ]
  },
  {
   "cell_type": "markdown",
   "id": "46cc5869-5236-4512-925f-e53c78bb856a",
   "metadata": {},
   "source": [
    "#  String Operations\n"
   ]
  },
  {
   "cell_type": "markdown",
   "id": "4afe7b2b-c2da-4dca-b072-82107f0b3e9c",
   "metadata": {},
   "source": [
    "### Upper is a method to convert lower case characters to upper case characters"
   ]
  },
  {
   "cell_type": "code",
   "execution_count": 17,
   "id": "4fb7c77b-23ee-4ec9-a2c7-66e809ffe6ad",
   "metadata": {
    "tags": []
   },
   "outputs": [
    {
     "data": {
      "text/plain": [
       "' Thriller is the sixth studio album '"
      ]
     },
     "execution_count": 17,
     "metadata": {},
     "output_type": "execute_result"
    }
   ],
   "source": [
    "## Examples of Methods\n",
    "\n",
    "A = \" Thriller is the sixth studio album \"\n",
    "A"
   ]
  },
  {
   "cell_type": "code",
   "execution_count": 18,
   "id": "9a6d57a4-c8aa-4a51-a849-49f3c022cfcb",
   "metadata": {
    "tags": []
   },
   "outputs": [],
   "source": [
    "B= A.upper() # This will change lowercase characters to uppercase characters as varible B"
   ]
  },
  {
   "cell_type": "code",
   "execution_count": 38,
   "id": "5eb0da9c-a0e5-460a-a9da-9d71edda7fae",
   "metadata": {
    "tags": []
   },
   "outputs": [
    {
     "data": {
      "text/plain": [
       "' THRILLER IS THE SIXTH STUDIO ALBUM '"
      ]
     },
     "execution_count": 38,
     "metadata": {},
     "output_type": "execute_result"
    }
   ],
   "source": [
    "B"
   ]
  },
  {
   "cell_type": "code",
   "execution_count": 19,
   "id": "fc65c32c-0cde-4f5e-96f8-e09c974a6c50",
   "metadata": {
    "tags": []
   },
   "outputs": [
    {
     "data": {
      "text/plain": [
       "' Thriller is the sixth studio album '"
      ]
     },
     "execution_count": 19,
     "metadata": {},
     "output_type": "execute_result"
    }
   ],
   "source": [
    "A"
   ]
  },
  {
   "cell_type": "code",
   "execution_count": 20,
   "id": "48b6abeb-5167-42a3-b544-ceb4c657cb48",
   "metadata": {
    "tags": []
   },
   "outputs": [
    {
     "data": {
      "text/plain": [
       "' THRILLER IS THE SIXTH STUDIO ALBUM '"
      ]
     },
     "execution_count": 20,
     "metadata": {},
     "output_type": "execute_result"
    }
   ],
   "source": [
    "A . upper ( )"
   ]
  },
  {
   "cell_type": "code",
   "execution_count": 21,
   "id": "63c81c47-3144-4f7f-844a-45ab705da617",
   "metadata": {
    "tags": []
   },
   "outputs": [
    {
     "data": {
      "text/plain": [
       "' thriller is the sixth studio album '"
      ]
     },
     "execution_count": 21,
     "metadata": {},
     "output_type": "execute_result"
    }
   ],
   "source": [
    "B . lower ( )"
   ]
  },
  {
   "cell_type": "code",
   "execution_count": 13,
   "id": "a4e3d292-610c-4bae-a322-9659c49c66bb",
   "metadata": {
    "tags": []
   },
   "outputs": [
    {
     "name": "stdout",
     "output_type": "stream",
     "text": [
      "before upper :   Thriller is the sixth studio album \n",
      " After upper :   THRILLER IS THE SIXTH STUDIO ALBUM \n"
     ]
    }
   ],
   "source": [
    "# Convert all the characters in string to upper case\n",
    "\n",
    "a = \" Thriller is the sixth studio album \"\n",
    "print ( \"before upper : \", a )\n",
    "b = a . upper ( )\n",
    "print ( \" After upper : \", b )"
   ]
  },
  {
   "cell_type": "markdown",
   "id": "9ef04bc6-54ba-462c-8ee2-51c022e65498",
   "metadata": {},
   "source": [
    "## The method replace, replaces a segment of the string"
   ]
  },
  {
   "cell_type": "code",
   "execution_count": 82,
   "id": "e06cf6af-6341-4bdd-a40f-86557b6c9519",
   "metadata": {
    "tags": []
   },
   "outputs": [
    {
     "data": {
      "text/plain": [
       "' Mickey McCall is the best '"
      ]
     },
     "execution_count": 82,
     "metadata": {},
     "output_type": "execute_result"
    }
   ],
   "source": [
    "A= \" Mickey McCall is the best \" \n",
    "A"
   ]
  },
  {
   "cell_type": "code",
   "execution_count": 83,
   "id": "9151d243-440f-4776-b1fb-a6e88a8f0505",
   "metadata": {
    "tags": []
   },
   "outputs": [
    {
     "data": {
      "text/plain": [
       "'  Dawn  McCall is the best '"
      ]
     },
     "execution_count": 83,
     "metadata": {},
     "output_type": "execute_result"
    }
   ],
   "source": [
    "B = A.replace ( 'Mickey' , ' Dawn ' ) # The output should replace Mickey with Dawn\n",
    "B"
   ]
  },
  {
   "cell_type": "markdown",
   "id": "a6bf9bc0-1464-434b-817f-8245c12c5099",
   "metadata": {},
   "source": [
    "## The method find is to find substrings "
   ]
  },
  {
   "cell_type": "code",
   "execution_count": 49,
   "id": "6d1efbe8-d2f2-4acd-9172-83b2037fc1ca",
   "metadata": {
    "tags": []
   },
   "outputs": [
    {
     "data": {
      "text/plain": [
       "' Mickey McCall '"
      ]
     },
     "execution_count": 49,
     "metadata": {},
     "output_type": "execute_result"
    }
   ],
   "source": [
    "name = \" Mickey McCall \"\n",
    "name"
   ]
  },
  {
   "cell_type": "code",
   "execution_count": 79,
   "id": "6ede08d4-1ff7-4d45-87ec-2402c55b72fc",
   "metadata": {
    "tags": []
   },
   "outputs": [],
   "source": [
    "name = ( \"Mickey McCall\" )"
   ]
  },
  {
   "cell_type": "code",
   "execution_count": 60,
   "id": "413f7768-35f7-4586-9d54-aabee81ae516",
   "metadata": {
    "tags": []
   },
   "outputs": [
    {
     "data": {
      "text/plain": [
       "5"
      ]
     },
     "execution_count": 60,
     "metadata": {},
     "output_type": "execute_result"
    }
   ],
   "source": [
    "name.find ( 'ey' ) # ey is the argument the output is the first index of the sequence"
   ]
  },
  {
   "cell_type": "code",
   "execution_count": 58,
   "id": "3e6bb6b8-4000-4473-b834-226e03f37bc6",
   "metadata": {
    "tags": []
   },
   "outputs": [
    {
     "data": {
      "text/plain": [
       "8"
      ]
     },
     "execution_count": 58,
     "metadata": {},
     "output_type": "execute_result"
    }
   ],
   "source": [
    "name.find (\"McCa\")"
   ]
  },
  {
   "cell_type": "code",
   "execution_count": 61,
   "id": "80ab952b-3342-43c3-b8a6-414d8cef9e94",
   "metadata": {
    "tags": []
   },
   "outputs": [
    {
     "data": {
      "text/plain": [
       "1"
      ]
     },
     "execution_count": 61,
     "metadata": {},
     "output_type": "execute_result"
    }
   ],
   "source": [
    "name.find ( 'Mick' )"
   ]
  },
  {
   "cell_type": "code",
   "execution_count": 62,
   "id": "f7fd633f-098c-4212-9cef-1d289057b295",
   "metadata": {
    "tags": []
   },
   "outputs": [
    {
     "data": {
      "text/plain": [
       "2"
      ]
     },
     "execution_count": 62,
     "metadata": {},
     "output_type": "execute_result"
    }
   ],
   "source": [
    "name.find ( 'ick')\n"
   ]
  },
  {
   "cell_type": "code",
   "execution_count": 63,
   "id": "d2abf2a8-b3cc-4c67-9e5e-c53041cedfdc",
   "metadata": {
    "tags": []
   },
   "outputs": [
    {
     "data": {
      "text/plain": [
       "3"
      ]
     },
     "execution_count": 63,
     "metadata": {},
     "output_type": "execute_result"
    }
   ],
   "source": [
    "name.find ( 'c' )"
   ]
  },
  {
   "cell_type": "code",
   "execution_count": 64,
   "id": "d728bc66-59ee-4912-a1ff-8d89e8135622",
   "metadata": {
    "tags": []
   },
   "outputs": [
    {
     "data": {
      "text/plain": [
       "9"
      ]
     },
     "execution_count": 64,
     "metadata": {},
     "output_type": "execute_result"
    }
   ],
   "source": [
    "name.find ( 'cC' )"
   ]
  },
  {
   "cell_type": "code",
   "execution_count": 65,
   "id": "5ed29580-9f71-4745-b9e2-92a4e24d7c10",
   "metadata": {
    "tags": []
   },
   "outputs": [
    {
     "data": {
      "text/plain": [
       "' cycl'"
      ]
     },
     "execution_count": 65,
     "metadata": {},
     "output_type": "execute_result"
    }
   ],
   "source": [
    "name [:: 3 ]"
   ]
  },
  {
   "cell_type": "code",
   "execution_count": 67,
   "id": "32c4928a-be50-4a7b-9622-b2e8f99a35ba",
   "metadata": {
    "tags": []
   },
   "outputs": [
    {
     "data": {
      "text/plain": [
       "' cycl'"
      ]
     },
     "execution_count": 67,
     "metadata": {},
     "output_type": "execute_result"
    }
   ],
   "source": [
    "name [ 0 : 13 : 3 ]"
   ]
  },
  {
   "cell_type": "code",
   "execution_count": 68,
   "id": "ca77e2bf-1e54-4313-828f-04cc5b9f3bfc",
   "metadata": {
    "tags": []
   },
   "outputs": [
    {
     "data": {
      "text/plain": [
       "'l'"
      ]
     },
     "execution_count": 68,
     "metadata": {},
     "output_type": "execute_result"
    }
   ],
   "source": [
    "name [ 13 ]"
   ]
  },
  {
   "cell_type": "code",
   "execution_count": 69,
   "id": "d3ddda9d-3f98-4f9d-b5ec-df1647797630",
   "metadata": {
    "tags": []
   },
   "outputs": [
    {
     "data": {
      "text/plain": [
       "' Mickey McCal'"
      ]
     },
     "execution_count": 69,
     "metadata": {},
     "output_type": "execute_result"
    }
   ],
   "source": [
    "name [ 0 : 13 ]"
   ]
  },
  {
   "cell_type": "code",
   "execution_count": 83,
   "id": "38d5bccb-7469-4855-9eab-74e5a21e6580",
   "metadata": {
    "tags": []
   },
   "outputs": [
    {
     "data": {
      "text/plain": [
       "'Mickey McCall'"
      ]
     },
     "execution_count": 83,
     "metadata": {},
     "output_type": "execute_result"
    }
   ],
   "source": [
    "name [0 : 17]"
   ]
  },
  {
   "cell_type": "code",
   "execution_count": 84,
   "id": "17e36234-a59e-4fcf-9368-41e9365ac674",
   "metadata": {
    "tags": []
   },
   "outputs": [
    {
     "data": {
      "text/plain": [
       "-1"
      ]
     },
     "execution_count": 84,
     "metadata": {},
     "output_type": "execute_result"
    }
   ],
   "source": [
    "name.find ('keymc')"
   ]
  },
  {
   "cell_type": "code",
   "execution_count": 85,
   "id": "3a96b185-3f74-42e6-9d9c-2664241d0495",
   "metadata": {
    "tags": []
   },
   "outputs": [
    {
     "data": {
      "text/plain": [
       "str"
      ]
     },
     "execution_count": 85,
     "metadata": {},
     "output_type": "execute_result"
    }
   ],
   "source": [
    "type (name)"
   ]
  },
  {
   "cell_type": "code",
   "execution_count": 86,
   "id": "d8e81b7f-67e8-45e1-8d65-887e8ca01a72",
   "metadata": {
    "tags": []
   },
   "outputs": [
    {
     "data": {
      "text/plain": [
       "True"
      ]
     },
     "execution_count": 86,
     "metadata": {},
     "output_type": "execute_result"
    }
   ],
   "source": [
    "bool (name)"
   ]
  },
  {
   "cell_type": "markdown",
   "id": "026da409-9e95-43ad-8131-7bc92a959a90",
   "metadata": {},
   "source": [
    "### If \"find\" cannot find the substring in the string\n"
   ]
  },
  {
   "cell_type": "code",
   "execution_count": 14,
   "id": "ce5f7135-a1b6-469c-bbfd-81175f6ab61c",
   "metadata": {
    "tags": []
   },
   "outputs": [
    {
     "data": {
      "text/plain": [
       "-1"
      ]
     },
     "execution_count": 14,
     "metadata": {},
     "output_type": "execute_result"
    }
   ],
   "source": [
    "name . find ( ' Jasdfasdasdf ' )"
   ]
  },
  {
   "cell_type": "markdown",
   "id": "f2b716fe-8a1f-4fd6-8561-13a658526a46",
   "metadata": {},
   "source": [
    "### Strings will put anything you put in them into the code.\n",
    "### \"Mickey\" is not the same as \" Mickey \". The first one looks for Mickey, the second looks for \"space\"Mickey."
   ]
  },
  {
   "cell_type": "code",
   "execution_count": 24,
   "id": "7f9ddac4-a61b-496e-afca-d453abfa5219",
   "metadata": {
    "tags": []
   },
   "outputs": [
    {
     "data": {
      "text/plain": [
       "2"
      ]
     },
     "execution_count": 24,
     "metadata": {},
     "output_type": "execute_result"
    }
   ],
   "source": [
    "x = 1\n",
    "x = x + 1\n",
    "x"
   ]
  },
  {
   "cell_type": "code",
   "execution_count": 25,
   "id": "faa1aca2-99e8-4db7-a1b2-5ea8888ccf6e",
   "metadata": {
    "tags": []
   },
   "outputs": [
    {
     "data": {
      "text/plain": [
       "7"
      ]
     },
     "execution_count": 25,
     "metadata": {},
     "output_type": "execute_result"
    }
   ],
   "source": [
    "1 + 3 * 2"
   ]
  },
  {
   "cell_type": "code",
   "execution_count": 26,
   "id": "ce760267-ec81-4673-beb1-955f299ff9c2",
   "metadata": {
    "tags": []
   },
   "outputs": [
    {
     "data": {
      "text/plain": [
       "str"
      ]
     },
     "execution_count": 26,
     "metadata": {},
     "output_type": "execute_result"
    }
   ],
   "source": [
    "type (\"7.1\" )"
   ]
  },
  {
   "cell_type": "code",
   "execution_count": 27,
   "id": "510dc36e-5456-4dc2-a6f0-3e315b87c1eb",
   "metadata": {
    "tags": []
   },
   "outputs": [
    {
     "data": {
      "text/plain": [
       "1"
      ]
     },
     "execution_count": 27,
     "metadata": {},
     "output_type": "execute_result"
    }
   ],
   "source": [
    "int (True)"
   ]
  },
  {
   "cell_type": "code",
   "execution_count": 28,
   "id": "0a0ea677-50a4-48ed-bb88-0a05186e61d2",
   "metadata": {
    "tags": []
   },
   "outputs": [
    {
     "data": {
      "text/plain": [
       "'12'"
      ]
     },
     "execution_count": 28,
     "metadata": {},
     "output_type": "execute_result"
    }
   ],
   "source": [
    "'1' + '2'"
   ]
  },
  {
   "cell_type": "code",
   "execution_count": 29,
   "id": "24455c89-3ee1-4fd4-8303-7a10b3710d14",
   "metadata": {
    "tags": []
   },
   "outputs": [
    {
     "data": {
      "text/plain": [
       "'HELLO'"
      ]
     },
     "execution_count": 29,
     "metadata": {},
     "output_type": "execute_result"
    }
   ],
   "source": [
    "myvar = 'hello'\n",
    "myvar. upper ( )"
   ]
  },
  {
   "cell_type": "code",
   "execution_count": 30,
   "id": "d65e1d7a-165b-4cf0-8812-a6237e01286d",
   "metadata": {
    "tags": []
   },
   "outputs": [
    {
     "data": {
      "text/plain": [
       "'2'"
      ]
     },
     "execution_count": 30,
     "metadata": {},
     "output_type": "execute_result"
    }
   ],
   "source": [
    "str ( 1+1)"
   ]
  },
  {
   "cell_type": "code",
   "execution_count": 31,
   "id": "a7ff044e-ef25-4e9a-ad8c-0a4e4fa0b0b7",
   "metadata": {
    "tags": []
   },
   "outputs": [
    {
     "data": {
      "text/plain": [
       "'ab3'"
      ]
     },
     "execution_count": 31,
     "metadata": {},
     "output_type": "execute_result"
    }
   ],
   "source": [
    "'123'.replace (\"12\", \"ab\")"
   ]
  },
  {
   "cell_type": "code",
   "execution_count": 36,
   "id": "bb539fe6-792f-4634-8f73-139b6ec45014",
   "metadata": {
    "tags": []
   },
   "outputs": [
    {
     "data": {
      "text/plain": [
       "float"
      ]
     },
     "execution_count": 36,
     "metadata": {},
     "output_type": "execute_result"
    }
   ],
   "source": [
    "x = 2/2\n",
    "x\n",
    "type (x)"
   ]
  },
  {
   "cell_type": "markdown",
   "id": "d2d4a084-53c7-4032-9408-8a8eb62dc5ea",
   "metadata": {},
   "source": [
    "# This was from Week 2 of Python for Data Science, AI & Deployment"
   ]
  },
  {
   "cell_type": "markdown",
   "id": "f687589d-28f4-42fa-a321-d6a68ff8ac50",
   "metadata": {},
   "source": [
    "### Lists in Python"
   ]
  },
  {
   "cell_type": "markdown",
   "id": "08f260bb-81ea-477e-99c7-3c28b5816811",
   "metadata": {},
   "source": [
    "Imagine you received album recommendations from your friends and compiled all of the recommandations into a table, with specific information about each album.\n",
    "\n",
    "The table has one row for each movie and several columns:\n",
    "\n",
    "*   **Artist** - Name of the artist\n",
    "*   **Album** - Name of the album\n",
    "*   **Released_year** - Year the album was released\n",
    "*   **Length_min_sec** - Length of the album (hours,minutes,seconds)\n",
    "*   **Genre** - Genre of the album\n",
    "*   **Music_recording_sales_millions** - Music recording sales (millions in USD) on [SONG://DATABASE](http://www.song-database.com/?utm_medium=Exinfluencer&utm_source=Exinfluencer&utm_content=000026UJ&utm_term=10006555&utm_id=NA-SkillsNetwork-Channel-SkillsNetworkCoursesIBMDeveloperSkillsNetworkPY0101ENSkillsNetwork19487395-2021-01-01)\n",
    "*   **Claimed_sales_millions** - Album's claimed sales (millions in USD) on [SONG://DATABASE](http://www.song-database.com/?utm_medium=Exinfluencer&utm_source=Exinfluencer&utm_content=000026UJ&utm_term=10006555&utm_id=NA-SkillsNetwork-Channel-SkillsNetworkCoursesIBMDeveloperSkillsNetworkPY0101ENSkillsNetwork19487395-2021-01-01)\n",
    "*   **Released** - Date on which the album was released\n",
    "*   **Soundtrack** - Indicates if the album is the movie soundtrack (Y) or (N)\n",
    "*   **Rating_of_friends** - Indicates the rating from your friends from 1 to 10\n",
    "\n",
    "<br>\n",
    "<br>\n",
    "\n",
    "The Dataset can be seen below:\n",
    "\n",
    "<font size=\"1\">\n",
    "<table font-size:xx-small>\n",
    "  <tr>\n",
    "    <th>Artist</th>\n",
    "    <th>Album</th> \n",
    "    <th>Released</th>\n",
    "    <th>Length</th>\n",
    "    <th>Genre</th> \n",
    "    <th>Music recording sales (millions)</th>\n",
    "    <th>Claimed sales (millions)</th>\n",
    "    <th>Released</th>\n",
    "    <th>Soundtrack</th>\n",
    "    <th>Rating (friends)</th>\n",
    "  </tr>\n",
    "  <tr>\n",
    "    <td>Michael Jackson</td>\n",
    "    <td>Thriller</td> \n",
    "    <td>1982</td>\n",
    "    <td>00:42:19</td>\n",
    "    <td>Pop, rock, R&B</td>\n",
    "    <td>46</td>\n",
    "    <td>65</td>\n",
    "    <td>30-Nov-82</td>\n",
    "    <td></td>\n",
    "    <td>10.0</td>\n",
    "  </tr>\n",
    "  <tr>\n",
    "    <td>AC/DC</td>\n",
    "    <td>Back in Black</td> \n",
    "    <td>1980</td>\n",
    "    <td>00:42:11</td>\n",
    "    <td>Hard rock</td>\n",
    "    <td>26.1</td>\n",
    "    <td>50</td>\n",
    "    <td>25-Jul-80</td>\n",
    "    <td></td>\n",
    "    <td>8.5</td>\n",
    "  </tr>\n",
    "    <tr>\n",
    "    <td>Pink Floyd</td>\n",
    "    <td>The Dark Side of the Moon</td> \n",
    "    <td>1973</td>\n",
    "    <td>00:42:49</td>\n",
    "    <td>Progressive rock</td>\n",
    "    <td>24.2</td>\n",
    "    <td>45</td>\n",
    "    <td>01-Mar-73</td>\n",
    "    <td></td>\n",
    "    <td>9.5</td>\n",
    "  </tr>\n",
    "    <tr>\n",
    "    <td>Whitney Houston</td>\n",
    "    <td>The Bodyguard</td> \n",
    "    <td>1992</td>\n",
    "    <td>00:57:44</td>\n",
    "    <td>Soundtrack/R&B, soul, pop</td>\n",
    "    <td>26.1</td>\n",
    "    <td>50</td>\n",
    "    <td>25-Jul-80</td>\n",
    "    <td>Y</td>\n",
    "    <td>7.0</td>\n",
    "  </tr>\n",
    "    <tr>\n",
    "    <td>Meat Loaf</td>\n",
    "    <td>Bat Out of Hell</td> \n",
    "    <td>1977</td>\n",
    "    <td>00:46:33</td>\n",
    "    <td>Hard rock, progressive rock</td>\n",
    "    <td>20.6</td>\n",
    "    <td>43</td>\n",
    "    <td>21-Oct-77</td>\n",
    "    <td></td>\n",
    "    <td>7.0</td>\n",
    "  </tr>\n",
    "    <tr>\n",
    "    <td>Eagles</td>\n",
    "    <td>Their Greatest Hits (1971-1975)</td> \n",
    "    <td>1976</td>\n",
    "    <td>00:43:08</td>\n",
    "    <td>Rock, soft rock, folk rock</td>\n",
    "    <td>32.2</td>\n",
    "    <td>42</td>\n",
    "    <td>17-Feb-76</td>\n",
    "    <td></td>\n",
    "    <td>9.5</td>\n",
    "  </tr>\n",
    "    <tr>\n",
    "    <td>Bee Gees</td>\n",
    "    <td>Saturday Night Fever</td> \n",
    "    <td>1977</td>\n",
    "    <td>1:15:54</td>\n",
    "    <td>Disco</td>\n",
    "    <td>20.6</td>\n",
    "    <td>40</td>\n",
    "    <td>15-Nov-77</td>\n",
    "    <td>Y</td>\n",
    "    <td>9.0</td>\n",
    "  </tr>\n",
    "    <tr>\n",
    "    <td>Fleet wood Mac</td>\n",
    "    <td> Rumours </td> \n",
    "    <td>1977</td>\n",
    "    <td>00:40:01</td>\n",
    "    <td>Soft rock</td>\n",
    "    <td>27.9</td>\n",
    "    <td>40</td>\n",
    "    <td>04-Feb-77</td>\n",
    "    <td></td>\n",
    "    <td>9.5</td>\n",
    "  </tr>\n",
    "</table></font>\n"
   ]
  },
  {
   "cell_type": "markdown",
   "id": "354fb0e8-13a0-4fbb-9810-7d1ea9e02ec2",
   "metadata": {
    "tags": []
   },
   "source": [
    "<img src=\"https://cf-courses-data.s3.us.cloud-object-storage.appdomain.cloud/IBMDeveloperSkillsNetwork-PY0101EN-SkillsNetwork/labs/Module%202/images/ListsIndex.png\" width=\"1000\">\n"
   ]
  },
  {
   "cell_type": "markdown",
   "id": "259e7e5a-c2dd-4e25-b677-fd745256daa7",
   "metadata": {},
   "source": [
    "### To create a list, type the list within square brackets [], with your content inside the parenthesis and separated by commas."
   ]
  },
  {
   "cell_type": "code",
   "execution_count": 47,
   "id": "4470ef91-c0e0-4a67-9632-02956b155b57",
   "metadata": {
    "tags": []
   },
   "outputs": [
    {
     "data": {
      "text/plain": [
       "['Michael Jackson', 10.1, 1982]"
      ]
     },
     "execution_count": 47,
     "metadata": {},
     "output_type": "execute_result"
    }
   ],
   "source": [
    "# Create a list\n",
    "\n",
    "L= [ \"Michael Jackson\", 10.1, 1982 ]\n",
    "L"
   ]
  },
  {
   "cell_type": "markdown",
   "id": "484899ef-1b28-405e-a939-ce9048fafd80",
   "metadata": {},
   "source": [
    "### Negative and regular indexing can be used with lists:"
   ]
  },
  {
   "cell_type": "markdown",
   "id": "b13b561d-166d-4709-8867-ae5321e72e55",
   "metadata": {
    "tags": []
   },
   "source": [
    "<img src=\"https://cf-courses-data.s3.us.cloud-object-storage.appdomain.cloud/IBMDeveloperSkillsNetwork-PY0101EN-SkillsNetwork/labs/Module%202/images/ListsNeg.png\" width=\"1000\">"
   ]
  },
  {
   "cell_type": "code",
   "execution_count": 54,
   "id": "102f797f-4ef0-4fff-9257-eac3db970726",
   "metadata": {
    "tags": []
   },
   "outputs": [
    {
     "name": "stdout",
     "output_type": "stream",
     "text": [
      "the same element using negative and positive indexing: \n",
      " Postive: Michael Jackson \n",
      " Negative: Michael Jackson\n",
      "the same element using negative and positive indexing: \n",
      " Postive:  10.1 \n",
      " Negative: 10.1\n",
      "the same element using positive and negative indexing: \n",
      " Negative: 1982 \n",
      " Positive: 1982\n"
     ]
    }
   ],
   "source": [
    "# Print the elements on each index\n",
    "\n",
    "print ('the same element using negative and positive indexing: \\n Postive:', L[0],'\\n Negative:', L[-3] )\n",
    "print ('the same element using negative and positive indexing: \\n Postive: ', L[1], '\\n Negative:', L[-2])\n",
    "print ('the same element using positive and negative indexing: \\n Negative:', L[-1], '\\n Positive:', L[2])"
   ]
  },
  {
   "cell_type": "code",
   "execution_count": 56,
   "id": "0c935ed7-90a1-4013-8835-e315e54204e2",
   "metadata": {
    "tags": []
   },
   "outputs": [
    {
     "data": {
      "text/plain": [
       "['Michael Jackson', 10.1, 1982]"
      ]
     },
     "execution_count": 56,
     "metadata": {},
     "output_type": "execute_result"
    }
   ],
   "source": [
    "L"
   ]
  },
  {
   "cell_type": "code",
   "execution_count": 58,
   "id": "60cccb87-07ae-4c44-9c8c-908c6de1bd70",
   "metadata": {
    "tags": []
   },
   "outputs": [
    {
     "data": {
      "text/plain": [
       "[]"
      ]
     },
     "execution_count": 58,
     "metadata": {},
     "output_type": "execute_result"
    }
   ],
   "source": [
    "## List Slicing\n",
    "\n",
    "L[3:5]"
   ]
  },
  {
   "cell_type": "code",
   "execution_count": 59,
   "id": "6ebbd7f7-9fda-4516-8e5a-f041bb103446",
   "metadata": {
    "tags": []
   },
   "outputs": [
    {
     "data": {
      "text/plain": [
       "['Michael Jackson', 10.1, 1982, 'pop', 10]"
      ]
     },
     "execution_count": 59,
     "metadata": {},
     "output_type": "execute_result"
    }
   ],
   "source": [
    "# Use Extend to add new elments to a list\n",
    "\n",
    "L.extend (['pop', 10])\n",
    "L"
   ]
  },
  {
   "cell_type": "code",
   "execution_count": 61,
   "id": "7257be3b-ffea-454d-850c-8f5bab7f9cb5",
   "metadata": {
    "tags": []
   },
   "outputs": [
    {
     "data": {
      "text/plain": [
       "['Michael Jackson', 10.2, ['pop', 10]]"
      ]
     },
     "execution_count": 61,
     "metadata": {},
     "output_type": "execute_result"
    }
   ],
   "source": [
    "# Append adds one element to the list.\n",
    "\n",
    "L=['Michael Jackson', 10.2]\n",
    "L.append(['pop', 10])\n",
    "L"
   ]
  },
  {
   "cell_type": "code",
   "execution_count": 62,
   "id": "0c894bfc-31c7-413d-88fd-ac5f6a65e357",
   "metadata": {
    "tags": []
   },
   "outputs": [
    {
     "data": {
      "text/plain": [
       "['Michael Jackson', 10.2, ['pop', 10], ['a', 'b']]"
      ]
     },
     "execution_count": 62,
     "metadata": {},
     "output_type": "execute_result"
    }
   ],
   "source": [
    "# Use append to add elements to list\n",
    "\n",
    "L.append (['a','b'])\n",
    "L\n"
   ]
  },
  {
   "cell_type": "markdown",
   "id": "9af76c2b-7d3a-4782-9154-beceebc399aa",
   "metadata": {},
   "source": [
    "## Lists are ***MUTABLE*** so they can be changed"
   ]
  },
  {
   "cell_type": "code",
   "execution_count": 63,
   "id": "9890e4d5-6572-4628-8320-1cf6f90e644c",
   "metadata": {
    "tags": []
   },
   "outputs": [
    {
     "name": "stdout",
     "output_type": "stream",
     "text": [
      "Before change: ['disco', 10, 1.2]\n",
      "After change: ['hard rock', 10, 1.2]\n"
     ]
    }
   ],
   "source": [
    "# Change the element based on the index\n",
    "\n",
    "A= ['disco', 10, 1.2]\n",
    "print ('Before change:',A)\n",
    "A[0] ='hard rock'\n",
    "print ('After change:', A)"
   ]
  },
  {
   "cell_type": "markdown",
   "id": "65822d67-31ef-4638-8ed0-f85364805bbe",
   "metadata": {},
   "source": [
    "## Changes in list can be made with DELETE command (DEL)"
   ]
  },
  {
   "cell_type": "code",
   "execution_count": 64,
   "id": "5bc5b5f7-5231-4253-b912-302f018383f2",
   "metadata": {
    "tags": []
   },
   "outputs": [
    {
     "name": "stdout",
     "output_type": "stream",
     "text": [
      "Before change: ['hard rock', 10, 1.2]\n",
      "After change: [10, 1.2]\n"
     ]
    }
   ],
   "source": [
    "# Delete the element based on the index\n",
    "\n",
    "print('Before change:', A)\n",
    "del(A[0])\n",
    "print('After change:', A)"
   ]
  },
  {
   "cell_type": "markdown",
   "id": "93dbbf4f-b725-4d45-b854-31caa0512b45",
   "metadata": {},
   "source": [
    "##  Can convert a string using ***split***. The method translates every group of characters separated by a space into an element in a list:"
   ]
  },
  {
   "cell_type": "code",
   "execution_count": 66,
   "id": "e3beee28-459a-453f-b475-f5aef037834e",
   "metadata": {
    "tags": []
   },
   "outputs": [
    {
     "data": {
      "text/plain": [
       "['hard', 'rock']"
      ]
     },
     "execution_count": 66,
     "metadata": {},
     "output_type": "execute_result"
    }
   ],
   "source": [
    "# Split the string, default is by space\n",
    "\n",
    "'hard rock'. split()"
   ]
  },
  {
   "cell_type": "code",
   "execution_count": 67,
   "id": "ffc17053-9d7f-48e6-8ae6-b9b2ba89dcbf",
   "metadata": {
    "tags": []
   },
   "outputs": [
    {
     "data": {
      "text/plain": [
       "['milk', 'and', 'cookies']"
      ]
     },
     "execution_count": 67,
     "metadata": {},
     "output_type": "execute_result"
    }
   ],
   "source": [
    "# this is practice spliting\n",
    "\n",
    "'milk and cookies'.split()"
   ]
  },
  {
   "cell_type": "markdown",
   "id": "5f6c852a-e10b-48b3-a370-f94eca854818",
   "metadata": {},
   "source": [
    "## Delimiter. This is used to separate strings on a specific character below using ',' as the delimiter."
   ]
  },
  {
   "cell_type": "code",
   "execution_count": 69,
   "id": "10e576d6-961c-4536-a611-eee9b2d75633",
   "metadata": {
    "tags": []
   },
   "outputs": [
    {
     "data": {
      "text/plain": [
       "['Taco Bell', \" McDonald's\", ' BurgerKing', ' Paiks', ' Subway']"
      ]
     },
     "execution_count": 69,
     "metadata": {},
     "output_type": "execute_result"
    }
   ],
   "source": [
    "\"Taco Bell, McDonald's, BurgerKing, Paiks, Subway\".split(',')"
   ]
  },
  {
   "cell_type": "markdown",
   "id": "84df038b-2704-4f3e-9ec3-cc59a0b48e01",
   "metadata": {},
   "source": [
    "## Copy and Clone List"
   ]
  },
  {
   "cell_type": "markdown",
   "id": "72e03030-ae52-4da7-8be6-76945afd0bd6",
   "metadata": {},
   "source": [
    "When we set one variable B equal to A, both A and B are referencing the same list in memory:"
   ]
  },
  {
   "cell_type": "code",
   "execution_count": 70,
   "id": "f4baddf9-f146-4fa0-9999-f2ebb95c940d",
   "metadata": {
    "tags": []
   },
   "outputs": [
    {
     "name": "stdout",
     "output_type": "stream",
     "text": [
      "A: ['hard rock', 10, 1.2]\n",
      "B: ['hard rock', 10, 1.2]\n"
     ]
    }
   ],
   "source": [
    "# Copy (copy by reference) the list A\n",
    "\n",
    "A= ['hard rock', 10, 1.2]\n",
    "B= A\n",
    "print ('A:',A)\n",
    "print ('B:', B)"
   ]
  },
  {
   "cell_type": "markdown",
   "id": "81634ea7-8911-4d99-9633-b5826c00145f",
   "metadata": {
    "tags": []
   },
   "source": [
    "<img src=\"https://cf-courses-data.s3.us.cloud-object-storage.appdomain.cloud/IBMDeveloperSkillsNetwork-PY0101EN-SkillsNetwork/labs/Module%202/images/ListsRef.png\" width=\"1000\" align=\"center\">\n"
   ]
  },
  {
   "cell_type": "markdown",
   "id": "541c0d95-a671-4be6-86d6-87d3e852ec13",
   "metadata": {},
   "source": [
    "## If List A is changed to Banana from hard rock, then list B will also change to Banana."
   ]
  },
  {
   "cell_type": "code",
   "execution_count": 72,
   "id": "9c98b00b-729e-47cb-a20f-d7aa3d3a75b8",
   "metadata": {
    "tags": []
   },
   "outputs": [
    {
     "name": "stdout",
     "output_type": "stream",
     "text": [
      "B[0]: hard rock\n",
      "B[0]: banana\n"
     ]
    }
   ],
   "source": [
    "# Examine the copy by reference\n",
    "\n",
    "print('B[0]:', B[0])\n",
    "A[0] = 'banana'\n",
    "print('B[0]:', B[0])"
   ]
  },
  {
   "cell_type": "markdown",
   "id": "8fead4da-8fd6-4abb-9d71-2150eb433fba",
   "metadata": {},
   "source": [
    "<img src=\"https://cf-courses-data.s3.us.cloud-object-storage.appdomain.cloud/IBMDeveloperSkillsNetwork-PY0101EN-SkillsNetwork/labs/Module%202/images/ListsRefGif.gif\" width=\"1000\">\n"
   ]
  },
  {
   "cell_type": "code",
   "execution_count": 73,
   "id": "6b311447-b149-4cdf-b57c-709b1cf0b735",
   "metadata": {
    "tags": []
   },
   "outputs": [
    {
     "data": {
      "text/plain": [
       "['banana', 10, 1.2]"
      ]
     },
     "execution_count": 73,
     "metadata": {},
     "output_type": "execute_result"
    }
   ],
   "source": [
    "# You can clone list A by using the following syntax:\n",
    "\n",
    "B=A[:]\n",
    "B"
   ]
  },
  {
   "cell_type": "markdown",
   "id": "849cf331-16a6-4a39-8bc1-3ad2eff4eaac",
   "metadata": {},
   "source": [
    "Variable **B** references a new copy or clone of the original list. This is demonstrated in the following figure:\n"
   ]
  },
  {
   "cell_type": "markdown",
   "id": "5c7e94be-eff6-42cd-9f82-7e4cfb32c7ce",
   "metadata": {},
   "source": [
    "<img src=\"https://cf-courses-data.s3.us.cloud-object-storage.appdomain.cloud/IBMDeveloperSkillsNetwork-PY0101EN-SkillsNetwork/labs/Module%202/images/ListsVal.gif\" width=\"1000\">\n"
   ]
  },
  {
   "cell_type": "markdown",
   "id": "4b340db9-2acb-48b6-8f21-1012f492e544",
   "metadata": {},
   "source": [
    "## Now if you change A. B will not change:"
   ]
  },
  {
   "cell_type": "code",
   "execution_count": 75,
   "id": "dbbd23d3-8af1-42ad-9aa6-bd47c63faccc",
   "metadata": {
    "tags": []
   },
   "outputs": [
    {
     "name": "stdout",
     "output_type": "stream",
     "text": [
      "B[0]: banana\n",
      "B[0]: banana\n"
     ]
    }
   ],
   "source": [
    "print ('B[0]:' , B[0])\n",
    "A[0] = 'hard rock'\n",
    "print ('B[0]:', B[0])"
   ]
  },
  {
   "cell_type": "markdown",
   "id": "d0568039-5211-4c75-ae36-d37a22f8abcc",
   "metadata": {},
   "source": [
    "# Task: Create an empty list"
   ]
  },
  {
   "cell_type": "code",
   "execution_count": 84,
   "id": "06ce2ca8-789b-414e-b2a2-2f405091d9b5",
   "metadata": {
    "tags": []
   },
   "outputs": [],
   "source": [
    "Shopping_list=[]"
   ]
  },
  {
   "cell_type": "markdown",
   "id": "4b5ad5ec-af1d-4da0-bdfa-eb2f655da5bf",
   "metadata": {},
   "source": [
    "# Store a number of items in the list."
   ]
  },
  {
   "cell_type": "code",
   "execution_count": 93,
   "id": "db86d8ed-e230-4095-b888-13ab4988d8ba",
   "metadata": {
    "tags": []
   },
   "outputs": [
    {
     "data": {
      "text/plain": [
       "['Watch', 'Laptop', 'Shoes', 'Pen', 'Clothes']"
      ]
     },
     "execution_count": 93,
     "metadata": {},
     "output_type": "execute_result"
    }
   ],
   "source": [
    "Shopping_list=['Watch', 'Laptop', 'Shoes', 'Pen', 'Clothes']\n",
    "Shopping_list"
   ]
  },
  {
   "cell_type": "markdown",
   "id": "9ef3a4d1-ef67-4c07-aba0-b7a053ad0f6b",
   "metadata": {},
   "source": [
    "# Add new item to the Shopping_list"
   ]
  },
  {
   "cell_type": "code",
   "execution_count": 94,
   "id": "ee26ee24-be8a-4411-afc2-13f5e257c8c5",
   "metadata": {
    "tags": []
   },
   "outputs": [
    {
     "data": {
      "text/plain": [
       "['Watch', 'Laptop', 'Shoes', 'Pen', 'Clothes', 'Football']"
      ]
     },
     "execution_count": 94,
     "metadata": {},
     "output_type": "execute_result"
    }
   ],
   "source": [
    "Shopping_list.append('Football')\n",
    "Shopping_list"
   ]
  },
  {
   "cell_type": "markdown",
   "id": "decd2dc5-9b92-4dc9-82f7-334971c3f651",
   "metadata": {},
   "source": [
    "# Print first item on the shopping_list"
   ]
  },
  {
   "cell_type": "code",
   "execution_count": 95,
   "id": "6fe9a6c8-7b8e-4132-be43-63cbbd120562",
   "metadata": {
    "tags": []
   },
   "outputs": [
    {
     "name": "stdout",
     "output_type": "stream",
     "text": [
      "Watch\n"
     ]
    }
   ],
   "source": [
    "print(Shopping_list[0])"
   ]
  },
  {
   "cell_type": "markdown",
   "id": "b60e95d6-fde7-41bc-9c61-7a954b046a7a",
   "metadata": {},
   "source": [
    "# Print last item on the shopping_list"
   ]
  },
  {
   "cell_type": "code",
   "execution_count": 96,
   "id": "e7b24054-d472-4f88-bf79-fcefb6290ad1",
   "metadata": {
    "tags": []
   },
   "outputs": [
    {
     "name": "stdout",
     "output_type": "stream",
     "text": [
      "Football\n"
     ]
    }
   ],
   "source": [
    "print(Shopping_list[-1])"
   ]
  },
  {
   "cell_type": "markdown",
   "id": "4b85510b-fb91-448e-8523-e05d18bc8179",
   "metadata": {},
   "source": [
    "# Print the entire Shopping List"
   ]
  },
  {
   "cell_type": "code",
   "execution_count": 97,
   "id": "5ed85fa0-f552-46ef-8e07-f735cb8bc916",
   "metadata": {
    "tags": []
   },
   "outputs": [
    {
     "name": "stdout",
     "output_type": "stream",
     "text": [
      "['Watch', 'Laptop', 'Shoes', 'Pen', 'Clothes', 'Football']\n"
     ]
    }
   ],
   "source": [
    "print(Shopping_list)"
   ]
  },
  {
   "cell_type": "markdown",
   "id": "0cf27783-1a90-4cc1-8141-1f341bea51c1",
   "metadata": {},
   "source": [
    "# Print the items that are important to buy from the Shopping list Laptop and Shoes"
   ]
  },
  {
   "cell_type": "code",
   "execution_count": 98,
   "id": "52f922a4-f499-4f8a-b563-8b2be58c5252",
   "metadata": {
    "tags": []
   },
   "outputs": [
    {
     "name": "stdout",
     "output_type": "stream",
     "text": [
      "['Laptop', 'Shoes']\n"
     ]
    }
   ],
   "source": [
    "print(Shopping_list[1:3])"
   ]
  },
  {
   "cell_type": "markdown",
   "id": "dd865411-866e-4424-9ade-7258c2cc724a",
   "metadata": {},
   "source": [
    "# Change the item from the shopping list Pen to Notebook"
   ]
  },
  {
   "cell_type": "code",
   "execution_count": 99,
   "id": "53f24112-02b2-4b27-8503-123fc2205e1a",
   "metadata": {
    "tags": []
   },
   "outputs": [
    {
     "data": {
      "text/plain": [
       "['Watch', 'Laptop', 'Shoes', 'Notebook', 'Clothes', 'Football']"
      ]
     },
     "execution_count": 99,
     "metadata": {},
     "output_type": "execute_result"
    }
   ],
   "source": [
    "Shopping_list[3]='Notebook'  #The 3 is the index of pen.\n",
    "Shopping_list"
   ]
  },
  {
   "cell_type": "markdown",
   "id": "df0db070-ca5f-485d-985f-174bcb5767a0",
   "metadata": {},
   "source": [
    "# Delete the Clothes from the shopping list"
   ]
  },
  {
   "cell_type": "code",
   "execution_count": 100,
   "id": "925d9300-2d5b-42fd-9eb4-59ef2d2e95ee",
   "metadata": {
    "tags": []
   },
   "outputs": [
    {
     "data": {
      "text/plain": [
       "['Watch', 'Laptop', 'Shoes', 'Notebook', 'Football']"
      ]
     },
     "execution_count": 100,
     "metadata": {},
     "output_type": "execute_result"
    }
   ],
   "source": [
    "del(Shopping_list[4]) # The 4 is the index of Clothes\n",
    "Shopping_list"
   ]
  },
  {
   "cell_type": "markdown",
   "id": "57713228-092f-404e-b1e8-b58c5057bede",
   "metadata": {},
   "source": [
    "# Print the shopping list"
   ]
  },
  {
   "cell_type": "code",
   "execution_count": 101,
   "id": "1cab0e4f-068e-4fe4-940d-b50bf2c0beda",
   "metadata": {
    "tags": []
   },
   "outputs": [
    {
     "name": "stdout",
     "output_type": "stream",
     "text": [
      "['Watch', 'Laptop', 'Shoes', 'Notebook', 'Football']\n"
     ]
    }
   ],
   "source": [
    "print(Shopping_list)"
   ]
  },
  {
   "cell_type": "markdown",
   "id": "9799b84b-0f1e-4723-bc1d-0e748b359ab3",
   "metadata": {},
   "source": [
    "# Dictionaries"
   ]
  },
  {
   "cell_type": "markdown",
   "id": "fe29fb54-c025-4fba-bcb8-5b38f5699d27",
   "metadata": {},
   "source": [
    "## What are Dictionaries?"
   ]
  },
  {
   "cell_type": "markdown",
   "id": "3cfdf51a-6016-439f-9c64-4af4af0e68ff",
   "metadata": {},
   "source": [
    "A dictionary consists of keys and values. It is helpful to compare a dictionary to a list. Instead of being indexed numerically like a list, dictionaries have keys. These keys are the keys that are used to access values within a dictionary.   \n",
    "\n",
    "\n",
    "The best example of a dictionary can be accessing person's detais using the **social security number**.   \n",
    "Here the social security number which is a unique number will be the **key** and the details of the people will be the **values** associated with it.\n"
   ]
  },
  {
   "cell_type": "markdown",
   "id": "e87e5743-dfe7-428d-beb2-762bbea1f205",
   "metadata": {},
   "source": [
    "<img src=\"https://cf-courses-data.s3.us.cloud-object-storage.appdomain.cloud/IBMDeveloperSkillsNetwork-PY0101EN-SkillsNetwork/labs/Module%202/images/DictsList.png\" width=\"650\">\n"
   ]
  },
  {
   "cell_type": "markdown",
   "id": "b623dc06-abd0-4690-b25c-5fd30d1ea971",
   "metadata": {},
   "source": [
    "## Create a Dictionary and access the elements"
   ]
  },
  {
   "cell_type": "markdown",
   "id": "8ac2a62c-18bf-40fe-bb44-bb6f1b4992fc",
   "metadata": {},
   "source": [
    "An example of a Dictionary <code>Dict</code>:\n",
    "Here we are creating a dictionary named **Dict** with he following details\n",
    "\n",
    "* Keys are **key1, key2, key3, key4, key5**.\n",
    "* Values are {1,2,[3,3,3],(4,4,4),5,(0,1):6} corresponding to the keys\n"
   ]
  },
  {
   "cell_type": "code",
   "execution_count": 4,
   "id": "817554c5-7d75-4c66-ad01-c60244af7f2d",
   "metadata": {
    "tags": []
   },
   "outputs": [
    {
     "data": {
      "text/plain": [
       "{'key1': 1,\n",
       " 'key2': '2',\n",
       " 'key3': [3, 3, 3],\n",
       " 'key4': (4, 4, 4),\n",
       " 'key5': 5,\n",
       " (0, 1): 6}"
      ]
     },
     "execution_count": 4,
     "metadata": {},
     "output_type": "execute_result"
    }
   ],
   "source": [
    "# Create the dictionary\n",
    "\n",
    "Dict = {'key1': 1, 'key2': '2', 'key3': [3,3,3], 'key4': (4,4,4), ('key5'): 5, (0, 1): 6}\n",
    "Dict"
   ]
  },
  {
   "cell_type": "markdown",
   "id": "4d224b1b-c4d5-4d68-9b4b-3e465c12c82f",
   "metadata": {},
   "source": [
    "### The keys can be strings:"
   ]
  },
  {
   "cell_type": "code",
   "execution_count": 5,
   "id": "4d67bdf6-cef2-4872-bafd-1effb08f34d0",
   "metadata": {
    "tags": []
   },
   "outputs": [
    {
     "data": {
      "text/plain": [
       "1"
      ]
     },
     "execution_count": 5,
     "metadata": {},
     "output_type": "execute_result"
    }
   ],
   "source": [
    "# Access to the value by the key\n",
    "\n",
    "Dict['key1']"
   ]
  },
  {
   "cell_type": "markdown",
   "id": "c43d9cfe-d197-4f21-bf78-11c808259c10",
   "metadata": {},
   "source": [
    "### Keys can also be any immutable object such as a tuple:"
   ]
  },
  {
   "cell_type": "code",
   "execution_count": 7,
   "id": "a7c0911d-2d24-46da-aff9-9831121bd359",
   "metadata": {
    "tags": []
   },
   "outputs": [
    {
     "data": {
      "text/plain": [
       "6"
      ]
     },
     "execution_count": 7,
     "metadata": {},
     "output_type": "execute_result"
    }
   ],
   "source": [
    "# Access to the value by the key a (tuple) in this case:\n",
    "\n",
    "Dict[(0, 1)]"
   ]
  },
  {
   "cell_type": "markdown",
   "id": "068eb0d9-ede5-497c-8d77-ffac30a3ecd3",
   "metadata": {},
   "source": [
    "Each key is separated from its value by a colon \"<code>:</code>\".  Commas separate the items, and the whole dictionary is enclosed in curly braces. An empty dictionary without any items is written with just two curly braces, like this  \"<code>{}</code>\"."
   ]
  },
  {
   "cell_type": "code",
   "execution_count": 11,
   "id": "4798d7de-fade-4ede-b4b2-b2494deb0e91",
   "metadata": {
    "tags": []
   },
   "outputs": [
    {
     "data": {
      "text/plain": [
       "{'key1': 'mc', 'key2': 'mic'}"
      ]
     },
     "execution_count": 11,
     "metadata": {},
     "output_type": "execute_result"
    }
   ],
   "source": [
    "Curly_Braces={'key1': ('mc'), 'key2': 'mic'} # My Curly_Braces Dictionary\n",
    "\n",
    "Curly_Braces"
   ]
  },
  {
   "cell_type": "code",
   "execution_count": 13,
   "id": "a5c08b12-1ae5-464c-804a-d843f157678d",
   "metadata": {
    "tags": []
   },
   "outputs": [
    {
     "data": {
      "text/plain": [
       "{'Thriller': '1982',\n",
       " 'Back in Black': '1980',\n",
       " 'The Dark Side of the Moon': '1973',\n",
       " 'The Bodyguard': '1992',\n",
       " 'Bat Out of Hell': '1977',\n",
       " 'Their Greatest Hits (1971-1975)': '1976',\n",
       " 'Saturday Night Fever': '1977',\n",
       " 'Rumours': '1977'}"
      ]
     },
     "execution_count": 13,
     "metadata": {},
     "output_type": "execute_result"
    }
   ],
   "source": [
    "# Create a sample dictionary\n",
    "\n",
    "release_year_dict = {\"Thriller\": \"1982\", \"Back in Black\": \"1980\", \\\n",
    "                    \"The Dark Side of the Moon\": \"1973\", \"The Bodyguard\": \"1992\", \\\n",
    "                    \"Bat Out of Hell\": \"1977\", \"Their Greatest Hits (1971-1975)\": \"1976\", \\\n",
    "                    \"Saturday Night Fever\": \"1977\", \"Rumours\": \"1977\"}\n",
    "release_year_dict"
   ]
  },
  {
   "cell_type": "markdown",
   "id": "32b18dd5-a7c4-4400-857b-0fb5e7bd2a72",
   "metadata": {},
   "source": [
    "### The above dictionary the keys are the title of the music and the year is the value it accesses."
   ]
  },
  {
   "cell_type": "markdown",
   "id": "69ff7d98-b9fa-439e-bcf5-71686d808f9e",
   "metadata": {},
   "source": [
    "### It is helpful to visuallie the dictionary as a table, as the following image. The first column represents the keys, the second column represents the values"
   ]
  },
  {
   "cell_type": "markdown",
   "id": "14cb952e-bd7f-4b33-a6c2-759cd69eded6",
   "metadata": {},
   "source": [
    "<img src=\"https://cf-courses-data.s3.us.cloud-object-storage.appdomain.cloud/IBMDeveloperSkillsNetwork-PY0101EN-SkillsNetwork/labs/Module%202/images/DictsStructure.png\" width=\"650\">\n"
   ]
  },
  {
   "cell_type": "markdown",
   "id": "c593eae5-3210-4d60-a58e-d631469ad4b0",
   "metadata": {},
   "source": [
    "## Keys will get you the values, but you can get keys based on their values:"
   ]
  },
  {
   "cell_type": "code",
   "execution_count": 15,
   "id": "da49c342-a5b0-4739-aaca-7e5af01e4a4b",
   "metadata": {
    "tags": []
   },
   "outputs": [
    {
     "data": {
      "text/plain": [
       "'1982'"
      ]
     },
     "execution_count": 15,
     "metadata": {},
     "output_type": "execute_result"
    }
   ],
   "source": [
    "# Get value by keys\n",
    "\n",
    "release_year_dict['Thriller']"
   ]
  },
  {
   "cell_type": "markdown",
   "id": "bc3dda0d-4d5f-446d-b920-96537db779bd",
   "metadata": {},
   "source": [
    "<img src=\"https://cf-courses-data.s3.us.cloud-object-storage.appdomain.cloud/IBMDeveloperSkillsNetwork-PY0101EN-SkillsNetwork/labs/Module%202/images/DictsKeyOne.png\" width=\"500\">\n"
   ]
  },
  {
   "cell_type": "markdown",
   "id": "5a1948e0-ab00-406d-8a4a-7318bbdb4ada",
   "metadata": {},
   "source": [
    "### Similarly for **The Bodyguard**"
   ]
  },
  {
   "cell_type": "code",
   "execution_count": 16,
   "id": "9c22066e-3e8f-4117-9d07-c9bda8c54ca1",
   "metadata": {
    "tags": []
   },
   "outputs": [
    {
     "data": {
      "text/plain": [
       "'1992'"
      ]
     },
     "execution_count": 16,
     "metadata": {},
     "output_type": "execute_result"
    }
   ],
   "source": [
    "# Get value by the key\n",
    "\n",
    "release_year_dict['The Bodyguard']"
   ]
  },
  {
   "cell_type": "markdown",
   "id": "44fdedfa-a116-4cf8-8fb2-1689e038644c",
   "metadata": {},
   "source": [
    "<img src=\"https://cf-courses-data.s3.us.cloud-object-storage.appdomain.cloud/IBMDeveloperSkillsNetwork-PY0101EN-SkillsNetwork/labs/Module%202/images/DictsKeyTwo.png\" width=\"500\">\n"
   ]
  },
  {
   "cell_type": "markdown",
   "id": "dfaaf5a7-206d-433d-b022-66902955ae74",
   "metadata": {},
   "source": [
    "### Now let us retrieve the keys of the dictionary using the method ***dictionary.keys()***"
   ]
  },
  {
   "cell_type": "code",
   "execution_count": 17,
   "id": "a10e386b-dc29-4ff9-8188-e04b20251bd2",
   "metadata": {
    "tags": []
   },
   "outputs": [
    {
     "data": {
      "text/plain": [
       "dict_keys(['Thriller', 'Back in Black', 'The Dark Side of the Moon', 'The Bodyguard', 'Bat Out of Hell', 'Their Greatest Hits (1971-1975)', 'Saturday Night Fever', 'Rumours'])"
      ]
     },
     "execution_count": 17,
     "metadata": {},
     "output_type": "execute_result"
    }
   ],
   "source": [
    "# Get all the keys in the dictionary\n",
    "\n",
    "release_year_dict.keys()"
   ]
  },
  {
   "cell_type": "markdown",
   "id": "93ee9d86-c555-4f91-a7de-2516f61cca8f",
   "metadata": {},
   "source": [
    "### You can retrieve the values using the method ***dictionary.values()***"
   ]
  },
  {
   "cell_type": "code",
   "execution_count": 18,
   "id": "a4403e18-0e47-4ab6-93b0-c4113b718a19",
   "metadata": {
    "tags": []
   },
   "outputs": [
    {
     "data": {
      "text/plain": [
       "dict_values(['1982', '1980', '1973', '1992', '1977', '1976', '1977', '1977'])"
      ]
     },
     "execution_count": 18,
     "metadata": {},
     "output_type": "execute_result"
    }
   ],
   "source": [
    "# Get all the values in the dictionary\n",
    "\n",
    "release_year_dict.values()"
   ]
  },
  {
   "cell_type": "markdown",
   "id": "e127fe4a-d2a0-48a1-864f-33f01f1177fc",
   "metadata": {},
   "source": [
    "### We can ***add*** and entry in this form: ***Dictionary ['key']= 'value'***"
   ]
  },
  {
   "cell_type": "code",
   "execution_count": 20,
   "id": "a33e37b9-d07a-4756-b94e-3e2cd6f76baf",
   "metadata": {
    "tags": []
   },
   "outputs": [
    {
     "data": {
      "text/plain": [
       "{'Thriller': '1982',\n",
       " 'Back in Black': '1980',\n",
       " 'The Dark Side of the Moon': '1973',\n",
       " 'The Bodyguard': '1992',\n",
       " 'Bat Out of Hell': '1977',\n",
       " 'Their Greatest Hits (1971-1975)': '1976',\n",
       " 'Saturday Night Fever': '1977',\n",
       " 'Rumours': '1977',\n",
       " 'Graduation': '2007'}"
      ]
     },
     "execution_count": 20,
     "metadata": {},
     "output_type": "execute_result"
    }
   ],
   "source": [
    "# Append value with key into dictionary\n",
    "\n",
    "release_year_dict['Graduation']= '2007'\n",
    "release_year_dict"
   ]
  },
  {
   "cell_type": "markdown",
   "id": "501e4a08-df49-460f-b0ef-79f3f4698dbd",
   "metadata": {},
   "source": [
    "### We can ***Delete*** and entry: del from the dictionary using key:  ***del(dictionary)['key'])***"
   ]
  },
  {
   "cell_type": "code",
   "execution_count": 21,
   "id": "c9a8e187-0f94-4faf-9fc2-4520757c5b83",
   "metadata": {
    "tags": []
   },
   "outputs": [
    {
     "data": {
      "text/plain": [
       "{'Back in Black': '1980',\n",
       " 'The Dark Side of the Moon': '1973',\n",
       " 'The Bodyguard': '1992',\n",
       " 'Bat Out of Hell': '1977',\n",
       " 'Their Greatest Hits (1971-1975)': '1976',\n",
       " 'Saturday Night Fever': '1977',\n",
       " 'Rumours': '1977'}"
      ]
     },
     "execution_count": 21,
     "metadata": {},
     "output_type": "execute_result"
    }
   ],
   "source": [
    "# Delete entries by key\n",
    "\n",
    "del(release_year_dict['Thriller'])\n",
    "del(release_year_dict['Graduation'])\n",
    "release_year_dict"
   ]
  },
  {
   "cell_type": "markdown",
   "id": "acf6e1d5-f7df-42f8-a23b-ee54f8f50db0",
   "metadata": {},
   "source": [
    "### We can verfiy if an element is ***IN*** the dictionary using this form:  ***'key' in dictionary***"
   ]
  },
  {
   "cell_type": "code",
   "execution_count": 22,
   "id": "929d1cc7-5182-492f-81bb-0ac368975990",
   "metadata": {
    "tags": []
   },
   "outputs": [
    {
     "data": {
      "text/plain": [
       "True"
      ]
     },
     "execution_count": 22,
     "metadata": {},
     "output_type": "execute_result"
    }
   ],
   "source": [
    "# Verify the key is IN the dictionary\n",
    "\n",
    "'The Bodyguard' in release_year_dict"
   ]
  },
  {
   "cell_type": "markdown",
   "id": "f05d8386-ae2e-4ba8-85fd-6c7b6459cc4d",
   "metadata": {},
   "source": [
    "### If the key is not in the dictionary you will get a output of False"
   ]
  },
  {
   "cell_type": "markdown",
   "id": "c4eec286-88a4-4ca5-8619-03d4de4b9d13",
   "metadata": {},
   "source": [
    "# Sets"
   ]
  },
  {
   "cell_type": "markdown",
   "id": "9514e862-3d94-4808-bf42-7de86ca6b7c9",
   "metadata": {},
   "source": [
    "## A set is a unique collection of objects in Python. You can denote a set with a pair of ***{}***. Python will automatically remove duplicate items:"
   ]
  },
  {
   "cell_type": "code",
   "execution_count": 23,
   "id": "2dfa152a-3b3c-4c03-af55-78ef16b200eb",
   "metadata": {
    "tags": []
   },
   "outputs": [
    {
     "data": {
      "text/plain": [
       "{'R&B', 'disco', 'hard rock', 'pop', 'rock', 'soul'}"
      ]
     },
     "execution_count": 23,
     "metadata": {},
     "output_type": "execute_result"
    }
   ],
   "source": [
    "# Create a set\n",
    "\n",
    "set1 = {'pop', 'rock', 'soul', 'hard rock', 'rock', 'R&B' , 'rock', 'disco'}\n",
    "set1"
   ]
  },
  {
   "cell_type": "markdown",
   "id": "626d1d3e-fe61-49e7-9c20-48dce6def204",
   "metadata": {},
   "source": [
    "The process of mapping is illustrated in the figure:"
   ]
  },
  {
   "cell_type": "markdown",
   "id": "7ff479d8-27d7-4f6e-bd9d-2b96f43994c1",
   "metadata": {},
   "source": [
    "<img src=\"https://cf-courses-data.s3.us.cloud-object-storage.appdomain.cloud/IBMDeveloperSkillsNetwork-PY0101EN-SkillsNetwork/labs/Module%202/images/SetsUnique.png\" width=\"1100\">\n"
   ]
  },
  {
   "cell_type": "markdown",
   "id": "97665c65-2e2c-4f9d-ad9b-05144f5c206a",
   "metadata": {},
   "source": [
    "### You can also create a set from a list as follows:"
   ]
  },
  {
   "cell_type": "code",
   "execution_count": 32,
   "id": "2a1f7037-1228-436b-9733-4661b1d55a20",
   "metadata": {
    "tags": []
   },
   "outputs": [
    {
     "data": {
      "text/plain": [
       "{'00:42:19',\n",
       " 10.0,\n",
       " 1982,\n",
       " '30-Nov-82',\n",
       " 46.0,\n",
       " 65,\n",
       " 'Michael Jackson',\n",
       " None,\n",
       " 'Pop, Rock, R&B',\n",
       " 'Thriller'}"
      ]
     },
     "execution_count": 32,
     "metadata": {},
     "output_type": "execute_result"
    }
   ],
   "source": [
    "# Convert list to set\n",
    "\n",
    "album_list = ['Michael Jackson', 'Thriller', 1982, '00:42:19', \\\n",
    "              'Pop, Rock, R&B', 46.0, 65, '30-Nov-82', None, 10.0]\n",
    "album_set = set(album_list)\n",
    "album_set"
   ]
  },
  {
   "cell_type": "markdown",
   "id": "16a48f90-2a75-4f78-b2c4-db8793b7c5c1",
   "metadata": {},
   "source": [
    "## Set Operartions- used to change the set"
   ]
  },
  {
   "cell_type": "code",
   "execution_count": 33,
   "id": "d8f1d082-385a-4c00-99bd-9ba2907b93bd",
   "metadata": {
    "tags": []
   },
   "outputs": [
    {
     "data": {
      "text/plain": [
       "{'AC/DC', 'Back in Black', 'Thiller'}"
      ]
     },
     "execution_count": 33,
     "metadata": {},
     "output_type": "execute_result"
    }
   ],
   "source": [
    "# Sample set A\n",
    "\n",
    "A = set(['Thiller', 'Back in Black', 'AC/DC'])\n",
    "A"
   ]
  },
  {
   "cell_type": "markdown",
   "id": "8d420c53-13a3-48f6-848a-ea12d5199196",
   "metadata": {},
   "source": [
    "### We can add an element to a set using ***.add()***"
   ]
  },
  {
   "cell_type": "code",
   "execution_count": 34,
   "id": "e7e8bf55-1730-485d-8686-e485f0d9c9eb",
   "metadata": {
    "tags": []
   },
   "outputs": [
    {
     "data": {
      "text/plain": [
       "{'AC/DC', 'Back in Black', 'NSYNC', 'Thiller'}"
      ]
     },
     "execution_count": 34,
     "metadata": {},
     "output_type": "execute_result"
    }
   ],
   "source": [
    "# Add element to set\n",
    "\n",
    "A.add('NSYNC')\n",
    "A"
   ]
  },
  {
   "cell_type": "markdown",
   "id": "726e23fd-6803-4c24-b1a9-1f6b280f487f",
   "metadata": {},
   "source": [
    "### The same element cannot be added twice."
   ]
  },
  {
   "cell_type": "markdown",
   "id": "ba946589-c334-4f29-b299-451c52304d51",
   "metadata": {},
   "source": [
    "### To remove an element from a set use ***.remove()***"
   ]
  },
  {
   "cell_type": "code",
   "execution_count": 35,
   "id": "fac02fef-de54-4745-8096-f4c2f2f585bf",
   "metadata": {
    "tags": []
   },
   "outputs": [
    {
     "data": {
      "text/plain": [
       "{'AC/DC', 'Back in Black', 'Thiller'}"
      ]
     },
     "execution_count": 35,
     "metadata": {},
     "output_type": "execute_result"
    }
   ],
   "source": [
    "# Remove the element from the set\n",
    "\n",
    "A.remove('NSYNC')\n",
    "A"
   ]
  },
  {
   "cell_type": "markdown",
   "id": "26a9f946-ad07-4133-a73c-de161b36d922",
   "metadata": {},
   "source": [
    "### We can verify if an element is in the set using ***in*** command:"
   ]
  },
  {
   "cell_type": "code",
   "execution_count": 36,
   "id": "74b03a05-f24d-49d3-9cc6-eba62954e6f8",
   "metadata": {
    "tags": []
   },
   "outputs": [
    {
     "data": {
      "text/plain": [
       "True"
      ]
     },
     "execution_count": 36,
     "metadata": {},
     "output_type": "execute_result"
    }
   ],
   "source": [
    "# Verify if the element is in the set\n",
    "\n",
    "'AC/DC' in A"
   ]
  },
  {
   "cell_type": "markdown",
   "id": "ba685da0-ab1c-4bb1-8b95-c91af1804f71",
   "metadata": {},
   "source": [
    "### If the element is not in the set you will get a False."
   ]
  },
  {
   "cell_type": "markdown",
   "id": "c53f7b02-b048-45de-be9f-d6e88581ea66",
   "metadata": {},
   "source": [
    "## Sets Logic Operations"
   ]
  },
  {
   "cell_type": "markdown",
   "id": "1049a8b0-8205-46af-b6de-37c8ff92ea09",
   "metadata": {},
   "source": [
    "Remember that with sets you can check the difference between sets, as well as the symmetric difference, intersection, and union:\n"
   ]
  },
  {
   "cell_type": "markdown",
   "id": "ce52fde5-c1aa-42fd-9933-bf4f56db652a",
   "metadata": {
    "tags": []
   },
   "source": [
    "Consider the following two sets:"
   ]
  },
  {
   "cell_type": "code",
   "execution_count": 39,
   "id": "e302ebc0-8b6a-4bdb-af4e-61870d5014a9",
   "metadata": {
    "tags": []
   },
   "outputs": [],
   "source": [
    "# Sample Sets\n",
    "\n",
    "album_set1 = set([\"Thriller\", 'AC/DC', 'Back in Black'])\n",
    "album_set2 = set([ \"AC/DC\", \"Back in Black\", \"The Dark Side of the Moon\"])"
   ]
  },
  {
   "cell_type": "markdown",
   "id": "19a14845-8497-4f4a-9fe2-40ae3e4ff452",
   "metadata": {},
   "source": [
    "<img src=\"https://cf-courses-data.s3.us.cloud-object-storage.appdomain.cloud/IBMDeveloperSkillsNetwork-PY0101EN-SkillsNetwork/labs/Module%202/images/SetsSamples.png\" width=\"650\">\n"
   ]
  },
  {
   "cell_type": "code",
   "execution_count": 41,
   "id": "34f50cf2-474e-4d7e-a8f8-d1958af10f40",
   "metadata": {
    "tags": []
   },
   "outputs": [
    {
     "data": {
      "text/plain": [
       "({'AC/DC', 'Back in Black', 'Thriller'},\n",
       " {'AC/DC', 'Back in Black', 'The Dark Side of the Moon'})"
      ]
     },
     "execution_count": 41,
     "metadata": {},
     "output_type": "execute_result"
    }
   ],
   "source": [
    "# Print two sets\n",
    "\n",
    "album_set1, album_set2"
   ]
  },
  {
   "cell_type": "markdown",
   "id": "2367163a-729a-4269-bdb5-e967fa4168d0",
   "metadata": {},
   "source": [
    "As both sets contain <b>AC/DC</b> and <b>Back in Black</b> we represent these common elements with the intersection of two circles.\n"
   ]
  },
  {
   "cell_type": "markdown",
   "id": "8ac28a94-e645-4c75-b134-502853b86629",
   "metadata": {},
   "source": [
    "![SetsLogic.png](attachment:a9267f54-6009-4160-a6d2-436b99b140ea.png)<img src=\"https://cf-courses-data.s3.us.cloud-object-storage.appdomain.cloud/IBMDeveloperSkillsNetwork-PY0101EN-SkillsNetwork/labs/Module%202/images/SetsLogic.png\" width=\"650\">"
   ]
  },
  {
   "cell_type": "markdown",
   "id": "be207ef8-15d9-4963-a1ca-d2fe5620a180",
   "metadata": {},
   "source": [
    "You can find the intersect of two sets as follow using <code>&</code>:"
   ]
  },
  {
   "cell_type": "code",
   "execution_count": 58,
   "id": "b29dd026-fbc3-42c8-ba8c-4fc09c91e594",
   "metadata": {
    "tags": []
   },
   "outputs": [
    {
     "data": {
      "text/plain": [
       "{'AC/DC', 'Back in Black'}"
      ]
     },
     "execution_count": 58,
     "metadata": {},
     "output_type": "execute_result"
    }
   ],
   "source": [
    "# Find the intersections\n",
    "\n",
    "intersection = album_set1 & album_set2\n",
    "intersection"
   ]
  },
  {
   "cell_type": "markdown",
   "id": "e3fa4f2a-cb27-4944-b342-2e46d5aa16ca",
   "metadata": {},
   "source": [
    "You can find all the elements that are only contained in <code>album_set1</code> using the <code>difference</code> method: ***set1.difference(set2 or whatever set)***\n"
   ]
  },
  {
   "cell_type": "code",
   "execution_count": 44,
   "id": "ef61c94c-cce4-4423-8dca-6ef0765534b9",
   "metadata": {
    "tags": []
   },
   "outputs": [
    {
     "data": {
      "text/plain": [
       "{'Thriller'}"
      ]
     },
     "execution_count": 44,
     "metadata": {},
     "output_type": "execute_result"
    }
   ],
   "source": [
    "# Find the difference in set1 but not set2\n",
    "\n",
    "album_set1.difference(album_set2)"
   ]
  },
  {
   "cell_type": "markdown",
   "id": "c686367e-7524-4e40-b5c3-de4fbaaeb3e6",
   "metadata": {},
   "source": [
    "You only need to consider elements in ***album_set1*** all the elements in ***album_set2*** including the intersection are not included"
   ]
  },
  {
   "cell_type": "markdown",
   "id": "0852a11c-7939-42d9-8d18-23c3faa1ba46",
   "metadata": {
    "tags": []
   },
   "source": [
    "<img src=\"https://cf-courses-data.s3.us.cloud-object-storage.appdomain.cloud/IBMDeveloperSkillsNetwork-PY0101EN-SkillsNetwork/labs/Module%202/images/SetsLeft.png\" width=\"650\">\n"
   ]
  },
  {
   "cell_type": "markdown",
   "id": "afb06bbb-095c-4666-9904-3cf0c8834744",
   "metadata": {},
   "source": [
    "If you want the elements only in ***album_set2*** but not in ***album_set1*** you use this:"
   ]
  },
  {
   "cell_type": "code",
   "execution_count": 47,
   "id": "1b899db9-61b7-47b5-84a1-5d84522d0e25",
   "metadata": {
    "tags": []
   },
   "outputs": [
    {
     "data": {
      "text/plain": [
       "{'The Dark Side of the Moon'}"
      ]
     },
     "execution_count": 47,
     "metadata": {},
     "output_type": "execute_result"
    }
   ],
   "source": [
    "album_set2.difference(album_set1)"
   ]
  },
  {
   "cell_type": "markdown",
   "id": "e99096ec-0d67-44d8-bb89-d5f425cae242",
   "metadata": {},
   "source": [
    "<img src=\"https://cf-courses-data.s3.us.cloud-object-storage.appdomain.cloud/IBMDeveloperSkillsNetwork-PY0101EN-SkillsNetwork/labs/Module%202/images/SetsRight.png\" width=\"650\">"
   ]
  },
  {
   "cell_type": "markdown",
   "id": "c7489064-d314-4c9c-ac69-29729e7a493c",
   "metadata": {},
   "source": [
    "You can also find t he intersection of ***album_list1*** and ***album_list2*** using the **intersection** method:"
   ]
  },
  {
   "cell_type": "code",
   "execution_count": 48,
   "id": "ab7432bd-4797-4c32-9f14-3907ffaeffba",
   "metadata": {
    "tags": []
   },
   "outputs": [
    {
     "data": {
      "text/plain": [
       "{'AC/DC', 'Back in Black'}"
      ]
     },
     "execution_count": 48,
     "metadata": {},
     "output_type": "execute_result"
    }
   ],
   "source": [
    "# use intersection method to find the intersection of album_list1 and album_list2\n",
    "\n",
    "album_set1.intersection(album_set2)"
   ]
  },
  {
   "cell_type": "markdown",
   "id": "b0e2bd62-a70a-4f9b-bea9-ada6bb32a778",
   "metadata": {},
   "source": [
    "This corresponds to the intersection of the two circles:"
   ]
  },
  {
   "cell_type": "markdown",
   "id": "58e1ee43-d2b5-475d-865b-bea58e7e42a8",
   "metadata": {},
   "source": [
    "<img src=\"https://cf-courses-data.s3.us.cloud-object-storage.appdomain.cloud/IBMDeveloperSkillsNetwork-PY0101EN-SkillsNetwork/labs/Module%202/images/SetsIntersect.png\" width=\"650\">\n"
   ]
  },
  {
   "cell_type": "markdown",
   "id": "27a08d00-02a1-402a-9f32-89cf691a1486",
   "metadata": {},
   "source": [
    "The union corresponds to the elements in ***both*** sets, which is represented by coloring both circles:  ***These circles represent Venn Diagrams***"
   ]
  },
  {
   "cell_type": "markdown",
   "id": "b29e84b9-8e37-44be-a39a-39ac298ed0d3",
   "metadata": {},
   "source": [
    "<img src=\"https://cf-courses-data.s3.us.cloud-object-storage.appdomain.cloud/IBMDeveloperSkillsNetwork-PY0101EN-SkillsNetwork/labs/Module%202/images/SetsUnion.png\" width=\"650\">\n"
   ]
  },
  {
   "cell_type": "code",
   "execution_count": 49,
   "id": "d9a6b506-5c83-42d7-af54-12542f793ef6",
   "metadata": {
    "tags": []
   },
   "outputs": [
    {
     "data": {
      "text/plain": [
       "{'AC/DC', 'Back in Black', 'The Dark Side of the Moon', 'Thriller'}"
      ]
     },
     "execution_count": 49,
     "metadata": {},
     "output_type": "execute_result"
    }
   ],
   "source": [
    "# To find the union of two sets you use:\n",
    "\n",
    "album_set1.union(album_set2)"
   ]
  },
  {
   "cell_type": "markdown",
   "id": "71819d02-edf5-40de-85a3-af177130df09",
   "metadata": {},
   "source": [
    "You can check if a set is a ***superset*** or a **subset** using ***.issuperset*** or **.issubset**"
   ]
  },
  {
   "cell_type": "code",
   "execution_count": 51,
   "id": "3a2ddb1d-f39a-43e6-99f7-e27a02bf4945",
   "metadata": {
    "tags": []
   },
   "outputs": [
    {
     "data": {
      "text/plain": [
       "False"
      ]
     },
     "execution_count": 51,
     "metadata": {},
     "output_type": "execute_result"
    }
   ],
   "source": [
    "# Check if superset\n",
    "\n",
    "set(album_set1).issuperset(album_set2)"
   ]
  },
  {
   "cell_type": "code",
   "execution_count": 53,
   "id": "b49a6d80-e47d-46cd-9262-319f5a9107ea",
   "metadata": {
    "tags": []
   },
   "outputs": [
    {
     "data": {
      "text/plain": [
       "False"
      ]
     },
     "execution_count": 53,
     "metadata": {},
     "output_type": "execute_result"
    }
   ],
   "source": [
    "# Check if subset\n",
    "\n",
    "set(album_set2).issubset(album_set1)"
   ]
  },
  {
   "cell_type": "markdown",
   "id": "b3f709b4-c616-49cd-827a-24b779fccfc6",
   "metadata": {},
   "source": [
    "Here is an example where ***issubset()*** and ***issuperset()*** return true:"
   ]
  },
  {
   "cell_type": "code",
   "execution_count": 54,
   "id": "23931b63-ef09-41ba-87be-b5c2fae2560d",
   "metadata": {
    "tags": []
   },
   "outputs": [
    {
     "data": {
      "text/plain": [
       "True"
      ]
     },
     "execution_count": 54,
     "metadata": {},
     "output_type": "execute_result"
    }
   ],
   "source": [
    "# Check if subset\n",
    "\n",
    "set({\"Back in Black\", \"AC/DC\"}).issubset(album_set1)"
   ]
  },
  {
   "cell_type": "code",
   "execution_count": 55,
   "id": "3d91ced5-d4b6-4776-9c6d-cbf6edbd0f67",
   "metadata": {
    "tags": []
   },
   "outputs": [
    {
     "data": {
      "text/plain": [
       "True"
      ]
     },
     "execution_count": 55,
     "metadata": {},
     "output_type": "execute_result"
    }
   ],
   "source": [
    "# Check if superset\n",
    "\n",
    "album_set1.issuperset({\"Back in Black\", \"AC/DC\"})"
   ]
  },
  {
   "cell_type": "code",
   "execution_count": 59,
   "id": "06662a88-c476-46c1-9ea5-51256dfe7ce6",
   "metadata": {
    "tags": []
   },
   "outputs": [
    {
     "data": {
      "text/plain": [
       "True"
      ]
     },
     "execution_count": 59,
     "metadata": {},
     "output_type": "execute_result"
    }
   ],
   "source": [
    "# Check if intersection is a subset\n",
    "\n",
    "intersection.issubset(album_set1)"
   ]
  },
  {
   "cell_type": "code",
   "execution_count": 60,
   "id": "cd0f231f-b245-48ca-8b99-887aa077175a",
   "metadata": {
    "tags": []
   },
   "outputs": [
    {
     "data": {
      "text/plain": [
       "False"
      ]
     },
     "execution_count": 60,
     "metadata": {},
     "output_type": "execute_result"
    }
   ],
   "source": [
    "# Intersection should not be a superset of the albums that combined to make intersection.\n",
    "\n",
    "intersection.issuperset(album_set1)"
   ]
  },
  {
   "cell_type": "markdown",
   "id": "829fcf2a-1311-44ad-bf26-8599eb481070",
   "metadata": {},
   "source": [
    "### ***==*** is a Comparison Operator used to compare two values"
   ]
  },
  {
   "cell_type": "markdown",
   "id": "c102c971-32dd-44aa-86d3-a70fb49cd92f",
   "metadata": {},
   "source": [
    "Consider the list <code>A = \\[1, 2, 2, 1]</code> and set <code>B = set(\\[1, 2, 2, 1])</code>, does <code>sum(A) == sum(B)</code>?\n"
   ]
  },
  {
   "cell_type": "code",
   "execution_count": 61,
   "id": "3658ad5f-ae4a-44f3-9a8b-57260b0fba29",
   "metadata": {
    "tags": []
   },
   "outputs": [
    {
     "name": "stdout",
     "output_type": "stream",
     "text": [
      "the sum of A is : 6\n",
      "the sum of B is : 3\n"
     ]
    }
   ],
   "source": [
    "# Write your code below and press Shift+Enter to execute\n",
    "A= [1,2,2,1]\n",
    "B= set([1,2,2,1])\n",
    "print(\"the sum of A is :\", sum(A))\n",
    "print(\"the sum of B is :\", sum(B))"
   ]
  },
  {
   "cell_type": "code",
   "execution_count": null,
   "id": "f10f3161-cfc6-45fc-9654-4d6b2f2eb978",
   "metadata": {},
   "outputs": [],
   "source": []
  }
 ],
 "metadata": {
  "kernelspec": {
   "display_name": "Python 3 (ipykernel)",
   "language": "python",
   "name": "python3"
  },
  "language_info": {
   "codemirror_mode": {
    "name": "ipython",
    "version": 3
   },
   "file_extension": ".py",
   "mimetype": "text/x-python",
   "name": "python",
   "nbconvert_exporter": "python",
   "pygments_lexer": "ipython3",
   "version": "3.11.4"
  }
 },
 "nbformat": 4,
 "nbformat_minor": 5
}
