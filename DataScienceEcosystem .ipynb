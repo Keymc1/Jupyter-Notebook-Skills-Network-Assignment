{
 "cells": [
  {
   "cell_type": "markdown",
   "id": "1c2536fb-9955-4b62-ae0c-08792a06e196",
   "metadata": {},
   "source": [
    "# Data Science Tools and Ecosystem"
   ]
  },
  {
   "cell_type": "markdown",
   "id": "1b922c0d-65f1-4c68-b711-3a637388b47c",
   "metadata": {},
   "source": [
    "## __Objectives:__\n",
    "- List popular languages for Data Science\n",
    "- List commonly used libraries by Data Scientist\n",
    "- List Data Science Tools\n",
    "- Show different types of mathmatical expressions\n"
   ]
  },
  {
   "cell_type": "markdown",
   "id": "4120629c-58cb-499c-96b3-64d0c1d5d532",
   "metadata": {},
   "source": [
    "# In this notebook, Data Science Tools and Ecosystem are summarized."
   ]
  },
  {
   "cell_type": "markdown",
   "id": "b89f393e-e874-4f8b-a03d-a0c6b3908c90",
   "metadata": {},
   "source": [
    "# Some of the popular languages that Data Scientist use are:\n",
    "1. Python\n",
    "2. R\n",
    "3. SQL\n",
    "4. Scala\n",
    "5. Java\n",
    "6. C++\n",
    "7. Julia\n",
    "8. JavaScript (not be related to Java)"
   ]
  },
  {
   "cell_type": "markdown",
   "id": "daca5520-499d-4c34-84d6-fc3443a7f7d3",
   "metadata": {},
   "source": [
    "# Some of the commonly used libraries used by Data Scientists include:\n",
    "1. Pandas\n",
    "2. Numpy\n",
    "3. Matplotlib (visualization)\n",
    "4. Seaborn (visualization)\n",
    "S. Scikit Learn (machine learning)\n",
    "6. Apache Spark (general purpose)\n",
    "7. Scala (Vegas)\n",
    "8. R (ggplot2)\n"
   ]
  },
  {
   "cell_type": "markdown",
   "id": "c7d2cc54-d7de-400d-984b-3552cca10bfa",
   "metadata": {},
   "source": [
    "| Data Science Tools |\n",
    "| ------------------ |\n",
    "| Code Asset Management |\n",
    "| Data Asset Management |\n",
    "| Execution Environment |\n",
    "| Development Environment |"
   ]
  },
  {
   "cell_type": "markdown",
   "id": "fef3b610-a96d-499b-bd00-8ad9f3ebfc16",
   "metadata": {},
   "source": [
    "### Below are a few examples of evaluating arithmetic expressions in Python\n"
   ]
  },
  {
   "cell_type": "code",
   "execution_count": 1,
   "id": "773e977b-cd94-4dde-aed1-1e03bada2643",
   "metadata": {},
   "outputs": [
    {
     "data": {
      "text/html": [
       "6"
      ],
      "text/latex": [
       "6"
      ],
      "text/markdown": [
       "6"
      ],
      "text/plain": [
       "[1] 6"
      ]
     },
     "metadata": {},
     "output_type": "display_data"
    }
   ],
   "source": [
    "2 * 3 # Multiplication"
   ]
  },
  {
   "cell_type": "code",
   "execution_count": 2,
   "id": "bbbdaf7e-cb73-4212-8526-ee0e1223a707",
   "metadata": {},
   "outputs": [
    {
     "data": {
      "text/html": [
       "3"
      ],
      "text/latex": [
       "3"
      ],
      "text/markdown": [
       "3"
      ],
      "text/plain": [
       "[1] 3"
      ]
     },
     "metadata": {},
     "output_type": "display_data"
    }
   ],
   "source": [
    "4 - 1 # Subtraction"
   ]
  },
  {
   "cell_type": "code",
   "execution_count": 3,
   "id": "d60059c8-9ae2-4003-9db4-9aa00358abed",
   "metadata": {},
   "outputs": [
    {
     "data": {
      "text/html": [
       "3"
      ],
      "text/latex": [
       "3"
      ],
      "text/markdown": [
       "3"
      ],
      "text/plain": [
       "[1] 3"
      ]
     },
     "metadata": {},
     "output_type": "display_data"
    }
   ],
   "source": [
    "a <- 1 # Assigning 1 to the variable called \"a\"\n",
    "a + 2 # Adding 2"
   ]
  },
  {
   "cell_type": "code",
   "execution_count": 1,
   "id": "31a2e8ba-ba94-4fcc-89de-4047dbe72989",
   "metadata": {
    "tags": []
   },
   "outputs": [
    {
     "data": {
      "text/plain": [
       "17"
      ]
     },
     "execution_count": 1,
     "metadata": {},
     "output_type": "execute_result"
    }
   ],
   "source": [
    "### This is a simple arithmetic expression to multiply then add integers\n",
    "( 3 * 4 ) + 5\n"
   ]
  },
  {
   "cell_type": "code",
   "execution_count": 7,
   "id": "a5180de9-5f3c-408a-8c88-bdcd969b6b6f",
   "metadata": {
    "tags": []
   },
   "outputs": [
    {
     "name": "stdout",
     "output_type": "stream",
     "text": [
      "3.3333333333333335\n"
     ]
    }
   ],
   "source": [
    "### This will convert 200 minutes to hours by dividing by 60\n",
    "x = 200 \n",
    "y = x / 60\n",
    "print ( y )\n"
   ]
  },
  {
   "cell_type": "markdown",
   "id": "030fd924-507d-49d1-b21e-d1f32eed2bc0",
   "metadata": {},
   "source": [
    "## Author\n",
    "Mickey McCall"
   ]
  },
  {
   "cell_type": "markdown",
   "id": "5e6120b8-679c-4956-a2de-914ec2de587c",
   "metadata": {},
   "source": [
    "# ***STRINGS***\n"
   ]
  },
  {
   "cell_type": "code",
   "execution_count": 238,
   "id": "1ecc6e5a-6569-4acf-bbdf-b65429d5828e",
   "metadata": {
    "tags": []
   },
   "outputs": [
    {
     "data": {
      "text/plain": [
       "'i'"
      ]
     },
     "execution_count": 238,
     "metadata": {},
     "output_type": "execute_result"
    }
   ],
   "source": [
    "name = \"Mickey McCall\"\n",
    "name[ 1 ] "
   ]
  },
  {
   "cell_type": "code",
   "execution_count": 239,
   "id": "5ed0678b-2909-42df-9efd-71646453b552",
   "metadata": {
    "tags": []
   },
   "outputs": [
    {
     "data": {
      "text/plain": [
       "13"
      ]
     },
     "execution_count": 239,
     "metadata": {},
     "output_type": "execute_result"
    }
   ],
   "source": [
    "len (name)"
   ]
  },
  {
   "cell_type": "markdown",
   "id": "51085340-0abf-4787-9e61-803efedd9e4a",
   "metadata": {},
   "source": [
    "## The zero starts the index of positive numbers the space between y and M is sequence # 6\n",
    "| M i c k e y   M c C  a  l  l |\n",
    "|--------------------------|\n",
    "| 0 1 2 3 4 5 6 7 8 9 10 11 12 |\n",
    "\n",
    "### Remember because the index starts with 0 the string is still 13 characters long. so len(name) will be 13 not 12.\n"
   ]
  },
  {
   "cell_type": "code",
   "execution_count": 7,
   "id": "a673d1a3-f129-4930-9ebb-2394f0c079e8",
   "metadata": {
    "tags": []
   },
   "outputs": [
    {
     "data": {
      "text/plain": [
       "'Mick'"
      ]
     },
     "execution_count": 7,
     "metadata": {},
     "output_type": "execute_result"
    }
   ],
   "source": [
    "name [ 0 : 4 ] # Output will be Mick"
   ]
  },
  {
   "cell_type": "code",
   "execution_count": 9,
   "id": "ace330c5-e7ea-473f-91b8-33ab3ff15103",
   "metadata": {
    "tags": []
   },
   "outputs": [
    {
     "data": {
      "text/plain": [
       "'McCa'"
      ]
     },
     "execution_count": 9,
     "metadata": {},
     "output_type": "execute_result"
    }
   ],
   "source": [
    "name [ 7 : 11 ] # Out put will be McCa"
   ]
  },
  {
   "cell_type": "markdown",
   "id": "856bafa7-4bb3-481d-a75f-5df5282bd629",
   "metadata": {},
   "source": [
    "### Remember the negative indexing of a string starts from -1 at the end of the string. Example Mickey McCall the last \"l\" will be -1 and (M) in Mickey will be -13"
   ]
  },
  {
   "cell_type": "markdown",
   "id": "42bf5244-a112-4c3e-a7f0-299e16bbc841",
   "metadata": {},
   "source": [
    "### Slicing Strings"
   ]
  },
  {
   "cell_type": "markdown",
   "id": "ddd4092d-59fa-4ba4-92c7-feaeb997c99e",
   "metadata": {},
   "source": [
    "### When taking the slice, the first number means the index (start at 0), and the second number means the length from the index to the last element you want (start at 1)"
   ]
  },
  {
   "cell_type": "code",
   "execution_count": 11,
   "id": "c2a7281f-7808-4279-8d36-3ad8e748dca5",
   "metadata": {
    "tags": []
   },
   "outputs": [
    {
     "data": {
      "text/plain": [
       "'Mick'"
      ]
     },
     "execution_count": 11,
     "metadata": {},
     "output_type": "execute_result"
    }
   ],
   "source": [
    "name [ -13 : -9 ] # Output will be Mick"
   ]
  },
  {
   "cell_type": "code",
   "execution_count": 12,
   "id": "27bbdbc9-660f-4d2d-94b4-fb839b411d1e",
   "metadata": {
    "tags": []
   },
   "outputs": [
    {
     "data": {
      "text/plain": [
       "str"
      ]
     },
     "execution_count": 12,
     "metadata": {},
     "output_type": "execute_result"
    }
   ],
   "source": [
    "type (name)"
   ]
  },
  {
   "cell_type": "markdown",
   "id": "7b85aec0-4bb2-49ce-9a19-3fde6272354b",
   "metadata": {},
   "source": [
    "### Stride Strings\n"
   ]
  },
  {
   "cell_type": "code",
   "execution_count": 8,
   "id": "5d3c880d-6859-48a2-b00b-dcc2e07024b4",
   "metadata": {
    "tags": []
   },
   "outputs": [
    {
     "data": {
      "text/plain": [
       "'Mce cal'"
      ]
     },
     "execution_count": 8,
     "metadata": {},
     "output_type": "execute_result"
    }
   ],
   "source": [
    "# This is called striding\n",
    "\n",
    "name [ :: 2 ] # The 2 indicates selecting every 2nd variable"
   ]
  },
  {
   "cell_type": "markdown",
   "id": "7bad297a-416e-4df7-b9ae-fe9871811207",
   "metadata": {},
   "source": [
    "### Incorporate slicing with the stride. we can select the first five elements and then use the stride:\n"
   ]
  },
  {
   "cell_type": "code",
   "execution_count": 9,
   "id": "9a1b260c-fcb6-4139-9b05-e1bf49de9a54",
   "metadata": {
    "tags": []
   },
   "outputs": [
    {
     "data": {
      "text/plain": [
       "'Mce'"
      ]
     },
     "execution_count": 9,
     "metadata": {},
     "output_type": "execute_result"
    }
   ],
   "source": [
    "# Get every second element in the range between index 0 to index 4\n",
    "\n",
    "name [ 0 : 5 : 2 ]"
   ]
  },
  {
   "cell_type": "markdown",
   "id": "44348154-cf3a-47e3-b4f5-924883c8a9a8",
   "metadata": {},
   "source": [
    "## Concatenate Strings\n"
   ]
  },
  {
   "cell_type": "code",
   "execution_count": 51,
   "id": "e0558838-cee5-42e9-aa8d-9acad10d4e5e",
   "metadata": {
    "tags": []
   },
   "outputs": [
    {
     "data": {
      "text/plain": [
       "'Mickey McCall is the best'"
      ]
     },
     "execution_count": 51,
     "metadata": {},
     "output_type": "execute_result"
    }
   ],
   "source": [
    "# Using addition symbol can make new string or \"concatenate\"\n",
    "\n",
    "statement = name + \" is the best\"\n",
    "statement"
   ]
  },
  {
   "cell_type": "markdown",
   "id": "04390bd1-9303-4022-b644-6c739c2f16c1",
   "metadata": {},
   "source": [
    "### To replicate values of a string we simply multiply the string by the number of times we would like to replicate it. "
   ]
  },
  {
   "cell_type": "code",
   "execution_count": 20,
   "id": "3d24941f-3244-4383-89dc-8137cb169812",
   "metadata": {
    "tags": []
   },
   "outputs": [
    {
     "data": {
      "text/plain": [
       "'Mickey McCallMickey McCallMickey McCall'"
      ]
     },
     "execution_count": 20,
     "metadata": {},
     "output_type": "execute_result"
    }
   ],
   "source": [
    "3 * \"Mickey McCall\" # this should be three copies of the orginial name string"
   ]
  },
  {
   "cell_type": "code",
   "execution_count": 21,
   "id": "d1d11ce2-5447-4baa-b599-f0d950a337a1",
   "metadata": {
    "tags": []
   },
   "outputs": [
    {
     "data": {
      "text/plain": [
       "'Mickey McCall'"
      ]
     },
     "execution_count": 21,
     "metadata": {},
     "output_type": "execute_result"
    }
   ],
   "source": [
    "name"
   ]
  },
  {
   "cell_type": "code",
   "execution_count": 11,
   "id": "f2c845be-49eb-4e3a-b643-d9c59ab28ffb",
   "metadata": {
    "tags": []
   },
   "outputs": [
    {
     "data": {
      "text/plain": [
       "'Mickey McCallMickey McCallMickey McCall'"
      ]
     },
     "execution_count": 11,
     "metadata": {},
     "output_type": "execute_result"
    }
   ],
   "source": [
    "3 * name"
   ]
  },
  {
   "cell_type": "code",
   "execution_count": 74,
   "id": "c6a4c4e7-f1d3-4297-b7b4-1698dfb9c967",
   "metadata": {
    "tags": []
   },
   "outputs": [
    {
     "data": {
      "text/plain": [
       "' Mickey McCall '"
      ]
     },
     "execution_count": 74,
     "metadata": {},
     "output_type": "execute_result"
    }
   ],
   "source": [
    "name = \" Mickey McCall \"\n",
    "name"
   ]
  },
  {
   "cell_type": "code",
   "execution_count": 27,
   "id": "03df5b05-63dd-45af-8b64-cb48d7472574",
   "metadata": {
    "tags": []
   },
   "outputs": [
    {
     "data": {
      "text/plain": [
       "' Mickey McCall  is the best '"
      ]
     },
     "execution_count": 27,
     "metadata": {},
     "output_type": "execute_result"
    }
   ],
   "source": [
    "name = name + \" is the best \"\n",
    "name"
   ]
  },
  {
   "cell_type": "markdown",
   "id": "3e4fea93-15b8-4a1f-af95-1ccd3a02f320",
   "metadata": {},
   "source": [
    "## backslash are meant to proceed escape sequences\n",
    "## ***Escape sequences*** are strings that are difficult to input"
   ]
  },
  {
   "cell_type": "markdown",
   "id": "88addfb5-b6cf-4af7-9408-c1985ceb9074",
   "metadata": {},
   "source": [
    "## backlash \\n is a new line"
   ]
  },
  {
   "cell_type": "code",
   "execution_count": 29,
   "id": "115a3492-7baa-4ac2-8fc0-4edb7753eca7",
   "metadata": {
    "tags": []
   },
   "outputs": [
    {
     "name": "stdout",
     "output_type": "stream",
     "text": [
      " Mickey McCall \n",
      " is the best \n"
     ]
    }
   ],
   "source": [
    "print ( \" Mickey McCall \\n is the best \" )"
   ]
  },
  {
   "cell_type": "markdown",
   "id": "4a44078f-992f-4cf3-98dd-152bf12b728f",
   "metadata": {},
   "source": [
    "## backlash \\t is where a tab should be"
   ]
  },
  {
   "cell_type": "code",
   "execution_count": 30,
   "id": "dc8ad650-b5b8-4527-8af5-19ead54bc81d",
   "metadata": {
    "tags": []
   },
   "outputs": [
    {
     "name": "stdout",
     "output_type": "stream",
     "text": [
      " Mickey McCall \t is the best \n"
     ]
    }
   ],
   "source": [
    "print ( \" Mickey McCall \\t is the best \" )"
   ]
  },
  {
   "cell_type": "markdown",
   "id": "967a24c6-408b-4220-8a70-aec7c1905f5b",
   "metadata": {},
   "source": [
    "## to place a backslash \\ in your string use a double backslash \\\\"
   ]
  },
  {
   "cell_type": "code",
   "execution_count": 31,
   "id": "29a6bd22-7db7-47bb-bae0-c4fff2a63df5",
   "metadata": {
    "tags": []
   },
   "outputs": [
    {
     "name": "stdout",
     "output_type": "stream",
     "text": [
      " Mickey McCall \\ is the best \n"
     ]
    }
   ],
   "source": [
    "print ( \" Mickey McCall \\\\ is the best \" )"
   ]
  },
  {
   "cell_type": "markdown",
   "id": "61e94428-ab13-44af-80b9-d6ef6c053f52",
   "metadata": {},
   "source": [
    "### to place multiple backslashes through out your string preceed the the string with r"
   ]
  },
  {
   "cell_type": "code",
   "execution_count": 35,
   "id": "1f3353d8-4cc8-4f65-bd05-9e087c9f9080",
   "metadata": {
    "tags": []
   },
   "outputs": [
    {
     "name": "stdout",
     "output_type": "stream",
     "text": [
      " Mickey McCall \\ is the best \n"
     ]
    }
   ],
   "source": [
    "print ( r\" Mickey McCall \\ is the best \" ) #Out put is same as above"
   ]
  },
  {
   "cell_type": "markdown",
   "id": "46cc5869-5236-4512-925f-e53c78bb856a",
   "metadata": {},
   "source": [
    "#  String Operations\n"
   ]
  },
  {
   "cell_type": "markdown",
   "id": "4afe7b2b-c2da-4dca-b072-82107f0b3e9c",
   "metadata": {},
   "source": [
    "### Upper is a method to convert lower case characters to upper case characters"
   ]
  },
  {
   "cell_type": "code",
   "execution_count": 17,
   "id": "4fb7c77b-23ee-4ec9-a2c7-66e809ffe6ad",
   "metadata": {
    "tags": []
   },
   "outputs": [
    {
     "data": {
      "text/plain": [
       "' Thriller is the sixth studio album '"
      ]
     },
     "execution_count": 17,
     "metadata": {},
     "output_type": "execute_result"
    }
   ],
   "source": [
    "## Examples of Methods\n",
    "\n",
    "A = \" Thriller is the sixth studio album \"\n",
    "A"
   ]
  },
  {
   "cell_type": "code",
   "execution_count": 18,
   "id": "9a6d57a4-c8aa-4a51-a849-49f3c022cfcb",
   "metadata": {
    "tags": []
   },
   "outputs": [],
   "source": [
    "B= A.upper() # This will change lowercase characters to uppercase characters as varible B"
   ]
  },
  {
   "cell_type": "code",
   "execution_count": 38,
   "id": "5eb0da9c-a0e5-460a-a9da-9d71edda7fae",
   "metadata": {
    "tags": []
   },
   "outputs": [
    {
     "data": {
      "text/plain": [
       "' THRILLER IS THE SIXTH STUDIO ALBUM '"
      ]
     },
     "execution_count": 38,
     "metadata": {},
     "output_type": "execute_result"
    }
   ],
   "source": [
    "B"
   ]
  },
  {
   "cell_type": "code",
   "execution_count": 19,
   "id": "fc65c32c-0cde-4f5e-96f8-e09c974a6c50",
   "metadata": {
    "tags": []
   },
   "outputs": [
    {
     "data": {
      "text/plain": [
       "' Thriller is the sixth studio album '"
      ]
     },
     "execution_count": 19,
     "metadata": {},
     "output_type": "execute_result"
    }
   ],
   "source": [
    "A"
   ]
  },
  {
   "cell_type": "code",
   "execution_count": 20,
   "id": "48b6abeb-5167-42a3-b544-ceb4c657cb48",
   "metadata": {
    "tags": []
   },
   "outputs": [
    {
     "data": {
      "text/plain": [
       "' THRILLER IS THE SIXTH STUDIO ALBUM '"
      ]
     },
     "execution_count": 20,
     "metadata": {},
     "output_type": "execute_result"
    }
   ],
   "source": [
    "A . upper ( )"
   ]
  },
  {
   "cell_type": "code",
   "execution_count": 21,
   "id": "63c81c47-3144-4f7f-844a-45ab705da617",
   "metadata": {
    "tags": []
   },
   "outputs": [
    {
     "data": {
      "text/plain": [
       "' thriller is the sixth studio album '"
      ]
     },
     "execution_count": 21,
     "metadata": {},
     "output_type": "execute_result"
    }
   ],
   "source": [
    "B . lower ( )"
   ]
  },
  {
   "cell_type": "code",
   "execution_count": 13,
   "id": "a4e3d292-610c-4bae-a322-9659c49c66bb",
   "metadata": {
    "tags": []
   },
   "outputs": [
    {
     "name": "stdout",
     "output_type": "stream",
     "text": [
      "before upper :   Thriller is the sixth studio album \n",
      " After upper :   THRILLER IS THE SIXTH STUDIO ALBUM \n"
     ]
    }
   ],
   "source": [
    "# Convert all the characters in string to upper case\n",
    "\n",
    "a = \" Thriller is the sixth studio album \"\n",
    "print ( \"before upper : \", a )\n",
    "b = a . upper ( )\n",
    "print ( \" After upper : \", b )"
   ]
  },
  {
   "cell_type": "markdown",
   "id": "9ef04bc6-54ba-462c-8ee2-51c022e65498",
   "metadata": {},
   "source": [
    "## The method replace, replaces a segment of the string"
   ]
  },
  {
   "cell_type": "code",
   "execution_count": 52,
   "id": "e06cf6af-6341-4bdd-a40f-86557b6c9519",
   "metadata": {
    "tags": []
   },
   "outputs": [
    {
     "data": {
      "text/plain": [
       "'Mickey McCall is the best'"
      ]
     },
     "execution_count": 52,
     "metadata": {},
     "output_type": "execute_result"
    }
   ],
   "source": [
    "A= \"Mickey McCall is the best\" \n",
    "A"
   ]
  },
  {
   "cell_type": "code",
   "execution_count": 53,
   "id": "9151d243-440f-4776-b1fb-a6e88a8f0505",
   "metadata": {
    "tags": []
   },
   "outputs": [
    {
     "data": {
      "text/plain": [
       "'Dawn McCall is the best'"
      ]
     },
     "execution_count": 53,
     "metadata": {},
     "output_type": "execute_result"
    }
   ],
   "source": [
    "B = A.replace ( 'Mickey' , 'Dawn' ) # The output should replace Mickey with Dawn\n",
    "B"
   ]
  },
  {
   "cell_type": "markdown",
   "id": "a6bf9bc0-1464-434b-817f-8245c12c5099",
   "metadata": {},
   "source": [
    "## The method find is to find substrings "
   ]
  },
  {
   "cell_type": "code",
   "execution_count": 20,
   "id": "6d1efbe8-d2f2-4acd-9172-83b2037fc1ca",
   "metadata": {
    "tags": []
   },
   "outputs": [
    {
     "data": {
      "text/plain": [
       "'Mickey McCall'"
      ]
     },
     "execution_count": 20,
     "metadata": {},
     "output_type": "execute_result"
    }
   ],
   "source": [
    "name = \"Mickey McCall\"\n",
    "name"
   ]
  },
  {
   "cell_type": "code",
   "execution_count": 21,
   "id": "68c411f0-aaf6-4264-ad44-7163eea698cc",
   "metadata": {
    "tags": []
   },
   "outputs": [
    {
     "data": {
      "text/plain": [
       "13"
      ]
     },
     "execution_count": 21,
     "metadata": {},
     "output_type": "execute_result"
    }
   ],
   "source": [
    "len(name)"
   ]
  },
  {
   "cell_type": "code",
   "execution_count": 22,
   "id": "6ede08d4-1ff7-4d45-87ec-2402c55b72fc",
   "metadata": {
    "tags": []
   },
   "outputs": [],
   "source": [
    "name = ( \"Mickey McCall\" )"
   ]
  },
  {
   "cell_type": "code",
   "execution_count": 23,
   "id": "413f7768-35f7-4586-9d54-aabee81ae516",
   "metadata": {
    "tags": []
   },
   "outputs": [
    {
     "data": {
      "text/plain": [
       "4"
      ]
     },
     "execution_count": 23,
     "metadata": {},
     "output_type": "execute_result"
    }
   ],
   "source": [
    "name.find ( 'ey' ) # ey is the argument the output is the first index of the sequence"
   ]
  },
  {
   "cell_type": "code",
   "execution_count": 24,
   "id": "3e6bb6b8-4000-4473-b834-226e03f37bc6",
   "metadata": {
    "tags": []
   },
   "outputs": [
    {
     "data": {
      "text/plain": [
       "7"
      ]
     },
     "execution_count": 24,
     "metadata": {},
     "output_type": "execute_result"
    }
   ],
   "source": [
    "name.find (\"McCa\")"
   ]
  },
  {
   "cell_type": "code",
   "execution_count": 25,
   "id": "80ab952b-3342-43c3-b8a6-414d8cef9e94",
   "metadata": {
    "tags": []
   },
   "outputs": [
    {
     "data": {
      "text/plain": [
       "0"
      ]
     },
     "execution_count": 25,
     "metadata": {},
     "output_type": "execute_result"
    }
   ],
   "source": [
    "name.find ( 'Mick' )"
   ]
  },
  {
   "cell_type": "code",
   "execution_count": 27,
   "id": "f7fd633f-098c-4212-9cef-1d289057b295",
   "metadata": {
    "tags": []
   },
   "outputs": [
    {
     "data": {
      "text/plain": [
       "1"
      ]
     },
     "execution_count": 27,
     "metadata": {},
     "output_type": "execute_result"
    }
   ],
   "source": [
    "name.find ( 'ick')"
   ]
  },
  {
   "cell_type": "code",
   "execution_count": 28,
   "id": "d2abf2a8-b3cc-4c67-9e5e-c53041cedfdc",
   "metadata": {
    "tags": []
   },
   "outputs": [
    {
     "data": {
      "text/plain": [
       "2"
      ]
     },
     "execution_count": 28,
     "metadata": {},
     "output_type": "execute_result"
    }
   ],
   "source": [
    "name.find ( 'c' )"
   ]
  },
  {
   "cell_type": "code",
   "execution_count": 29,
   "id": "d728bc66-59ee-4912-a1ff-8d89e8135622",
   "metadata": {
    "tags": []
   },
   "outputs": [
    {
     "data": {
      "text/plain": [
       "8"
      ]
     },
     "execution_count": 29,
     "metadata": {},
     "output_type": "execute_result"
    }
   ],
   "source": [
    "name.find ( 'cC' )"
   ]
  },
  {
   "cell_type": "code",
   "execution_count": 34,
   "id": "5ed29580-9f71-4745-b9e2-92a4e24d7c10",
   "metadata": {
    "tags": []
   },
   "outputs": [
    {
     "data": {
      "text/plain": [
       "'M l'"
      ]
     },
     "execution_count": 34,
     "metadata": {},
     "output_type": "execute_result"
    }
   ],
   "source": [
    "name [:: 6 ]"
   ]
  },
  {
   "cell_type": "code",
   "execution_count": 36,
   "id": "32c4928a-be50-4a7b-9622-b2e8f99a35ba",
   "metadata": {
    "tags": []
   },
   "outputs": [
    {
     "data": {
      "text/plain": [
       "'ikyMCl'"
      ]
     },
     "execution_count": 36,
     "metadata": {},
     "output_type": "execute_result"
    }
   ],
   "source": [
    "name [ 1 : 13 : 2]"
   ]
  },
  {
   "cell_type": "code",
   "execution_count": 38,
   "id": "ca77e2bf-1e54-4313-828f-04cc5b9f3bfc",
   "metadata": {
    "tags": []
   },
   "outputs": [
    {
     "data": {
      "text/plain": [
       "'l'"
      ]
     },
     "execution_count": 38,
     "metadata": {},
     "output_type": "execute_result"
    }
   ],
   "source": [
    "name [ 12 ]"
   ]
  },
  {
   "cell_type": "code",
   "execution_count": 39,
   "id": "d3ddda9d-3f98-4f9d-b5ec-df1647797630",
   "metadata": {
    "tags": []
   },
   "outputs": [
    {
     "data": {
      "text/plain": [
       "'Mickey McCall'"
      ]
     },
     "execution_count": 39,
     "metadata": {},
     "output_type": "execute_result"
    }
   ],
   "source": [
    "name [ 0 : 13 ]"
   ]
  },
  {
   "cell_type": "code",
   "execution_count": 41,
   "id": "38d5bccb-7469-4855-9eab-74e5a21e6580",
   "metadata": {
    "tags": []
   },
   "outputs": [
    {
     "data": {
      "text/plain": [
       "'Mickey McC'"
      ]
     },
     "execution_count": 41,
     "metadata": {},
     "output_type": "execute_result"
    }
   ],
   "source": [
    "name [0 : 10]"
   ]
  },
  {
   "cell_type": "code",
   "execution_count": 49,
   "id": "17e36234-a59e-4fcf-9368-41e9365ac674",
   "metadata": {
    "tags": []
   },
   "outputs": [
    {
     "data": {
      "text/plain": [
       "-1"
      ]
     },
     "execution_count": 49,
     "metadata": {},
     "output_type": "execute_result"
    }
   ],
   "source": [
    "name.find ('key mc')  #find cant see because the m is not M"
   ]
  },
  {
   "cell_type": "code",
   "execution_count": 46,
   "id": "c41bb712-8952-433e-9600-cd578c0a4439",
   "metadata": {
    "tags": []
   },
   "outputs": [
    {
     "data": {
      "text/plain": [
       "9"
      ]
     },
     "execution_count": 46,
     "metadata": {},
     "output_type": "execute_result"
    }
   ],
   "source": [
    "name.find ('C')"
   ]
  },
  {
   "cell_type": "code",
   "execution_count": 48,
   "id": "6b3d52bf-aff3-443e-9451-0edde76cd3f6",
   "metadata": {
    "tags": []
   },
   "outputs": [
    {
     "data": {
      "text/plain": [
       "3"
      ]
     },
     "execution_count": 48,
     "metadata": {},
     "output_type": "execute_result"
    }
   ],
   "source": [
    "name.find ('key Mc')"
   ]
  },
  {
   "cell_type": "code",
   "execution_count": 43,
   "id": "3a96b185-3f74-42e6-9d9c-2664241d0495",
   "metadata": {
    "tags": []
   },
   "outputs": [
    {
     "data": {
      "text/plain": [
       "str"
      ]
     },
     "execution_count": 43,
     "metadata": {},
     "output_type": "execute_result"
    }
   ],
   "source": [
    "type (name)"
   ]
  },
  {
   "cell_type": "code",
   "execution_count": 44,
   "id": "d8e81b7f-67e8-45e1-8d65-887e8ca01a72",
   "metadata": {
    "tags": []
   },
   "outputs": [
    {
     "data": {
      "text/plain": [
       "True"
      ]
     },
     "execution_count": 44,
     "metadata": {},
     "output_type": "execute_result"
    }
   ],
   "source": [
    "bool (name)"
   ]
  },
  {
   "cell_type": "markdown",
   "id": "026da409-9e95-43ad-8131-7bc92a959a90",
   "metadata": {},
   "source": [
    "### If \"find\" cannot find the substring in the string\n"
   ]
  },
  {
   "cell_type": "code",
   "execution_count": 14,
   "id": "ce5f7135-a1b6-469c-bbfd-81175f6ab61c",
   "metadata": {
    "tags": []
   },
   "outputs": [
    {
     "data": {
      "text/plain": [
       "-1"
      ]
     },
     "execution_count": 14,
     "metadata": {},
     "output_type": "execute_result"
    }
   ],
   "source": [
    "name . find ( ' Jasdfasdasdf ' )"
   ]
  },
  {
   "cell_type": "markdown",
   "id": "f2b716fe-8a1f-4fd6-8561-13a658526a46",
   "metadata": {},
   "source": [
    "### Strings will put anything you put in them into the code.\n",
    "### \"Mickey\" is not the same as \" Mickey \". The first one looks for Mickey, the second looks for \"space\"Mickey."
   ]
  },
  {
   "cell_type": "code",
   "execution_count": 24,
   "id": "7f9ddac4-a61b-496e-afca-d453abfa5219",
   "metadata": {
    "tags": []
   },
   "outputs": [
    {
     "data": {
      "text/plain": [
       "2"
      ]
     },
     "execution_count": 24,
     "metadata": {},
     "output_type": "execute_result"
    }
   ],
   "source": [
    "x = 1\n",
    "x = x + 1\n",
    "x"
   ]
  },
  {
   "cell_type": "code",
   "execution_count": 25,
   "id": "faa1aca2-99e8-4db7-a1b2-5ea8888ccf6e",
   "metadata": {
    "tags": []
   },
   "outputs": [
    {
     "data": {
      "text/plain": [
       "7"
      ]
     },
     "execution_count": 25,
     "metadata": {},
     "output_type": "execute_result"
    }
   ],
   "source": [
    "1 + 3 * 2"
   ]
  },
  {
   "cell_type": "code",
   "execution_count": 26,
   "id": "ce760267-ec81-4673-beb1-955f299ff9c2",
   "metadata": {
    "tags": []
   },
   "outputs": [
    {
     "data": {
      "text/plain": [
       "str"
      ]
     },
     "execution_count": 26,
     "metadata": {},
     "output_type": "execute_result"
    }
   ],
   "source": [
    "type (\"7.1\" )"
   ]
  },
  {
   "cell_type": "code",
   "execution_count": 54,
   "id": "7f0cd0f0-89fe-4a41-9c85-97f7a36ba73d",
   "metadata": {
    "tags": []
   },
   "outputs": [
    {
     "data": {
      "text/plain": [
       "float"
      ]
     },
     "execution_count": 54,
     "metadata": {},
     "output_type": "execute_result"
    }
   ],
   "source": [
    "type (7.1)"
   ]
  },
  {
   "cell_type": "code",
   "execution_count": 55,
   "id": "545369ea-c17d-4b3b-af97-8e63c051a6b7",
   "metadata": {
    "tags": []
   },
   "outputs": [
    {
     "data": {
      "text/plain": [
       "int"
      ]
     },
     "execution_count": 55,
     "metadata": {},
     "output_type": "execute_result"
    }
   ],
   "source": [
    "type (7)"
   ]
  },
  {
   "cell_type": "code",
   "execution_count": 56,
   "id": "510dc36e-5456-4dc2-a6f0-3e315b87c1eb",
   "metadata": {
    "tags": []
   },
   "outputs": [
    {
     "data": {
      "text/plain": [
       "1"
      ]
     },
     "execution_count": 56,
     "metadata": {},
     "output_type": "execute_result"
    }
   ],
   "source": [
    "int (True)"
   ]
  },
  {
   "cell_type": "code",
   "execution_count": 57,
   "id": "0a0ea677-50a4-48ed-bb88-0a05186e61d2",
   "metadata": {
    "tags": []
   },
   "outputs": [
    {
     "data": {
      "text/plain": [
       "'12'"
      ]
     },
     "execution_count": 57,
     "metadata": {},
     "output_type": "execute_result"
    }
   ],
   "source": [
    "'1' + '2'"
   ]
  },
  {
   "cell_type": "code",
   "execution_count": 77,
   "id": "24455c89-3ee1-4fd4-8303-7a10b3710d14",
   "metadata": {
    "tags": []
   },
   "outputs": [
    {
     "data": {
      "text/plain": [
       "'HELLO'"
      ]
     },
     "execution_count": 77,
     "metadata": {},
     "output_type": "execute_result"
    }
   ],
   "source": [
    "myvar = 'hello'\n",
    "myvar. upper ( )\n"
   ]
  },
  {
   "cell_type": "code",
   "execution_count": 58,
   "id": "d65e1d7a-165b-4cf0-8812-a6237e01286d",
   "metadata": {
    "tags": []
   },
   "outputs": [
    {
     "data": {
      "text/plain": [
       "'2'"
      ]
     },
     "execution_count": 58,
     "metadata": {},
     "output_type": "execute_result"
    }
   ],
   "source": [
    "str (1+1)"
   ]
  },
  {
   "cell_type": "code",
   "execution_count": 59,
   "id": "a7ff044e-ef25-4e9a-ad8c-0a4e4fa0b0b7",
   "metadata": {
    "tags": []
   },
   "outputs": [
    {
     "data": {
      "text/plain": [
       "'ab3'"
      ]
     },
     "execution_count": 59,
     "metadata": {},
     "output_type": "execute_result"
    }
   ],
   "source": [
    "'123'.replace (\"12\", \"ab\")"
   ]
  },
  {
   "cell_type": "code",
   "execution_count": 60,
   "id": "dfc1082d-809c-4fb8-8d70-1f3d01688b51",
   "metadata": {
    "tags": []
   },
   "outputs": [
    {
     "data": {
      "text/plain": [
       "'cd3'"
      ]
     },
     "execution_count": 60,
     "metadata": {},
     "output_type": "execute_result"
    }
   ],
   "source": [
    "'ab3'.replace ('ab', 'cd')"
   ]
  },
  {
   "cell_type": "code",
   "execution_count": 61,
   "id": "2272adb8-46e9-4600-a7a1-874cb3af92cb",
   "metadata": {
    "tags": []
   },
   "outputs": [
    {
     "data": {
      "text/plain": [
       "'123'"
      ]
     },
     "execution_count": 61,
     "metadata": {},
     "output_type": "execute_result"
    }
   ],
   "source": [
    "'cd3'.replace ('cd', '12')"
   ]
  },
  {
   "cell_type": "code",
   "execution_count": 62,
   "id": "bb539fe6-792f-4634-8f73-139b6ec45014",
   "metadata": {
    "tags": []
   },
   "outputs": [
    {
     "data": {
      "text/plain": [
       "1.0"
      ]
     },
     "execution_count": 62,
     "metadata": {},
     "output_type": "execute_result"
    }
   ],
   "source": [
    "x = 2/2\n",
    "x"
   ]
  },
  {
   "cell_type": "code",
   "execution_count": 63,
   "id": "2ec111f7-c1c0-475e-a291-571462dd8e70",
   "metadata": {
    "tags": []
   },
   "outputs": [
    {
     "data": {
      "text/plain": [
       "float"
      ]
     },
     "execution_count": 63,
     "metadata": {},
     "output_type": "execute_result"
    }
   ],
   "source": [
    "type(x)"
   ]
  },
  {
   "cell_type": "markdown",
   "id": "d2d4a084-53c7-4032-9408-8a8eb62dc5ea",
   "metadata": {},
   "source": [
    "# This was from Week 2 of Python for Data Science, AI & Deployment"
   ]
  },
  {
   "cell_type": "markdown",
   "id": "f687589d-28f4-42fa-a321-d6a68ff8ac50",
   "metadata": {},
   "source": [
    "### Lists in Python"
   ]
  },
  {
   "cell_type": "markdown",
   "id": "08f260bb-81ea-477e-99c7-3c28b5816811",
   "metadata": {},
   "source": [
    "Imagine you received album recommendations from your friends and compiled all of the recommandations into a table, with specific information about each album.\n",
    "\n",
    "The table has one row for each movie and several columns:\n",
    "\n",
    "*   **Artist** - Name of the artist\n",
    "*   **Album** - Name of the album\n",
    "*   **Released_year** - Year the album was released\n",
    "*   **Length_min_sec** - Length of the album (hours,minutes,seconds)\n",
    "*   **Genre** - Genre of the album\n",
    "*   **Music_recording_sales_millions** - Music recording sales (millions in USD) on [SONG://DATABASE](http://www.song-database.com/?utm_medium=Exinfluencer&utm_source=Exinfluencer&utm_content=000026UJ&utm_term=10006555&utm_id=NA-SkillsNetwork-Channel-SkillsNetworkCoursesIBMDeveloperSkillsNetworkPY0101ENSkillsNetwork19487395-2021-01-01)\n",
    "*   **Claimed_sales_millions** - Album's claimed sales (millions in USD) on [SONG://DATABASE](http://www.song-database.com/?utm_medium=Exinfluencer&utm_source=Exinfluencer&utm_content=000026UJ&utm_term=10006555&utm_id=NA-SkillsNetwork-Channel-SkillsNetworkCoursesIBMDeveloperSkillsNetworkPY0101ENSkillsNetwork19487395-2021-01-01)\n",
    "*   **Released** - Date on which the album was released\n",
    "*   **Soundtrack** - Indicates if the album is the movie soundtrack (Y) or (N)\n",
    "*   **Rating_of_friends** - Indicates the rating from your friends from 1 to 10\n",
    "\n",
    "<br>\n",
    "<br>\n",
    "\n",
    "The Dataset can be seen below:\n",
    "\n",
    "<font size=\"1\">\n",
    "<table font-size:xx-small>\n",
    "  <tr>\n",
    "    <th>Artist</th>\n",
    "    <th>Album</th> \n",
    "    <th>Released</th>\n",
    "    <th>Length</th>\n",
    "    <th>Genre</th> \n",
    "    <th>Music recording sales (millions)</th>\n",
    "    <th>Claimed sales (millions)</th>\n",
    "    <th>Released</th>\n",
    "    <th>Soundtrack</th>\n",
    "    <th>Rating (friends)</th>\n",
    "  </tr>\n",
    "  <tr>\n",
    "    <td>Michael Jackson</td>\n",
    "    <td>Thriller</td> \n",
    "    <td>1982</td>\n",
    "    <td>00:42:19</td>\n",
    "    <td>Pop, rock, R&B</td>\n",
    "    <td>46</td>\n",
    "    <td>65</td>\n",
    "    <td>30-Nov-82</td>\n",
    "    <td></td>\n",
    "    <td>10.0</td>\n",
    "  </tr>\n",
    "  <tr>\n",
    "    <td>AC/DC</td>\n",
    "    <td>Back in Black</td> \n",
    "    <td>1980</td>\n",
    "    <td>00:42:11</td>\n",
    "    <td>Hard rock</td>\n",
    "    <td>26.1</td>\n",
    "    <td>50</td>\n",
    "    <td>25-Jul-80</td>\n",
    "    <td></td>\n",
    "    <td>8.5</td>\n",
    "  </tr>\n",
    "    <tr>\n",
    "    <td>Pink Floyd</td>\n",
    "    <td>The Dark Side of the Moon</td> \n",
    "    <td>1973</td>\n",
    "    <td>00:42:49</td>\n",
    "    <td>Progressive rock</td>\n",
    "    <td>24.2</td>\n",
    "    <td>45</td>\n",
    "    <td>01-Mar-73</td>\n",
    "    <td></td>\n",
    "    <td>9.5</td>\n",
    "  </tr>\n",
    "    <tr>\n",
    "    <td>Whitney Houston</td>\n",
    "    <td>The Bodyguard</td> \n",
    "    <td>1992</td>\n",
    "    <td>00:57:44</td>\n",
    "    <td>Soundtrack/R&B, soul, pop</td>\n",
    "    <td>26.1</td>\n",
    "    <td>50</td>\n",
    "    <td>25-Jul-80</td>\n",
    "    <td>Y</td>\n",
    "    <td>7.0</td>\n",
    "  </tr>\n",
    "    <tr>\n",
    "    <td>Meat Loaf</td>\n",
    "    <td>Bat Out of Hell</td> \n",
    "    <td>1977</td>\n",
    "    <td>00:46:33</td>\n",
    "    <td>Hard rock, progressive rock</td>\n",
    "    <td>20.6</td>\n",
    "    <td>43</td>\n",
    "    <td>21-Oct-77</td>\n",
    "    <td></td>\n",
    "    <td>7.0</td>\n",
    "  </tr>\n",
    "    <tr>\n",
    "    <td>Eagles</td>\n",
    "    <td>Their Greatest Hits (1971-1975)</td> \n",
    "    <td>1976</td>\n",
    "    <td>00:43:08</td>\n",
    "    <td>Rock, soft rock, folk rock</td>\n",
    "    <td>32.2</td>\n",
    "    <td>42</td>\n",
    "    <td>17-Feb-76</td>\n",
    "    <td></td>\n",
    "    <td>9.5</td>\n",
    "  </tr>\n",
    "    <tr>\n",
    "    <td>Bee Gees</td>\n",
    "    <td>Saturday Night Fever</td> \n",
    "    <td>1977</td>\n",
    "    <td>1:15:54</td>\n",
    "    <td>Disco</td>\n",
    "    <td>20.6</td>\n",
    "    <td>40</td>\n",
    "    <td>15-Nov-77</td>\n",
    "    <td>Y</td>\n",
    "    <td>9.0</td>\n",
    "  </tr>\n",
    "    <tr>\n",
    "    <td>Fleet wood Mac</td>\n",
    "    <td> Rumours </td> \n",
    "    <td>1977</td>\n",
    "    <td>00:40:01</td>\n",
    "    <td>Soft rock</td>\n",
    "    <td>27.9</td>\n",
    "    <td>40</td>\n",
    "    <td>04-Feb-77</td>\n",
    "    <td></td>\n",
    "    <td>9.5</td>\n",
    "  </tr>\n",
    "</table></font>\n"
   ]
  },
  {
   "cell_type": "markdown",
   "id": "354fb0e8-13a0-4fbb-9810-7d1ea9e02ec2",
   "metadata": {
    "tags": []
   },
   "source": [
    "<img src=\"https://cf-courses-data.s3.us.cloud-object-storage.appdomain.cloud/IBMDeveloperSkillsNetwork-PY0101EN-SkillsNetwork/labs/Module%202/images/ListsIndex.png\" width=\"1000\">\n"
   ]
  },
  {
   "cell_type": "markdown",
   "id": "259e7e5a-c2dd-4e25-b677-fd745256daa7",
   "metadata": {},
   "source": [
    "### To create a list, type the list within square brackets [], with your content inside the parenthesis and separated by commas."
   ]
  },
  {
   "cell_type": "code",
   "execution_count": 86,
   "id": "4470ef91-c0e0-4a67-9632-02956b155b57",
   "metadata": {
    "tags": []
   },
   "outputs": [
    {
     "data": {
      "text/plain": [
       "['Michael Jackson', 10.1, 1982]"
      ]
     },
     "execution_count": 86,
     "metadata": {},
     "output_type": "execute_result"
    }
   ],
   "source": [
    "# Create a list\n",
    "\n",
    "L= [ \"Michael Jackson\", 10.1, 1982 ]\n",
    "L"
   ]
  },
  {
   "cell_type": "markdown",
   "id": "484899ef-1b28-405e-a939-ce9048fafd80",
   "metadata": {},
   "source": [
    "### Negative and regular indexing can be used with lists:"
   ]
  },
  {
   "cell_type": "markdown",
   "id": "b13b561d-166d-4709-8867-ae5321e72e55",
   "metadata": {
    "tags": []
   },
   "source": [
    "<img src=\"https://cf-courses-data.s3.us.cloud-object-storage.appdomain.cloud/IBMDeveloperSkillsNetwork-PY0101EN-SkillsNetwork/labs/Module%202/images/ListsNeg.png\" width=\"1000\">"
   ]
  },
  {
   "cell_type": "code",
   "execution_count": 87,
   "id": "102f797f-4ef0-4fff-9257-eac3db970726",
   "metadata": {
    "tags": []
   },
   "outputs": [
    {
     "name": "stdout",
     "output_type": "stream",
     "text": [
      "the same element using negative and positive indexing: \n",
      " Postive: Michael Jackson \n",
      " Negative: Michael Jackson\n",
      "the same element using negative and positive indexing: \n",
      " Postive:  10.1 \n",
      " Negative: 10.1\n",
      "the same element using positive and negative indexing: \n",
      " Negative: 1982 \n",
      " Positive: 1982\n"
     ]
    }
   ],
   "source": [
    "# Print the elements on each index\n",
    "\n",
    "print ('the same element using negative and positive indexing: \\n Postive:', L[0],'\\n Negative:', L[-3] )\n",
    "print ('the same element using negative and positive indexing: \\n Postive: ', L[1], '\\n Negative:', L[-2])\n",
    "print ('the same element using positive and negative indexing: \\n Negative:', L[-1], '\\n Positive:', L[2])"
   ]
  },
  {
   "cell_type": "code",
   "execution_count": 89,
   "id": "0c935ed7-90a1-4013-8835-e315e54204e2",
   "metadata": {
    "tags": []
   },
   "outputs": [
    {
     "data": {
      "text/plain": [
       "['Michael Jackson', 10.1, 1982]"
      ]
     },
     "execution_count": 89,
     "metadata": {},
     "output_type": "execute_result"
    }
   ],
   "source": [
    "L"
   ]
  },
  {
   "cell_type": "code",
   "execution_count": 94,
   "id": "60cccb87-07ae-4c44-9c8c-908c6de1bd70",
   "metadata": {
    "tags": []
   },
   "outputs": [
    {
     "data": {
      "text/plain": [
       "[10.1, 1982]"
      ]
     },
     "execution_count": 94,
     "metadata": {},
     "output_type": "execute_result"
    }
   ],
   "source": [
    "## List Slicing\n",
    "\n",
    "L[1:5]  # The output will start at index 1 or 10.1"
   ]
  },
  {
   "cell_type": "code",
   "execution_count": 95,
   "id": "6ebbd7f7-9fda-4516-8e5a-f041bb103446",
   "metadata": {
    "tags": []
   },
   "outputs": [
    {
     "data": {
      "text/plain": [
       "['Michael Jackson', 10.1, 1982, 'pop', 10]"
      ]
     },
     "execution_count": 95,
     "metadata": {},
     "output_type": "execute_result"
    }
   ],
   "source": [
    "# Use Extend to add new elments to a list\n",
    "\n",
    "L.extend (['pop', 10])\n",
    "L"
   ]
  },
  {
   "cell_type": "code",
   "execution_count": 96,
   "id": "7257be3b-ffea-454d-850c-8f5bab7f9cb5",
   "metadata": {
    "tags": []
   },
   "outputs": [
    {
     "data": {
      "text/plain": [
       "['Michael Jackson', 10.2, ['pop', 10]]"
      ]
     },
     "execution_count": 96,
     "metadata": {},
     "output_type": "execute_result"
    }
   ],
   "source": [
    "# Append adds one element to the list.\n",
    "\n",
    "L=['Michael Jackson', 10.2]\n",
    "L.append(['pop', 10])\n",
    "L"
   ]
  },
  {
   "cell_type": "code",
   "execution_count": 97,
   "id": "0c894bfc-31c7-413d-88fd-ac5f6a65e357",
   "metadata": {
    "tags": []
   },
   "outputs": [
    {
     "data": {
      "text/plain": [
       "['Michael Jackson', 10.2, ['pop', 10], ['a', 'b']]"
      ]
     },
     "execution_count": 97,
     "metadata": {},
     "output_type": "execute_result"
    }
   ],
   "source": [
    "# Use append to add elements to list\n",
    "\n",
    "L.append (['a','b'])\n",
    "L\n"
   ]
  },
  {
   "cell_type": "markdown",
   "id": "9af76c2b-7d3a-4782-9154-beceebc399aa",
   "metadata": {},
   "source": [
    "## Lists are ***MUTABLE*** so they can be changed"
   ]
  },
  {
   "cell_type": "code",
   "execution_count": 63,
   "id": "9890e4d5-6572-4628-8320-1cf6f90e644c",
   "metadata": {
    "tags": []
   },
   "outputs": [
    {
     "name": "stdout",
     "output_type": "stream",
     "text": [
      "Before change: ['disco', 10, 1.2]\n",
      "After change: ['hard rock', 10, 1.2]\n"
     ]
    }
   ],
   "source": [
    "# Change the element based on the index\n",
    "\n",
    "A= ['disco', 10, 1.2]\n",
    "print ('Before change:',A)\n",
    "A[0] ='hard rock'\n",
    "print ('After change:', A)"
   ]
  },
  {
   "cell_type": "markdown",
   "id": "65822d67-31ef-4638-8ed0-f85364805bbe",
   "metadata": {},
   "source": [
    "## Changes in list can be made with DELETE command (DEL)"
   ]
  },
  {
   "cell_type": "code",
   "execution_count": 64,
   "id": "5bc5b5f7-5231-4253-b912-302f018383f2",
   "metadata": {
    "tags": []
   },
   "outputs": [
    {
     "name": "stdout",
     "output_type": "stream",
     "text": [
      "Before change: ['hard rock', 10, 1.2]\n",
      "After change: [10, 1.2]\n"
     ]
    }
   ],
   "source": [
    "# Delete the element based on the index\n",
    "\n",
    "print('Before change:', A)\n",
    "del(A[0])\n",
    "print('After change:', A)"
   ]
  },
  {
   "cell_type": "markdown",
   "id": "93dbbf4f-b725-4d45-b854-31caa0512b45",
   "metadata": {},
   "source": [
    "##  Can convert a string using ***split***. The method translates every group of characters separated by a space into an element in a list:"
   ]
  },
  {
   "cell_type": "code",
   "execution_count": 66,
   "id": "e3beee28-459a-453f-b475-f5aef037834e",
   "metadata": {
    "tags": []
   },
   "outputs": [
    {
     "data": {
      "text/plain": [
       "['hard', 'rock']"
      ]
     },
     "execution_count": 66,
     "metadata": {},
     "output_type": "execute_result"
    }
   ],
   "source": [
    "# Split the string, default is by space\n",
    "\n",
    "'hard rock'. split()"
   ]
  },
  {
   "cell_type": "code",
   "execution_count": 67,
   "id": "ffc17053-9d7f-48e6-8ae6-b9b2ba89dcbf",
   "metadata": {
    "tags": []
   },
   "outputs": [
    {
     "data": {
      "text/plain": [
       "['milk', 'and', 'cookies']"
      ]
     },
     "execution_count": 67,
     "metadata": {},
     "output_type": "execute_result"
    }
   ],
   "source": [
    "# this is practice spliting\n",
    "\n",
    "'milk and cookies'.split()"
   ]
  },
  {
   "cell_type": "code",
   "execution_count": 65,
   "id": "2dda0072-a2c4-47dd-b977-6c0511eb49b8",
   "metadata": {
    "tags": []
   },
   "outputs": [
    {
     "data": {
      "text/plain": [
       "['Taco Bell', \"McDonald's\", 'BurgerKing', 'Paiks', 'Subway']"
      ]
     },
     "execution_count": 65,
     "metadata": {},
     "output_type": "execute_result"
    }
   ],
   "source": [
    "food_list = [\"Taco Bell\", \"McDonald's\", \"BurgerKing\", \"Paiks\", \"Subway\"]\n",
    "food_list"
   ]
  },
  {
   "cell_type": "markdown",
   "id": "5f6c852a-e10b-48b3-a370-f94eca854818",
   "metadata": {},
   "source": [
    "## Delimiter. This is used to separate strings on a specific character below using ',' as the delimiter."
   ]
  },
  {
   "cell_type": "code",
   "execution_count": 66,
   "id": "10e576d6-961c-4536-a611-eee9b2d75633",
   "metadata": {
    "tags": []
   },
   "outputs": [
    {
     "data": {
      "text/plain": [
       "('Taco Bell', \"McDonald's\", 'BurgerKing', 'Paiks', ['Subway'])"
      ]
     },
     "execution_count": 66,
     "metadata": {},
     "output_type": "execute_result"
    }
   ],
   "source": [
    "\"Taco Bell\", \"McDonald's\", \"BurgerKing\", \"Paiks\", \"Subway\".split(',')"
   ]
  },
  {
   "cell_type": "code",
   "execution_count": 67,
   "id": "bd56cb6d-4141-44a5-863e-3591920a6a29",
   "metadata": {
    "tags": []
   },
   "outputs": [
    {
     "data": {
      "text/plain": [
       "['Taco Bell', \"McDonald's\", 'BurgerKing', 'Paiks', 'Subway', 'In-N-Out']"
      ]
     },
     "execution_count": 67,
     "metadata": {},
     "output_type": "execute_result"
    }
   ],
   "source": [
    "food_list.append (\"In-N-Out\")\n",
    "food_list"
   ]
  },
  {
   "cell_type": "markdown",
   "id": "84df038b-2704-4f3e-9ec3-cc59a0b48e01",
   "metadata": {},
   "source": [
    "## Copy and Clone List"
   ]
  },
  {
   "cell_type": "code",
   "execution_count": 68,
   "id": "53f2eb7b-0f81-4d04-82ba-4d055cf20e92",
   "metadata": {
    "tags": []
   },
   "outputs": [
    {
     "name": "stdout",
     "output_type": "stream",
     "text": [
      "['Taco Bell', \"McDonald's\", 'BurgerKing', 'Paiks', 'Subway', 'In-N-Out']\n",
      "['Taco Bell', \"McDonald's\", 'BurgerKing', 'Paiks', 'Subway', 'In-N-Out']\n"
     ]
    }
   ],
   "source": [
    "food_list\n",
    "takeout= food_list\n",
    "print(food_list)\n",
    "print(takeout)"
   ]
  },
  {
   "cell_type": "markdown",
   "id": "72e03030-ae52-4da7-8be6-76945afd0bd6",
   "metadata": {},
   "source": [
    "When we set one variable B equal to A, both A and B are referencing the same list in memory:"
   ]
  },
  {
   "cell_type": "code",
   "execution_count": 69,
   "id": "f4baddf9-f146-4fa0-9999-f2ebb95c940d",
   "metadata": {
    "tags": []
   },
   "outputs": [
    {
     "name": "stdout",
     "output_type": "stream",
     "text": [
      "A: ['hard rock', 10, 1.2]\n",
      "B: ['hard rock', 10, 1.2]\n"
     ]
    }
   ],
   "source": [
    "# Copy (copy by reference) the list A\n",
    "\n",
    "A= ['hard rock', 10, 1.2]\n",
    "B= A\n",
    "print ('A:',A)\n",
    "print ('B:', B)"
   ]
  },
  {
   "cell_type": "markdown",
   "id": "81634ea7-8911-4d99-9633-b5826c00145f",
   "metadata": {
    "tags": []
   },
   "source": [
    "<img src=\"https://cf-courses-data.s3.us.cloud-object-storage.appdomain.cloud/IBMDeveloperSkillsNetwork-PY0101EN-SkillsNetwork/labs/Module%202/images/ListsRef.png\" width=\"1000\" align=\"center\">\n"
   ]
  },
  {
   "cell_type": "markdown",
   "id": "541c0d95-a671-4be6-86d6-87d3e852ec13",
   "metadata": {},
   "source": [
    "## If List A is changed to Banana from hard rock, then list B will also change to Banana."
   ]
  },
  {
   "cell_type": "code",
   "execution_count": 70,
   "id": "9c98b00b-729e-47cb-a20f-d7aa3d3a75b8",
   "metadata": {
    "tags": []
   },
   "outputs": [
    {
     "name": "stdout",
     "output_type": "stream",
     "text": [
      "B[0]: hard rock\n",
      "B[0]: banana\n"
     ]
    }
   ],
   "source": [
    "# Examine the copy by reference\n",
    "\n",
    "print('B[0]:', B[0])\n",
    "A[0] = 'banana'\n",
    "print('B[0]:', B[0])"
   ]
  },
  {
   "cell_type": "markdown",
   "id": "8fead4da-8fd6-4abb-9d71-2150eb433fba",
   "metadata": {},
   "source": [
    "<img src=\"https://cf-courses-data.s3.us.cloud-object-storage.appdomain.cloud/IBMDeveloperSkillsNetwork-PY0101EN-SkillsNetwork/labs/Module%202/images/ListsRefGif.gif\" width=\"1000\">\n"
   ]
  },
  {
   "cell_type": "code",
   "execution_count": 71,
   "id": "6b311447-b149-4cdf-b57c-709b1cf0b735",
   "metadata": {
    "tags": []
   },
   "outputs": [
    {
     "data": {
      "text/plain": [
       "['banana', 10, 1.2]"
      ]
     },
     "execution_count": 71,
     "metadata": {},
     "output_type": "execute_result"
    }
   ],
   "source": [
    "# You can clone list A by using the following syntax:\n",
    "\n",
    "B=A[:]\n",
    "B"
   ]
  },
  {
   "cell_type": "code",
   "execution_count": 72,
   "id": "873d5f8f-cd64-4b73-835e-3c04a2d84585",
   "metadata": {
    "tags": []
   },
   "outputs": [
    {
     "data": {
      "text/plain": [
       "['Taco Bell', \"McDonald's\", 'BurgerKing', 'Paiks', 'Subway', 'In-N-Out']"
      ]
     },
     "execution_count": 72,
     "metadata": {},
     "output_type": "execute_result"
    }
   ],
   "source": [
    "takeout=food_list[:]\n",
    "takeout"
   ]
  },
  {
   "cell_type": "code",
   "execution_count": 73,
   "id": "a31161a0-3873-4488-ae6b-8fecf91dd633",
   "metadata": {
    "tags": []
   },
   "outputs": [
    {
     "name": "stdout",
     "output_type": "stream",
     "text": [
      "[\"McDonald's\", 'BurgerKing', 'Paiks', 'Subway', 'In-N-Out']\n",
      "['Taco Bell', \"McDonald's\", 'BurgerKing', 'Paiks', 'Subway', 'In-N-Out']\n"
     ]
    }
   ],
   "source": [
    "del(food_list[0])\n",
    "print(food_list)\n",
    "print(takeout)"
   ]
  },
  {
   "cell_type": "markdown",
   "id": "849cf331-16a6-4a39-8bc1-3ad2eff4eaac",
   "metadata": {},
   "source": [
    "Variable **B** references a new copy or clone of the original list. This is demonstrated in the following figure:\n"
   ]
  },
  {
   "cell_type": "markdown",
   "id": "5c7e94be-eff6-42cd-9f82-7e4cfb32c7ce",
   "metadata": {},
   "source": [
    "<img src=\"https://cf-courses-data.s3.us.cloud-object-storage.appdomain.cloud/IBMDeveloperSkillsNetwork-PY0101EN-SkillsNetwork/labs/Module%202/images/ListsVal.gif\" width=\"1000\">\n"
   ]
  },
  {
   "cell_type": "markdown",
   "id": "4b340db9-2acb-48b6-8f21-1012f492e544",
   "metadata": {},
   "source": [
    "## Now if you change A. B will not change:"
   ]
  },
  {
   "cell_type": "code",
   "execution_count": 75,
   "id": "dbbd23d3-8af1-42ad-9aa6-bd47c63faccc",
   "metadata": {
    "tags": []
   },
   "outputs": [
    {
     "name": "stdout",
     "output_type": "stream",
     "text": [
      "B[0]: banana\n",
      "B[0]: banana\n"
     ]
    }
   ],
   "source": [
    "print ('B[0]:' , B[0])\n",
    "A[0] = 'hard rock'\n",
    "print ('B[0]:', B[0])"
   ]
  },
  {
   "cell_type": "markdown",
   "id": "d0568039-5211-4c75-ae36-d37a22f8abcc",
   "metadata": {},
   "source": [
    "# Task: Create an empty list"
   ]
  },
  {
   "cell_type": "code",
   "execution_count": 84,
   "id": "06ce2ca8-789b-414e-b2a2-2f405091d9b5",
   "metadata": {
    "tags": []
   },
   "outputs": [],
   "source": [
    "Shopping_list=[]"
   ]
  },
  {
   "cell_type": "markdown",
   "id": "4b5ad5ec-af1d-4da0-bdfa-eb2f655da5bf",
   "metadata": {},
   "source": [
    "# Store a number of items in the list."
   ]
  },
  {
   "cell_type": "code",
   "execution_count": 93,
   "id": "db86d8ed-e230-4095-b888-13ab4988d8ba",
   "metadata": {
    "tags": []
   },
   "outputs": [
    {
     "data": {
      "text/plain": [
       "['Watch', 'Laptop', 'Shoes', 'Pen', 'Clothes']"
      ]
     },
     "execution_count": 93,
     "metadata": {},
     "output_type": "execute_result"
    }
   ],
   "source": [
    "Shopping_list=['Watch', 'Laptop', 'Shoes', 'Pen', 'Clothes']\n",
    "Shopping_list"
   ]
  },
  {
   "cell_type": "markdown",
   "id": "9ef3a4d1-ef67-4c07-aba0-b7a053ad0f6b",
   "metadata": {},
   "source": [
    "# Add new item to the Shopping_list"
   ]
  },
  {
   "cell_type": "code",
   "execution_count": 94,
   "id": "ee26ee24-be8a-4411-afc2-13f5e257c8c5",
   "metadata": {
    "tags": []
   },
   "outputs": [
    {
     "data": {
      "text/plain": [
       "['Watch', 'Laptop', 'Shoes', 'Pen', 'Clothes', 'Football']"
      ]
     },
     "execution_count": 94,
     "metadata": {},
     "output_type": "execute_result"
    }
   ],
   "source": [
    "Shopping_list.append('Football')\n",
    "Shopping_list"
   ]
  },
  {
   "cell_type": "markdown",
   "id": "decd2dc5-9b92-4dc9-82f7-334971c3f651",
   "metadata": {},
   "source": [
    "# Print first item on the shopping_list"
   ]
  },
  {
   "cell_type": "code",
   "execution_count": 95,
   "id": "6fe9a6c8-7b8e-4132-be43-63cbbd120562",
   "metadata": {
    "tags": []
   },
   "outputs": [
    {
     "name": "stdout",
     "output_type": "stream",
     "text": [
      "Watch\n"
     ]
    }
   ],
   "source": [
    "print(Shopping_list[0])"
   ]
  },
  {
   "cell_type": "markdown",
   "id": "b60e95d6-fde7-41bc-9c61-7a954b046a7a",
   "metadata": {},
   "source": [
    "# Print last item on the shopping_list"
   ]
  },
  {
   "cell_type": "code",
   "execution_count": 96,
   "id": "e7b24054-d472-4f88-bf79-fcefb6290ad1",
   "metadata": {
    "tags": []
   },
   "outputs": [
    {
     "name": "stdout",
     "output_type": "stream",
     "text": [
      "Football\n"
     ]
    }
   ],
   "source": [
    "print(Shopping_list[-1])"
   ]
  },
  {
   "cell_type": "markdown",
   "id": "4b85510b-fb91-448e-8523-e05d18bc8179",
   "metadata": {},
   "source": [
    "# Print the entire Shopping List"
   ]
  },
  {
   "cell_type": "code",
   "execution_count": 97,
   "id": "5ed85fa0-f552-46ef-8e07-f735cb8bc916",
   "metadata": {
    "tags": []
   },
   "outputs": [
    {
     "name": "stdout",
     "output_type": "stream",
     "text": [
      "['Watch', 'Laptop', 'Shoes', 'Pen', 'Clothes', 'Football']\n"
     ]
    }
   ],
   "source": [
    "print(Shopping_list)"
   ]
  },
  {
   "cell_type": "markdown",
   "id": "0cf27783-1a90-4cc1-8141-1f341bea51c1",
   "metadata": {},
   "source": [
    "# Print the items that are important to buy from the Shopping list Laptop and Shoes"
   ]
  },
  {
   "cell_type": "code",
   "execution_count": 98,
   "id": "52f922a4-f499-4f8a-b563-8b2be58c5252",
   "metadata": {
    "tags": []
   },
   "outputs": [
    {
     "name": "stdout",
     "output_type": "stream",
     "text": [
      "['Laptop', 'Shoes']\n"
     ]
    }
   ],
   "source": [
    "print(Shopping_list[1:3])"
   ]
  },
  {
   "cell_type": "markdown",
   "id": "dd865411-866e-4424-9ade-7258c2cc724a",
   "metadata": {},
   "source": [
    "# Change the item from the shopping list Pen to Notebook"
   ]
  },
  {
   "cell_type": "code",
   "execution_count": 99,
   "id": "53f24112-02b2-4b27-8503-123fc2205e1a",
   "metadata": {
    "tags": []
   },
   "outputs": [
    {
     "data": {
      "text/plain": [
       "['Watch', 'Laptop', 'Shoes', 'Notebook', 'Clothes', 'Football']"
      ]
     },
     "execution_count": 99,
     "metadata": {},
     "output_type": "execute_result"
    }
   ],
   "source": [
    "Shopping_list[3]='Notebook'  #The 3 is the index of pen.\n",
    "Shopping_list"
   ]
  },
  {
   "cell_type": "markdown",
   "id": "df0db070-ca5f-485d-985f-174bcb5767a0",
   "metadata": {},
   "source": [
    "# Delete the Clothes from the shopping list"
   ]
  },
  {
   "cell_type": "code",
   "execution_count": 100,
   "id": "925d9300-2d5b-42fd-9eb4-59ef2d2e95ee",
   "metadata": {
    "tags": []
   },
   "outputs": [
    {
     "data": {
      "text/plain": [
       "['Watch', 'Laptop', 'Shoes', 'Notebook', 'Football']"
      ]
     },
     "execution_count": 100,
     "metadata": {},
     "output_type": "execute_result"
    }
   ],
   "source": [
    "del(Shopping_list[4]) # The 4 is the index of Clothes\n",
    "Shopping_list"
   ]
  },
  {
   "cell_type": "markdown",
   "id": "57713228-092f-404e-b1e8-b58c5057bede",
   "metadata": {},
   "source": [
    "# Print the shopping list"
   ]
  },
  {
   "cell_type": "code",
   "execution_count": 101,
   "id": "1cab0e4f-068e-4fe4-940d-b50bf2c0beda",
   "metadata": {
    "tags": []
   },
   "outputs": [
    {
     "name": "stdout",
     "output_type": "stream",
     "text": [
      "['Watch', 'Laptop', 'Shoes', 'Notebook', 'Football']\n"
     ]
    }
   ],
   "source": [
    "print(Shopping_list)"
   ]
  },
  {
   "cell_type": "markdown",
   "id": "9799b84b-0f1e-4723-bc1d-0e748b359ab3",
   "metadata": {},
   "source": [
    "# Dictionaries"
   ]
  },
  {
   "cell_type": "markdown",
   "id": "fe29fb54-c025-4fba-bcb8-5b38f5699d27",
   "metadata": {},
   "source": [
    "## What are Dictionaries?"
   ]
  },
  {
   "cell_type": "markdown",
   "id": "3cfdf51a-6016-439f-9c64-4af4af0e68ff",
   "metadata": {},
   "source": [
    "A dictionary consists of keys and values. It is helpful to compare a dictionary to a list. Instead of being indexed numerically like a list, dictionaries have keys. These keys are the keys that are used to access values within a dictionary.   \n",
    "\n",
    "\n",
    "The best example of a dictionary can be accessing person's detais using the **social security number**.   \n",
    "Here the social security number which is a unique number will be the **key** and the details of the people will be the **values** associated with it.\n"
   ]
  },
  {
   "cell_type": "markdown",
   "id": "e87e5743-dfe7-428d-beb2-762bbea1f205",
   "metadata": {},
   "source": [
    "<img src=\"https://cf-courses-data.s3.us.cloud-object-storage.appdomain.cloud/IBMDeveloperSkillsNetwork-PY0101EN-SkillsNetwork/labs/Module%202/images/DictsList.png\" width=\"650\">\n"
   ]
  },
  {
   "cell_type": "markdown",
   "id": "b623dc06-abd0-4690-b25c-5fd30d1ea971",
   "metadata": {},
   "source": [
    "## Create a Dictionary and access the elements"
   ]
  },
  {
   "cell_type": "markdown",
   "id": "8ac2a62c-18bf-40fe-bb44-bb6f1b4992fc",
   "metadata": {},
   "source": [
    "An example of a Dictionary <code>Dict</code>:\n",
    "Here we are creating a dictionary named **Dict** with he following details\n",
    "\n",
    "* Keys are **key1, key2, key3, key4, key5**.\n",
    "* Values are {1,2,[3,3,3],(4,4,4),5,(0,1):6} corresponding to the keys\n"
   ]
  },
  {
   "cell_type": "code",
   "execution_count": 4,
   "id": "817554c5-7d75-4c66-ad01-c60244af7f2d",
   "metadata": {
    "tags": []
   },
   "outputs": [
    {
     "data": {
      "text/plain": [
       "{'key1': 1,\n",
       " 'key2': '2',\n",
       " 'key3': [3, 3, 3],\n",
       " 'key4': (4, 4, 4),\n",
       " 'key5': 5,\n",
       " (0, 1): 6}"
      ]
     },
     "execution_count": 4,
     "metadata": {},
     "output_type": "execute_result"
    }
   ],
   "source": [
    "# Create the dictionary\n",
    "\n",
    "Dict = {'key1': 1, 'key2': '2', 'key3': [3,3,3], 'key4': (4,4,4), ('key5'): 5, (0, 1): 6}\n",
    "Dict"
   ]
  },
  {
   "cell_type": "markdown",
   "id": "4d224b1b-c4d5-4d68-9b4b-3e465c12c82f",
   "metadata": {},
   "source": [
    "### The keys can be strings:"
   ]
  },
  {
   "cell_type": "code",
   "execution_count": 5,
   "id": "4d67bdf6-cef2-4872-bafd-1effb08f34d0",
   "metadata": {
    "tags": []
   },
   "outputs": [
    {
     "data": {
      "text/plain": [
       "1"
      ]
     },
     "execution_count": 5,
     "metadata": {},
     "output_type": "execute_result"
    }
   ],
   "source": [
    "# Access to the value by the key\n",
    "\n",
    "Dict['key1']"
   ]
  },
  {
   "cell_type": "markdown",
   "id": "c43d9cfe-d197-4f21-bf78-11c808259c10",
   "metadata": {},
   "source": [
    "### Keys can also be any immutable object such as a tuple:"
   ]
  },
  {
   "cell_type": "code",
   "execution_count": 7,
   "id": "a7c0911d-2d24-46da-aff9-9831121bd359",
   "metadata": {
    "tags": []
   },
   "outputs": [
    {
     "data": {
      "text/plain": [
       "6"
      ]
     },
     "execution_count": 7,
     "metadata": {},
     "output_type": "execute_result"
    }
   ],
   "source": [
    "# Access to the value by the key a (tuple) in this case:\n",
    "\n",
    "Dict[(0, 1)]"
   ]
  },
  {
   "cell_type": "markdown",
   "id": "068eb0d9-ede5-497c-8d77-ffac30a3ecd3",
   "metadata": {},
   "source": [
    "Each key is separated from its value by a colon \"<code>:</code>\".  Commas separate the items, and the whole dictionary is enclosed in curly braces. An empty dictionary without any items is written with just two curly braces, like this  \"<code>{}</code>\"."
   ]
  },
  {
   "cell_type": "code",
   "execution_count": 11,
   "id": "4798d7de-fade-4ede-b4b2-b2494deb0e91",
   "metadata": {
    "tags": []
   },
   "outputs": [
    {
     "data": {
      "text/plain": [
       "{'key1': 'mc', 'key2': 'mic'}"
      ]
     },
     "execution_count": 11,
     "metadata": {},
     "output_type": "execute_result"
    }
   ],
   "source": [
    "Curly_Braces={'key1': ('mc'), 'key2': 'mic'} # My Curly_Braces Dictionary\n",
    "\n",
    "Curly_Braces"
   ]
  },
  {
   "cell_type": "code",
   "execution_count": 13,
   "id": "a5c08b12-1ae5-464c-804a-d843f157678d",
   "metadata": {
    "tags": []
   },
   "outputs": [
    {
     "data": {
      "text/plain": [
       "{'Thriller': '1982',\n",
       " 'Back in Black': '1980',\n",
       " 'The Dark Side of the Moon': '1973',\n",
       " 'The Bodyguard': '1992',\n",
       " 'Bat Out of Hell': '1977',\n",
       " 'Their Greatest Hits (1971-1975)': '1976',\n",
       " 'Saturday Night Fever': '1977',\n",
       " 'Rumours': '1977'}"
      ]
     },
     "execution_count": 13,
     "metadata": {},
     "output_type": "execute_result"
    }
   ],
   "source": [
    "# Create a sample dictionary\n",
    "\n",
    "release_year_dict = {\"Thriller\": \"1982\", \"Back in Black\": \"1980\", \\\n",
    "                    \"The Dark Side of the Moon\": \"1973\", \"The Bodyguard\": \"1992\", \\\n",
    "                    \"Bat Out of Hell\": \"1977\", \"Their Greatest Hits (1971-1975)\": \"1976\", \\\n",
    "                    \"Saturday Night Fever\": \"1977\", \"Rumours\": \"1977\"}\n",
    "release_year_dict"
   ]
  },
  {
   "cell_type": "markdown",
   "id": "32b18dd5-a7c4-4400-857b-0fb5e7bd2a72",
   "metadata": {},
   "source": [
    "### The above dictionary the keys are the title of the music and the year is the value it accesses."
   ]
  },
  {
   "cell_type": "markdown",
   "id": "69ff7d98-b9fa-439e-bcf5-71686d808f9e",
   "metadata": {},
   "source": [
    "### It is helpful to visuallie the dictionary as a table, as the following image. The first column represents the keys, the second column represents the values"
   ]
  },
  {
   "cell_type": "markdown",
   "id": "14cb952e-bd7f-4b33-a6c2-759cd69eded6",
   "metadata": {},
   "source": [
    "<img src=\"https://cf-courses-data.s3.us.cloud-object-storage.appdomain.cloud/IBMDeveloperSkillsNetwork-PY0101EN-SkillsNetwork/labs/Module%202/images/DictsStructure.png\" width=\"650\">\n"
   ]
  },
  {
   "cell_type": "markdown",
   "id": "c593eae5-3210-4d60-a58e-d631469ad4b0",
   "metadata": {},
   "source": [
    "## Keys will get you the values, but you can get keys based on their values:"
   ]
  },
  {
   "cell_type": "code",
   "execution_count": 15,
   "id": "da49c342-a5b0-4739-aaca-7e5af01e4a4b",
   "metadata": {
    "tags": []
   },
   "outputs": [
    {
     "data": {
      "text/plain": [
       "'1982'"
      ]
     },
     "execution_count": 15,
     "metadata": {},
     "output_type": "execute_result"
    }
   ],
   "source": [
    "# Get value by keys\n",
    "\n",
    "release_year_dict['Thriller']"
   ]
  },
  {
   "cell_type": "markdown",
   "id": "bc3dda0d-4d5f-446d-b920-96537db779bd",
   "metadata": {},
   "source": [
    "<img src=\"https://cf-courses-data.s3.us.cloud-object-storage.appdomain.cloud/IBMDeveloperSkillsNetwork-PY0101EN-SkillsNetwork/labs/Module%202/images/DictsKeyOne.png\" width=\"500\">\n"
   ]
  },
  {
   "cell_type": "markdown",
   "id": "5a1948e0-ab00-406d-8a4a-7318bbdb4ada",
   "metadata": {},
   "source": [
    "### Similarly for **The Bodyguard**"
   ]
  },
  {
   "cell_type": "code",
   "execution_count": 16,
   "id": "9c22066e-3e8f-4117-9d07-c9bda8c54ca1",
   "metadata": {
    "tags": []
   },
   "outputs": [
    {
     "data": {
      "text/plain": [
       "'1992'"
      ]
     },
     "execution_count": 16,
     "metadata": {},
     "output_type": "execute_result"
    }
   ],
   "source": [
    "# Get value by the key\n",
    "\n",
    "release_year_dict['The Bodyguard']"
   ]
  },
  {
   "cell_type": "markdown",
   "id": "44fdedfa-a116-4cf8-8fb2-1689e038644c",
   "metadata": {},
   "source": [
    "<img src=\"https://cf-courses-data.s3.us.cloud-object-storage.appdomain.cloud/IBMDeveloperSkillsNetwork-PY0101EN-SkillsNetwork/labs/Module%202/images/DictsKeyTwo.png\" width=\"500\">\n"
   ]
  },
  {
   "cell_type": "markdown",
   "id": "dfaaf5a7-206d-433d-b022-66902955ae74",
   "metadata": {},
   "source": [
    "### Now let us retrieve the keys of the dictionary using the method ***dictionary.keys()***"
   ]
  },
  {
   "cell_type": "code",
   "execution_count": 17,
   "id": "a10e386b-dc29-4ff9-8188-e04b20251bd2",
   "metadata": {
    "tags": []
   },
   "outputs": [
    {
     "data": {
      "text/plain": [
       "dict_keys(['Thriller', 'Back in Black', 'The Dark Side of the Moon', 'The Bodyguard', 'Bat Out of Hell', 'Their Greatest Hits (1971-1975)', 'Saturday Night Fever', 'Rumours'])"
      ]
     },
     "execution_count": 17,
     "metadata": {},
     "output_type": "execute_result"
    }
   ],
   "source": [
    "# Get all the keys in the dictionary\n",
    "\n",
    "release_year_dict.keys()"
   ]
  },
  {
   "cell_type": "markdown",
   "id": "93ee9d86-c555-4f91-a7de-2516f61cca8f",
   "metadata": {},
   "source": [
    "### You can retrieve the values using the method ***dictionary.values()***"
   ]
  },
  {
   "cell_type": "code",
   "execution_count": 18,
   "id": "a4403e18-0e47-4ab6-93b0-c4113b718a19",
   "metadata": {
    "tags": []
   },
   "outputs": [
    {
     "data": {
      "text/plain": [
       "dict_values(['1982', '1980', '1973', '1992', '1977', '1976', '1977', '1977'])"
      ]
     },
     "execution_count": 18,
     "metadata": {},
     "output_type": "execute_result"
    }
   ],
   "source": [
    "# Get all the values in the dictionary\n",
    "\n",
    "release_year_dict.values()"
   ]
  },
  {
   "cell_type": "markdown",
   "id": "e127fe4a-d2a0-48a1-864f-33f01f1177fc",
   "metadata": {},
   "source": [
    "### We can ***add*** and entry in this form: ***Dictionary ['key']= 'value'***"
   ]
  },
  {
   "cell_type": "code",
   "execution_count": 20,
   "id": "a33e37b9-d07a-4756-b94e-3e2cd6f76baf",
   "metadata": {
    "tags": []
   },
   "outputs": [
    {
     "data": {
      "text/plain": [
       "{'Thriller': '1982',\n",
       " 'Back in Black': '1980',\n",
       " 'The Dark Side of the Moon': '1973',\n",
       " 'The Bodyguard': '1992',\n",
       " 'Bat Out of Hell': '1977',\n",
       " 'Their Greatest Hits (1971-1975)': '1976',\n",
       " 'Saturday Night Fever': '1977',\n",
       " 'Rumours': '1977',\n",
       " 'Graduation': '2007'}"
      ]
     },
     "execution_count": 20,
     "metadata": {},
     "output_type": "execute_result"
    }
   ],
   "source": [
    "# Append value with key into dictionary\n",
    "\n",
    "release_year_dict['Graduation']= '2007'\n",
    "release_year_dict"
   ]
  },
  {
   "cell_type": "markdown",
   "id": "501e4a08-df49-460f-b0ef-79f3f4698dbd",
   "metadata": {},
   "source": [
    "### We can ***Delete*** and entry: del from the dictionary using key:  ***del(dictionary)['key'])***"
   ]
  },
  {
   "cell_type": "code",
   "execution_count": 21,
   "id": "c9a8e187-0f94-4faf-9fc2-4520757c5b83",
   "metadata": {
    "tags": []
   },
   "outputs": [
    {
     "data": {
      "text/plain": [
       "{'Back in Black': '1980',\n",
       " 'The Dark Side of the Moon': '1973',\n",
       " 'The Bodyguard': '1992',\n",
       " 'Bat Out of Hell': '1977',\n",
       " 'Their Greatest Hits (1971-1975)': '1976',\n",
       " 'Saturday Night Fever': '1977',\n",
       " 'Rumours': '1977'}"
      ]
     },
     "execution_count": 21,
     "metadata": {},
     "output_type": "execute_result"
    }
   ],
   "source": [
    "# Delete entries by key\n",
    "\n",
    "del(release_year_dict['Thriller'])\n",
    "del(release_year_dict['Graduation'])\n",
    "release_year_dict"
   ]
  },
  {
   "cell_type": "markdown",
   "id": "acf6e1d5-f7df-42f8-a23b-ee54f8f50db0",
   "metadata": {},
   "source": [
    "### We can verfiy if an element is ***IN*** the dictionary using this form:  ***'key' in dictionary***"
   ]
  },
  {
   "cell_type": "code",
   "execution_count": 22,
   "id": "929d1cc7-5182-492f-81bb-0ac368975990",
   "metadata": {
    "tags": []
   },
   "outputs": [
    {
     "data": {
      "text/plain": [
       "True"
      ]
     },
     "execution_count": 22,
     "metadata": {},
     "output_type": "execute_result"
    }
   ],
   "source": [
    "# Verify the key is IN the dictionary\n",
    "\n",
    "'The Bodyguard' in release_year_dict"
   ]
  },
  {
   "cell_type": "markdown",
   "id": "f05d8386-ae2e-4ba8-85fd-6c7b6459cc4d",
   "metadata": {},
   "source": [
    "### If the key is not in the dictionary you will get a output of False"
   ]
  },
  {
   "cell_type": "markdown",
   "id": "c4eec286-88a4-4ca5-8619-03d4de4b9d13",
   "metadata": {},
   "source": [
    "# Sets"
   ]
  },
  {
   "cell_type": "markdown",
   "id": "9514e862-3d94-4808-bf42-7de86ca6b7c9",
   "metadata": {},
   "source": [
    "## A set is a unique collection of objects in Python. You can denote a set with a pair of ***{}***. Python will automatically remove duplicate items:"
   ]
  },
  {
   "cell_type": "code",
   "execution_count": 23,
   "id": "2dfa152a-3b3c-4c03-af55-78ef16b200eb",
   "metadata": {
    "tags": []
   },
   "outputs": [
    {
     "data": {
      "text/plain": [
       "{'R&B', 'disco', 'hard rock', 'pop', 'rock', 'soul'}"
      ]
     },
     "execution_count": 23,
     "metadata": {},
     "output_type": "execute_result"
    }
   ],
   "source": [
    "# Create a set\n",
    "\n",
    "set1 = {'pop', 'rock', 'soul', 'hard rock', 'rock', 'R&B' , 'rock', 'disco'}\n",
    "set1"
   ]
  },
  {
   "cell_type": "markdown",
   "id": "626d1d3e-fe61-49e7-9c20-48dce6def204",
   "metadata": {},
   "source": [
    "The process of mapping is illustrated in the figure:"
   ]
  },
  {
   "cell_type": "markdown",
   "id": "7ff479d8-27d7-4f6e-bd9d-2b96f43994c1",
   "metadata": {},
   "source": [
    "<img src=\"https://cf-courses-data.s3.us.cloud-object-storage.appdomain.cloud/IBMDeveloperSkillsNetwork-PY0101EN-SkillsNetwork/labs/Module%202/images/SetsUnique.png\" width=\"1100\">\n"
   ]
  },
  {
   "cell_type": "markdown",
   "id": "97665c65-2e2c-4f9d-ad9b-05144f5c206a",
   "metadata": {},
   "source": [
    "### You can also create a set from a list as follows:"
   ]
  },
  {
   "cell_type": "code",
   "execution_count": 32,
   "id": "2a1f7037-1228-436b-9733-4661b1d55a20",
   "metadata": {
    "tags": []
   },
   "outputs": [
    {
     "data": {
      "text/plain": [
       "{'00:42:19',\n",
       " 10.0,\n",
       " 1982,\n",
       " '30-Nov-82',\n",
       " 46.0,\n",
       " 65,\n",
       " 'Michael Jackson',\n",
       " None,\n",
       " 'Pop, Rock, R&B',\n",
       " 'Thriller'}"
      ]
     },
     "execution_count": 32,
     "metadata": {},
     "output_type": "execute_result"
    }
   ],
   "source": [
    "# Convert list to set\n",
    "\n",
    "album_list = ['Michael Jackson', 'Thriller', 1982, '00:42:19', \\\n",
    "              'Pop, Rock, R&B', 46.0, 65, '30-Nov-82', None, 10.0]\n",
    "album_set = set(album_list)\n",
    "album_set"
   ]
  },
  {
   "cell_type": "markdown",
   "id": "16a48f90-2a75-4f78-b2c4-db8793b7c5c1",
   "metadata": {},
   "source": [
    "## Set Operartions- used to change the set"
   ]
  },
  {
   "cell_type": "code",
   "execution_count": 33,
   "id": "d8f1d082-385a-4c00-99bd-9ba2907b93bd",
   "metadata": {
    "tags": []
   },
   "outputs": [
    {
     "data": {
      "text/plain": [
       "{'AC/DC', 'Back in Black', 'Thiller'}"
      ]
     },
     "execution_count": 33,
     "metadata": {},
     "output_type": "execute_result"
    }
   ],
   "source": [
    "# Sample set A\n",
    "\n",
    "A = set(['Thiller', 'Back in Black', 'AC/DC'])\n",
    "A"
   ]
  },
  {
   "cell_type": "code",
   "execution_count": 198,
   "id": "6510326e-e870-4324-91bd-5c26fb754312",
   "metadata": {
    "tags": []
   },
   "outputs": [
    {
     "data": {
      "text/plain": [
       "{'BurgerKing', 'In-N-Out', \"McDonald's\", 'Paiks', 'Subway', 'Taco Bell'}"
      ]
     },
     "execution_count": 198,
     "metadata": {},
     "output_type": "execute_result"
    }
   ],
   "source": [
    "ff= set(takeout)\n",
    "ff"
   ]
  },
  {
   "cell_type": "code",
   "execution_count": 199,
   "id": "0e150fc8-2ddb-4601-a3e7-7fbbc9baf0f1",
   "metadata": {
    "tags": []
   },
   "outputs": [
    {
     "data": {
      "text/plain": [
       "{'BurgerKing', 'In-N-Out', \"McDonald's\", 'Paiks', 'Subway'}"
      ]
     },
     "execution_count": 199,
     "metadata": {},
     "output_type": "execute_result"
    }
   ],
   "source": [
    "fl=set(food_list)\n",
    "fl"
   ]
  },
  {
   "cell_type": "code",
   "execution_count": 200,
   "id": "76b443bb-dfcf-470e-b52b-d02fd819a5b7",
   "metadata": {
    "tags": []
   },
   "outputs": [
    {
     "data": {
      "text/plain": [
       "{'BurgerKing', 'In-N-Out', \"McDonald's\", 'Paiks', 'Subway'}"
      ]
     },
     "execution_count": 200,
     "metadata": {},
     "output_type": "execute_result"
    }
   ],
   "source": [
    "intersection= fl & ff\n",
    "intersection"
   ]
  },
  {
   "cell_type": "code",
   "execution_count": 201,
   "id": "d72285c7-4c94-4c30-8b4e-0990a9517796",
   "metadata": {
    "tags": []
   },
   "outputs": [
    {
     "data": {
      "text/plain": [
       "{'Taco Bell'}"
      ]
     },
     "execution_count": 201,
     "metadata": {},
     "output_type": "execute_result"
    }
   ],
   "source": [
    "ff. difference (fl)"
   ]
  },
  {
   "cell_type": "code",
   "execution_count": 202,
   "id": "fc6d2a23-1bfb-41a9-9a1c-48a19ad487f4",
   "metadata": {
    "tags": []
   },
   "outputs": [
    {
     "name": "stdout",
     "output_type": "stream",
     "text": [
      "{'In-N-Out', 'Lotteria', 'Paiks', 'BurgerKing', 'Subway', \"McDonald's\"}\n",
      "{'In-N-Out', 'Paiks', 'BurgerKing', 'Subway', 'Taco Bell', \"McDonald's\"}\n"
     ]
    }
   ],
   "source": [
    "fl.add('Lotteria')\n",
    "print(fl)\n",
    "print(ff)"
   ]
  },
  {
   "cell_type": "code",
   "execution_count": 203,
   "id": "f313d9a3-1a46-41bb-8326-96896590d63a",
   "metadata": {
    "tags": []
   },
   "outputs": [
    {
     "name": "stdout",
     "output_type": "stream",
     "text": [
      "{'In-N-Out', 'Lotteria', 'Paiks', 'BurgerKing', 'Subway', \"Mom's Touch\", \"McDonald's\"}\n",
      "{'In-N-Out', 'Paiks', 'BurgerKing', 'Subway', 'Taco Bell', \"McDonald's\"}\n"
     ]
    }
   ],
   "source": [
    "fl.add(\"Mom's Touch\")\n",
    "print(fl)\n",
    "print (ff)"
   ]
  },
  {
   "cell_type": "code",
   "execution_count": 204,
   "id": "9f1de58d-b139-4454-bbec-89611ac9c74d",
   "metadata": {
    "tags": []
   },
   "outputs": [
    {
     "data": {
      "text/plain": [
       "{'Lotteria', \"Mom's Touch\"}"
      ]
     },
     "execution_count": 204,
     "metadata": {},
     "output_type": "execute_result"
    }
   ],
   "source": [
    "fl.difference(ff)"
   ]
  },
  {
   "cell_type": "code",
   "execution_count": 205,
   "id": "e986c9f1-bc75-41b6-8b1e-72da2d9fc679",
   "metadata": {
    "tags": []
   },
   "outputs": [
    {
     "name": "stdout",
     "output_type": "stream",
     "text": [
      "{'In-N-Out', 'Lotteria', 'Paiks', 'BurgerKing', 'Subway', \"Mom's Touch\", 'Taco Bell', \"McDonald's\"}\n",
      "{'In-N-Out', 'Paiks', 'BurgerKing', 'Subway', 'Taco Bell', \"McDonald's\"}\n"
     ]
    }
   ],
   "source": [
    "fl.add('Taco Bell')\n",
    "print (fl)\n",
    "print (ff)"
   ]
  },
  {
   "cell_type": "code",
   "execution_count": 206,
   "id": "44bd0d16-2223-4e0f-b6a6-ccf961c8d6cb",
   "metadata": {
    "tags": []
   },
   "outputs": [
    {
     "data": {
      "text/plain": [
       "{'Lotteria', \"Mom's Touch\"}"
      ]
     },
     "execution_count": 206,
     "metadata": {},
     "output_type": "execute_result"
    }
   ],
   "source": [
    "fl.difference(ff)"
   ]
  },
  {
   "cell_type": "code",
   "execution_count": 207,
   "id": "6ebbf2c4-eae7-403d-9efc-8d3ecf6b304c",
   "metadata": {
    "tags": []
   },
   "outputs": [
    {
     "data": {
      "text/plain": [
       "{'BurgerKing', 'In-N-Out', \"McDonald's\", 'Paiks', 'Subway', 'Taco Bell'}"
      ]
     },
     "execution_count": 207,
     "metadata": {},
     "output_type": "execute_result"
    }
   ],
   "source": [
    "intersection= fl & ff\n",
    "intersection"
   ]
  },
  {
   "cell_type": "code",
   "execution_count": 208,
   "id": "733fd5a1-4049-434e-b301-fad54c98ae18",
   "metadata": {
    "tags": []
   },
   "outputs": [
    {
     "name": "stdout",
     "output_type": "stream",
     "text": [
      "{'In-N-Out', 'Paiks', 'BurgerKing', 'Subway', 'Taco Bell', \"McDonald's\"}\n",
      "{'In-N-Out', 'Lotteria', 'Paiks', 'BurgerKing', 'Subway', \"Mom's Touch\", 'Taco Bell', \"McDonald's\"}\n"
     ]
    }
   ],
   "source": [
    "print(ff)\n",
    "print(fl)"
   ]
  },
  {
   "cell_type": "markdown",
   "id": "8d420c53-13a3-48f6-848a-ea12d5199196",
   "metadata": {},
   "source": [
    "### We can add an element to a set using ***.add()***"
   ]
  },
  {
   "cell_type": "code",
   "execution_count": 34,
   "id": "e7e8bf55-1730-485d-8686-e485f0d9c9eb",
   "metadata": {
    "tags": []
   },
   "outputs": [
    {
     "data": {
      "text/plain": [
       "{'AC/DC', 'Back in Black', 'NSYNC', 'Thiller'}"
      ]
     },
     "execution_count": 34,
     "metadata": {},
     "output_type": "execute_result"
    }
   ],
   "source": [
    "# Add element to set\n",
    "\n",
    "A.add('NSYNC')\n",
    "A"
   ]
  },
  {
   "cell_type": "markdown",
   "id": "726e23fd-6803-4c24-b1a9-1f6b280f487f",
   "metadata": {},
   "source": [
    "### The same element cannot be added twice."
   ]
  },
  {
   "cell_type": "markdown",
   "id": "ba946589-c334-4f29-b299-451c52304d51",
   "metadata": {},
   "source": [
    "### To remove an element from a set use ***.remove()***"
   ]
  },
  {
   "cell_type": "code",
   "execution_count": 35,
   "id": "fac02fef-de54-4745-8096-f4c2f2f585bf",
   "metadata": {
    "tags": []
   },
   "outputs": [
    {
     "data": {
      "text/plain": [
       "{'AC/DC', 'Back in Black', 'Thiller'}"
      ]
     },
     "execution_count": 35,
     "metadata": {},
     "output_type": "execute_result"
    }
   ],
   "source": [
    "# Remove the element from the set\n",
    "\n",
    "A.remove('NSYNC')\n",
    "A"
   ]
  },
  {
   "cell_type": "markdown",
   "id": "26a9f946-ad07-4133-a73c-de161b36d922",
   "metadata": {},
   "source": [
    "### We can verify if an element is in the set using ***in*** command:"
   ]
  },
  {
   "cell_type": "code",
   "execution_count": 36,
   "id": "74b03a05-f24d-49d3-9cc6-eba62954e6f8",
   "metadata": {
    "tags": []
   },
   "outputs": [
    {
     "data": {
      "text/plain": [
       "True"
      ]
     },
     "execution_count": 36,
     "metadata": {},
     "output_type": "execute_result"
    }
   ],
   "source": [
    "# Verify if the element is in the set\n",
    "\n",
    "'AC/DC' in A"
   ]
  },
  {
   "cell_type": "markdown",
   "id": "ba685da0-ab1c-4bb1-8b95-c91af1804f71",
   "metadata": {},
   "source": [
    "### If the element is not in the set you will get a False."
   ]
  },
  {
   "cell_type": "markdown",
   "id": "c53f7b02-b048-45de-be9f-d6e88581ea66",
   "metadata": {},
   "source": [
    "## Sets Logic Operations"
   ]
  },
  {
   "cell_type": "markdown",
   "id": "1049a8b0-8205-46af-b6de-37c8ff92ea09",
   "metadata": {},
   "source": [
    "Remember that with sets you can check the difference between sets, as well as the symmetric difference, intersection, and union:\n"
   ]
  },
  {
   "cell_type": "markdown",
   "id": "ce52fde5-c1aa-42fd-9933-bf4f56db652a",
   "metadata": {
    "tags": []
   },
   "source": [
    "Consider the following two sets:"
   ]
  },
  {
   "cell_type": "code",
   "execution_count": 39,
   "id": "e302ebc0-8b6a-4bdb-af4e-61870d5014a9",
   "metadata": {
    "tags": []
   },
   "outputs": [],
   "source": [
    "# Sample Sets\n",
    "\n",
    "album_set1 = set([\"Thriller\", 'AC/DC', 'Back in Black'])\n",
    "album_set2 = set([ \"AC/DC\", \"Back in Black\", \"The Dark Side of the Moon\"])"
   ]
  },
  {
   "cell_type": "markdown",
   "id": "19a14845-8497-4f4a-9fe2-40ae3e4ff452",
   "metadata": {},
   "source": [
    "<img src=\"https://cf-courses-data.s3.us.cloud-object-storage.appdomain.cloud/IBMDeveloperSkillsNetwork-PY0101EN-SkillsNetwork/labs/Module%202/images/SetsSamples.png\" width=\"650\">\n"
   ]
  },
  {
   "cell_type": "code",
   "execution_count": 41,
   "id": "34f50cf2-474e-4d7e-a8f8-d1958af10f40",
   "metadata": {
    "tags": []
   },
   "outputs": [
    {
     "data": {
      "text/plain": [
       "({'AC/DC', 'Back in Black', 'Thriller'},\n",
       " {'AC/DC', 'Back in Black', 'The Dark Side of the Moon'})"
      ]
     },
     "execution_count": 41,
     "metadata": {},
     "output_type": "execute_result"
    }
   ],
   "source": [
    "# Print two sets\n",
    "\n",
    "album_set1, album_set2"
   ]
  },
  {
   "cell_type": "markdown",
   "id": "2367163a-729a-4269-bdb5-e967fa4168d0",
   "metadata": {},
   "source": [
    "As both sets contain <b>AC/DC</b> and <b>Back in Black</b> we represent these common elements with the intersection of two circles.\n"
   ]
  },
  {
   "cell_type": "markdown",
   "id": "8ac28a94-e645-4c75-b134-502853b86629",
   "metadata": {},
   "source": [
    "![SetsLogic.png](attachment:a9267f54-6009-4160-a6d2-436b99b140ea.png)<img src=\"https://cf-courses-data.s3.us.cloud-object-storage.appdomain.cloud/IBMDeveloperSkillsNetwork-PY0101EN-SkillsNetwork/labs/Module%202/images/SetsLogic.png\" width=\"650\">"
   ]
  },
  {
   "cell_type": "markdown",
   "id": "be207ef8-15d9-4963-a1ca-d2fe5620a180",
   "metadata": {},
   "source": [
    "You can find the intersect of two sets as follow using <code>&</code>:"
   ]
  },
  {
   "cell_type": "code",
   "execution_count": 58,
   "id": "b29dd026-fbc3-42c8-ba8c-4fc09c91e594",
   "metadata": {
    "tags": []
   },
   "outputs": [
    {
     "data": {
      "text/plain": [
       "{'AC/DC', 'Back in Black'}"
      ]
     },
     "execution_count": 58,
     "metadata": {},
     "output_type": "execute_result"
    }
   ],
   "source": [
    "# Find the intersections\n",
    "\n",
    "intersection = album_set1 & album_set2\n",
    "intersection"
   ]
  },
  {
   "cell_type": "markdown",
   "id": "e3fa4f2a-cb27-4944-b342-2e46d5aa16ca",
   "metadata": {},
   "source": [
    "You can find all the elements that are only contained in <code>album_set1</code> using the <code>difference</code> method: ***set1.difference(set2 or whatever set)***\n"
   ]
  },
  {
   "cell_type": "code",
   "execution_count": 44,
   "id": "ef61c94c-cce4-4423-8dca-6ef0765534b9",
   "metadata": {
    "tags": []
   },
   "outputs": [
    {
     "data": {
      "text/plain": [
       "{'Thriller'}"
      ]
     },
     "execution_count": 44,
     "metadata": {},
     "output_type": "execute_result"
    }
   ],
   "source": [
    "# Find the difference in set1 but not set2\n",
    "\n",
    "album_set1.difference(album_set2)"
   ]
  },
  {
   "cell_type": "markdown",
   "id": "c686367e-7524-4e40-b5c3-de4fbaaeb3e6",
   "metadata": {},
   "source": [
    "You only need to consider elements in ***album_set1*** all the elements in ***album_set2*** including the intersection are not included"
   ]
  },
  {
   "cell_type": "markdown",
   "id": "0852a11c-7939-42d9-8d18-23c3faa1ba46",
   "metadata": {
    "tags": []
   },
   "source": [
    "<img src=\"https://cf-courses-data.s3.us.cloud-object-storage.appdomain.cloud/IBMDeveloperSkillsNetwork-PY0101EN-SkillsNetwork/labs/Module%202/images/SetsLeft.png\" width=\"650\">\n"
   ]
  },
  {
   "cell_type": "markdown",
   "id": "afb06bbb-095c-4666-9904-3cf0c8834744",
   "metadata": {},
   "source": [
    "If you want the elements only in ***album_set2*** but not in ***album_set1*** you use this:"
   ]
  },
  {
   "cell_type": "code",
   "execution_count": 47,
   "id": "1b899db9-61b7-47b5-84a1-5d84522d0e25",
   "metadata": {
    "tags": []
   },
   "outputs": [
    {
     "data": {
      "text/plain": [
       "{'The Dark Side of the Moon'}"
      ]
     },
     "execution_count": 47,
     "metadata": {},
     "output_type": "execute_result"
    }
   ],
   "source": [
    "album_set2.difference(album_set1)"
   ]
  },
  {
   "cell_type": "markdown",
   "id": "e99096ec-0d67-44d8-bb89-d5f425cae242",
   "metadata": {},
   "source": [
    "<img src=\"https://cf-courses-data.s3.us.cloud-object-storage.appdomain.cloud/IBMDeveloperSkillsNetwork-PY0101EN-SkillsNetwork/labs/Module%202/images/SetsRight.png\" width=\"650\">"
   ]
  },
  {
   "cell_type": "markdown",
   "id": "c7489064-d314-4c9c-ac69-29729e7a493c",
   "metadata": {},
   "source": [
    "You can also find t he intersection of ***album_list1*** and ***album_list2*** using the **intersection** method:"
   ]
  },
  {
   "cell_type": "code",
   "execution_count": 48,
   "id": "ab7432bd-4797-4c32-9f14-3907ffaeffba",
   "metadata": {
    "tags": []
   },
   "outputs": [
    {
     "data": {
      "text/plain": [
       "{'AC/DC', 'Back in Black'}"
      ]
     },
     "execution_count": 48,
     "metadata": {},
     "output_type": "execute_result"
    }
   ],
   "source": [
    "# use intersection method to find the intersection of album_list1 and album_list2\n",
    "\n",
    "album_set1.intersection(album_set2)"
   ]
  },
  {
   "cell_type": "markdown",
   "id": "b0e2bd62-a70a-4f9b-bea9-ada6bb32a778",
   "metadata": {},
   "source": [
    "This corresponds to the intersection of the two circles:"
   ]
  },
  {
   "cell_type": "markdown",
   "id": "58e1ee43-d2b5-475d-865b-bea58e7e42a8",
   "metadata": {},
   "source": [
    "<img src=\"https://cf-courses-data.s3.us.cloud-object-storage.appdomain.cloud/IBMDeveloperSkillsNetwork-PY0101EN-SkillsNetwork/labs/Module%202/images/SetsIntersect.png\" width=\"650\">\n"
   ]
  },
  {
   "cell_type": "markdown",
   "id": "27a08d00-02a1-402a-9f32-89cf691a1486",
   "metadata": {},
   "source": [
    "The union corresponds to the elements in ***both*** sets, which is represented by coloring both circles:  ***These circles represent Venn Diagrams***"
   ]
  },
  {
   "cell_type": "markdown",
   "id": "b29e84b9-8e37-44be-a39a-39ac298ed0d3",
   "metadata": {},
   "source": [
    "<img src=\"https://cf-courses-data.s3.us.cloud-object-storage.appdomain.cloud/IBMDeveloperSkillsNetwork-PY0101EN-SkillsNetwork/labs/Module%202/images/SetsUnion.png\" width=\"650\">\n"
   ]
  },
  {
   "cell_type": "code",
   "execution_count": 49,
   "id": "d9a6b506-5c83-42d7-af54-12542f793ef6",
   "metadata": {
    "tags": []
   },
   "outputs": [
    {
     "data": {
      "text/plain": [
       "{'AC/DC', 'Back in Black', 'The Dark Side of the Moon', 'Thriller'}"
      ]
     },
     "execution_count": 49,
     "metadata": {},
     "output_type": "execute_result"
    }
   ],
   "source": [
    "# To find the union of two sets you use:\n",
    "\n",
    "album_set1.union(album_set2)"
   ]
  },
  {
   "cell_type": "markdown",
   "id": "71819d02-edf5-40de-85a3-af177130df09",
   "metadata": {},
   "source": [
    "You can check if a set is a ***superset*** or a **subset** using ***.issuperset*** or **.issubset**"
   ]
  },
  {
   "cell_type": "code",
   "execution_count": 51,
   "id": "3a2ddb1d-f39a-43e6-99f7-e27a02bf4945",
   "metadata": {
    "tags": []
   },
   "outputs": [
    {
     "data": {
      "text/plain": [
       "False"
      ]
     },
     "execution_count": 51,
     "metadata": {},
     "output_type": "execute_result"
    }
   ],
   "source": [
    "# Check if superset\n",
    "\n",
    "set(album_set1).issuperset(album_set2)"
   ]
  },
  {
   "cell_type": "code",
   "execution_count": 209,
   "id": "f30265fe-53bc-481f-bb81-1ffa125fd65a",
   "metadata": {
    "tags": []
   },
   "outputs": [
    {
     "data": {
      "text/plain": [
       "False"
      ]
     },
     "execution_count": 209,
     "metadata": {},
     "output_type": "execute_result"
    }
   ],
   "source": [
    "set(ff).issuperset(fl)"
   ]
  },
  {
   "cell_type": "code",
   "execution_count": 210,
   "id": "b1876d51-25c6-4d4e-9788-f15e74959da6",
   "metadata": {
    "tags": []
   },
   "outputs": [
    {
     "data": {
      "text/plain": [
       "True"
      ]
     },
     "execution_count": 210,
     "metadata": {},
     "output_type": "execute_result"
    }
   ],
   "source": [
    "set(fl).issuperset(ff)"
   ]
  },
  {
   "cell_type": "code",
   "execution_count": 211,
   "id": "bfd75c76-5d7e-4d59-a894-908d82ef25c2",
   "metadata": {
    "tags": []
   },
   "outputs": [
    {
     "data": {
      "text/plain": [
       "True"
      ]
     },
     "execution_count": 211,
     "metadata": {},
     "output_type": "execute_result"
    }
   ],
   "source": [
    "set(ff).issubset(fl)"
   ]
  },
  {
   "cell_type": "code",
   "execution_count": 212,
   "id": "e4aa9284-d723-4f13-95db-0bf91fac07d4",
   "metadata": {
    "tags": []
   },
   "outputs": [
    {
     "data": {
      "text/plain": [
       "True"
      ]
     },
     "execution_count": 212,
     "metadata": {},
     "output_type": "execute_result"
    }
   ],
   "source": [
    "set({'Taco Bell'}).issubset(fl)"
   ]
  },
  {
   "cell_type": "code",
   "execution_count": 53,
   "id": "b49a6d80-e47d-46cd-9262-319f5a9107ea",
   "metadata": {
    "tags": []
   },
   "outputs": [
    {
     "data": {
      "text/plain": [
       "False"
      ]
     },
     "execution_count": 53,
     "metadata": {},
     "output_type": "execute_result"
    }
   ],
   "source": [
    "# Check if subset\n",
    "\n",
    "set(album_set2).issubset(album_set1)"
   ]
  },
  {
   "cell_type": "markdown",
   "id": "b3f709b4-c616-49cd-827a-24b779fccfc6",
   "metadata": {},
   "source": [
    "Here is an example where ***issubset()*** and ***issuperset()*** return true:"
   ]
  },
  {
   "cell_type": "code",
   "execution_count": 54,
   "id": "23931b63-ef09-41ba-87be-b5c2fae2560d",
   "metadata": {
    "tags": []
   },
   "outputs": [
    {
     "data": {
      "text/plain": [
       "True"
      ]
     },
     "execution_count": 54,
     "metadata": {},
     "output_type": "execute_result"
    }
   ],
   "source": [
    "# Check if subset\n",
    "\n",
    "set({\"Back in Black\", \"AC/DC\"}).issubset(album_set1)"
   ]
  },
  {
   "cell_type": "code",
   "execution_count": 55,
   "id": "3d91ced5-d4b6-4776-9c6d-cbf6edbd0f67",
   "metadata": {
    "tags": []
   },
   "outputs": [
    {
     "data": {
      "text/plain": [
       "True"
      ]
     },
     "execution_count": 55,
     "metadata": {},
     "output_type": "execute_result"
    }
   ],
   "source": [
    "# Check if superset\n",
    "\n",
    "album_set1.issuperset({\"Back in Black\", \"AC/DC\"})"
   ]
  },
  {
   "cell_type": "code",
   "execution_count": 59,
   "id": "06662a88-c476-46c1-9ea5-51256dfe7ce6",
   "metadata": {
    "tags": []
   },
   "outputs": [
    {
     "data": {
      "text/plain": [
       "True"
      ]
     },
     "execution_count": 59,
     "metadata": {},
     "output_type": "execute_result"
    }
   ],
   "source": [
    "# Check if intersection is a subset\n",
    "\n",
    "intersection.issubset(album_set1)"
   ]
  },
  {
   "cell_type": "code",
   "execution_count": 60,
   "id": "cd0f231f-b245-48ca-8b99-887aa077175a",
   "metadata": {
    "tags": []
   },
   "outputs": [
    {
     "data": {
      "text/plain": [
       "False"
      ]
     },
     "execution_count": 60,
     "metadata": {},
     "output_type": "execute_result"
    }
   ],
   "source": [
    "# Intersection should not be a superset of the albums that combined to make intersection.\n",
    "\n",
    "intersection.issuperset(album_set1)"
   ]
  },
  {
   "cell_type": "markdown",
   "id": "829fcf2a-1311-44ad-bf26-8599eb481070",
   "metadata": {},
   "source": [
    "### ***==*** is a Comparison Operator used to compare two values"
   ]
  },
  {
   "cell_type": "markdown",
   "id": "c102c971-32dd-44aa-86d3-a70fb49cd92f",
   "metadata": {},
   "source": [
    "Consider the list <code>A = \\[1, 2, 2, 1]</code> and set <code>B = set(\\[1, 2, 2, 1])</code>, does <code>sum(A) == sum(B)</code>?\n"
   ]
  },
  {
   "cell_type": "code",
   "execution_count": 61,
   "id": "3658ad5f-ae4a-44f3-9a8b-57260b0fba29",
   "metadata": {
    "tags": []
   },
   "outputs": [
    {
     "name": "stdout",
     "output_type": "stream",
     "text": [
      "the sum of A is : 6\n",
      "the sum of B is : 3\n"
     ]
    }
   ],
   "source": [
    "# Write your code below and press Shift+Enter to execute\n",
    "A= [1,2,2,1]\n",
    "B= set([1,2,2,1])\n",
    "print(\"the sum of A is :\", sum(A))\n",
    "print(\"the sum of B is :\", sum(B))"
   ]
  },
  {
   "cell_type": "markdown",
   "id": "757f9b06-e9ad-4be2-87ef-b20598f34aaf",
   "metadata": {},
   "source": [
    "# Week 3 Python Programming Fundamentals"
   ]
  },
  {
   "cell_type": "markdown",
   "id": "a0e08782-469c-4d44-a2a6-55a126997f79",
   "metadata": {},
   "source": [
    "### Concepts of conditions and branching."
   ]
  },
  {
   "cell_type": "code",
   "execution_count": 74,
   "id": "52c129a8-34b9-4751-a2dc-b625ea82d06f",
   "metadata": {
    "tags": []
   },
   "outputs": [],
   "source": [
    "age=17"
   ]
  },
  {
   "cell_type": "code",
   "execution_count": 75,
   "id": "4b32c147-a6d8-4cc2-b2c4-e3963e8985df",
   "metadata": {
    "tags": []
   },
   "outputs": [],
   "source": [
    "age=18"
   ]
  },
  {
   "cell_type": "code",
   "execution_count": 76,
   "id": "3f033543-cea8-4d12-a213-0df3c072fb7f",
   "metadata": {
    "tags": []
   },
   "outputs": [],
   "source": [
    "age=19"
   ]
  },
  {
   "cell_type": "markdown",
   "id": "88dbec03-f808-4e93-905d-af98099faf31",
   "metadata": {
    "tags": []
   },
   "source": [
    "if (age>18):  # If statement looks for true/false\n",
    "    print (\"you can enter\")\n",
    "    \n",
    "elif(age==18):\n",
    "    print(\"go see Pink Floyd\")\n",
    "\n",
    "else:\n",
    "    print(\"go see Meat Loaf\")\n",
    "    \n",
    "print(\"move on\")"
   ]
  },
  {
   "cell_type": "code",
   "execution_count": 77,
   "id": "7f15f3be-b76a-4aad-b550-195601630ce7",
   "metadata": {
    "tags": []
   },
   "outputs": [
    {
     "name": "stdout",
     "output_type": "stream",
     "text": [
      "The Album was made in the 70' or 90's\n"
     ]
    }
   ],
   "source": [
    "album_year= 1990\n",
    "\n",
    "if(album_year< 1980) or (album_year>1989):  # Or operation one or the other need to be true\n",
    "    \n",
    "    print(\"The Album was made in the 70' or 90's\")\n",
    "\n",
    "else:\n",
    "    print(\"The Album was made in the 1980's\")"
   ]
  },
  {
   "cell_type": "code",
   "execution_count": 18,
   "id": "ea923b25-03ce-4754-bb84-27c34f4d15d3",
   "metadata": {
    "tags": []
   },
   "outputs": [
    {
     "name": "stdout",
     "output_type": "stream",
     "text": [
      "This album was made in the 80's\n"
     ]
    }
   ],
   "source": [
    "album_year = 1983\n",
    "\n",
    "if(album_year > 1979) and (album_year < 1990): #both if statements must be true\n",
    "    print (\"This album was made in the 80's\")"
   ]
  },
  {
   "cell_type": "markdown",
   "id": "4cbc3f87-65dd-46b1-be88-7facbfcad7da",
   "metadata": {},
   "source": [
    "Comparison operations compare some value or operand and based on a condition, produce a Boolean. When comparing two values you can use these operators:\n",
    "\n",
    "<ul>\n",
    "    <li>equal: <b>==</b></li>\n",
    "    <li>not equal: <b>!=</b></li>\n",
    "    <li>greater than: <b>></b></li>\n",
    "    <li>less than: <b>&lt;</b></li>\n",
    "    <li>greater than or equal to: <b>>=</b></li>\n",
    "    <li>less than or equal to: <b>&lt;=</b></li>\n",
    "</ul>\n"
   ]
  },
  {
   "cell_type": "code",
   "execution_count": 19,
   "id": "79bc08e2-b5f4-44d8-b4fa-09301c76eed8",
   "metadata": {
    "tags": []
   },
   "outputs": [
    {
     "data": {
      "text/plain": [
       "False"
      ]
     },
     "execution_count": 19,
     "metadata": {},
     "output_type": "execute_result"
    }
   ],
   "source": [
    "# Condition Equal\n",
    "\n",
    "a = 5\n",
    "a == 6"
   ]
  },
  {
   "cell_type": "code",
   "execution_count": 78,
   "id": "aacb9c51-669c-494a-88e4-9a0bc2eb4339",
   "metadata": {
    "tags": []
   },
   "outputs": [
    {
     "data": {
      "text/plain": [
       "True"
      ]
     },
     "execution_count": 78,
     "metadata": {},
     "output_type": "execute_result"
    }
   ],
   "source": [
    "a = 5\n",
    "a == 5"
   ]
  },
  {
   "cell_type": "code",
   "execution_count": 22,
   "id": "60a7b9aa-2a9c-456b-863c-9c4ea210991a",
   "metadata": {
    "tags": []
   },
   "outputs": [
    {
     "data": {
      "text/plain": [
       "True"
      ]
     },
     "execution_count": 22,
     "metadata": {},
     "output_type": "execute_result"
    }
   ],
   "source": [
    "# Greater than Sign \n",
    "\n",
    "i = 6  # 6 is greater than 5  \n",
    "i > 5"
   ]
  },
  {
   "cell_type": "code",
   "execution_count": 79,
   "id": "85423d76-d7ba-4fc3-8b44-2f18c65dced6",
   "metadata": {
    "tags": []
   },
   "outputs": [
    {
     "data": {
      "text/plain": [
       "False"
      ]
     },
     "execution_count": 79,
     "metadata": {},
     "output_type": "execute_result"
    }
   ],
   "source": [
    "i = 6  # 6 is not greater than 6\n",
    "i > 6"
   ]
  },
  {
   "cell_type": "code",
   "execution_count": 23,
   "id": "7d77806a-16ed-4431-9ddc-39ac012bb302",
   "metadata": {
    "tags": []
   },
   "outputs": [
    {
     "data": {
      "text/plain": [
       "False"
      ]
     },
     "execution_count": 23,
     "metadata": {},
     "output_type": "execute_result"
    }
   ],
   "source": [
    "# Greater than Sign\n",
    "\n",
    "i = 2  # 2 is not greater than 5\n",
    "i > 5"
   ]
  },
  {
   "cell_type": "markdown",
   "id": "7110b978-3685-4f67-a3b1-bf7de8aec234",
   "metadata": {},
   "source": [
    "<img src=\"https://cf-courses-data.s3.us.cloud-object-storage.appdomain.cloud/IBMDeveloperSkillsNetwork-PY0101EN-SkillsNetwork/labs/Module%203/images/CondsGreater.gif\" width=\"650\">"
   ]
  },
  {
   "cell_type": "code",
   "execution_count": 25,
   "id": "b203e804-127e-45f4-9f07-c4c73008e078",
   "metadata": {
    "tags": []
   },
   "outputs": [
    {
     "data": {
      "text/plain": [
       "True"
      ]
     },
     "execution_count": 25,
     "metadata": {},
     "output_type": "execute_result"
    }
   ],
   "source": [
    "# Inequality Sign\n",
    "\n",
    "i = 2  # 2 is not equal to 6 \n",
    "i != 6"
   ]
  },
  {
   "cell_type": "code",
   "execution_count": 26,
   "id": "758220a2-13ab-4757-890d-cbe444101b01",
   "metadata": {
    "tags": []
   },
   "outputs": [
    {
     "data": {
      "text/plain": [
       "False"
      ]
     },
     "execution_count": 26,
     "metadata": {},
     "output_type": "execute_result"
    }
   ],
   "source": [
    "# Inequality Sign\n",
    "\n",
    "i = 6 # 6 is equal to 6 so the output is False\n",
    "i != 6"
   ]
  },
  {
   "cell_type": "markdown",
   "id": "d68931fb-596b-4a2c-a462-31248aae31e3",
   "metadata": {},
   "source": [
    "### The comparisons can also be done on strings"
   ]
  },
  {
   "cell_type": "code",
   "execution_count": 30,
   "id": "e9b7630e-1cf3-4cb0-b2cd-18262ed1ddb3",
   "metadata": {
    "tags": []
   },
   "outputs": [
    {
     "data": {
      "text/plain": [
       "False"
      ]
     },
     "execution_count": 30,
     "metadata": {},
     "output_type": "execute_result"
    }
   ],
   "source": [
    "# Use Equality sign to compare the strings\n",
    "\n",
    "\"AC/DC\" == \"Michael Jackson\" # False output because they are not the same str."
   ]
  },
  {
   "cell_type": "code",
   "execution_count": 31,
   "id": "899094ad-55a8-4889-ad50-29975224b752",
   "metadata": {
    "tags": []
   },
   "outputs": [
    {
     "data": {
      "text/plain": [
       "True"
      ]
     },
     "execution_count": 31,
     "metadata": {},
     "output_type": "execute_result"
    }
   ],
   "source": [
    "# Use Inequality sign to compare the strings\n",
    "\n",
    "\"AC/DC\" != \"Michael Jackson\" #True output because they are not equal"
   ]
  },
  {
   "cell_type": "markdown",
   "id": "6208c39b-f3fa-41d9-aa1d-99fcab890291",
   "metadata": {},
   "source": [
    "The inequality operation is also used to compare the letters/words/symbols according to the ASCII value of letters. The decimal value shown in the following table represents the order of the character:\n",
    "​"
   ]
  },
  {
   "cell_type": "markdown",
   "id": "e97f1e1b-9117-4131-a43c-a027ba635041",
   "metadata": {},
   "source": [
    "<style type=\"text/css\">\n",
    ".tg  {border-collapse:collapse;border-spacing:0;}\n",
    ".tg td{border-color:black;border-style:solid;border-width:1px;font-family:Arial, sans-serif;font-size:14px;\n",
    "  overflow:hidden;padding:10px 5px;word-break:normal;}\n",
    ".tg th{border-color:black;border-style:solid;border-width:1px;font-family:Arial, sans-serif;font-size:14px;\n",
    "  font-weight:normal;overflow:hidden;padding:10px 5px;word-break:normal;}\n",
    ".tg .tg-baqh{text-align:center;vertical-align:top}\n",
    ".tg .tg-7geq{background-color:#ffffc7;text-align:center;vertical-align:top}\n",
    ".tg .tg-1cln{background-color:#ffcc67;font-size:100%;font-weight:bold;text-align:center;vertical-align:top}\n",
    ".tg .tg-xozw{background-color:#ffcc67;font-weight:bold;text-align:center;vertical-align:top}\n",
    "</style>\n",
    "\n",
    "<table class=\"tg\">\n",
    "<thead>\n",
    "  <tr>\n",
    "    <th class=\"tg-1cln\">Char.</th>\n",
    "    <th class=\"tg-xozw\">ASCII</th>\n",
    "    <th class=\"tg-xozw\">Char.</th>\n",
    "    <th class=\"tg-xozw\">ASCII</th>\n",
    "    <th class=\"tg-xozw\">Char.</th>\n",
    "    <th class=\"tg-xozw\">ASCII</th>\n",
    "    <th class=\"tg-xozw\">Char.</th>\n",
    "    <th class=\"tg-xozw\">ASCII</th>\n",
    "  </tr>\n",
    "</thead>\n",
    "<tbody>\n",
    "  <tr>\n",
    "    <td class=\"tg-7geq\">A</td>\n",
    "    <td class=\"tg-baqh\">65</td>\n",
    "    <td class=\"tg-7geq\">N</td>\n",
    "    <td class=\"tg-baqh\">78</td>\n",
    "    <td class=\"tg-7geq\">a</td>\n",
    "    <td class=\"tg-baqh\">97</td>\n",
    "    <td class=\"tg-7geq\">n</td>\n",
    "    <td class=\"tg-baqh\">110</td>\n",
    "  </tr>\n",
    "  <tr>\n",
    "    <td class=\"tg-7geq\">B</td>\n",
    "    <td class=\"tg-baqh\">66</td>\n",
    "    <td class=\"tg-7geq\">O</td>\n",
    "    <td class=\"tg-baqh\">79</td>\n",
    "    <td class=\"tg-7geq\">b</td>\n",
    "    <td class=\"tg-baqh\">98</td>\n",
    "    <td class=\"tg-7geq\">o</td>\n",
    "    <td class=\"tg-baqh\">111</td>\n",
    "  </tr>\n",
    "  <tr>\n",
    "    <td class=\"tg-7geq\">C</td>\n",
    "    <td class=\"tg-baqh\">67</td>\n",
    "    <td class=\"tg-7geq\">P</td>\n",
    "    <td class=\"tg-baqh\">80</td>\n",
    "    <td class=\"tg-7geq\">c</td>\n",
    "    <td class=\"tg-baqh\">99</td>\n",
    "    <td class=\"tg-7geq\">p</td>\n",
    "    <td class=\"tg-baqh\">112</td>\n",
    "  </tr>\n",
    "  <tr>\n",
    "    <td class=\"tg-7geq\">D</td>\n",
    "    <td class=\"tg-baqh\">68</td>\n",
    "    <td class=\"tg-7geq\">Q</td>\n",
    "    <td class=\"tg-baqh\">81</td>\n",
    "    <td class=\"tg-7geq\">d</td>\n",
    "    <td class=\"tg-baqh\">100</td>\n",
    "    <td class=\"tg-7geq\">q</td>\n",
    "    <td class=\"tg-baqh\">113</td>\n",
    "  </tr>\n",
    "  <tr>\n",
    "    <td class=\"tg-7geq\">E</td>\n",
    "    <td class=\"tg-baqh\">69</td>\n",
    "    <td class=\"tg-7geq\">R</td>\n",
    "    <td class=\"tg-baqh\">82</td>\n",
    "    <td class=\"tg-7geq\">e</td>\n",
    "    <td class=\"tg-baqh\">101</td>\n",
    "    <td class=\"tg-7geq\">r</td>\n",
    "    <td class=\"tg-baqh\">114</td>\n",
    "  </tr>\n",
    "  <tr>\n",
    "    <td class=\"tg-7geq\">F</td>\n",
    "    <td class=\"tg-baqh\">70</td>\n",
    "    <td class=\"tg-7geq\">S</td>\n",
    "    <td class=\"tg-baqh\">83</td>\n",
    "    <td class=\"tg-7geq\">f</td>\n",
    "    <td class=\"tg-baqh\">102</td>\n",
    "    <td class=\"tg-7geq\">s</td>\n",
    "    <td class=\"tg-baqh\">115</td>\n",
    "  </tr>\n",
    "  <tr>\n",
    "    <td class=\"tg-7geq\">G</td>\n",
    "    <td class=\"tg-baqh\">71</td>\n",
    "    <td class=\"tg-7geq\">T</td>\n",
    "    <td class=\"tg-baqh\">84</td>\n",
    "    <td class=\"tg-7geq\">g</td>\n",
    "    <td class=\"tg-baqh\">103</td>\n",
    "    <td class=\"tg-7geq\">t</td>\n",
    "    <td class=\"tg-baqh\">116</td>\n",
    "  </tr>\n",
    "  <tr>\n",
    "    <td class=\"tg-7geq\">H</td>\n",
    "    <td class=\"tg-baqh\">72</td>\n",
    "    <td class=\"tg-7geq\">U</td>\n",
    "    <td class=\"tg-baqh\">85</td>\n",
    "    <td class=\"tg-7geq\">h</td>\n",
    "    <td class=\"tg-baqh\">104</td>\n",
    "    <td class=\"tg-7geq\">u</td>\n",
    "    <td class=\"tg-baqh\">117</td>\n",
    "  </tr>\n",
    "  <tr>\n",
    "    <td class=\"tg-7geq\">I</td>\n",
    "    <td class=\"tg-baqh\">73</td>\n",
    "    <td class=\"tg-7geq\">V</td>\n",
    "    <td class=\"tg-baqh\">86</td>\n",
    "    <td class=\"tg-7geq\">i</td>\n",
    "    <td class=\"tg-baqh\">105</td>\n",
    "    <td class=\"tg-7geq\">v</td>\n",
    "    <td class=\"tg-baqh\">118</td>\n",
    "  </tr>\n",
    "  <tr>\n",
    "    <td class=\"tg-7geq\">J</td>\n",
    "    <td class=\"tg-baqh\">74</td>\n",
    "    <td class=\"tg-7geq\">W</td>\n",
    "    <td class=\"tg-baqh\">87</td>\n",
    "    <td class=\"tg-7geq\">j</td>\n",
    "    <td class=\"tg-baqh\">106</td>\n",
    "    <td class=\"tg-7geq\">w</td>\n",
    "    <td class=\"tg-baqh\">119</td>\n",
    "  </tr>\n",
    "  <tr>\n",
    "    <td class=\"tg-7geq\">K</td>\n",
    "    <td class=\"tg-baqh\">75</td>\n",
    "    <td class=\"tg-7geq\">X</td>\n",
    "    <td class=\"tg-baqh\">88</td>\n",
    "    <td class=\"tg-7geq\">k</td>\n",
    "    <td class=\"tg-baqh\">107</td>\n",
    "    <td class=\"tg-7geq\">x</td>\n",
    "    <td class=\"tg-baqh\">120</td>\n",
    "  </tr>\n",
    "  <tr>\n",
    "    <td class=\"tg-7geq\">L</td>\n",
    "    <td class=\"tg-baqh\">76</td>\n",
    "    <td class=\"tg-7geq\">Y</td>\n",
    "    <td class=\"tg-baqh\">89</td>\n",
    "    <td class=\"tg-7geq\">l</td>\n",
    "    <td class=\"tg-baqh\">108</td>\n",
    "    <td class=\"tg-7geq\">y</td>\n",
    "    <td class=\"tg-baqh\">121</td>\n",
    "  </tr>\n",
    "  <tr>\n",
    "    <td class=\"tg-7geq\">M</td>\n",
    "    <td class=\"tg-baqh\">77</td>\n",
    "    <td class=\"tg-7geq\">Z</td>\n",
    "    <td class=\"tg-baqh\">90</td>\n",
    "    <td class=\"tg-7geq\">m</td>\n",
    "    <td class=\"tg-baqh\">109</td>\n",
    "    <td class=\"tg-7geq\">z</td>\n",
    "    <td class=\"tg-baqh\">122</td>\n",
    "  </tr>\n",
    "</tbody>\n",
    "</table>\n"
   ]
  },
  {
   "cell_type": "markdown",
   "id": "d858b1f0-740c-431e-9067-1612a429960e",
   "metadata": {},
   "source": [
    "For example, the ASCII code for <b>!</b> is 33, while the ASCII code for <b>+</b> is 43. Therefore <b>+</b> is larger than <b>!</b> as 43 is greater than 33.\n"
   ]
  },
  {
   "cell_type": "markdown",
   "id": "7889a495-aa80-43b9-9ee4-8073768343c0",
   "metadata": {},
   "source": [
    "## ASCII stands for ***American Standard Code For Information Interchange\"***"
   ]
  },
  {
   "cell_type": "markdown",
   "id": "2669150a-ea61-44c2-9d56-9234afbca7f7",
   "metadata": {},
   "source": [
    "### ASCII encodiing is between 0-127"
   ]
  },
  {
   "cell_type": "markdown",
   "id": "b9bed100-f5d7-4471-8b9e-58140c5b157a",
   "metadata": {},
   "source": [
    "### To print the ASCII value of a character in Python use the ***ord()*** function"
   ]
  },
  {
   "cell_type": "code",
   "execution_count": 35,
   "id": "5d506063-925e-4f64-997c-ad2f4b6226c2",
   "metadata": {
    "tags": []
   },
   "outputs": [
    {
     "name": "stdout",
     "output_type": "stream",
     "text": [
      "ASCII value of the character A is 65.\n"
     ]
    }
   ],
   "source": [
    "char1 = \"A\"  # char is short for character\n",
    "result1 = ord(char1)\n",
    "print(\"ASCII value of the character {} is {}.\".format(char1, result1))"
   ]
  },
  {
   "cell_type": "code",
   "execution_count": 37,
   "id": "f1b49275-4f9e-4c03-b44d-8b89e0e0ac1f",
   "metadata": {
    "tags": []
   },
   "outputs": [
    {
     "data": {
      "text/plain": [
       "True"
      ]
     },
     "execution_count": 37,
     "metadata": {},
     "output_type": "execute_result"
    }
   ],
   "source": [
    "## Comparing characters can also be done\n",
    "\n",
    "'B' > 'A'  # Looking at the chart above you see B = 66 and A = 65"
   ]
  },
  {
   "cell_type": "code",
   "execution_count": 38,
   "id": "d7a898cb-3c83-47ca-a950-98e11e912990",
   "metadata": {
    "tags": []
   },
   "outputs": [
    {
     "data": {
      "text/plain": [
       "True"
      ]
     },
     "execution_count": 38,
     "metadata": {},
     "output_type": "execute_result"
    }
   ],
   "source": [
    "## Comparing charaters for practice\n",
    "\n",
    "'BA' > 'AB' "
   ]
  },
  {
   "cell_type": "markdown",
   "id": "e575694c-cd99-4ca9-a5e0-2704e5834295",
   "metadata": {},
   "source": [
    "## ***Note*** Upper Case Letters have different ASCII code than Lower Case Letters, which means the comparison between the letters in Pyhton is case-sensitive."
   ]
  },
  {
   "cell_type": "markdown",
   "id": "7602a3f0-b89a-45f6-a8fe-7dea607c296f",
   "metadata": {},
   "source": [
    "# Branching"
   ]
  },
  {
   "cell_type": "markdown",
   "id": "a33a41b8-20ae-47c7-ac34-41201381e44c",
   "metadata": {},
   "source": [
    "<img src=\"https://cf-courses-data.s3.us.cloud-object-storage.appdomain.cloud/IBMDeveloperSkillsNetwork-PY0101EN-SkillsNetwork/labs/Module%203/images/CondsLogicMap.png\" width=\"650\">\n"
   ]
  },
  {
   "cell_type": "code",
   "execution_count": 43,
   "id": "6a4115ab-87a7-454e-943e-bf28a648af3d",
   "metadata": {
    "tags": []
   },
   "outputs": [
    {
     "name": "stdout",
     "output_type": "stream",
     "text": [
      "Album year is greater than 1980\n",
      "do something..\n"
     ]
    }
   ],
   "source": [
    "# Condition statement example\n",
    "\n",
    "album_year = 1983\n",
    "#album_year = 1970\n",
    "\n",
    "if album_year > 1980:\n",
    "    print(\"Album year is greater than 1980\")\n",
    "else:\n",
    "    print(\"less than 1980\")\n",
    "\n",
    "print('do something..')"
   ]
  },
  {
   "cell_type": "markdown",
   "id": "4b5d2c05-8e0b-4a49-b1e5-fd27c7a768af",
   "metadata": {},
   "source": [
    "# Logic Operators are: ***and***, ***or***, ***not***\n",
    "#### Summarized for two variables using the following truth tables:"
   ]
  },
  {
   "cell_type": "markdown",
   "id": "9b2d4a93-4bcf-4dee-8e50-fea85a8163d9",
   "metadata": {},
   "source": [
    "<img src=\"https://cf-courses-data.s3.us.cloud-object-storage.appdomain.cloud/IBMDeveloperSkillsNetwork-PY0101EN-SkillsNetwork/labs/Module%203/images/CondsTable.png\" width=\"650\">\n"
   ]
  },
  {
   "cell_type": "markdown",
   "id": "daadec1f-63bb-40b6-9a72-0f8e498985be",
   "metadata": {},
   "source": [
    "The <code>and</code> statement is only **True** when both conditions are true. The <code>or</code> statement is True if one condition, or both are **True**. The <code>not</code> statement outputs the opposite truth value."
   ]
  },
  {
   "cell_type": "markdown",
   "id": "28804b52-c0d4-4f68-9478-dced0aec3002",
   "metadata": {},
   "source": [
    "## Using ***AND***"
   ]
  },
  {
   "cell_type": "markdown",
   "id": "882e6768-f722-4a04-a4a6-c35f0a17ec95",
   "metadata": {},
   "source": [
    "Let's see how to determine if an album was released after 1979 (1979 is not included) and before 1990 (1990 is not included). The time periods between 1980 and 1989 satisfy this condition. This is demonstrated in the figure below. The green on lines <strong>a</strong> and <strong>b</strong> represents periods where the statement is **True**. The green on line <strong>c</strong> represents where both conditions are **True**, this corresponds to where the green regions overlap.\n"
   ]
  },
  {
   "cell_type": "markdown",
   "id": "48a54971-ad26-410c-8ebb-bce5ff3eca17",
   "metadata": {},
   "source": [
    "<img src=\"https://cf-courses-data.s3.us.cloud-object-storage.appdomain.cloud/IBMDeveloperSkillsNetwork-PY0101EN-SkillsNetwork/labs/Module%203/images/CondsEgOne.png\" width=\"650\">"
   ]
  },
  {
   "cell_type": "code",
   "execution_count": 44,
   "id": "f06c9a3c-99cf-47e3-9bbc-56042f61d217",
   "metadata": {
    "tags": []
   },
   "outputs": [
    {
     "name": "stdout",
     "output_type": "stream",
     "text": [
      "Album year was in between 1980 and 1989\n",
      "\n",
      "Do Stuff..\n"
     ]
    }
   ],
   "source": [
    "# Condition statement example\n",
    "\n",
    "album_year = 1980\n",
    "\n",
    "if(album_year > 1979) and (album_year < 1990):\n",
    "    print (\"Album year was in between 1980 and 1989\")\n",
    "    \n",
    "print(\"\")\n",
    "print(\"Do Stuff..\")"
   ]
  },
  {
   "cell_type": "markdown",
   "id": "77ac6652-f678-4f43-b594-1bfec2d39c3e",
   "metadata": {},
   "source": [
    "## Using ***OR***"
   ]
  },
  {
   "cell_type": "markdown",
   "id": "2ff6ee38-97b6-4934-b9a5-b0333a1cb7e9",
   "metadata": {},
   "source": [
    "To determine if an album was released before 1980 (1979 and earlier) or after 1989 (1990 and onward ), an or statement can be used. Periods before 1980 (1979 and earlier) or after 1989 (1990 and onward) satisfy this condition. This is demonstrated in the following figure, the color green in <strong>a</strong> and <strong>b</strong> represents periods where the statement is true. The color green in **c** represents where at least one of the conditions\n",
    "are true.\n"
   ]
  },
  {
   "cell_type": "markdown",
   "id": "734738ba-e658-42cf-93e6-21cb354460a2",
   "metadata": {},
   "source": [
    "<img src=\"https://cf-courses-data.s3.us.cloud-object-storage.appdomain.cloud/IBMDeveloperSkillsNetwork-PY0101EN-SkillsNetwork/labs/Module%203/images/CondsEgTwo.png\" width=\"650\">"
   ]
  },
  {
   "cell_type": "code",
   "execution_count": 45,
   "id": "77a6361f-ddb9-4e6e-bebf-29221e981eb3",
   "metadata": {
    "tags": []
   },
   "outputs": [
    {
     "name": "stdout",
     "output_type": "stream",
     "text": [
      "Album was not made in the 1980's\n"
     ]
    }
   ],
   "source": [
    "# Condition statement example\n",
    "\n",
    "album_year = 1990\n",
    "\n",
    "if(album_year < 1980) or (album_year > 1989):\n",
    "    print (\"Album was not made in the 1980's\")\n",
    "else:\n",
    "    print(\"The Album was made in the 1980's \")"
   ]
  },
  {
   "cell_type": "markdown",
   "id": "d5bd01b4-bce6-4d5a-b5e1-c98fdf3f42de",
   "metadata": {},
   "source": [
    "## Using ***NOT***"
   ]
  },
  {
   "cell_type": "code",
   "execution_count": 55,
   "id": "880be507-54c6-456e-913a-183d5f385e54",
   "metadata": {
    "tags": []
   },
   "outputs": [
    {
     "name": "stdout",
     "output_type": "stream",
     "text": [
      "Album year is not 1984\n"
     ]
    }
   ],
   "source": [
    "# Condition statement example\n",
    "\n",
    "album_year = 1983\n",
    "\n",
    "if not (album_year == 1984):\n",
    "    print (\"Album year is not 1984\")  # This will be printed if the album is not 1984\n"
   ]
  },
  {
   "cell_type": "markdown",
   "id": "f9ad07f9-8f92-4915-a6b1-ac85b1882769",
   "metadata": {},
   "source": [
    "Write an if statement to determine if an album came out before 1980 or in the years: 1991 or 1993. If the condition is true print out the year the album came out.\n"
   ]
  },
  {
   "cell_type": "code",
   "execution_count": 60,
   "id": "3ef28cb3-1e77-418a-8c61-070236596c65",
   "metadata": {
    "tags": []
   },
   "outputs": [
    {
     "name": "stdout",
     "output_type": "stream",
     "text": [
      "This album came out in year 1991\n"
     ]
    }
   ],
   "source": [
    "album_year = 1991\n",
    "\n",
    "if album_year < 1980 or album_year == 1991 or album_year == 1993:\n",
    "    print(\"This album came out in year\", album_year)\n"
   ]
  },
  {
   "cell_type": "code",
   "execution_count": 69,
   "id": "71337215-71ad-4887-a9ea-847c22550533",
   "metadata": {
    "tags": []
   },
   "outputs": [
    {
     "name": "stdout",
     "output_type": "stream",
     "text": [
      "This must be a young person 22\n"
     ]
    }
   ],
   "source": [
    "# more practice with and or functions\n",
    "\n",
    "age = 22\n",
    "\n",
    "if age < 100 and age < 35:\n",
    "    print(\"This must be a young person\", age)\n",
    "else:\n",
    "    print(\"This person is getting old\", age)"
   ]
  },
  {
   "cell_type": "code",
   "execution_count": 75,
   "id": "b61da205-c9c4-423f-a0a0-88447e3e2ee4",
   "metadata": {
    "tags": []
   },
   "outputs": [
    {
     "name": "stdout",
     "output_type": "stream",
     "text": [
      "You have lived a long life 77\n"
     ]
    }
   ],
   "source": [
    "# more prctice with and/or functions\n",
    "\n",
    "age = 77\n",
    "\n",
    "if age >= 75:\n",
    "    print(\"You have lived a long life\", age)\n",
    "else:\n",
    "    print(\"You have a long life to live\", age)"
   ]
  },
  {
   "cell_type": "code",
   "execution_count": 213,
   "id": "b64bcb1c-471f-42f6-9c9f-3ff753243ab8",
   "metadata": {
    "tags": []
   },
   "outputs": [
    {
     "data": {
      "text/plain": [
       "range(0, 3)"
      ]
     },
     "execution_count": 213,
     "metadata": {},
     "output_type": "execute_result"
    }
   ],
   "source": [
    "# Use the range\n",
    "\n",
    "range(3)\n"
   ]
  },
  {
   "cell_type": "markdown",
   "id": "a97e89d3-524d-4e31-9ae7-80be49eed425",
   "metadata": {},
   "source": [
    "<img src=\"https://cf-courses-data.s3.us.cloud-object-storage.appdomain.cloud/IBMDeveloperSkillsNetwork-PY0101EN-SkillsNetwork/labs/Module%203/images/range.PNG\" width=\"300\">\n"
   ]
  },
  {
   "cell_type": "markdown",
   "id": "dd93af5f-26ce-4e95-a798-34abb937584a",
   "metadata": {},
   "source": [
    "# ***for*** loop enables you to execute code block multiple times"
   ]
  },
  {
   "cell_type": "code",
   "execution_count": 214,
   "id": "d8d8082b-a420-49da-a9be-65473de191d2",
   "metadata": {
    "tags": []
   },
   "outputs": [
    {
     "name": "stdout",
     "output_type": "stream",
     "text": [
      "1982\n",
      "1980\n",
      "1973\n"
     ]
    }
   ],
   "source": [
    "# For Loop example\n",
    "\n",
    "dates = [1982, 1980, 1973]\n",
    "N = len(dates)\n",
    "\n",
    "for i in range(N):\n",
    "    print(dates[i])"
   ]
  },
  {
   "cell_type": "markdown",
   "id": "59feb348-e2b1-4cca-a980-4a48f588a11b",
   "metadata": {},
   "source": [
    "The code in the indent is executed <code>N</code> times, each time the value of <code>i</code> is increased by 1 for every execution. The statement executed is to <code>print</code> out the value in the list at index <code>i</code> as shown here:\n"
   ]
  },
  {
   "cell_type": "markdown",
   "id": "fbcca4b0-1bbd-45d8-9564-d4a181a2f1db",
   "metadata": {},
   "source": [
    "<img src=\"https://cf-courses-data.s3.us.cloud-object-storage.appdomain.cloud/IBMDeveloperSkillsNetwork-PY0101EN-SkillsNetwork/labs/Module%203/images/LoopsForRange.gif\" width=\"800\">\n"
   ]
  },
  {
   "cell_type": "code",
   "execution_count": 215,
   "id": "49901b25-fe50-4e2a-8016-a4b5e5c84e8a",
   "metadata": {
    "tags": []
   },
   "outputs": [
    {
     "name": "stdout",
     "output_type": "stream",
     "text": [
      "0\n",
      "1\n",
      "2\n",
      "3\n",
      "4\n",
      "5\n",
      "6\n",
      "7\n"
     ]
    }
   ],
   "source": [
    "# Example for a loop to print out numbers 0 to 7\n",
    "\n",
    "for i in range(0,8):\n",
    "    print(i)"
   ]
  },
  {
   "cell_type": "code",
   "execution_count": 218,
   "id": "c2d5205d-830a-41e1-83f7-d59a86fbc123",
   "metadata": {
    "tags": []
   },
   "outputs": [
    {
     "name": "stdout",
     "output_type": "stream",
     "text": [
      "1982\n",
      "1980\n",
      "1973\n"
     ]
    }
   ],
   "source": [
    "# Example of for loop, loop through list\n",
    "\n",
    "for year in dates:\n",
    "    print(year)"
   ]
  },
  {
   "cell_type": "markdown",
   "id": "9218d058-bbe0-4b3d-8adc-582bd85d96b7",
   "metadata": {},
   "source": [
    "![LoopsForList.gif](attachment:300098c7-3516-4e35-a4f6-7900ea334ef7.gif)<img src=\"https://cf-courses-data.s3.us.cloud-object-storage.appdomain.cloud/IBMDeveloperSkillsNetwork-PY0101EN-SkillsNetwork/labs/Module%203/images/LoopsForList.gif\" width=\"800\">\n"
   ]
  },
  {
   "cell_type": "markdown",
   "id": "d0b5a2a2-fa1a-4f55-ae59-dea0cfd8458f",
   "metadata": {},
   "source": [
    "## Changing the elements in a list with a loop"
   ]
  },
  {
   "cell_type": "code",
   "execution_count": 54,
   "id": "3e74dd6a-0e96-4a4e-a989-0b157653ca9e",
   "metadata": {
    "tags": []
   },
   "outputs": [
    {
     "name": "stdout",
     "output_type": "stream",
     "text": [
      "Before square  0 is red\n",
      "After square  0 is white\n",
      "Before square  1 is yellow\n",
      "After square  1 is white\n",
      "Before square  2 is green\n",
      "After square  2 is white\n",
      "Before square  3 is purple\n",
      "After square  3 is white\n",
      "Before square  4 is blue\n",
      "After square  4 is white\n",
      "Before square  0 is white\n",
      "After square  0 is blue\n",
      "Before square  1 is white\n",
      "After square  1 is blue\n",
      "Before square  2 is white\n",
      "After square  2 is blue\n",
      "Before square  3 is white\n",
      "After square  3 is blue\n",
      "Before square  4 is white\n",
      "After square  4 is blue\n"
     ]
    }
   ],
   "source": [
    "# Use for loop to change the elements in list\n",
    "\n",
    "squares = ['red', 'yellow', 'green', 'purple', 'blue']\n",
    "\n",
    "for i in range(0, 5):\n",
    "    print(\"Before square \", i, 'is',  squares[i])\n",
    "    squares[i] = 'white'\n",
    "    print(\"After square \", i, 'is',  squares[i])\n",
    "    \n",
    "for i in range(0, 5):\n",
    "    print(\"Before square \", i, \"is\", squares[i])\n",
    "    squares[i] = 'blue'\n",
    "    print(\"After square \", i, 'is', squares[i])"
   ]
  },
  {
   "cell_type": "code",
   "execution_count": 224,
   "id": "e263e0ed-7738-4155-b032-140b35c8e9a0",
   "metadata": {
    "tags": []
   },
   "outputs": [
    {
     "name": "stdout",
     "output_type": "stream",
     "text": [
      "0 red\n",
      "1 yellow\n",
      "2 green\n",
      "3 purple\n",
      "4 blue\n"
     ]
    }
   ],
   "source": [
    "# Loop through the list and iterate on both index and elment value\n",
    "\n",
    "squares = ['red', 'yellow', 'green', 'purple', 'blue']\n",
    "\n",
    "for i, square in enumerate(squares):\n",
    "    print(i, square)"
   ]
  },
  {
   "cell_type": "code",
   "execution_count": 9,
   "id": "d497a4de-cee9-41ca-bc80-d798fd049304",
   "metadata": {
    "tags": []
   },
   "outputs": [
    {
     "name": "stdout",
     "output_type": "stream",
     "text": [
      "Before name 0 is Mickey\n",
      "After name 0 is McCall\n",
      "Before name 1 is Dawn\n",
      "After name 1 is McCall\n",
      "Before name 2 is Owen\n",
      "After name 2 is McCall\n",
      "Before name 3 is Aaron\n",
      "After name 3 is McCall\n",
      "Before name 4 is Nicholas\n",
      "After name 4 is McCall\n",
      "6\n",
      "7\n",
      "8\n"
     ]
    }
   ],
   "source": [
    "# practice changing elements\n",
    "\n",
    "names = ['Mickey', 'Dawn', 'Owen', 'Aaron', 'Nicholas']\n",
    "\n",
    "for m in range(0,5):\n",
    "    print('Before name', m, 'is', names[m])\n",
    "    names[m] = 'McCall'\n",
    "    print('After name', m, 'is', names[m])\n",
    "\n",
    "for m in range(6, 9):\n",
    "    print(m)"
   ]
  },
  {
   "cell_type": "code",
   "execution_count": 233,
   "id": "8020d708-336d-4bac-a74e-fb2bea3ffb91",
   "metadata": {
    "tags": []
   },
   "outputs": [
    {
     "name": "stdout",
     "output_type": "stream",
     "text": [
      "0 Mickey\n",
      "1 Dawn\n",
      "2 Owen\n",
      "3 Aaron\n",
      "4 Nicholas\n"
     ]
    }
   ],
   "source": [
    "names = ['Mickey', 'Dawn', 'Owen', 'Aaron', 'Nicholas']\n",
    "\n",
    "for m, names in enumerate(names):\n",
    "    print (m, names)\n"
   ]
  },
  {
   "cell_type": "code",
   "execution_count": 240,
   "id": "40c7a2fc-b3df-4277-814e-b3173b9d5a8d",
   "metadata": {
    "tags": []
   },
   "outputs": [
    {
     "data": {
      "text/plain": [
       "8"
      ]
     },
     "execution_count": 240,
     "metadata": {},
     "output_type": "execute_result"
    }
   ],
   "source": [
    "len(names)"
   ]
  },
  {
   "cell_type": "markdown",
   "id": "ef6de747-1541-443f-85ee-7c893f705a99",
   "metadata": {
    "tags": []
   },
   "source": [
    "<h3 id=\"while\">What is <code>while</code> loop?</h3>\n"
   ]
  },
  {
   "cell_type": "markdown",
   "id": "b5e09b1a-611b-4df9-a5ba-d418f048913b",
   "metadata": {},
   "source": [
    "As you can see, the <code>for</code> loop is used for a controlled flow of repetition. However, what if we don't know when we want to stop the loop? What if we want to keep executing a code block until a certain condition is met? The <code>while</code> loop exists as a tool for repeated execution based on a condition. The code block will keep being executed until the given logical condition returns a **False** boolean value.\n"
   ]
  },
  {
   "cell_type": "markdown",
   "id": "46246b5d-a217-4eb7-b338-7fc00c7d7812",
   "metadata": {
    "tags": []
   },
   "source": [
    "#### Here's how a while loop works:\n",
    "\n",
    "1. First, you specify a condition that the loop will check before each iteration (repetition) of the code block.\n",
    "2. If the condition is initially true, the code block is executed.\n",
    "3. After executing the code block, the condition is checked again.\n",
    "4. If the condition is still true, the code block is executed again.\n",
    "5. Steps 3 and 4 repeat until the condition becomes false.\n",
    "6. Once the condition becomes false, the loop stops, and the program continues with the next line of code after the loop.\n"
   ]
  },
  {
   "cell_type": "code",
   "execution_count": 245,
   "id": "39095b98-7209-4e9d-9c9f-836f4116479b",
   "metadata": {
    "tags": []
   },
   "outputs": [
    {
     "name": "stdout",
     "output_type": "stream",
     "text": [
      "1\n",
      "2\n",
      "3\n",
      "4\n",
      "5\n",
      "6\n",
      "7\n",
      "8\n",
      "9\n"
     ]
    }
   ],
   "source": [
    "count = 1\n",
    "while count <= 9:\n",
    "    print(count)\n",
    "    count += 1"
   ]
  },
  {
   "cell_type": "markdown",
   "id": "29ef0bb9-0ab8-43e1-bfbc-19f0874d364a",
   "metadata": {},
   "source": [
    "###  The condition ***count <=9*** is checked before each iteration. As long as count is less than or equal to 9, the code block inside the loop is executed. After each iteration, the value of count is incremented by 1 using ***count +=1***. Once count reaches 10 the condition is false and the loop stops."
   ]
  },
  {
   "cell_type": "code",
   "execution_count": 246,
   "id": "0ba6c205-967f-40dc-83c0-81c91e807414",
   "metadata": {
    "tags": []
   },
   "outputs": [
    {
     "name": "stdout",
     "output_type": "stream",
     "text": [
      "1982\n",
      "1980\n",
      "It took  2 repetitions to get out of loop.\n"
     ]
    }
   ],
   "source": [
    "# While Loop Example\n",
    "\n",
    "dates = [1982, 1980, 1973, 2000]\n",
    "\n",
    "i = 0\n",
    "year = dates[0]\n",
    "\n",
    "while(year != 1973):    \n",
    "    print(year)\n",
    "    i = i + 1\n",
    "    year = dates[i]\n",
    "    \n",
    "\n",
    "print(\"It took \", i ,\"repetitions to get out of loop.\")"
   ]
  },
  {
   "cell_type": "markdown",
   "id": "2848324c-1cec-4391-9e02-7d910d7a2e8a",
   "metadata": {},
   "source": [
    "### A ***while*** loop iterates merely until the condition in the argument is ***not** met, as shown in the following figure."
   ]
  },
  {
   "cell_type": "markdown",
   "id": "a0324782-846f-488e-a4ec-f7e76e184a5b",
   "metadata": {},
   "source": [
    "<img src=\"https://cf-courses-data.s3.us.cloud-object-storage.appdomain.cloud/IBMDeveloperSkillsNetwork-PY0101EN-SkillsNetwork/labs/Module%203/images/LoopsWhile.gif\" width=\"650\">\n"
   ]
  },
  {
   "cell_type": "markdown",
   "id": "c5e8527c-336a-46c5-baa7-fb8f362c8b9d",
   "metadata": {},
   "source": [
    "## The main difference between a while loop and a for loop in Python is how they control the flow of execution and handle iterations."
   ]
  },
  {
   "cell_type": "markdown",
   "id": "86c8d361-aedf-4f73-99e2-978e7cc56f93",
   "metadata": {},
   "source": [
    "## Key point of While Loop:\n",
    "1. A while loop repeatedly executes a block of code as a given condition is true\n",
    "2. It does not have a fixed number of iterations but continues executing until the condition becomes false.\n",
    "3. The condition is checked before each iteration, and if it's false initially, the code block is skipped entirely.\n",
    "4. The condition is typically based on a variable or expression that can changed during the execution of the loop.\n",
    "5. It provides more flexibility in terms of controlling the loop's execution based on dynamic conditions."
   ]
  },
  {
   "cell_type": "markdown",
   "id": "be644692-9df1-4ae0-a724-1bd4fb1d1289",
   "metadata": {},
   "source": [
    "## In Python, you can create a while loop using the while keyword. A while loop repeatedly executes a block of code as long as a specified condition is True. Here's the basic syntax for a while loop"
   ]
  },
  {
   "cell_type": "markdown",
   "id": "d9f99e97-8b6e-41f2-9ac6-bf2f74885963",
   "metadata": {
    "tags": []
   },
   "source": [
    "### while condition:\n",
    "    # Code to be executed as long as the condition is True"
   ]
  },
  {
   "cell_type": "markdown",
   "id": "fe247650-a702-434b-bfcf-05af252a4e45",
   "metadata": {},
   "source": [
    "## Here's a breakdown of the components:\n",
    "\n",
    "## ***while***: This is the keyword that starts the while loop.\n",
    "## ***condition***: This is a Boolean expression that determines whether the loop should continue executing or not. \n",
    "## As long as the condition is True, the loop will keep running.\n",
    "## Here's an example of a simple while loop that counts from 1 to 5:"
   ]
  },
  {
   "cell_type": "code",
   "execution_count": 4,
   "id": "7e298564-fa0c-45a9-9859-6a6b96f28038",
   "metadata": {
    "tags": []
   },
   "outputs": [
    {
     "name": "stdout",
     "output_type": "stream",
     "text": [
      "1\n",
      "2\n",
      "3\n",
      "4\n",
      "5\n"
     ]
    }
   ],
   "source": [
    "count = 1\n",
    "while count <= 5:\n",
    "    print(count)\n",
    "    count += 1\n"
   ]
  },
  {
   "cell_type": "markdown",
   "id": "c5bd82c4-aa00-474e-95de-889b0f6a8210",
   "metadata": {},
   "source": [
    "## In this example, the loop starts with count equal to 1. \n",
    "## The condition count <= 5 is checked before each iteration. \n",
    "## As long as the condition is True, the loop continues, and count is incremented by 1 in each iteration. \n",
    "## The loop stops when the condition becomes False.\n",
    "\n",
    "***Be cautious when using while loops to avoid creating infinite loops, where the condition never becomes False, as this can cause your program to run indefinitely. Make sure that the condition will eventually become False to exit the loop. You can use break statements to exit a while loop prematurely if needed.***"
   ]
  },
  {
   "cell_type": "markdown",
   "id": "6fd3892b-3f85-4717-adb5-8b3dbef723cd",
   "metadata": {},
   "source": [
    "## Key point of For Loop:\n",
    "\n",
    "1. A for loop iterates over a sequence (such as a list, string, or range) or any object that supports iteration.\n",
    "2. It has a predefined number of iterations based on the length of the sequence or the number of items to iterate over.\n",
    "3. It automatically handles the iteration and does not require maintaining a separate variable for tracking the iteration count. \n",
    "4. It simplifies the code by encapsulating the iteration logic within the loop itself.\n",
    "5. It is commonly used when you know the ***exect number of iterations*** or need to iterate ***over each item*** in a collection."
   ]
  },
  {
   "cell_type": "markdown",
   "id": "6a0ed0af-3de7-4f31-8430-289273760cf5",
   "metadata": {},
   "source": [
    "## for: This is the keyword that starts the for loop.\n",
    "## variable: This is a variable name that you choose to represent each element in the iterable during each iteration of the loop. You can use any valid variable name.\n",
    "## in: This keyword is used to specify the iterable you want to loop through.\n",
    "## iterable: This is the collection or sequence of elements you want to iterate over.\n",
    "Here's an example of a simple for loop that iterates over a list of numbers and prints each number:"
   ]
  },
  {
   "cell_type": "code",
   "execution_count": 2,
   "id": "4eefd8ff-878b-4564-b861-5562d4d54854",
   "metadata": {
    "tags": []
   },
   "outputs": [
    {
     "name": "stdout",
     "output_type": "stream",
     "text": [
      "1\n",
      "2\n",
      "3\n",
      "4\n",
      "5\n"
     ]
    }
   ],
   "source": [
    "numbers = [1, 2, 3, 4, 5]\n",
    "for num in numbers:\n",
    "    print(num)\n"
   ]
  },
  {
   "cell_type": "markdown",
   "id": "6f636018-22cc-49b7-8657-e7f937ab85c4",
   "metadata": {},
   "source": [
    "## In this example, the variable num takes on each value from the numbers list in each iteration of the loop.\n",
    "\n",
    "You can use for loops to perform various tasks like iterating through files, processing data, and much more. It's a fundamental control structure in Python for repetitive tasks."
   ]
  },
  {
   "cell_type": "code",
   "execution_count": 2,
   "id": "555ae9f3-9257-44ac-a4d8-795ad8d2a823",
   "metadata": {
    "tags": []
   },
   "outputs": [
    {
     "name": "stdout",
     "output_type": "stream",
     "text": [
      "[-5]\n",
      "[-4]\n",
      "[-3]\n",
      "[-2]\n",
      "[-1]\n",
      "[0]\n",
      "[1]\n",
      "[2]\n",
      "[3]\n",
      "[4]\n"
     ]
    }
   ],
   "source": [
    "## A for loop that prints out all elements between -5 and 5 using range function\n",
    "\n",
    "for e in range(-5, 5):\n",
    "    print([e])"
   ]
  },
  {
   "cell_type": "markdown",
   "id": "2eae71fb-5d7a-4bd8-a68a-4240b25fe486",
   "metadata": {
    "tags": []
   },
   "source": [
    "Print the elements of the following list:\n",
    "<code>Genres=[ 'rock', 'R&B', 'Soundtrack', 'R&B', 'soul', 'pop']</code>\n",
    "Make sure you follow Python conventions.\n"
   ]
  },
  {
   "cell_type": "code",
   "execution_count": 11,
   "id": "ae9957c4-67a8-4373-975b-83c3d9b4e556",
   "metadata": {
    "tags": []
   },
   "outputs": [
    {
     "name": "stdout",
     "output_type": "stream",
     "text": [
      "rock\n",
      "R&B\n",
      "Soundtrack\n",
      "R&B\n",
      "soul\n",
      "pop\n"
     ]
    }
   ],
   "source": [
    "# Write your code below and press Shift+Enter to execute\n",
    "Genres = [ 'rock', 'R&B', 'Soundtrack', 'R&B', 'soul', 'pop']\n",
    "for Genre in Genres:\n",
    "    print(Genre)"
   ]
  },
  {
   "cell_type": "code",
   "execution_count": 13,
   "id": "6ffd2e25-c82a-49ca-ba10-eeb9b3e5b5a9",
   "metadata": {
    "tags": []
   },
   "outputs": [
    {
     "name": "stdout",
     "output_type": "stream",
     "text": [
      "Mickey\n",
      "Dawn\n",
      "Owen\n",
      "Aaron\n",
      "Nicholas\n"
     ]
    }
   ],
   "source": [
    "names = ['Mickey', 'Dawn', 'Owen', 'Aaron', 'Nicholas']  # simple for loop\n",
    "for name in names:\n",
    "    print(name)"
   ]
  },
  {
   "cell_type": "code",
   "execution_count": 17,
   "id": "f3de9dc9-06c0-464f-964e-e246739a7f12",
   "metadata": {
    "tags": []
   },
   "outputs": [
    {
     "name": "stdout",
     "output_type": "stream",
     "text": [
      "10\n",
      "9.5\n",
      "10\n",
      "8\n",
      "7.5\n"
     ]
    }
   ],
   "source": [
    "## PlayListRatings = [10, 9.5, 10, 8, 7.5, 5, 10, 10]\n",
    "\n",
    "PlayListRatings = [10, 9.5, 10, 8, 7.5, 5, 10, 10]  # this is the list\n",
    "i = 0  # this is the index [i] starting at index 0 which is the #10\n",
    "rating = PlayListRatings[0]  # rating is the variable being use for indexing PlayListRating\n",
    "while (i < len(PlayListRatings) and rating >= 6):   # this is basically a FOR loop.  i starts at 0, the first index, and then increases by one until it is at the end of the list (index len(PlayListRatings) - 1, which is the last value less than len(PlayListRatings)\n",
    "    print(rating)   # this just prints variable rating until greater than or equal to 6 is True. (5 or less)\n",
    "    i = i + 1   # this increases index by one when first index is met\n",
    "    rating = PlayListRatings [i]  "
   ]
  },
  {
   "cell_type": "markdown",
   "id": "19bd6fce-862f-4d4c-ab6e-dec5c57bbd23",
   "metadata": {},
   "source": [
    "#  ***Your little brother has just learned multiplication tables in school. Today he has learned tables of 6 and 7. Help him memorise both the tables by printing them using for loop."
   ]
  },
  {
   "cell_type": "code",
   "execution_count": 1,
   "id": "db957653-43a6-4c0b-8207-e8069785f7aa",
   "metadata": {
    "tags": []
   },
   "outputs": [
    {
     "name": "stdout",
     "output_type": "stream",
     "text": [
      "Multiplication table of 6:\n",
      "6* 0 = 0\n",
      "6* 1 = 6\n",
      "6* 2 = 12\n",
      "6* 3 = 18\n",
      "6* 4 = 24\n",
      "6* 5 = 30\n",
      "6* 6 = 36\n",
      "6* 7 = 42\n",
      "6* 8 = 48\n",
      "6* 9 = 54\n",
      "6* 10 = 60\n",
      "6* 11 = 66\n",
      "6* 12 = 72\n",
      "multiplication table of 7:\n",
      "7* 0 = 7\n",
      "7* 1 = 7\n",
      "7* 2 = 7\n",
      "7* 3 = 7\n",
      "7* 4 = 7\n",
      "7* 5 = 7\n",
      "7* 6 = 7\n",
      "7* 7 = 7\n",
      "7* 8 = 7\n",
      "7* 9 = 7\n",
      "7* 10 = 7\n",
      "7* 11 = 7\n",
      "7* 12 = 7\n"
     ]
    }
   ],
   "source": [
    "#This is the code used to solve this problem\n",
    "\n",
    "print (\"Multiplication table of 6:\")  # This just a heading\n",
    "for i in range (13):  # The range is 13 so you have 0-12 answers\n",
    "    print(\"6*\" , i, \"=\", 6*i)   # 6* is printed to see 6* (0-12) = answer\n",
    "print (\"multiplication table of 7:\")  # This is heaading for 7\n",
    "for i in range (13):\n",
    "    print (\"7*\", i, \"=\", 7*1)\n",
    "    "
   ]
  },
  {
   "cell_type": "markdown",
   "id": "41ecd729-da8c-4b31-9c1d-52aff9036fbf",
   "metadata": {},
   "source": [
    "### The following is a list of animals in a National Zoo. ***Animals = ['lion', 'giraffe', 'gorrila', 'parrots', 'crocodile', 'deer', 'swan']***"
   ]
  },
  {
   "cell_type": "markdown",
   "id": "c5b114f6-2024-4d64-a2e8-51897fae92e7",
   "metadata": {},
   "source": [
    "### Your brother needs to write an essay on the animals whose names are made of 7 letters. Help him find those animals through a while loop and create a separate list of such animals."
   ]
  },
  {
   "cell_type": "code",
   "execution_count": 2,
   "id": "6fbc69cc-6f88-49cc-b7f7-53933cedf132",
   "metadata": {
    "tags": []
   },
   "outputs": [],
   "source": [
    "Animals=[\"lion\", \"giraffe\", \"gorilla\", \"parrots\", \"crocodile\", \"deer\", \"swan\"]\n",
    "# This is the original list."
   ]
  },
  {
   "cell_type": "code",
   "execution_count": 90,
   "id": "2339bfce-3b65-4929-a2c2-1e72d65f1796",
   "metadata": {
    "tags": []
   },
   "outputs": [
    {
     "name": "stdout",
     "output_type": "stream",
     "text": [
      "['giraffe', 'gorilla', 'parrots']\n"
     ]
    }
   ],
   "source": [
    "New =[]  #This is the empty list\n",
    "\n",
    "i = 0  #This is setting index **i** to index start of 0\n",
    "\n",
    "while i<len(Animals):  # This is checking to move to next index\n",
    "    j=Animals[i]   #This is setting variable j as list of Animals \n",
    "\n",
    "    if(len(j)==7):  #This if checks for the length of the animal \n",
    "\n",
    "        New.append(j)  # This puts the seven letter animal in empty list\n",
    "\n",
    "    i = i+1 # This moves to the next iteration\n",
    "\n",
    "print(New)    #This prints the empty list filled with 7 letter animals"
   ]
  },
  {
   "cell_type": "markdown",
   "id": "86c6a7de-6294-4fdd-94be-1f5625aaf88f",
   "metadata": {},
   "source": [
    "## This is and example to help me understand how to build loops."
   ]
  },
  {
   "cell_type": "code",
   "execution_count": 31,
   "id": "8b7143d2-41c4-4462-9ec9-66553abfc374",
   "metadata": {
    "tags": []
   },
   "outputs": [
    {
     "name": "stdout",
     "output_type": "stream",
     "text": [
      "Truck 5 is overweight and weighs 13900 lbs\n",
      "Truck 2 is not overweight and weighs 6800 lbs\n",
      "Truck 7 is not overweight and weighs 5900 lbs\n",
      "Truck 4 is not overweight and weighs 5800 lbs\n",
      "Truck 1 is not overweight and weighs 7100 lbs\n",
      "Truck 9 is overweight and weighs 12500 lbs\n",
      "Truck 3 is not overweight and weighs 9100 lbs\n",
      "Truck 6 is not overweight and weighs 4000 lbs\n",
      "Truck 10 is not overweight and weighs 8400 lbs\n",
      "Truck 8 is overweight and weighs 12000 lbs\n",
      "List of overweight trucks:  [5, 9, 8]\n",
      "List of underweight trucks:  [2, 7, 4, 1, 3, 6, 10]\n"
     ]
    }
   ],
   "source": [
    "import random   #This imports a random generater program\n",
    "\n",
    "# all weights in pounds\n",
    "weight_orange = 500\n",
    "weight_apples = 700\n",
    "weight_strawberries = 300\n",
    "\n",
    "max_truck_weight = 10000\n",
    "\n",
    "truck_list = [5,2,7,4,1,9,3,6,10,8]\n",
    "\n",
    "overweight_trucks = []\n",
    "\n",
    "# get truck number\n",
    "for truck in truck_list:\n",
    "    # generate random number of pallets of each fruit\n",
    "    number_orange_pallets = random.randint(1,12)\n",
    "    number_apple_pallets = random.randint(1,8)\n",
    "    number_strawberry_pallets = random.randint(1,15)\n",
    "\n",
    "    # calculate total weight of product\n",
    "    total_orange_weight = number_orange_pallets*weight_orange\n",
    "    total_apple_weight = number_apple_pallets*weight_apples\n",
    "    total_strawberry_weight = number_strawberry_pallets*weight_strawberries\n",
    "\n",
    "    total_weight =  total_orange_weight + total_apple_weight + total_strawberry_weight\n",
    "    \n",
    "    # compare against max weight of truck\n",
    "    if total_weight <= max_truck_weight:\n",
    "        print(\"Truck %i is not overweight and weighs %i lbs\"%(truck, total_weight))\n",
    "    else:\n",
    "    # if its overweight print truck number and weight and add to a list\n",
    "        print(\"Truck %i is overweight and weighs %i lbs\"%(truck, total_weight))\n",
    "        overweight_trucks.append(truck)\n",
    "\n",
    "print(\"List of overweight trucks: \",overweight_trucks)\n",
    "\n",
    "underweight_trucks = [truck for truck in truck_list if truck not in overweight_trucks]\n",
    "\n",
    "print(\"List of underweight trucks: \",underweight_trucks)\n"
   ]
  },
  {
   "cell_type": "markdown",
   "id": "1665db03-ba4b-4237-9d2e-fecbc930facb",
   "metadata": {},
   "source": [
    "# Functions"
   ]
  },
  {
   "cell_type": "markdown",
   "id": "610af253-feef-4236-8fb5-3ce941a9c480",
   "metadata": {},
   "source": [
    "### A function is a reusable block of code which performs operations specified in the function. They let  you break down tasks and allow you to reuse your code in different programs."
   ]
  },
  {
   "cell_type": "markdown",
   "id": "c804e7e0-90a3-4e6f-bec7-2db0be64ab50",
   "metadata": {},
   "source": [
    "#### There are two types of functions:\n",
    "\n",
    "***Pre-definded functions***\n",
    "\n",
    "***User definded functions***"
   ]
  },
  {
   "cell_type": "markdown",
   "id": "a18a6d66-cfa7-4efe-a1e0-d5e1afb40e5c",
   "metadata": {},
   "source": [
    "### Here are simple rules to define a function in Python:\n",
    "\n",
    "**Functions blocks begin with ***def*** follwed by the function ***name*** and parentheses ***()*** **\n",
    "\n",
    "**There are inpput parameters or arguments that should be placed with in these parentheses.**\n",
    "\n",
    "**You can also define parameters inside these parentheses.**\n",
    "\n",
    "**There is a body within every function that starts with a ***:*** and is indented**\n",
    "\n",
    "**You can also place documentation before the body.**\n",
    "\n",
    "**The statement ***return*** exits a function, optionally passing back a value.**"
   ]
  },
  {
   "cell_type": "markdown",
   "id": "420044ea-f489-4746-8f8d-93c17da59bab",
   "metadata": {},
   "source": [
    "### Example of a function that adds on to the parameter ***a*** prints and returns the output as ***b***"
   ]
  },
  {
   "cell_type": "code",
   "execution_count": 2,
   "id": "5449f983-556f-4c1f-95cc-12350230d166",
   "metadata": {
    "tags": []
   },
   "outputs": [],
   "source": [
    "# First function example: Add 1 to a and store as b\n",
    "\n",
    "def add(a):\n",
    "    \"\"\"\n",
    "    add 1 to a\n",
    "    \"\"\"\n",
    "    b= a + 1\n",
    "    print(a, 'if you add one', b)\n",
    "    return(b)"
   ]
  },
  {
   "cell_type": "code",
   "execution_count": 3,
   "id": "c87fa1c6-86f5-4243-be1f-cff5e41da144",
   "metadata": {
    "tags": []
   },
   "outputs": [
    {
     "name": "stdout",
     "output_type": "stream",
     "text": [
      "10 if you add one 11\n"
     ]
    },
    {
     "data": {
      "text/plain": [
       "11"
      ]
     },
     "execution_count": 3,
     "metadata": {},
     "output_type": "execute_result"
    }
   ],
   "source": [
    "add(10)"
   ]
  },
  {
   "cell_type": "code",
   "execution_count": 4,
   "id": "602e4bf0-444c-4ac9-8815-aa9b1dae2842",
   "metadata": {
    "tags": []
   },
   "outputs": [
    {
     "name": "stdout",
     "output_type": "stream",
     "text": [
      "1 if you add one 2\n"
     ]
    },
    {
     "data": {
      "text/plain": [
       "2"
      ]
     },
     "execution_count": 4,
     "metadata": {},
     "output_type": "execute_result"
    }
   ],
   "source": [
    "add(1)"
   ]
  },
  {
   "cell_type": "markdown",
   "id": "4d3b3010-7ad1-41fa-a552-b801b7f2f358",
   "metadata": {},
   "source": [
    "<img src=\"https://cf-courses-data.s3.us.cloud-object-storage.appdomain.cloud/IBMDeveloperSkillsNetwork-PY0101EN-SkillsNetwork/labs/Module%203/images/FuncsDefinition.png\" width=\"500\"> \n"
   ]
  },
  {
   "cell_type": "code",
   "execution_count": 5,
   "id": "a1cb4ad9-b02d-4751-a31c-81eba40c2714",
   "metadata": {
    "tags": []
   },
   "outputs": [
    {
     "name": "stdout",
     "output_type": "stream",
     "text": [
      "Help on function add in module __main__:\n",
      "\n",
      "add(a)\n",
      "    add 1 to a\n",
      "\n"
     ]
    }
   ],
   "source": [
    "# Get a help on add function\n",
    "\n",
    "help(add)"
   ]
  },
  {
   "cell_type": "code",
   "execution_count": 6,
   "id": "a30facf8-011e-47db-842b-50aa215db35e",
   "metadata": {
    "tags": []
   },
   "outputs": [
    {
     "name": "stdout",
     "output_type": "stream",
     "text": [
      "1 if you add one 2\n"
     ]
    },
    {
     "data": {
      "text/plain": [
       "2"
      ]
     },
     "execution_count": 6,
     "metadata": {},
     "output_type": "execute_result"
    }
   ],
   "source": [
    "# Call the function add()\n",
    "\n",
    "add(1)"
   ]
  },
  {
   "cell_type": "code",
   "execution_count": 7,
   "id": "2dd01677-818f-4d05-bf38-361abfb9989b",
   "metadata": {
    "tags": []
   },
   "outputs": [
    {
     "name": "stdout",
     "output_type": "stream",
     "text": [
      "2 if you add one 3\n"
     ]
    },
    {
     "data": {
      "text/plain": [
       "3"
      ]
     },
     "execution_count": 7,
     "metadata": {},
     "output_type": "execute_result"
    }
   ],
   "source": [
    "# If we call function with new input get new result\n",
    "\n",
    "add(2)"
   ]
  },
  {
   "cell_type": "markdown",
   "id": "c16d56d6-99c7-4556-a4f8-c852ce914ab0",
   "metadata": {},
   "source": [
    "### We can create different functions. For example, we can create a funtion that multiplies two numbers. The numbers will be represented by the variables ***a*** and ***b***:"
   ]
  },
  {
   "cell_type": "code",
   "execution_count": 8,
   "id": "f219bfd0-6b4c-49b5-9de3-0a552eeac54d",
   "metadata": {
    "tags": []
   },
   "outputs": [
    {
     "name": "stdout",
     "output_type": "stream",
     "text": [
      "24\n"
     ]
    }
   ],
   "source": [
    "# Define a funtion for multiple two numbers\n",
    "\n",
    "def Mult(a,b):\n",
    "    c= a * b\n",
    "    return(c)\n",
    "    print('This is not printed')\n",
    "    \n",
    "result = Mult(12,2)\n",
    "print(result)"
   ]
  },
  {
   "cell_type": "code",
   "execution_count": 11,
   "id": "60dff81e-cfc7-4f98-9b82-5b261204ebaa",
   "metadata": {
    "tags": []
   },
   "outputs": [
    {
     "data": {
      "text/plain": [
       "6"
      ]
     },
     "execution_count": 11,
     "metadata": {},
     "output_type": "execute_result"
    }
   ],
   "source": [
    "# The same function can be used for two intergers\n",
    "\n",
    "Mult(2, 3)"
   ]
  },
  {
   "cell_type": "code",
   "execution_count": 12,
   "id": "e322dde4-bb92-4ef0-9393-213948ad0b6a",
   "metadata": {
    "tags": []
   },
   "outputs": [
    {
     "data": {
      "text/plain": [
       "31.400000000000002"
      ]
     },
     "execution_count": 12,
     "metadata": {},
     "output_type": "execute_result"
    }
   ],
   "source": [
    "# Can also use on two floats\n",
    "\n",
    "Mult(10.0, 3.14)"
   ]
  },
  {
   "cell_type": "code",
   "execution_count": 13,
   "id": "ab8618be-d252-49b4-9631-0ff296954fa2",
   "metadata": {
    "tags": []
   },
   "outputs": [
    {
     "data": {
      "text/plain": [
       "'Michael JacksonMichael Jackson'"
      ]
     },
     "execution_count": 13,
     "metadata": {},
     "output_type": "execute_result"
    }
   ],
   "source": [
    "# Can use on strings to replicate them using an integer\n",
    "\n",
    "Mult(2, 'Michael Jackson')"
   ]
  },
  {
   "cell_type": "markdown",
   "id": "51c151cf-52ef-4246-8fcf-90fbf90d23a5",
   "metadata": {},
   "source": [
    "## Variables\n",
    "### The input to a funtion is called a formal paramater\n",
    "\n",
    "### A variable that is declared inside a function is called a ***local variable***. The parameter only exists within the function (i.e. the point where the functions starts and stops).\n",
    "\n",
    "### A variable that is declared outside a function definition is a ***global variable***, and its value is accessible and modifiable throughout the program."
   ]
  },
  {
   "cell_type": "code",
   "execution_count": 14,
   "id": "f59d2896-7b6a-4f51-8e75-56d38512f874",
   "metadata": {
    "tags": []
   },
   "outputs": [],
   "source": [
    "# Function Definition\n",
    "\n",
    "def square(a):\n",
    "    \n",
    "    # Local variable b\n",
    "    b = 1\n",
    "    c = a * a + b\n",
    "    print(a, 'if you square +1', c)\n",
    "    return(c)"
   ]
  },
  {
   "cell_type": "markdown",
   "id": "ce2ee2d0-6555-4e74-8b36-aa27e8760dbd",
   "metadata": {},
   "source": [
    "<img src=\"https://cf-courses-data.s3.us.cloud-object-storage.appdomain.cloud/IBMDeveloperSkillsNetwork-PY0101EN-SkillsNetwork/labs/Module%203/images/FuncsVar.png\" width=\"500\">\n",
    "​"
   ]
  },
  {
   "cell_type": "code",
   "execution_count": 16,
   "id": "6f22d518-cfdb-4efc-b7f3-1f759ec80bcf",
   "metadata": {
    "tags": []
   },
   "outputs": [
    {
     "name": "stdout",
     "output_type": "stream",
     "text": [
      "3 if you square +1 10\n"
     ]
    },
    {
     "data": {
      "text/plain": [
       "10"
      ]
     },
     "execution_count": 16,
     "metadata": {},
     "output_type": "execute_result"
    }
   ],
   "source": [
    "# We can call the imput of 3\n",
    "# Initializes Global variable\n",
    "\n",
    "x = 3\n",
    "# Makes function call and return function y\n",
    "y = square(x)\n",
    "y"
   ]
  },
  {
   "cell_type": "code",
   "execution_count": 17,
   "id": "6c53c351-cf8d-4cde-a1c3-ae0fb4d63b56",
   "metadata": {
    "tags": []
   },
   "outputs": [
    {
     "name": "stdout",
     "output_type": "stream",
     "text": [
      "2 if you square +1 5\n"
     ]
    },
    {
     "data": {
      "text/plain": [
       "5"
      ]
     },
     "execution_count": 17,
     "metadata": {},
     "output_type": "execute_result"
    }
   ],
   "source": [
    "# Can also call funtion with an input of 2\n",
    "# Directly enter a number as parameter\n",
    "\n",
    "square(2)"
   ]
  },
  {
   "cell_type": "markdown",
   "id": "e9f3d5e6-43f7-48c8-b805-d96f40e8d882",
   "metadata": {},
   "source": [
    "### If there is no ***return*** statement, the function returns ***none***. The following two functions are equivalent:"
   ]
  },
  {
   "cell_type": "code",
   "execution_count": 18,
   "id": "46e84792-2abd-41b5-9078-cc60d300e0c9",
   "metadata": {
    "tags": []
   },
   "outputs": [],
   "source": [
    "# Define functions, one with return value None and other without return value\n",
    "\n",
    "def MJ():\n",
    "    print('Michael Jackson')\n",
    "    \n",
    "def MJ1():\n",
    "    print('Michael Jackson')\n",
    "    return(None)"
   ]
  },
  {
   "cell_type": "code",
   "execution_count": 19,
   "id": "f701e0c0-3c8f-4d3e-9654-9ec8e85342bd",
   "metadata": {
    "tags": []
   },
   "outputs": [
    {
     "name": "stdout",
     "output_type": "stream",
     "text": [
      "Michael Jackson\n"
     ]
    }
   ],
   "source": [
    "# See the output\n",
    "\n",
    "MJ()"
   ]
  },
  {
   "cell_type": "code",
   "execution_count": 20,
   "id": "983402a5-1068-4dea-8a2e-828fffa38ae4",
   "metadata": {
    "tags": []
   },
   "outputs": [
    {
     "name": "stdout",
     "output_type": "stream",
     "text": [
      "Michael Jackson\n"
     ]
    }
   ],
   "source": [
    "# See the output\n",
    "\n",
    "MJ1()"
   ]
  },
  {
   "cell_type": "markdown",
   "id": "3df6f259-3d1e-44ad-b859-7fbecc3c57cd",
   "metadata": {},
   "source": [
    "### Printing the function after a call reveals ***None*** is the default return statement:"
   ]
  },
  {
   "cell_type": "code",
   "execution_count": 22,
   "id": "4cc66ddd-77c1-4bab-a7b2-591b6860f360",
   "metadata": {
    "tags": []
   },
   "outputs": [
    {
     "name": "stdout",
     "output_type": "stream",
     "text": [
      "Michael Jackson\n",
      "None\n",
      "Michael Jackson\n",
      "None\n"
     ]
    }
   ],
   "source": [
    "# See what functions returns are\n",
    "\n",
    "print(MJ())\n",
    "print(MJ1())"
   ]
  },
  {
   "cell_type": "markdown",
   "id": "be993c69-43b4-4095-b971-0d9f1f5d7c74",
   "metadata": {},
   "source": [
    "#### Create a function **con** that concatenates two strings using the additional operation:"
   ]
  },
  {
   "cell_type": "code",
   "execution_count": 23,
   "id": "4a567390-12e2-451c-b0e9-3abb70bb8f54",
   "metadata": {
    "tags": []
   },
   "outputs": [],
   "source": [
    "# Define the function for combining strings\n",
    "\n",
    "def con(a,b):\n",
    "    return(a + b)"
   ]
  },
  {
   "cell_type": "code",
   "execution_count": 26,
   "id": "6abac144-ac7d-40c1-a9d5-6113c3d22a59",
   "metadata": {
    "tags": []
   },
   "outputs": [
    {
     "data": {
      "text/plain": [
       "'This is'"
      ]
     },
     "execution_count": 26,
     "metadata": {},
     "output_type": "execute_result"
    }
   ],
   "source": [
    "# Test on the con() function\n",
    "\n",
    "con(\"This \", \"is\")"
   ]
  },
  {
   "cell_type": "markdown",
   "id": "cf3da133-4e36-4612-9068-f1d6a6f94b9c",
   "metadata": {},
   "source": [
    "<hr/>\n",
    "    <div class=\"alert alert-success alertsuccess\" style=\"margin-top: 20px\">\n",
    "        <h4> [Tip] How do I learn more about the pre-defined functions in Python? </h4>\n",
    "        <p>We will be introducing a variety of pre-defined functions to you as you learn more about Python. There are just too many functions, so there's no way we can teach them all in one sitting. But if you'd like to take a quick peek, here's a short reference card for some of the commonly-used pre-defined functions: <a href=\"https://cf-courses-data.s3.us.cloud-object-storage.appdomain.cloud/IBMDeveloperSkillsNetwork-PY0101EN-SkillsNetwork/labs/Module%203/Python_reference_sheet.pdf?utm_medium=Exinfluencer&utm_source=Exinfluencer&utm_content=000026UJ&utm_term=10006555&utm_id=NA-SkillsNetwork-Channel-SkillsNetworkCoursesIBMDeveloperSkillsNetworkPY0101ENSkillsNetwork19487395-2021-01-01\">Reference</a></p>\n",
    "    </div>\n",
    "<hr/>\n"
   ]
  },
  {
   "cell_type": "markdown",
   "id": "e22b1732-21d4-42f5-8dc2-71526388f257",
   "metadata": {},
   "source": [
    "## Functions Make Things Simple"
   ]
  },
  {
   "cell_type": "markdown",
   "id": "14a80ab2-8635-411c-bd34-8e653b6fef40",
   "metadata": {},
   "source": [
    "### Consider the two lines of code in **Block 1** and **Block 2**: the procedure for each block is identical. The ony thing that is different is the variable names and values."
   ]
  },
  {
   "cell_type": "markdown",
   "id": "555b27da-9316-4f31-9377-a9ed8aeaf419",
   "metadata": {},
   "source": [
    "### **Block 1**"
   ]
  },
  {
   "cell_type": "code",
   "execution_count": 27,
   "id": "f32557db-ec30-449a-88b6-6342ae2a7643",
   "metadata": {
    "tags": []
   },
   "outputs": [
    {
     "data": {
      "text/plain": [
       "5"
      ]
     },
     "execution_count": 27,
     "metadata": {},
     "output_type": "execute_result"
    }
   ],
   "source": [
    "# a and b calculation Block1\n",
    "\n",
    "a1 = 4\n",
    "b1 = 5\n",
    "c1 = a1 + b1 +2 * a1 * b1 - 1\n",
    "if(c1 < 0):\n",
    "    c1 = 0\n",
    "else:\n",
    "    c1 = 5\n",
    "c1"
   ]
  },
  {
   "cell_type": "markdown",
   "id": "665b95d9-7508-4dbd-b4e0-f29fdc492fc2",
   "metadata": {},
   "source": [
    "### **Block 2**"
   ]
  },
  {
   "cell_type": "code",
   "execution_count": 28,
   "id": "3286f9fc-bbfc-4a22-811c-de2e36efe4f6",
   "metadata": {
    "tags": []
   },
   "outputs": [
    {
     "data": {
      "text/plain": [
       "0"
      ]
     },
     "execution_count": 28,
     "metadata": {},
     "output_type": "execute_result"
    }
   ],
   "source": [
    "# a and b calculation block2\n",
    "\n",
    "a2 = 0\n",
    "b2 = 0\n",
    "c2 = a2 + b2 + 2 * a2 * b2 - 1\n",
    "if(c2 < 0):\n",
    "    c2 = 0\n",
    "else:\n",
    "    c2 = 5\n",
    "c2"
   ]
  },
  {
   "cell_type": "markdown",
   "id": "9845b9da-1d8f-4ca8-b44d-f86eb4729cd2",
   "metadata": {},
   "source": [
    "We can replace the lines of code with a function. A function combines many instructions into a single line of code. Once a function is defined, it can be used repeatedly. You can invoke the same function many times in your program. You can save your function and use it in another program or use someone else’s function. The lines of code in code <b>Block 1</b> and code <b>Block 2</b> can be replaced by the following function:\n"
   ]
  },
  {
   "cell_type": "code",
   "execution_count": 29,
   "id": "6e5bdbe9-c285-49db-a834-f2224926b0f5",
   "metadata": {
    "tags": []
   },
   "outputs": [],
   "source": [
    "# Make a Function for the calculation above\n",
    "\n",
    "def Equation(a,b):\n",
    "    c = a + b + 2 * a * b - 1\n",
    "    if (c < 0):\n",
    "        c = 0\n",
    "    else: \n",
    "        c = 5\n",
    "    return(c)"
   ]
  },
  {
   "cell_type": "markdown",
   "id": "d8879eb1-264c-4627-8e3c-f6b90b3874b0",
   "metadata": {},
   "source": [
    "This function takes two inputs, a and b, then applies several operations to return c.\n",
    "We simply define the function, replace the instructions with the function, and input the new values of <code>a1</code>, <code>b1</code> and <code>a2</code>, <code>b2</code> as inputs. The entire process is demonstrated in the figure:\n"
   ]
  },
  {
   "cell_type": "markdown",
   "id": "97c7d713-6df2-4e3f-a856-d2c38b9f8c51",
   "metadata": {},
   "source": [
    "![FuncsPros.gif](attachment:a2e48a6d-0dc2-465b-b9ea-03301a802927.gif)<img src=\"https://cf-courses-data.s3.us.cloud-object-storage.appdomain.cloud/IBMDeveloperSkillsNetwork-PY0101EN-SkillsNetwork/labs/Module%203/images/FuncsPros.gif\" width=\"850\">\n"
   ]
  },
  {
   "cell_type": "markdown",
   "id": "860bebf8-c5a2-419a-8cd6-b71d2fc15844",
   "metadata": {},
   "source": [
    "#### Code **Blocks 1** and **Block 2** can now be replaced with code **Block 3** and code **Block 4**"
   ]
  },
  {
   "cell_type": "markdown",
   "id": "e7ef825f-f957-4fc8-ad49-0a2e64383a58",
   "metadata": {},
   "source": [
    "### **Block 3**:"
   ]
  },
  {
   "cell_type": "code",
   "execution_count": 31,
   "id": "6e4bb312-dee2-4506-8446-251a5432d6eb",
   "metadata": {
    "tags": []
   },
   "outputs": [
    {
     "data": {
      "text/plain": [
       "5"
      ]
     },
     "execution_count": 31,
     "metadata": {},
     "output_type": "execute_result"
    }
   ],
   "source": [
    "a1 = 4\n",
    "b1 = 5\n",
    "c1 = Equation(a1,b1)\n",
    "c1"
   ]
  },
  {
   "cell_type": "markdown",
   "id": "adcdfc96-a307-4635-a91e-3e921800b6fd",
   "metadata": {},
   "source": [
    "### **Block 4**:"
   ]
  },
  {
   "cell_type": "code",
   "execution_count": 32,
   "id": "6ecec6d3-e989-40a6-ac45-019e127e50db",
   "metadata": {
    "tags": []
   },
   "outputs": [
    {
     "data": {
      "text/plain": [
       "0"
      ]
     },
     "execution_count": 32,
     "metadata": {},
     "output_type": "execute_result"
    }
   ],
   "source": [
    "a2 = 0\n",
    "b2 = 0\n",
    "c2 = Equation(a2,b2)\n",
    "c2"
   ]
  },
  {
   "cell_type": "markdown",
   "id": "ff601987-a8dc-466a-81db-8c7057fcd2bb",
   "metadata": {},
   "source": [
    "## Pre-defined functions"
   ]
  },
  {
   "cell_type": "markdown",
   "id": "1538758b-0d62-4237-8387-47cfd1ea6244",
   "metadata": {},
   "source": [
    "#### There are many pre-defined functions in Python, so let's start with the simple ones."
   ]
  },
  {
   "cell_type": "markdown",
   "id": "bb15aab3-85cb-47fe-9488-50e3b3227704",
   "metadata": {},
   "source": [
    "#### The **print()** function:"
   ]
  },
  {
   "cell_type": "code",
   "execution_count": 33,
   "id": "52f87fea-3828-4261-9098-682bee4a9db5",
   "metadata": {
    "tags": []
   },
   "outputs": [
    {
     "name": "stdout",
     "output_type": "stream",
     "text": [
      "[10.0, 8.5, 9.5, 7.0, 7.0, 9.5, 9.0, 9.5]\n"
     ]
    }
   ],
   "source": [
    "# Build-in funtion print()\n",
    "\n",
    "album_ratings = [10.0, 8.5, 9.5, 7.0, 7.0, 9.5, 9.0, 9.5]\n",
    "print(album_ratings)"
   ]
  },
  {
   "cell_type": "markdown",
   "id": "3e3d1058-2bf3-4855-9e20-f0adafedd3fc",
   "metadata": {},
   "source": [
    "#### The **sum()** functions adds all the elements in a list or tuple:"
   ]
  },
  {
   "cell_type": "code",
   "execution_count": 34,
   "id": "39aafb6b-d05b-4567-bacc-30dc2eddaac4",
   "metadata": {
    "tags": []
   },
   "outputs": [
    {
     "data": {
      "text/plain": [
       "70.0"
      ]
     },
     "execution_count": 34,
     "metadata": {},
     "output_type": "execute_result"
    }
   ],
   "source": [
    "# Use sum() to add every element in a llist or tuple together\n",
    "\n",
    "sum(album_ratings)\n"
   ]
  },
  {
   "cell_type": "markdown",
   "id": "be8484a4-76b2-4d3b-9120-f9fa8a05befe",
   "metadata": {},
   "source": [
    "#### The **len()** function returns the length of a list or tuple:"
   ]
  },
  {
   "cell_type": "code",
   "execution_count": 35,
   "id": "f8cb63b1-9429-4386-949f-10e018345255",
   "metadata": {
    "tags": []
   },
   "outputs": [
    {
     "data": {
      "text/plain": [
       "8"
      ]
     },
     "execution_count": 35,
     "metadata": {},
     "output_type": "execute_result"
    }
   ],
   "source": [
    "# Show the length of the list or tuple\n",
    "\n",
    "len(album_ratings)"
   ]
  },
  {
   "cell_type": "markdown",
   "id": "7708f3ce-2769-4fc6-85b6-8695aea02812",
   "metadata": {},
   "source": [
    "## Using **if/else** Statements and Loops in Functions"
   ]
  },
  {
   "cell_type": "markdown",
   "id": "6cf4b2d1-49f0-4d31-bcb6-f1852306420f",
   "metadata": {},
   "source": [
    "#### The **return()** function is particularly useful if you have any IF statemtents in the function, when you want your output to be dependent on some condition:"
   ]
  },
  {
   "cell_type": "code",
   "execution_count": 37,
   "id": "c00c2ba9-fdb2-49f6-a577-00a11a74a062",
   "metadata": {
    "tags": []
   },
   "outputs": [
    {
     "name": "stdout",
     "output_type": "stream",
     "text": [
      "Michael Jackson Thriller 1980\n",
      "Oldie\n"
     ]
    }
   ],
   "source": [
    "# Function example\n",
    "\n",
    "def type_of_album(artist, album, year_released):\n",
    "    \n",
    "    print(artist, album, year_released)\n",
    "    if year_released > 1980:\n",
    "        return \"Modern\"\n",
    "    else:\n",
    "        return \"Oldie\"\n",
    "x = type_of_album(\"Michael Jackson\", \"Thriller\", 1980)\n",
    "print(x)"
   ]
  },
  {
   "cell_type": "markdown",
   "id": "233ba2a7-4320-4b7a-91e6-413ff12ced89",
   "metadata": {},
   "source": [
    "#### We can use a loop in a function. For example, we can **print** out each element in a list:"
   ]
  },
  {
   "cell_type": "code",
   "execution_count": 38,
   "id": "fa54e5fb-bc53-4bb2-9a39-cd7cccd48485",
   "metadata": {
    "tags": []
   },
   "outputs": [],
   "source": [
    "# Print the list using for loop\n",
    "\n",
    "def Printlist(the_list):\n",
    "    for element in the_list:\n",
    "        print(element)"
   ]
  },
  {
   "cell_type": "code",
   "execution_count": 39,
   "id": "071b1783-cfb1-4a81-b4c1-45cd96481c9b",
   "metadata": {
    "tags": []
   },
   "outputs": [
    {
     "name": "stdout",
     "output_type": "stream",
     "text": [
      "1\n",
      "1\n",
      "the man\n",
      "abc\n"
     ]
    }
   ],
   "source": [
    "# Implement the printlist function\n",
    "\n",
    "Printlist(['1', 1, 'the man', \"abc\"])"
   ]
  },
  {
   "cell_type": "markdown",
   "id": "96e7b2bf-3bb3-4255-82e9-dba94fe9c5ad",
   "metadata": {},
   "source": [
    "## Setting default argument values in your custom functions"
   ]
  },
  {
   "cell_type": "markdown",
   "id": "3d1bda65-8145-4d56-9fe0-e53c6bc14ea8",
   "metadata": {},
   "source": [
    "#### You can set a default value for arguments in your function. For example, in the **isGoodRating()** function, what if we wanted to create a threshold for what we consider to be a good rating? Perhaps by default, we should have a default rating of 4:"
   ]
  },
  {
   "cell_type": "code",
   "execution_count": 40,
   "id": "73374fb5-c771-4779-ab69-862f97ae21a9",
   "metadata": {
    "tags": []
   },
   "outputs": [],
   "source": [
    "# Example for setting param with default value\n",
    "\n",
    "def isGoodRating(rating=4):\n",
    "    if(rating < 7):\n",
    "        print(\"this album sucks it's rating is\", rating)\n",
    "    else:\n",
    "        print(\"this album is good it's rating is\", rating)"
   ]
  },
  {
   "cell_type": "code",
   "execution_count": 41,
   "id": "57c5ca81-d117-43af-951c-1bfe804d3dc9",
   "metadata": {
    "tags": []
   },
   "outputs": [
    {
     "name": "stdout",
     "output_type": "stream",
     "text": [
      "this album sucks it's rating is 4\n",
      "this album is good it's rating is 10\n"
     ]
    }
   ],
   "source": [
    "# Test the value with default value and with input\n",
    "\n",
    "isGoodRating()\n",
    "isGoodRating(10)"
   ]
  },
  {
   "cell_type": "markdown",
   "id": "2f115de9-514c-4e28-9474-3f74eb3396be",
   "metadata": {},
   "source": [
    "## Global variables"
   ]
  },
  {
   "cell_type": "markdown",
   "id": "6f052c07-4acc-48aa-9e69-30a3f6dbe99f",
   "metadata": {},
   "source": [
    "#### So far, we've been creating variables **within** functions, but we have not discussed variables outside the function. These are called **global variables**. Let's try to see what **printer1** returns:"
   ]
  },
  {
   "cell_type": "code",
   "execution_count": 45,
   "id": "ce5703d8-083b-4fde-951b-5842e4980bb4",
   "metadata": {
    "tags": []
   },
   "outputs": [
    {
     "name": "stdout",
     "output_type": "stream",
     "text": [
      "Micheal Jackson is an artist\n"
     ]
    }
   ],
   "source": [
    "# Example of global variable\n",
    "\n",
    "artist = \"Micheal Jackson\"\n",
    "def printer1(artist):\n",
    "    internal_var1 = artist\n",
    "    print(artist, \"is an artist\")\n",
    "\n",
    "printer1(artist)\n",
    "# try running the following code\n",
    "#printer1(internal_var1)"
   ]
  },
  {
   "cell_type": "code",
   "execution_count": 46,
   "id": "aa14ffa6-e3b5-41d9-bd97-0f03b0340f13",
   "metadata": {
    "tags": []
   },
   "outputs": [
    {
     "ename": "NameError",
     "evalue": "name 'internal_var1' is not defined",
     "output_type": "error",
     "traceback": [
      "\u001b[1;31m---------------------------------------------------------------------------\u001b[0m",
      "\u001b[1;31mNameError\u001b[0m                                 Traceback (most recent call last)",
      "Cell \u001b[1;32mIn[46], line 1\u001b[0m\n\u001b[1;32m----> 1\u001b[0m printer1(internal_var1)\n",
      "\u001b[1;31mNameError\u001b[0m: name 'internal_var1' is not defined"
     ]
    }
   ],
   "source": [
    "printer1(internal_var1)"
   ]
  },
  {
   "cell_type": "markdown",
   "id": "91cdd4cb-3770-4f5e-b870-428f849d76fd",
   "metadata": {},
   "source": [
    "## We got a Name Error: **name 'internal_var1' is not defined.** Why?"
   ]
  },
  {
   "cell_type": "markdown",
   "id": "c94aa6d4-abef-4e34-af58-63c58f5149f6",
   "metadata": {},
   "source": [
    "#### It's because all the variables we created in the function is a **local variable**, meaning that the variable assignment does not persist outside the function."
   ]
  },
  {
   "cell_type": "markdown",
   "id": "5cbc6637-8ee3-4b9a-9770-677b027f2247",
   "metadata": {},
   "source": [
    "#### But there is a way to create **global variables** from within a function as follows:"
   ]
  },
  {
   "cell_type": "code",
   "execution_count": 47,
   "id": "10842462-681d-4d34-8312-fb4b9f924534",
   "metadata": {
    "tags": []
   },
   "outputs": [
    {
     "name": "stdout",
     "output_type": "stream",
     "text": [
      "Michael Jackson is an artist\n",
      "Whtney Houston is an artist\n"
     ]
    }
   ],
   "source": [
    "artist = \"Michael Jackson\"\n",
    "\n",
    "def printer(artist):\n",
    "    global internal_var\n",
    "    internal_var = \"Whtney Houston\"\n",
    "    print(artist, \"is an artist\")\n",
    "\n",
    "printer(artist)\n",
    "printer(internal_var)"
   ]
  },
  {
   "cell_type": "markdown",
   "id": "aaa92e9b-e7dc-47ed-a9c9-95c435243ddb",
   "metadata": {},
   "source": [
    "## Scope of a Variable"
   ]
  },
  {
   "cell_type": "markdown",
   "id": "558d32c1-6525-4049-bf78-a183ba65153d",
   "metadata": {},
   "source": [
    "#### the scope of a variable is the part of that program where that variable is accessible. Variables that are declared outside of all function definitions, such as the **myFavouriteBand** variable in the code shown here, are accessible from anywhere within the program. As a result, such variables are said to have global scope, and are know as global variables. **myFavouriteBand** is a global variable, so it is accessible from within the **getBandRating** function, and we can use it to determin a band's rating. We can also use it ouside of the function, such as when we pass it to the print function to display it:"
   ]
  },
  {
   "cell_type": "code",
   "execution_count": 48,
   "id": "4b197824-d95c-40a7-b8b3-ca11cf0749c5",
   "metadata": {
    "tags": []
   },
   "outputs": [
    {
     "name": "stdout",
     "output_type": "stream",
     "text": [
      "AC/DC's rating is: 10.0\n",
      "Deep Purple's rating is: 0.0\n",
      "My favourite band is: AC/DC\n"
     ]
    }
   ],
   "source": [
    "# Example of global variable\n",
    "\n",
    "myFavouriteBand = \"AC/DC\"\n",
    "\n",
    "def getBandRating(bandname):\n",
    "    if bandname == myFavouriteBand:\n",
    "        return 10.0\n",
    "    else:\n",
    "        return 0.0\n",
    "\n",
    "print(\"AC/DC's rating is:\", getBandRating(\"AC/DC\"))\n",
    "print(\"Deep Purple's rating is:\", getBandRating(\"Deep Purple\"))\n",
    "print(\"My favourite band is:\", myFavouriteBand)"
   ]
  },
  {
   "cell_type": "markdown",
   "id": "adf49593-ca1d-447f-9d69-0158b6e4ffdf",
   "metadata": {},
   "source": [
    "Take a look at this modified version of our code. Now the <code>myFavouriteBand</code> variable is defined within the <code>getBandRating</code> function. A variable that is defined within a function is said to be a local variable of that function. That means that it is only accessible from within the function in which it is defined. Our <code>getBandRating</code> function will still work, because <code>myFavouriteBand</code> is still defined within the function. However, we can no longer print <code>myFavouriteBand</code> outside our function, because it is a local variable of our <code>getBandRating</code> function; it is only defined within the <code>getBandRating</code> function:\n"
   ]
  },
  {
   "cell_type": "code",
   "execution_count": 50,
   "id": "a856c92d-1642-4c2a-9215-0846e5cf9df7",
   "metadata": {
    "tags": []
   },
   "outputs": [
    {
     "name": "stdout",
     "output_type": "stream",
     "text": [
      "AC/DC's rating is:  10.0\n",
      "Deep Purple's rating is:  0.0\n"
     ]
    },
    {
     "ename": "NameError",
     "evalue": "name 'myFavouriteBand' is not defined",
     "output_type": "error",
     "traceback": [
      "\u001b[1;31m---------------------------------------------------------------------------\u001b[0m",
      "\u001b[1;31mNameError\u001b[0m                                 Traceback (most recent call last)",
      "Cell \u001b[1;32mIn[50], line 16\u001b[0m\n\u001b[0;32m     14\u001b[0m \u001b[38;5;28mprint\u001b[39m(\u001b[38;5;124m\"\u001b[39m\u001b[38;5;124mAC/DC\u001b[39m\u001b[38;5;124m'\u001b[39m\u001b[38;5;124ms rating is: \u001b[39m\u001b[38;5;124m\"\u001b[39m, getBandRating(\u001b[38;5;124m\"\u001b[39m\u001b[38;5;124mAC/DC\u001b[39m\u001b[38;5;124m\"\u001b[39m))\n\u001b[0;32m     15\u001b[0m \u001b[38;5;28mprint\u001b[39m(\u001b[38;5;124m\"\u001b[39m\u001b[38;5;124mDeep Purple\u001b[39m\u001b[38;5;124m'\u001b[39m\u001b[38;5;124ms rating is: \u001b[39m\u001b[38;5;124m\"\u001b[39m, getBandRating(\u001b[38;5;124m\"\u001b[39m\u001b[38;5;124mDeep Purple\u001b[39m\u001b[38;5;124m\"\u001b[39m))\n\u001b[1;32m---> 16\u001b[0m \u001b[38;5;28mprint\u001b[39m(\u001b[38;5;124m\"\u001b[39m\u001b[38;5;124mMy favourite band is\u001b[39m\u001b[38;5;124m\"\u001b[39m, myFavouriteBand)\n",
      "\u001b[1;31mNameError\u001b[0m: name 'myFavouriteBand' is not defined"
     ]
    }
   ],
   "source": [
    "# Deleting the variable \"myFavouriteBand\" from the previous example to demonstrate an example of a local variable\n",
    "\n",
    "del myFavouriteBand\n",
    "\n",
    "# Example of local variable\n",
    "\n",
    "def getBandRating(bandname):\n",
    "    myFavouriteBand = \"AC/DC\"\n",
    "    if bandname == myFavouriteBand:\n",
    "        return 10.0\n",
    "    else:\n",
    "        return 0.0\n",
    "    \n",
    "print(\"AC/DC's rating is: \", getBandRating(\"AC/DC\"))\n",
    "print(\"Deep Purple's rating is: \", getBandRating(\"Deep Purple\"))\n",
    "print(\"My favourite band is\", myFavouriteBand)"
   ]
  },
  {
   "cell_type": "markdown",
   "id": "74aaf364-6823-4252-8ec7-7b95dab45047",
   "metadata": {},
   "source": [
    "Finally, take a look at this example. We now have two <code>myFavouriteBand</code> variable definitions. The first one of these has a global scope, and the second of them is a local variable within the <code>getBandRating</code> function. Within the <code>getBandRating</code> function, the local variable takes precedence. **Deep Purple** will receive a rating of 10.0 when passed to the <code>getBandRating</code> function. However, outside of the <code>getBandRating</code> function, the <code>getBandRating</code> s local variable is not defined, so the <code>myFavouriteBand</code> variable we print is the global variable, which has a value of **AC/DC**:\n"
   ]
  },
  {
   "cell_type": "code",
   "execution_count": 53,
   "id": "dfc7b278-083f-4171-94a3-ed678b56b741",
   "metadata": {
    "tags": []
   },
   "outputs": [
    {
     "name": "stdout",
     "output_type": "stream",
     "text": [
      "AC/DC's rating is:  10.0\n",
      "Deep Purple's rating is:  0.0\n",
      "My favourite band is:  AC/DC\n"
     ]
    }
   ],
   "source": [
    "# Example of global variable and local variable with the same name\n",
    "\n",
    "myFavouriteBand = \"AC/DC\"\n",
    "\n",
    "def getBandRating(bandname):\n",
    "    myFavouriteBane = \"Deep Purple\"\n",
    "    if bandname == myFavouriteBand:\n",
    "        return 10.0\n",
    "    else:\n",
    "        return 0.0\n",
    "    \n",
    "print(\"AC/DC's rating is: \", getBandRating(\"AC/DC\"))\n",
    "print(\"Deep Purple's rating is: \", getBandRating(\"Deep Purple\"))\n",
    "print(\"My favourite band is: \", myFavouriteBand)"
   ]
  },
  {
   "cell_type": "markdown",
   "id": "e3658dfd-1ca5-4024-871c-c3b3fa6f277b",
   "metadata": {},
   "source": [
    "## Collections and Functions"
   ]
  },
  {
   "cell_type": "markdown",
   "id": "fb9fc026-71b7-40cc-8a40-b39cc5139f66",
   "metadata": {},
   "source": [
    "#### When the number of arguments are **unknown** for a function, they can all be packed into a tuple as shown:"
   ]
  },
  {
   "cell_type": "code",
   "execution_count": 55,
   "id": "beaee46c-3ecf-4097-a8c8-c1bdd2393349",
   "metadata": {
    "tags": []
   },
   "outputs": [
    {
     "name": "stdout",
     "output_type": "stream",
     "text": [
      "No of arguments: 3\n",
      "Horsefeather\n",
      "Adonis\n",
      "Bone\n",
      "No of arguments: 4\n",
      "Sidecar\n",
      "Long Island\n",
      "Mudslide\n",
      "Carriage\n"
     ]
    }
   ],
   "source": [
    "def printAll(*args):  # All the arguments are 'packed' into args which can be treated like a tuple\n",
    "    print(\"No of arguments:\", len(args))\n",
    "    for argument in args:\n",
    "        print(argument)\n",
    "        \n",
    "#printAll with 3 arguments\n",
    "printAll('Horsefeather', 'Adonis', 'Bone')\n",
    "#printAll with 4 arguments\n",
    "printAll('Sidecar', 'Long Island', 'Mudslide', 'Carriage')"
   ]
  },
  {
   "cell_type": "markdown",
   "id": "a0aff38b-420a-41b0-9efb-d77ceabfd8d4",
   "metadata": {},
   "source": [
    "#### Similarly, the arguments can also be packed into a dictionary as shown:"
   ]
  },
  {
   "cell_type": "code",
   "execution_count": 57,
   "id": "bc6d8056-c8c1-4576-a9b1-9867f0f00a38",
   "metadata": {
    "tags": []
   },
   "outputs": [
    {
     "name": "stdout",
     "output_type": "stream",
     "text": [
      "Country : Canada\n",
      "Province : Ontario\n",
      "City : Toronto\n"
     ]
    }
   ],
   "source": [
    "def printDictionary(**args):\n",
    "    for key in args:\n",
    "        print(key + \" : \" + args[key])\n",
    "printDictionary(Country = 'Canada', Province = 'Ontario', City = 'Toronto')"
   ]
  },
  {
   "cell_type": "markdown",
   "id": "59880bf8-56f8-4d96-a111-1f1d8d811bbe",
   "metadata": {},
   "source": [
    "#### Functions can be incredibly powerful and versatile. They can accept (and return) data types, objects and even other functions as arguments. Consider the example below:"
   ]
  },
  {
   "cell_type": "code",
   "execution_count": 59,
   "id": "83ff0929-87af-4f03-a191-1fd612eed2d2",
   "metadata": {
    "tags": []
   },
   "outputs": [
    {
     "data": {
      "text/plain": [
       "['One', 'Two', 'Three', 'Four']"
      ]
     },
     "execution_count": 59,
     "metadata": {},
     "output_type": "execute_result"
    }
   ],
   "source": [
    "def addItems(list):\n",
    "    list.append(\"Three\")\n",
    "    list.append(\"Four\")\n",
    "    \n",
    "myList = [\"One\", \"Two\"]\n",
    "\n",
    "addItems(myList)\n",
    "\n",
    "myList"
   ]
  },
  {
   "cell_type": "code",
   "execution_count": 60,
   "id": "2216e57c-599e-4006-8f1a-2ed210ef8f61",
   "metadata": {
    "tags": []
   },
   "outputs": [
    {
     "data": {
      "text/plain": [
       "list"
      ]
     },
     "execution_count": 60,
     "metadata": {},
     "output_type": "execute_result"
    }
   ],
   "source": [
    "type(myList)"
   ]
  },
  {
   "cell_type": "code",
   "execution_count": 61,
   "id": "6a5d9ddd-1bc0-46e8-9d6c-d9d75d17091a",
   "metadata": {
    "tags": []
   },
   "outputs": [
    {
     "data": {
      "text/plain": [
       "function"
      ]
     },
     "execution_count": 61,
     "metadata": {},
     "output_type": "execute_result"
    }
   ],
   "source": [
    "type(addItems)"
   ]
  },
  {
   "cell_type": "code",
   "execution_count": 62,
   "id": "334490f6-9f70-446f-a1f0-f538e0db015b",
   "metadata": {
    "tags": []
   },
   "outputs": [
    {
     "data": {
      "text/plain": [
       "type"
      ]
     },
     "execution_count": 62,
     "metadata": {},
     "output_type": "execute_result"
    }
   ],
   "source": [
    "type(list)"
   ]
  },
  {
   "cell_type": "markdown",
   "id": "66a9f5c3-e476-4744-a19c-c0c4c22a23a7",
   "metadata": {},
   "source": [
    "Note how the changes made to the list are not limited to the function's scope. This occurs as it is the list's **reference** that is passed to the function - Any changes made are on the original instance of the list. Therefore, one should be cautious when passing mutable objects into functions.\n",
    "\n",
    "<hr>\n"
   ]
  },
  {
   "cell_type": "code",
   "execution_count": 68,
   "id": "7251ed36-2295-46ad-a9e5-63137d3339d5",
   "metadata": {
    "tags": []
   },
   "outputs": [
    {
     "data": {
      "text/plain": [
       "5.0"
      ]
     },
     "execution_count": 68,
     "metadata": {},
     "output_type": "execute_result"
    }
   ],
   "source": [
    "# Function that divides the first input by the second input:\n",
    "def Div(a,b):\n",
    "        return(a/b)\n",
    "\n",
    "Div(10,2)\n"
   ]
  },
  {
   "cell_type": "code",
   "execution_count": 69,
   "id": "99e5af98-60c8-4fc2-8084-45e6138f84cd",
   "metadata": {
    "tags": []
   },
   "outputs": [
    {
     "data": {
      "text/plain": [
       "4"
      ]
     },
     "execution_count": 69,
     "metadata": {},
     "output_type": "execute_result"
    }
   ],
   "source": [
    "# Con function being used to add two integers or strings\n",
    "\n",
    "def con(a,b):\n",
    "    return(a + b)\n",
    "con(2,2)"
   ]
  },
  {
   "cell_type": "code",
   "execution_count": 70,
   "id": "f1341737-2ff4-485f-8444-1ddd1fbe8b58",
   "metadata": {
    "tags": []
   },
   "outputs": [
    {
     "data": {
      "text/plain": [
       "['a', 1, 'b', 1]"
      ]
     },
     "execution_count": 70,
     "metadata": {},
     "output_type": "execute_result"
    }
   ],
   "source": [
    "# Can con function above be used to concatenate lists or tuples?\n",
    "\n",
    "#Yes, for example:\n",
    "con(['a', 1], ['b', 1])\n"
   ]
  },
  {
   "cell_type": "code",
   "execution_count": 71,
   "id": "5729d164-49ce-4ac5-98ac-ddae8e7222b9",
   "metadata": {
    "tags": []
   },
   "outputs": [
    {
     "data": {
      "text/plain": [
       "1"
      ]
     },
     "execution_count": 71,
     "metadata": {},
     "output_type": "execute_result"
    }
   ],
   "source": [
    "len([sum([0,0,1])])"
   ]
  },
  {
   "cell_type": "code",
   "execution_count": null,
   "id": "dca4ac1a-7eb1-4163-90c0-b0014791e371",
   "metadata": {},
   "outputs": [],
   "source": []
  }
 ],
 "metadata": {
  "kernelspec": {
   "display_name": "Python 3 (ipykernel)",
   "language": "python",
   "name": "python3"
  },
  "language_info": {
   "codemirror_mode": {
    "name": "ipython",
    "version": 3
   },
   "file_extension": ".py",
   "mimetype": "text/x-python",
   "name": "python",
   "nbconvert_exporter": "python",
   "pygments_lexer": "ipython3",
   "version": "3.11.4"
  }
 },
 "nbformat": 4,
 "nbformat_minor": 5
}
