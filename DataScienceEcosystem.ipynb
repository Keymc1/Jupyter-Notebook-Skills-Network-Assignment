{
 "cells": [
  {
   "cell_type": "markdown",
   "id": "1c2536fb-9955-4b62-ae0c-08792a06e196",
   "metadata": {},
   "source": [
    "# Data Science Tools and Ecosystem"
   ]
  },
  {
   "cell_type": "markdown",
   "id": "1b922c0d-65f1-4c68-b711-3a637388b47c",
   "metadata": {},
   "source": [
    "## __Objectives:__\n",
    "- List popular languages for Data Science\n",
    "- List commonly used libraries by Data Scientist\n",
    "- List Data Science Tools\n",
    "- Show different types of mathmatical expressions\n"
   ]
  },
  {
   "cell_type": "markdown",
   "id": "4120629c-58cb-499c-96b3-64d0c1d5d532",
   "metadata": {},
   "source": [
    "# In this notebook, Data Science Tools and Ecosystem are summarized."
   ]
  },
  {
   "cell_type": "markdown",
   "id": "b89f393e-e874-4f8b-a03d-a0c6b3908c90",
   "metadata": {},
   "source": [
    "# Some of the popular languages that Data Scientist use are:\n",
    "1. Python\n",
    "2. R\n",
    "3. SQL\n",
    "4. Scala\n",
    "5. Java\n",
    "6. C++\n",
    "7. Julia\n",
    "8. JavaScript (not be related to Java)"
   ]
  },
  {
   "cell_type": "markdown",
   "id": "daca5520-499d-4c34-84d6-fc3443a7f7d3",
   "metadata": {},
   "source": [
    "# Some of the commonly used libraries used by Data Scientists include:\n",
    "1. Pandas\n",
    "2. Numpy\n",
    "3. Matplotlib (visualization)\n",
    "4. Seaborn (visualization)\n",
    "S. Scikit Learn (machine learning)\n",
    "6. Apache Spark (general purpose)\n",
    "7. Scala (Vegas)\n",
    "8. R (ggplot2)\n"
   ]
  },
  {
   "cell_type": "markdown",
   "id": "c7d2cc54-d7de-400d-984b-3552cca10bfa",
   "metadata": {},
   "source": [
    "| Data Science Tools |\n",
    "| ------------------ |\n",
    "| Code Asset Management |\n",
    "| Data Asset Management |\n",
    "| Execution Environment |\n",
    "| Development Environment |"
   ]
  },
  {
   "cell_type": "markdown",
   "id": "fef3b610-a96d-499b-bd00-8ad9f3ebfc16",
   "metadata": {},
   "source": [
    "### Below are a few examples of evaluating arithmetic expressions in Python\n"
   ]
  },
  {
   "cell_type": "code",
   "execution_count": 1,
   "id": "773e977b-cd94-4dde-aed1-1e03bada2643",
   "metadata": {},
   "outputs": [
    {
     "data": {
      "text/html": [
       "6"
      ],
      "text/latex": [
       "6"
      ],
      "text/markdown": [
       "6"
      ],
      "text/plain": [
       "[1] 6"
      ]
     },
     "metadata": {},
     "output_type": "display_data"
    }
   ],
   "source": [
    "2 * 3 # Multiplication"
   ]
  },
  {
   "cell_type": "code",
   "execution_count": 2,
   "id": "bbbdaf7e-cb73-4212-8526-ee0e1223a707",
   "metadata": {},
   "outputs": [
    {
     "data": {
      "text/html": [
       "3"
      ],
      "text/latex": [
       "3"
      ],
      "text/markdown": [
       "3"
      ],
      "text/plain": [
       "[1] 3"
      ]
     },
     "metadata": {},
     "output_type": "display_data"
    }
   ],
   "source": [
    "4 - 1 # Subtraction"
   ]
  },
  {
   "cell_type": "code",
   "execution_count": 3,
   "id": "d60059c8-9ae2-4003-9db4-9aa00358abed",
   "metadata": {},
   "outputs": [
    {
     "data": {
      "text/html": [
       "3"
      ],
      "text/latex": [
       "3"
      ],
      "text/markdown": [
       "3"
      ],
      "text/plain": [
       "[1] 3"
      ]
     },
     "metadata": {},
     "output_type": "display_data"
    }
   ],
   "source": [
    "a <- 1 # Assigning 1 to the variable called \"a\"\n",
    "a + 2 # Adding 2"
   ]
  },
  {
   "cell_type": "code",
   "execution_count": 1,
   "id": "31a2e8ba-ba94-4fcc-89de-4047dbe72989",
   "metadata": {
    "tags": []
   },
   "outputs": [
    {
     "data": {
      "text/plain": [
       "17"
      ]
     },
     "execution_count": 1,
     "metadata": {},
     "output_type": "execute_result"
    }
   ],
   "source": [
    "### This is a simple arithmetic expression to multiply then add integers\n",
    "( 3 * 4 ) + 5\n"
   ]
  },
  {
   "cell_type": "code",
   "execution_count": 7,
   "id": "a5180de9-5f3c-408a-8c88-bdcd969b6b6f",
   "metadata": {
    "tags": []
   },
   "outputs": [
    {
     "name": "stdout",
     "output_type": "stream",
     "text": [
      "3.3333333333333335\n"
     ]
    }
   ],
   "source": [
    "### This will convert 200 minutes to hours by dividing by 60\n",
    "x = 200 \n",
    "y = x / 60\n",
    "print ( y )\n"
   ]
  },
  {
   "cell_type": "markdown",
   "id": "030fd924-507d-49d1-b21e-d1f32eed2bc0",
   "metadata": {},
   "source": [
    "## Author\n",
    "Mickey McCall"
   ]
  },
  {
   "cell_type": "code",
   "execution_count": null,
   "id": "d4dae695-4df2-452a-8f0b-1e0931b7e04e",
   "metadata": {},
   "outputs": [],
   "source": []
  }
 ],
 "metadata": {
  "kernelspec": {
   "display_name": "Python 3 (ipykernel)",
   "language": "python",
   "name": "python3"
  },
  "language_info": {
   "codemirror_mode": {
    "name": "ipython",
    "version": 3
   },
   "file_extension": ".py",
   "mimetype": "text/x-python",
   "name": "python",
   "nbconvert_exporter": "python",
   "pygments_lexer": "ipython3",
   "version": "3.11.4"
  }
 },
 "nbformat": 4,
 "nbformat_minor": 5
}
