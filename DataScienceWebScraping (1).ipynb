{
 "cells": [
  {
   "cell_type": "markdown",
   "id": "9d4d3afb-582c-425d-8ca0-8a784b761904",
   "metadata": {},
   "source": [
    "# Web Scraping Lab"
   ]
  },
  {
   "cell_type": "code",
   "execution_count": 106,
   "id": "87b566fc-3a62-40ea-afd7-6a1bfd6fffc2",
   "metadata": {
    "tags": []
   },
   "outputs": [
    {
     "name": "stdout",
     "output_type": "stream",
     "text": [
      "Requirement already satisfied: html5lib in c:\\anaconda\\lib\\site-packages (1.1)\n",
      "Requirement already satisfied: six>=1.9 in c:\\anaconda\\lib\\site-packages (from html5lib) (1.16.0)\n",
      "Requirement already satisfied: webencodings in c:\\anaconda\\lib\\site-packages (from html5lib) (0.5.1)\n"
     ]
    }
   ],
   "source": [
    "!pip install html5lib"
   ]
  },
  {
   "cell_type": "code",
   "execution_count": 107,
   "id": "08e3753c-69ca-4e35-8fb0-a30b468b4fb3",
   "metadata": {
    "tags": []
   },
   "outputs": [
    {
     "name": "stdout",
     "output_type": "stream",
     "text": [
      "Requirement already satisfied: bs4 in c:\\anaconda\\lib\\site-packages (0.0.1)\n",
      "Requirement already satisfied: beautifulsoup4 in c:\\anaconda\\lib\\site-packages (from bs4) (4.12.2)\n",
      "Requirement already satisfied: soupsieve>1.2 in c:\\anaconda\\lib\\site-packages (from beautifulsoup4->bs4) (2.4)\n"
     ]
    }
   ],
   "source": [
    "!pip install bs4"
   ]
  },
  {
   "cell_type": "markdown",
   "id": "6290a57e-31e2-44fa-b516-d041b4695e76",
   "metadata": {},
   "source": [
    "## Import the required modules and functions"
   ]
  },
  {
   "cell_type": "code",
   "execution_count": 108,
   "id": "bde5b079-4e25-4d12-a1c6-e4f7d4821cb3",
   "metadata": {
    "tags": []
   },
   "outputs": [],
   "source": [
    "from bs4 import BeautifulSoup # This module helps in web scraping\n",
    "import requests # This module helps us to download a web page"
   ]
  },
  {
   "cell_type": "markdown",
   "id": "601dd7be-c419-4a75-8bad-d0ba921bd1f1",
   "metadata": {},
   "source": [
    "## Beautiful Soup Objects \n",
    "\n",
    "Beautiful Soup is a Python library for pulling data out of HTML and XML files, we will focus on HTML files. This is accomplised by representing the HTML as a set of objects with methods used to parse the HTML. We can navigate the HTML as a tree, and/or filter out what we are looking for.\n",
    "\n",
    "Consider the following HTML:"
   ]
  },
  {
   "cell_type": "code",
   "execution_count": 8,
   "id": "5bab5b7c-5376-457e-bf09-9f7f63b6b61e",
   "metadata": {
    "tags": []
   },
   "outputs": [
    {
     "data": {
      "text/html": [
       "<!DOCTYPE html>\n",
       "<html>\n",
       "<head>\n",
       "<title>Page Title</title>\n",
       "</head>\n",
       "<body>\n",
       "<h3><b id='boldest'>Lebron James</b></h3>\n",
       "<p> Salary: $ 92,000,000 </p>\n",
       "<h3> Stephen Curry</h3>\n",
       "<p> Salary: $85,000, 000 </p>\n",
       "<h3> Kevin Durant </h3>\n",
       "<p> Salary: $73,200, 000</p>\n",
       "</body>\n",
       "</html>\n"
      ],
      "text/plain": [
       "<IPython.core.display.HTML object>"
      ]
     },
     "metadata": {},
     "output_type": "display_data"
    }
   ],
   "source": [
    "%%html\n",
    "<!DOCTYPE html>\n",
    "<html>\n",
    "<head>\n",
    "<title>Page Title</title>\n",
    "</head>\n",
    "<body>\n",
    "<h3><b id='boldest'>Lebron James</b></h3>\n",
    "<p> Salary: $ 92,000,000 </p>\n",
    "<h3> Stephen Curry</h3>\n",
    "<p> Salary: $85,000, 000 </p>\n",
    "<h3> Kevin Durant </h3>\n",
    "<p> Salary: $73,200, 000</p>\n",
    "</body>\n",
    "</html>"
   ]
  },
  {
   "cell_type": "markdown",
   "id": "c69bceb1-9601-4ef5-989a-339f8aabffec",
   "metadata": {},
   "source": [
    "We can store it as a string in the variable **html**"
   ]
  },
  {
   "cell_type": "code",
   "execution_count": 9,
   "id": "5b87e925-4c8d-4ec3-8f2e-c9f8be245489",
   "metadata": {
    "tags": []
   },
   "outputs": [],
   "source": [
    "html = \"<!DOCTYPE html><html><head><title>Page Title</title></head><body><h3><b id='boldest'>Lebron James</b></h3><p> Salary: $ 92,000,000 </p><h3> Stephen Curry</h3><p> Salary: $85,000, 000 </p><h3> Kevin Durant </h3><p> Salary: $73,200, 000</p></body></html>\""
   ]
  },
  {
   "cell_type": "markdown",
   "id": "db3a6556-6f8d-4efa-8d03-6fb43831811e",
   "metadata": {},
   "source": [
    "To parse the document, pass it into the **BeautifulSoup** constructor. The **BeautifulSoup** object represents the document as a nested data structure:"
   ]
  },
  {
   "cell_type": "code",
   "execution_count": 10,
   "id": "c22d1bd0-ced4-4720-aade-c8296d8b9100",
   "metadata": {
    "tags": []
   },
   "outputs": [],
   "source": [
    "soup = BeautifulSoup(html, 'html5lib')"
   ]
  },
  {
   "cell_type": "markdown",
   "id": "c94a2985-eeca-4d90-8c21-df85d082b49b",
   "metadata": {},
   "source": [
    "First, the document is converted to Unicode (similar to ASCII) and HTML entities are converted to Unicode characters. Beautiful Soup transforms a complex HTML document into a complex tree of Python objects. The **BeautifulSoup** object can create other types of objects. In this lab, we will cover **BeautifulSoup** and **Tag** objects, that for the purposes of this lab are identical. FInally, we will look at **NavigableString** objects."
   ]
  },
  {
   "cell_type": "markdown",
   "id": "615ba752-03c9-4615-a8c2-e911e8fe1b1c",
   "metadata": {},
   "source": [
    "We can use the method **prettify()** to display the HTML in the nested structure:"
   ]
  },
  {
   "cell_type": "code",
   "execution_count": 11,
   "id": "d02da993-4ecc-4dba-bd95-001e5d98e152",
   "metadata": {
    "tags": []
   },
   "outputs": [
    {
     "name": "stdout",
     "output_type": "stream",
     "text": [
      "<!DOCTYPE html>\n",
      "<html>\n",
      " <head>\n",
      "  <title>\n",
      "   Page Title\n",
      "  </title>\n",
      " </head>\n",
      " <body>\n",
      "  <h3>\n",
      "   <b id=\"boldest\">\n",
      "    Lebron James\n",
      "   </b>\n",
      "  </h3>\n",
      "  <p>\n",
      "   Salary: $ 92,000,000\n",
      "  </p>\n",
      "  <h3>\n",
      "   Stephen Curry\n",
      "  </h3>\n",
      "  <p>\n",
      "   Salary: $85,000, 000\n",
      "  </p>\n",
      "  <h3>\n",
      "   Kevin Durant\n",
      "  </h3>\n",
      "  <p>\n",
      "   Salary: $73,200, 000\n",
      "  </p>\n",
      " </body>\n",
      "</html>\n",
      "\n"
     ]
    }
   ],
   "source": [
    "print(soup.prettify())"
   ]
  },
  {
   "cell_type": "markdown",
   "id": "cce78ba3-2e0e-45eb-8cc2-c1a2e40e29e9",
   "metadata": {},
   "source": [
    "## Tags\n",
    "\n",
    "Let's say we want the title of the page and the name of the top paid player. We can use the **Tag**. The **Tag** object corresponds to an HTML tag in the original document, for example, the tag title."
   ]
  },
  {
   "cell_type": "code",
   "execution_count": 12,
   "id": "bdd06240-d956-4679-9d34-61ce7cec1af0",
   "metadata": {
    "tags": []
   },
   "outputs": [
    {
     "name": "stdout",
     "output_type": "stream",
     "text": [
      "tag object: <title>Page Title</title>\n"
     ]
    }
   ],
   "source": [
    "tag_object = soup.title\n",
    "print('tag object:', tag_object)"
   ]
  },
  {
   "cell_type": "markdown",
   "id": "c1f3f3ad-7d63-4c95-809e-9fe18ea20bd7",
   "metadata": {},
   "source": [
    "We can see the tag type **bs4.element.Tag**"
   ]
  },
  {
   "cell_type": "code",
   "execution_count": 13,
   "id": "3de89941-d3d3-493b-b2be-8a3c6b4c7fa2",
   "metadata": {
    "tags": []
   },
   "outputs": [
    {
     "name": "stdout",
     "output_type": "stream",
     "text": [
      "tag object type: <class 'bs4.element.Tag'>\n"
     ]
    }
   ],
   "source": [
    "print('tag object type:', type(tag_object))"
   ]
  },
  {
   "cell_type": "markdown",
   "id": "49a3e82a-3f9a-486b-8ed2-6282fff31fdd",
   "metadata": {},
   "source": [
    "If there is more than one **Tag** with the same name, the first element with that **Tag** name is called. This corresponds to the most paid player:"
   ]
  },
  {
   "cell_type": "code",
   "execution_count": 14,
   "id": "45aeedac-325a-410f-b6eb-796446dfd6a8",
   "metadata": {
    "tags": []
   },
   "outputs": [
    {
     "data": {
      "text/plain": [
       "<h3><b id=\"boldest\">Lebron James</b></h3>"
      ]
     },
     "execution_count": 14,
     "metadata": {},
     "output_type": "execute_result"
    }
   ],
   "source": [
    "tag_object = soup.h3\n",
    "tag_object"
   ]
  },
  {
   "cell_type": "markdown",
   "id": "057f3b32-ebf9-40d3-aba9-f14aef88c263",
   "metadata": {},
   "source": [
    "Enclosed in the bold attribute **b**, it helps to use the tree representation. We can navigate down the tree using the child attribute to get the name."
   ]
  },
  {
   "cell_type": "markdown",
   "id": "a38582f2-f56d-43b8-a2b6-0111b7ac3ce5",
   "metadata": {},
   "source": [
    "## Children, Parents, and Siblings\n",
    "\n",
    "As stated above, the **Tag** obect is a tree of objects. We can access the child of the tag or navigate down the branch as follows:"
   ]
  },
  {
   "cell_type": "code",
   "execution_count": 15,
   "id": "0f9941f3-dbf8-46c8-b70c-141fe5ec2a3b",
   "metadata": {
    "tags": []
   },
   "outputs": [
    {
     "data": {
      "text/plain": [
       "<b id=\"boldest\">Lebron James</b>"
      ]
     },
     "execution_count": 15,
     "metadata": {},
     "output_type": "execute_result"
    }
   ],
   "source": [
    "tag_child = tag_object.b\n",
    "tag_child"
   ]
  },
  {
   "cell_type": "code",
   "execution_count": 16,
   "id": "ef50e684-99ff-461e-87cf-648332e9a7e3",
   "metadata": {
    "tags": []
   },
   "outputs": [
    {
     "data": {
      "text/plain": [
       "<h3><b id=\"boldest\">Lebron James</b></h3>"
      ]
     },
     "execution_count": 16,
     "metadata": {},
     "output_type": "execute_result"
    }
   ],
   "source": [
    "# You can acccess the parent with the **Parent**\n",
    "\n",
    "parent_tag = tag_child.parent\n",
    "parent_tag"
   ]
  },
  {
   "cell_type": "code",
   "execution_count": 17,
   "id": "d7a28937-c7c2-48c4-9b0a-21e7ab284d3f",
   "metadata": {
    "tags": []
   },
   "outputs": [
    {
     "data": {
      "text/plain": [
       "<h3><b id=\"boldest\">Lebron James</b></h3>"
      ]
     },
     "execution_count": 17,
     "metadata": {},
     "output_type": "execute_result"
    }
   ],
   "source": [
    "## this is identical to:\n",
    "\n",
    "tag_object"
   ]
  },
  {
   "cell_type": "markdown",
   "id": "d3b95430-a3bd-489d-adf0-1d2aeb07e1e8",
   "metadata": {},
   "source": [
    "**tag_object** parent is the **body** element."
   ]
  },
  {
   "cell_type": "code",
   "execution_count": 18,
   "id": "9215ca50-993a-4eb6-a962-58dcea070316",
   "metadata": {
    "tags": []
   },
   "outputs": [
    {
     "data": {
      "text/plain": [
       "<body><h3><b id=\"boldest\">Lebron James</b></h3><p> Salary: $ 92,000,000 </p><h3> Stephen Curry</h3><p> Salary: $85,000, 000 </p><h3> Kevin Durant </h3><p> Salary: $73,200, 000</p></body>"
      ]
     },
     "execution_count": 18,
     "metadata": {},
     "output_type": "execute_result"
    }
   ],
   "source": [
    "tag_object.parent"
   ]
  },
  {
   "cell_type": "markdown",
   "id": "03d13d43-9091-443a-adc0-d246cdae06ca",
   "metadata": {},
   "source": [
    "**tag_object** sibling is the **paragraph** element."
   ]
  },
  {
   "cell_type": "code",
   "execution_count": 19,
   "id": "2599a97d-a003-41ab-baaf-9933c437b235",
   "metadata": {
    "tags": []
   },
   "outputs": [
    {
     "data": {
      "text/plain": [
       "<p> Salary: $ 92,000,000 </p>"
      ]
     },
     "execution_count": 19,
     "metadata": {},
     "output_type": "execute_result"
    }
   ],
   "source": [
    "sibling_1 = tag_object.next_sibling\n",
    "sibling_1"
   ]
  },
  {
   "cell_type": "markdown",
   "id": "3cc3d30f-16fb-4141-bc74-10b2fb11e603",
   "metadata": {},
   "source": [
    "**sibling_2** is the **header** element, which is also a sibling of both **sibling_1** and **tag_object**"
   ]
  },
  {
   "cell_type": "code",
   "execution_count": 20,
   "id": "78893260-bc47-4c6b-a10b-74325a3d68ff",
   "metadata": {
    "tags": []
   },
   "outputs": [
    {
     "data": {
      "text/plain": [
       "<h3> Stephen Curry</h3>"
      ]
     },
     "execution_count": 20,
     "metadata": {},
     "output_type": "execute_result"
    }
   ],
   "source": [
    "sibling_2 = sibling_1.next_sibling\n",
    "sibling_2"
   ]
  },
  {
   "cell_type": "markdown",
   "id": "4756421d-5fc0-4df1-a49e-0c736e0b7222",
   "metadata": {},
   "source": [
    "## Exercise: **next_sibling**\n",
    "\n",
    "Use the object **sibling_2** and the method **next_sibling** to find the salary of Stephen Curry:"
   ]
  },
  {
   "cell_type": "code",
   "execution_count": 21,
   "id": "9e60ca53-0497-45e8-bd69-be6b31802cc5",
   "metadata": {
    "tags": []
   },
   "outputs": [
    {
     "data": {
      "text/plain": [
       "<p> Salary: $85,000, 000 </p>"
      ]
     },
     "execution_count": 21,
     "metadata": {},
     "output_type": "execute_result"
    }
   ],
   "source": [
    "sibling_3 = sibling_2.next_sibling    #this will put the answer in a different variable\n",
    "sibling_3        "
   ]
  },
  {
   "cell_type": "code",
   "execution_count": 22,
   "id": "25c8a71e-57af-4475-a065-694ccce02fef",
   "metadata": {
    "tags": []
   },
   "outputs": [
    {
     "data": {
      "text/plain": [
       "<p> Salary: $85,000, 000 </p>"
      ]
     },
     "execution_count": 22,
     "metadata": {},
     "output_type": "execute_result"
    }
   ],
   "source": [
    "sibling_2.next_sibling  # this is the CORRECT answer"
   ]
  },
  {
   "cell_type": "markdown",
   "id": "49213d23-45ff-46de-a015-00b4d0f75f42",
   "metadata": {},
   "source": [
    "## HTML Attributes\n",
    "\n",
    "If the tag has attributes, the tag **id=\"boldest\"** has an attribute **id** whose value is **boldest**. You can access a tag's attributes by treating the tag like a dictionary."
   ]
  },
  {
   "cell_type": "code",
   "execution_count": 23,
   "id": "fa805102-f72f-4f6b-84ef-c38d23d14446",
   "metadata": {
    "tags": []
   },
   "outputs": [
    {
     "data": {
      "text/plain": [
       "'boldest'"
      ]
     },
     "execution_count": 23,
     "metadata": {},
     "output_type": "execute_result"
    }
   ],
   "source": [
    "tag_child['id']"
   ]
  },
  {
   "cell_type": "markdown",
   "id": "720a689e-a303-4460-a3d4-4d0fc8cfd060",
   "metadata": {},
   "source": [
    "You can assess that dictionary directly as **attrs**:"
   ]
  },
  {
   "cell_type": "code",
   "execution_count": 24,
   "id": "abf41d65-adaf-40b6-b62e-3b1b80d501f9",
   "metadata": {
    "tags": []
   },
   "outputs": [
    {
     "data": {
      "text/plain": [
       "{'id': 'boldest'}"
      ]
     },
     "execution_count": 24,
     "metadata": {},
     "output_type": "execute_result"
    }
   ],
   "source": [
    "tag_child.attrs"
   ]
  },
  {
   "cell_type": "markdown",
   "id": "dc8fa8c4-6f35-423d-b939-3760ef1d49b1",
   "metadata": {},
   "source": [
    "We can also obtain the content of the attribute of the **tag** using the Python **get()** method."
   ]
  },
  {
   "cell_type": "code",
   "execution_count": 26,
   "id": "e875b4f8-3789-43a5-98e1-f594bae612c8",
   "metadata": {
    "tags": []
   },
   "outputs": [
    {
     "data": {
      "text/plain": [
       "'boldest'"
      ]
     },
     "execution_count": 26,
     "metadata": {},
     "output_type": "execute_result"
    }
   ],
   "source": [
    "tag_child.get('id')"
   ]
  },
  {
   "cell_type": "markdown",
   "id": "5f442a60-3587-4609-8a6a-ece322d27679",
   "metadata": {},
   "source": [
    "You can also work with Multi-valued attributes. Check out  <a href=\"https://www.crummy.com/software/BeautifulSoup/bs4/doc/?utm_medium=Exinfluencer&utm_source=Exinfluencer&utm_content=000026UJ&utm_term=10006555&utm_id=NA-SkillsNetwork-Channel-SkillsNetworkCoursesIBMDeveloperSkillsNetworkPY0101ENSkillsNetwork19487395-2021-01-01\">\\[1]</a> for more."
   ]
  },
  {
   "cell_type": "markdown",
   "id": "47486064-1447-4a59-ae01-403108601f90",
   "metadata": {},
   "source": [
    "Here’s an HTML document I’ll be using as an example throughout this document. It’s part of a story from Alice in Wonderland:"
   ]
  },
  {
   "cell_type": "code",
   "execution_count": 1,
   "id": "ddc4b2e1-569b-48ca-8dc9-541afd052e3c",
   "metadata": {
    "tags": []
   },
   "outputs": [],
   "source": [
    "html_doc = \"\"\"<html><head><title>The Dormouse's story</title></head>\n",
    "<body>\n",
    "<p class=\"title\"><b>The Dormouse's story</b></p>\n",
    "\n",
    "<p class=\"story\">Once upon a time there were three little sisters; and their names were\n",
    "<a href=\"http://example.com/elsie\" class=\"sister\" id=\"link1\">Elsie</a>,\n",
    "<a href=\"http://example.com/lacie\" class=\"sister\" id=\"link2\">Lacie</a> and\n",
    "<a href=\"http://example.com/tillie\" class=\"sister\" id=\"link3\">Tillie</a>;\n",
    "and they lived at the bottom of a well.</p>\n",
    "\n",
    "<p class=\"story\">...</p>\n",
    "\"\"\""
   ]
  },
  {
   "cell_type": "markdown",
   "id": "58ffb6a0-2509-4188-b2af-d9b8f78bc035",
   "metadata": {},
   "source": [
    "Running the “three sisters” document through Beautiful Soup gives us a BeautifulSoup object, which represents the document as a nested data structure:"
   ]
  },
  {
   "cell_type": "code",
   "execution_count": 2,
   "id": "d6327ed7-58ff-4ac3-a707-7391378b2e89",
   "metadata": {
    "tags": []
   },
   "outputs": [
    {
     "name": "stdout",
     "output_type": "stream",
     "text": [
      "<html>\n",
      " <head>\n",
      "  <title>\n",
      "   The Dormouse's story\n",
      "  </title>\n",
      " </head>\n",
      " <body>\n",
      "  <p class=\"title\">\n",
      "   <b>\n",
      "    The Dormouse's story\n",
      "   </b>\n",
      "  </p>\n",
      "  <p class=\"story\">\n",
      "   Once upon a time there were three little sisters; and their names were\n",
      "   <a class=\"sister\" href=\"http://example.com/elsie\" id=\"link1\">\n",
      "    Elsie\n",
      "   </a>\n",
      "   ,\n",
      "   <a class=\"sister\" href=\"http://example.com/lacie\" id=\"link2\">\n",
      "    Lacie\n",
      "   </a>\n",
      "   and\n",
      "   <a class=\"sister\" href=\"http://example.com/tillie\" id=\"link3\">\n",
      "    Tillie\n",
      "   </a>\n",
      "   ;\n",
      "and they lived at the bottom of a well.\n",
      "  </p>\n",
      "  <p class=\"story\">\n",
      "   ...\n",
      "  </p>\n",
      " </body>\n",
      "</html>\n",
      "\n"
     ]
    }
   ],
   "source": [
    "from bs4 import BeautifulSoup\n",
    "soup = BeautifulSoup(html_doc, 'html.parser')\n",
    "\n",
    "print(soup.prettify())\n",
    "# <html>\n",
    "#  <head>\n",
    "#   <title>\n",
    "#    The Dormouse's story\n",
    "#   </title>\n",
    "#  </head>\n",
    "#  <body>\n",
    "#   <p class=\"title\">\n",
    "#    <b>\n",
    "#     The Dormouse's story\n",
    "#    </b>\n",
    "#   </p>\n",
    "#   <p class=\"story\">\n",
    "#    Once upon a time there were three little sisters; and their names were\n",
    "#    <a class=\"sister\" href=\"http://example.com/elsie\" id=\"link1\">\n",
    "#     Elsie\n",
    "#    </a>\n",
    "#    ,\n",
    "#    <a class=\"sister\" href=\"http://example.com/lacie\" id=\"link2\">\n",
    "#     Lacie\n",
    "#    </a>\n",
    "#    and\n",
    "#    <a class=\"sister\" href=\"http://example.com/tillie\" id=\"link3\">\n",
    "#     Tillie\n",
    "#    </a>\n",
    "#    ; and they lived at the bottom of a well.\n",
    "#   </p>\n",
    "#   <p class=\"story\">\n",
    "#    ...\n",
    "#   </p>\n",
    "#  </body>\n",
    "# </html>"
   ]
  },
  {
   "cell_type": "markdown",
   "id": "766fc69f-814d-446b-a019-8975a1d9f9d7",
   "metadata": {},
   "source": [
    "Here are some simple ways to navigate that data structure:"
   ]
  },
  {
   "cell_type": "code",
   "execution_count": 3,
   "id": "e4e62cbc-8a2e-47de-82c3-3d3f185c1684",
   "metadata": {
    "tags": []
   },
   "outputs": [
    {
     "data": {
      "text/plain": [
       "<a class=\"sister\" href=\"http://example.com/tillie\" id=\"link3\">Tillie</a>"
      ]
     },
     "execution_count": 3,
     "metadata": {},
     "output_type": "execute_result"
    }
   ],
   "source": [
    "soup.title\n",
    "# <title>The Dormouse's story</title>\n",
    "\n",
    "soup.title.name\n",
    "# u'title'\n",
    "\n",
    "soup.title.string\n",
    "# u'The Dormouse's story'\n",
    "\n",
    "soup.title.parent.name\n",
    "# u'head'\n",
    "\n",
    "soup.p\n",
    "# <p class=\"title\"><b>The Dormouse's story</b></p>\n",
    "\n",
    "soup.p['class']\n",
    "# u'title'\n",
    "\n",
    "soup.a\n",
    "# <a class=\"sister\" href=\"http://example.com/elsie\" id=\"link1\">Elsie</a>\n",
    "\n",
    "soup.find_all('a')\n",
    "# [<a class=\"sister\" href=\"http://example.com/elsie\" id=\"link1\">Elsie</a>,\n",
    "#  <a class=\"sister\" href=\"http://example.com/lacie\" id=\"link2\">Lacie</a>,\n",
    "#  <a class=\"sister\" href=\"http://example.com/tillie\" id=\"link3\">Tillie</a>]\n",
    "\n",
    "soup.find(id=\"link3\")\n",
    "# <a class=\"sister\" href=\"http://example.com/tillie\" id=\"link3\">Tillie</a>"
   ]
  },
  {
   "cell_type": "markdown",
   "id": "36464d34-79ae-42e4-9839-26af52ccf46e",
   "metadata": {},
   "source": [
    "One common task is extracting all the URLs found within a page’s <a> tags:"
   ]
  },
  {
   "cell_type": "code",
   "execution_count": 4,
   "id": "f861a25f-2e11-4307-9e6d-0bdc5a635da0",
   "metadata": {
    "tags": []
   },
   "outputs": [
    {
     "name": "stdout",
     "output_type": "stream",
     "text": [
      "http://example.com/elsie\n",
      "http://example.com/lacie\n",
      "http://example.com/tillie\n"
     ]
    }
   ],
   "source": [
    "for link in soup.find_all('a'):\n",
    "    print(link.get('href'))\n",
    "# http://example.com/elsie\n",
    "# http://example.com/lacie\n",
    "# http://example.com/tillie"
   ]
  },
  {
   "cell_type": "markdown",
   "id": "ca023821-2b05-46f8-8bd4-d9330ca8eaab",
   "metadata": {},
   "source": [
    "Another common task is extracting all the text from a page:"
   ]
  },
  {
   "cell_type": "code",
   "execution_count": 5,
   "id": "d22d72b6-ff27-4f49-9ba4-99730be1dbb4",
   "metadata": {
    "tags": []
   },
   "outputs": [
    {
     "name": "stdout",
     "output_type": "stream",
     "text": [
      "The Dormouse's story\n",
      "\n",
      "The Dormouse's story\n",
      "Once upon a time there were three little sisters; and their names were\n",
      "Elsie,\n",
      "Lacie and\n",
      "Tillie;\n",
      "and they lived at the bottom of a well.\n",
      "...\n",
      "\n"
     ]
    }
   ],
   "source": [
    "print(soup.get_text())\n",
    "# The Dormouse's story\n",
    "#\n",
    "# The Dormouse's story\n",
    "#\n",
    "# Once upon a time there were three little sisters; and their names were\n",
    "# Elsie,\n",
    "# Lacie and\n",
    "# Tillie;\n",
    "# and they lived at the bottom of a well.\n",
    "#\n",
    "# ..."
   ]
  },
  {
   "cell_type": "markdown",
   "id": "234bdb2e-c98a-46bc-9817-8b4bd1566980",
   "metadata": {},
   "source": [
    "## Navigable String\n",
    "\n",
    "A string corresponds to a bit of text or content within a tag. Beautiful Soup uses the **NavigableString** class to contain this text. In our HTML we can obtain the name of the first play by extracting the string of the **Tag** object **tag_child** as follows:"
   ]
  },
  {
   "cell_type": "code",
   "execution_count": 27,
   "id": "ad34efb5-567b-4241-8c30-8a6a756d43c7",
   "metadata": {
    "tags": []
   },
   "outputs": [
    {
     "data": {
      "text/plain": [
       "'Lebron James'"
      ]
     },
     "execution_count": 27,
     "metadata": {},
     "output_type": "execute_result"
    }
   ],
   "source": [
    "tag_string = tag_child.string\n",
    "tag_string"
   ]
  },
  {
   "cell_type": "markdown",
   "id": "a039ab2e-442e-4afa-806d-df7dc2d37ab4",
   "metadata": {},
   "source": [
    "We can verify the type is Navigable String"
   ]
  },
  {
   "cell_type": "code",
   "execution_count": 28,
   "id": "a1caa0c8-3f9f-4425-8e91-8e9655d20ff1",
   "metadata": {
    "tags": []
   },
   "outputs": [
    {
     "data": {
      "text/plain": [
       "bs4.element.NavigableString"
      ]
     },
     "execution_count": 28,
     "metadata": {},
     "output_type": "execute_result"
    }
   ],
   "source": [
    "type(tag_string)"
   ]
  },
  {
   "cell_type": "markdown",
   "id": "37f15a6b-1df2-4bc5-9af7-f533cae5706d",
   "metadata": {},
   "source": [
    "A NavigableString is similar to a Python string or Unicode string. To be more precise, the main difference is that it also supports some **BeautifulSoup** features. We can convert it to string object in Python:"
   ]
  },
  {
   "cell_type": "code",
   "execution_count": 29,
   "id": "2225ab32-a7e9-4c0c-853e-e56d5736f11d",
   "metadata": {
    "tags": []
   },
   "outputs": [
    {
     "data": {
      "text/plain": [
       "'Lebron James'"
      ]
     },
     "execution_count": 29,
     "metadata": {},
     "output_type": "execute_result"
    }
   ],
   "source": [
    "unicode_string = str(tag_string)\n",
    "unicode_string"
   ]
  },
  {
   "cell_type": "markdown",
   "id": "7803279f-9eea-4f31-8f29-892af02f5711",
   "metadata": {},
   "source": [
    "# Filter\n",
    "\n",
    "Filters allow you to find complex patterns, the simplest filter is a string. In this section we will pass a string to a different filter method and Beautiful Soup will perform a match against that exact string. Consider the following HTML or rocket launches:"
   ]
  },
  {
   "cell_type": "code",
   "execution_count": 30,
   "id": "05448485-f1cf-45d6-961e-a5fdf6b578fb",
   "metadata": {
    "tags": []
   },
   "outputs": [
    {
     "data": {
      "text/html": [
       "<table>\n",
       "  <tr>\n",
       "    <td id='flight' >Flight No</td>\n",
       "    <td>Launch site</td> \n",
       "    <td>Payload mass</td>\n",
       "   </tr>\n",
       "  <tr> \n",
       "    <td>1</td>\n",
       "    <td><a href='https://en.wikipedia.org/wiki/Florida'>Florida</a></td>\n",
       "    <td>300 kg</td>\n",
       "  </tr>\n",
       "  <tr>\n",
       "    <td>2</td>\n",
       "    <td><a href='https://en.wikipedia.org/wiki/Texas'>Texas</a></td>\n",
       "    <td>94 kg</td>\n",
       "  </tr>\n",
       "  <tr>\n",
       "    <td>3</td>\n",
       "    <td><a href='https://en.wikipedia.org/wiki/Florida'>Florida<a> </td>\n",
       "    <td>80 kg</td>\n",
       "  </tr>\n",
       "</table>\n"
      ],
      "text/plain": [
       "<IPython.core.display.HTML object>"
      ]
     },
     "metadata": {},
     "output_type": "display_data"
    }
   ],
   "source": [
    "%%html\n",
    "<table>\n",
    "  <tr>\n",
    "    <td id='flight' >Flight No</td>\n",
    "    <td>Launch site</td> \n",
    "    <td>Payload mass</td>\n",
    "   </tr>\n",
    "  <tr> \n",
    "    <td>1</td>\n",
    "    <td><a href='https://en.wikipedia.org/wiki/Florida'>Florida</a></td>\n",
    "    <td>300 kg</td>\n",
    "  </tr>\n",
    "  <tr>\n",
    "    <td>2</td>\n",
    "    <td><a href='https://en.wikipedia.org/wiki/Texas'>Texas</a></td>\n",
    "    <td>94 kg</td>\n",
    "  </tr>\n",
    "  <tr>\n",
    "    <td>3</td>\n",
    "    <td><a href='https://en.wikipedia.org/wiki/Florida'>Florida<a> </td>\n",
    "    <td>80 kg</td>\n",
    "  </tr>\n",
    "</table>"
   ]
  },
  {
   "cell_type": "markdown",
   "id": "14c3f811-fefd-4c69-953e-9096c210928f",
   "metadata": {},
   "source": [
    "We can store is as a string in the variable **table**:"
   ]
  },
  {
   "cell_type": "code",
   "execution_count": 33,
   "id": "73e17994-df9c-4550-8ab8-2318d9c1e291",
   "metadata": {
    "tags": []
   },
   "outputs": [],
   "source": [
    "table =\"<table><tr><td id='flight'>Flight No</td><td>Launch site</td> <td>Payload mass</td></tr><tr> <td>1</td><td><a href='https://en.wikipedia.org/wiki/Florida'>Florida<a></td><td>300 kg</td></tr><tr><td>2</td><td><a href='https://en.wikipedia.org/wiki/Texas'>Texas</a></td><td>94 kg</td></tr><tr><td>3</td><td><a href='https://en.wikipedia.org/wiki/Florida'>Florida<a> </td><td>80 kg</td></tr></table>\""
   ]
  },
  {
   "cell_type": "code",
   "execution_count": 34,
   "id": "99f905b8-7426-42a3-bd38-c1a15cd41bb7",
   "metadata": {
    "tags": []
   },
   "outputs": [],
   "source": [
    "table_bs = BeautifulSoup(table, 'html5lib')"
   ]
  },
  {
   "cell_type": "markdown",
   "id": "9ea4a80d-7801-4987-bf97-7d0b51a6a3e9",
   "metadata": {},
   "source": [
    "## find All\n",
    "\n",
    "The **find_all()** method looks through a tag's descendants and retrieves all descendants that match your filters.\n",
    "\n",
    "The Method signature for **find_all(name, attrs, recursive, string, limit, **kwargs)**\n",
    "\n",
    "### Name\n",
    "\n",
    "When we set the **name** parameter to a tag name, the method will extract all the tags with that name and it's children."
   ]
  },
  {
   "cell_type": "code",
   "execution_count": 35,
   "id": "6b9fca33-4fc1-4954-b0ef-2ecf2004a38a",
   "metadata": {
    "tags": []
   },
   "outputs": [
    {
     "data": {
      "text/plain": [
       "[<tr><td id=\"flight\">Flight No</td><td>Launch site</td> <td>Payload mass</td></tr>,\n",
       " <tr> <td>1</td><td><a href=\"https://en.wikipedia.org/wiki/Florida\">Florida</a><a></a></td><td>300 kg</td></tr>,\n",
       " <tr><td>2</td><td><a href=\"https://en.wikipedia.org/wiki/Texas\">Texas</a></td><td>94 kg</td></tr>,\n",
       " <tr><td>3</td><td><a href=\"https://en.wikipedia.org/wiki/Florida\">Florida</a><a> </a></td><td>80 kg</td></tr>]"
      ]
     },
     "execution_count": 35,
     "metadata": {},
     "output_type": "execute_result"
    }
   ],
   "source": [
    "table_rows = table_bs.find_all('tr')\n",
    "table_rows"
   ]
  },
  {
   "cell_type": "markdown",
   "id": "892a39f3-6339-4766-83f7-bdb4a245af75",
   "metadata": {},
   "source": [
    "The result is a Python iterable just like a list, each element is a **tag** object:"
   ]
  },
  {
   "cell_type": "code",
   "execution_count": 37,
   "id": "e1a045ba-172d-4615-98b5-b8bad98ec988",
   "metadata": {
    "tags": []
   },
   "outputs": [
    {
     "data": {
      "text/plain": [
       "<tr><td id=\"flight\">Flight No</td><td>Launch site</td> <td>Payload mass</td></tr>"
      ]
     },
     "execution_count": 37,
     "metadata": {},
     "output_type": "execute_result"
    }
   ],
   "source": [
    "first_row = table_rows[0]\n",
    "first_row"
   ]
  },
  {
   "cell_type": "markdown",
   "id": "dbc7f295-3729-4d87-a93e-dfeea58dbfb5",
   "metadata": {},
   "source": [
    "The type is **tag**"
   ]
  },
  {
   "cell_type": "code",
   "execution_count": 38,
   "id": "dc61f71f-cf92-4fee-bd19-bc6832cade97",
   "metadata": {
    "tags": []
   },
   "outputs": [
    {
     "name": "stdout",
     "output_type": "stream",
     "text": [
      "<class 'bs4.element.Tag'>\n"
     ]
    }
   ],
   "source": [
    "print(type(first_row))"
   ]
  },
  {
   "cell_type": "markdown",
   "id": "74859c5a-f5f4-40b0-ae0e-79cff8a0da4b",
   "metadata": {},
   "source": [
    "We can obtain the child"
   ]
  },
  {
   "cell_type": "code",
   "execution_count": 39,
   "id": "0286b5eb-63f1-4cc0-9c5a-e61807197883",
   "metadata": {
    "tags": []
   },
   "outputs": [
    {
     "data": {
      "text/plain": [
       "<td id=\"flight\">Flight No</td>"
      ]
     },
     "execution_count": 39,
     "metadata": {},
     "output_type": "execute_result"
    }
   ],
   "source": [
    "first_row.td"
   ]
  },
  {
   "cell_type": "markdown",
   "id": "f87d8143-b161-40a9-abc4-ae9ec6fc6071",
   "metadata": {},
   "source": [
    "If we iterate through the list, each element corresponds to a row in the table:"
   ]
  },
  {
   "cell_type": "code",
   "execution_count": 40,
   "id": "c9799996-de2c-40dc-a431-4306d7b7d0ed",
   "metadata": {
    "tags": []
   },
   "outputs": [
    {
     "name": "stdout",
     "output_type": "stream",
     "text": [
      "row 0 is <tr><td id=\"flight\">Flight No</td><td>Launch site</td> <td>Payload mass</td></tr>\n",
      "row 1 is <tr> <td>1</td><td><a href=\"https://en.wikipedia.org/wiki/Florida\">Florida</a><a></a></td><td>300 kg</td></tr>\n",
      "row 2 is <tr><td>2</td><td><a href=\"https://en.wikipedia.org/wiki/Texas\">Texas</a></td><td>94 kg</td></tr>\n",
      "row 3 is <tr><td>3</td><td><a href=\"https://en.wikipedia.org/wiki/Florida\">Florida</a><a> </a></td><td>80 kg</td></tr>\n"
     ]
    }
   ],
   "source": [
    "for i, row in enumerate(table_rows):\n",
    "    print(\"row\", i, \"is\", row)"
   ]
  },
  {
   "cell_type": "markdown",
   "id": "04fd429f-d173-4cc8-be5c-a5917a38a7b6",
   "metadata": {},
   "source": [
    "As **row** is a **cell** object, we can apply the method **find_all** to it and extract table cells in the object **cells** using the tag **td**, this is all the children with the name **td**. The result is a list, each element corresponds to a cell and is a **Tag** object, we can iterate through this list as well. We can extract the content using the **string** attribute."
   ]
  },
  {
   "cell_type": "code",
   "execution_count": 41,
   "id": "4fd65b07-a458-47fa-bef5-e24bade61dc7",
   "metadata": {
    "tags": []
   },
   "outputs": [
    {
     "name": "stdout",
     "output_type": "stream",
     "text": [
      "row 0\n",
      "column 0 cell <td id=\"flight\">Flight No</td>\n",
      "column 1 cell <td>Launch site</td>\n",
      "column 2 cell <td>Payload mass</td>\n",
      "row 1\n",
      "column 0 cell <td>1</td>\n",
      "column 1 cell <td><a href=\"https://en.wikipedia.org/wiki/Florida\">Florida</a><a></a></td>\n",
      "column 2 cell <td>300 kg</td>\n",
      "row 2\n",
      "column 0 cell <td>2</td>\n",
      "column 1 cell <td><a href=\"https://en.wikipedia.org/wiki/Texas\">Texas</a></td>\n",
      "column 2 cell <td>94 kg</td>\n",
      "row 3\n",
      "column 0 cell <td>3</td>\n",
      "column 1 cell <td><a href=\"https://en.wikipedia.org/wiki/Florida\">Florida</a><a> </a></td>\n",
      "column 2 cell <td>80 kg</td>\n"
     ]
    }
   ],
   "source": [
    "for i, row in enumerate(table_rows):\n",
    "    print(\"row\", i)\n",
    "    cells = row.find_all('td')\n",
    "    for j, cell in enumerate(cells):\n",
    "        print('column', j, 'cell', cell)"
   ]
  },
  {
   "cell_type": "markdown",
   "id": "722ea989-0164-4e52-9a3b-d052c0a5fa64",
   "metadata": {},
   "source": [
    "If we use a list we can match against any item in that list."
   ]
  },
  {
   "cell_type": "code",
   "execution_count": 42,
   "id": "8f2efb21-ab20-4b8d-820f-d15d9e600d9c",
   "metadata": {
    "tags": []
   },
   "outputs": [
    {
     "data": {
      "text/plain": [
       "[<tr><td id=\"flight\">Flight No</td><td>Launch site</td> <td>Payload mass</td></tr>,\n",
       " <td id=\"flight\">Flight No</td>,\n",
       " <td>Launch site</td>,\n",
       " <td>Payload mass</td>,\n",
       " <tr> <td>1</td><td><a href=\"https://en.wikipedia.org/wiki/Florida\">Florida</a><a></a></td><td>300 kg</td></tr>,\n",
       " <td>1</td>,\n",
       " <td><a href=\"https://en.wikipedia.org/wiki/Florida\">Florida</a><a></a></td>,\n",
       " <td>300 kg</td>,\n",
       " <tr><td>2</td><td><a href=\"https://en.wikipedia.org/wiki/Texas\">Texas</a></td><td>94 kg</td></tr>,\n",
       " <td>2</td>,\n",
       " <td><a href=\"https://en.wikipedia.org/wiki/Texas\">Texas</a></td>,\n",
       " <td>94 kg</td>,\n",
       " <tr><td>3</td><td><a href=\"https://en.wikipedia.org/wiki/Florida\">Florida</a><a> </a></td><td>80 kg</td></tr>,\n",
       " <td>3</td>,\n",
       " <td><a href=\"https://en.wikipedia.org/wiki/Florida\">Florida</a><a> </a></td>,\n",
       " <td>80 kg</td>]"
      ]
     },
     "execution_count": 42,
     "metadata": {},
     "output_type": "execute_result"
    }
   ],
   "source": [
    "list_input = table_bs.find_all(name=[\"tr\", \"td\"])\n",
    "list_input"
   ]
  },
  {
   "cell_type": "markdown",
   "id": "d3b08f3f-88f1-40f5-b901-798b9a316b9c",
   "metadata": {},
   "source": [
    "## Attributes\n",
    "\n",
    "If the argument is not recognized it will be turned into a filter on the tag's attributes. For example with the **id** argument, Beautiful Soup will filter against each tag's **id** attribute. For example, the first **td** elements have a value of **id** of **flight**, therefore we can filter based on that **id** value."
   ]
  },
  {
   "cell_type": "code",
   "execution_count": 43,
   "id": "e21d5a62-487c-4d8f-9e8b-bcd5a4125cda",
   "metadata": {
    "tags": []
   },
   "outputs": [
    {
     "data": {
      "text/plain": [
       "[<td id=\"flight\">Flight No</td>]"
      ]
     },
     "execution_count": 43,
     "metadata": {},
     "output_type": "execute_result"
    }
   ],
   "source": [
    "table_bs.find_all(id='flight')"
   ]
  },
  {
   "cell_type": "markdown",
   "id": "40f80b23-bd3e-40cd-85f1-98bc766f279d",
   "metadata": {},
   "source": [
    "We can find all the elements that have links to the Florida Wikipedia page:"
   ]
  },
  {
   "cell_type": "code",
   "execution_count": 44,
   "id": "fa1b8d83-9f75-477a-af63-73673d36300f",
   "metadata": {
    "tags": []
   },
   "outputs": [
    {
     "data": {
      "text/plain": [
       "[<a href=\"https://en.wikipedia.org/wiki/Florida\">Florida</a>,\n",
       " <a href=\"https://en.wikipedia.org/wiki/Florida\">Florida</a>]"
      ]
     },
     "execution_count": 44,
     "metadata": {},
     "output_type": "execute_result"
    }
   ],
   "source": [
    "list_input = table_bs.find_all(href=\"https://en.wikipedia.org/wiki/Florida\")\n",
    "list_input"
   ]
  },
  {
   "cell_type": "markdown",
   "id": "afdda7f0-93e6-48bb-a598-f0e6975b1056",
   "metadata": {},
   "source": [
    "If we set the **href** attribute to True, regardless of what the value is, the code finds all tags with **href** value:"
   ]
  },
  {
   "cell_type": "code",
   "execution_count": 45,
   "id": "8fd9cbfb-cae3-4568-a59b-463fec874cfd",
   "metadata": {
    "tags": []
   },
   "outputs": [
    {
     "data": {
      "text/plain": [
       "[<a href=\"https://en.wikipedia.org/wiki/Florida\">Florida</a>,\n",
       " <a href=\"https://en.wikipedia.org/wiki/Texas\">Texas</a>,\n",
       " <a href=\"https://en.wikipedia.org/wiki/Florida\">Florida</a>]"
      ]
     },
     "execution_count": 45,
     "metadata": {},
     "output_type": "execute_result"
    }
   ],
   "source": [
    "table_bs.find_all(href=True)"
   ]
  },
  {
   "cell_type": "markdown",
   "id": "6e496b18-034d-4a0c-bf6f-9b4f662af8ca",
   "metadata": {},
   "source": [
    "There are other methods for dealing with attributes and other related methods. Check out the following <a href='https://www.crummy.com/software/BeautifulSoup/bs4/doc/?utm_medium=Exinfluencer&utm_source=Exinfluencer&utm_content=000026UJ&utm_term=10006555&utm_id=NA-SkillsNetwork-Channel-SkillsNetworkCoursesIBMDeveloperSkillsNetworkPY0101ENSkillsNetwork19487395-2021-01-01#css-selectors'>link</a>\n"
   ]
  },
  {
   "cell_type": "markdown",
   "id": "17e2e382-7756-4be4-9b14-dde5f3856a73",
   "metadata": {},
   "source": [
    "## Exercise: **find_all**"
   ]
  },
  {
   "cell_type": "markdown",
   "id": "c411e232-1042-4b36-b403-8d76cf0f74dd",
   "metadata": {},
   "source": [
    "Using the logic above, find all the elements without **href** value"
   ]
  },
  {
   "cell_type": "code",
   "execution_count": 46,
   "id": "ccb9c07c-ff5f-4ec5-9d55-3dff1e651454",
   "metadata": {
    "tags": []
   },
   "outputs": [
    {
     "data": {
      "text/plain": [
       "[<html><head></head><body><table><tbody><tr><td id=\"flight\">Flight No</td><td>Launch site</td> <td>Payload mass</td></tr><tr> <td>1</td><td><a href=\"https://en.wikipedia.org/wiki/Florida\">Florida</a><a></a></td><td>300 kg</td></tr><tr><td>2</td><td><a href=\"https://en.wikipedia.org/wiki/Texas\">Texas</a></td><td>94 kg</td></tr><tr><td>3</td><td><a href=\"https://en.wikipedia.org/wiki/Florida\">Florida</a><a> </a></td><td>80 kg</td></tr></tbody></table></body></html>,\n",
       " <head></head>,\n",
       " <body><table><tbody><tr><td id=\"flight\">Flight No</td><td>Launch site</td> <td>Payload mass</td></tr><tr> <td>1</td><td><a href=\"https://en.wikipedia.org/wiki/Florida\">Florida</a><a></a></td><td>300 kg</td></tr><tr><td>2</td><td><a href=\"https://en.wikipedia.org/wiki/Texas\">Texas</a></td><td>94 kg</td></tr><tr><td>3</td><td><a href=\"https://en.wikipedia.org/wiki/Florida\">Florida</a><a> </a></td><td>80 kg</td></tr></tbody></table></body>,\n",
       " <table><tbody><tr><td id=\"flight\">Flight No</td><td>Launch site</td> <td>Payload mass</td></tr><tr> <td>1</td><td><a href=\"https://en.wikipedia.org/wiki/Florida\">Florida</a><a></a></td><td>300 kg</td></tr><tr><td>2</td><td><a href=\"https://en.wikipedia.org/wiki/Texas\">Texas</a></td><td>94 kg</td></tr><tr><td>3</td><td><a href=\"https://en.wikipedia.org/wiki/Florida\">Florida</a><a> </a></td><td>80 kg</td></tr></tbody></table>,\n",
       " <tbody><tr><td id=\"flight\">Flight No</td><td>Launch site</td> <td>Payload mass</td></tr><tr> <td>1</td><td><a href=\"https://en.wikipedia.org/wiki/Florida\">Florida</a><a></a></td><td>300 kg</td></tr><tr><td>2</td><td><a href=\"https://en.wikipedia.org/wiki/Texas\">Texas</a></td><td>94 kg</td></tr><tr><td>3</td><td><a href=\"https://en.wikipedia.org/wiki/Florida\">Florida</a><a> </a></td><td>80 kg</td></tr></tbody>,\n",
       " <tr><td id=\"flight\">Flight No</td><td>Launch site</td> <td>Payload mass</td></tr>,\n",
       " <td id=\"flight\">Flight No</td>,\n",
       " <td>Launch site</td>,\n",
       " <td>Payload mass</td>,\n",
       " <tr> <td>1</td><td><a href=\"https://en.wikipedia.org/wiki/Florida\">Florida</a><a></a></td><td>300 kg</td></tr>,\n",
       " <td>1</td>,\n",
       " <td><a href=\"https://en.wikipedia.org/wiki/Florida\">Florida</a><a></a></td>,\n",
       " <a></a>,\n",
       " <td>300 kg</td>,\n",
       " <tr><td>2</td><td><a href=\"https://en.wikipedia.org/wiki/Texas\">Texas</a></td><td>94 kg</td></tr>,\n",
       " <td>2</td>,\n",
       " <td><a href=\"https://en.wikipedia.org/wiki/Texas\">Texas</a></td>,\n",
       " <td>94 kg</td>,\n",
       " <tr><td>3</td><td><a href=\"https://en.wikipedia.org/wiki/Florida\">Florida</a><a> </a></td><td>80 kg</td></tr>,\n",
       " <td>3</td>,\n",
       " <td><a href=\"https://en.wikipedia.org/wiki/Florida\">Florida</a><a> </a></td>,\n",
       " <a> </a>,\n",
       " <td>80 kg</td>]"
      ]
     },
     "execution_count": 46,
     "metadata": {},
     "output_type": "execute_result"
    }
   ],
   "source": [
    "table_bs.find_all(href=False)"
   ]
  },
  {
   "cell_type": "markdown",
   "id": "b4a4a357-a629-4ddb-b940-7111e69b4310",
   "metadata": {},
   "source": [
    "Using the soup object **soup**, find the element with the **id** attribute content set to **\"boldest\"**."
   ]
  },
  {
   "cell_type": "code",
   "execution_count": 48,
   "id": "48a6d83d-fca2-4e6a-9b8a-e9961856db5c",
   "metadata": {
    "tags": []
   },
   "outputs": [
    {
     "data": {
      "text/plain": [
       "[<b id=\"boldest\">Lebron James</b>]"
      ]
     },
     "execution_count": 48,
     "metadata": {},
     "output_type": "execute_result"
    }
   ],
   "source": [
    "soup.find_all(id=\"boldest\")"
   ]
  },
  {
   "cell_type": "markdown",
   "id": "11b01a77-957d-4a2e-b08a-8c425198de60",
   "metadata": {},
   "source": [
    "## string\n",
    "\n",
    "With string you can search for strings instead of tags, where we find all the elements with Florida:"
   ]
  },
  {
   "cell_type": "code",
   "execution_count": 50,
   "id": "cf2c4fd1-e096-43fc-89e2-f71294c4f349",
   "metadata": {
    "tags": []
   },
   "outputs": [
    {
     "data": {
      "text/plain": [
       "['Florida', 'Florida']"
      ]
     },
     "execution_count": 50,
     "metadata": {},
     "output_type": "execute_result"
    }
   ],
   "source": [
    "table_bs.find_all(string=\"Florida\")"
   ]
  },
  {
   "cell_type": "markdown",
   "id": "c3dbaecf-2c7a-4b57-838b-1234986322fa",
   "metadata": {},
   "source": [
    "## find\n",
    "\n",
    "The **find_all()** method scans the entire document looking for results. It's useful if you are looking for one element, as you can use the **find()** method to find the first element in the document. Consider the following two tables:"
   ]
  },
  {
   "cell_type": "code",
   "execution_count": 51,
   "id": "97191de5-f565-4e48-ab1a-ac7f0fd19795",
   "metadata": {
    "tags": []
   },
   "outputs": [
    {
     "data": {
      "text/html": [
       "<h3>Rocket Launch </h3>\n",
       "\n",
       "<p>\n",
       "<table class='rocket'>\n",
       "  <tr>\n",
       "    <td>Flight No</td>\n",
       "    <td>Launch site</td> \n",
       "    <td>Payload mass</td>\n",
       "  </tr>\n",
       "  <tr>\n",
       "    <td>1</td>\n",
       "    <td>Florida</td>\n",
       "    <td>300 kg</td>\n",
       "  </tr>\n",
       "  <tr>\n",
       "    <td>2</td>\n",
       "    <td>Texas</td>\n",
       "    <td>94 kg</td>\n",
       "  </tr>\n",
       "  <tr>\n",
       "    <td>3</td>\n",
       "    <td>Florida </td>\n",
       "    <td>80 kg</td>\n",
       "  </tr>\n",
       "</table>\n",
       "</p>\n",
       "<p>\n",
       "\n",
       "<h3>Pizza Party  </h3>\n",
       "  \n",
       "    \n",
       "<table class='pizza'>\n",
       "  <tr>\n",
       "    <td>Pizza Place</td>\n",
       "    <td>Orders</td> \n",
       "    <td>Slices </td>\n",
       "   </tr>\n",
       "  <tr>\n",
       "    <td>Domino's Pizza</td>\n",
       "    <td>10</td>\n",
       "    <td>100</td>\n",
       "  </tr>\n",
       "  <tr>\n",
       "    <td>Little Caesars</td>\n",
       "    <td>12</td>\n",
       "    <td >144 </td>\n",
       "  </tr>\n",
       "  <tr>\n",
       "    <td>Papa John's </td>\n",
       "    <td>15 </td>\n",
       "    <td>165</td>\n",
       "  </tr>\n"
      ],
      "text/plain": [
       "<IPython.core.display.HTML object>"
      ]
     },
     "metadata": {},
     "output_type": "display_data"
    }
   ],
   "source": [
    "%%html\n",
    "<h3>Rocket Launch </h3>\n",
    "\n",
    "<p>\n",
    "<table class='rocket'>\n",
    "  <tr>\n",
    "    <td>Flight No</td>\n",
    "    <td>Launch site</td> \n",
    "    <td>Payload mass</td>\n",
    "  </tr>\n",
    "  <tr>\n",
    "    <td>1</td>\n",
    "    <td>Florida</td>\n",
    "    <td>300 kg</td>\n",
    "  </tr>\n",
    "  <tr>\n",
    "    <td>2</td>\n",
    "    <td>Texas</td>\n",
    "    <td>94 kg</td>\n",
    "  </tr>\n",
    "  <tr>\n",
    "    <td>3</td>\n",
    "    <td>Florida </td>\n",
    "    <td>80 kg</td>\n",
    "  </tr>\n",
    "</table>\n",
    "</p>\n",
    "<p>\n",
    "\n",
    "<h3>Pizza Party  </h3>\n",
    "  \n",
    "    \n",
    "<table class='pizza'>\n",
    "  <tr>\n",
    "    <td>Pizza Place</td>\n",
    "    <td>Orders</td> \n",
    "    <td>Slices </td>\n",
    "   </tr>\n",
    "  <tr>\n",
    "    <td>Domino's Pizza</td>\n",
    "    <td>10</td>\n",
    "    <td>100</td>\n",
    "  </tr>\n",
    "  <tr>\n",
    "    <td>Little Caesars</td>\n",
    "    <td>12</td>\n",
    "    <td >144 </td>\n",
    "  </tr>\n",
    "  <tr>\n",
    "    <td>Papa John's </td>\n",
    "    <td>15 </td>\n",
    "    <td>165</td>\n",
    "  </tr>\n"
   ]
  },
  {
   "cell_type": "markdown",
   "id": "0d9f5c3f-288a-44ad-a4ab-b38f5d40e807",
   "metadata": {},
   "source": [
    "We store the HTML as a Python string and assign **two_tables**"
   ]
  },
  {
   "cell_type": "code",
   "execution_count": 52,
   "id": "530b0409-dcd1-45ef-93f9-8b33685bbfc4",
   "metadata": {
    "tags": []
   },
   "outputs": [],
   "source": [
    "two_tables =\"<h3>Rocket Launch </h3><p><table class='rocket'><tr><td>Flight No</td><td>Launch site</td> <td>Payload mass</td></tr><tr><td>1</td><td>Florida</td><td>300 kg</td></tr><tr><td>2</td><td>Texas</td><td>94 kg</td></tr><tr><td>3</td><td>Florida </td><td>80 kg</td></tr></table></p><p><h3>Pizza Party  </h3><table class='pizza'><tr><td>Pizza Place</td><td>Orders</td> <td>Slices </td></tr><tr><td>Domino's Pizza</td><td>10</td><td>100</td></tr><tr><td>Little Caesars</td><td>12</td><td >144 </td></tr><tr><td>Papa John's </td><td>15 </td><td>165</td></tr>\"\n"
   ]
  },
  {
   "cell_type": "markdown",
   "id": "d4395dd8-a8cc-4c60-b6e5-f737584ae3db",
   "metadata": {},
   "source": [
    "We create **BeautifulSoup** object **two_tables_bs**"
   ]
  },
  {
   "cell_type": "code",
   "execution_count": 53,
   "id": "e30e0795-c343-4cbd-a2cc-892a9eaa312b",
   "metadata": {
    "tags": []
   },
   "outputs": [],
   "source": [
    "two_tables_bs = BeautifulSoup(two_tables, 'html.parser')"
   ]
  },
  {
   "cell_type": "markdown",
   "id": "afbfd90f-4a3d-4080-9fd9-bf9e4adff931",
   "metadata": {},
   "source": [
    "We can find the first table using the tag name table"
   ]
  },
  {
   "cell_type": "code",
   "execution_count": 54,
   "id": "d5c87308-392f-4254-94f7-3b63671e55d9",
   "metadata": {
    "tags": []
   },
   "outputs": [
    {
     "data": {
      "text/plain": [
       "<table class=\"rocket\"><tr><td>Flight No</td><td>Launch site</td> <td>Payload mass</td></tr><tr><td>1</td><td>Florida</td><td>300 kg</td></tr><tr><td>2</td><td>Texas</td><td>94 kg</td></tr><tr><td>3</td><td>Florida </td><td>80 kg</td></tr></table>"
      ]
     },
     "execution_count": 54,
     "metadata": {},
     "output_type": "execute_result"
    }
   ],
   "source": [
    "two_tables_bs.find('table')"
   ]
  },
  {
   "cell_type": "markdown",
   "id": "48c0d8ec-cd4f-4947-96bc-325c36b30538",
   "metadata": {},
   "source": [
    "We can filter on the class attribute to find the second table, but because class is a keyword in Python, we add an underscore to differentiate them."
   ]
  },
  {
   "cell_type": "code",
   "execution_count": 56,
   "id": "dd5dac63-43ea-43be-b8eb-5a5421b4ea9d",
   "metadata": {
    "tags": []
   },
   "outputs": [
    {
     "data": {
      "text/plain": [
       "<table class=\"pizza\"><tr><td>Pizza Place</td><td>Orders</td> <td>Slices </td></tr><tr><td>Domino's Pizza</td><td>10</td><td>100</td></tr><tr><td>Little Caesars</td><td>12</td><td>144 </td></tr><tr><td>Papa John's </td><td>15 </td><td>165</td></tr></table>"
      ]
     },
     "execution_count": 56,
     "metadata": {},
     "output_type": "execute_result"
    }
   ],
   "source": [
    "two_tables_bs.find('table', class_='pizza')"
   ]
  },
  {
   "cell_type": "code",
   "execution_count": 57,
   "id": "1afb95b6-9b18-4932-ad6f-fbfcae8b8f59",
   "metadata": {
    "tags": []
   },
   "outputs": [
    {
     "data": {
      "text/plain": [
       "<table class=\"rocket\"><tr><td>Flight No</td><td>Launch site</td> <td>Payload mass</td></tr><tr><td>1</td><td>Florida</td><td>300 kg</td></tr><tr><td>2</td><td>Texas</td><td>94 kg</td></tr><tr><td>3</td><td>Florida </td><td>80 kg</td></tr></table>"
      ]
     },
     "execution_count": 57,
     "metadata": {},
     "output_type": "execute_result"
    }
   ],
   "source": [
    "two_tables_bs.find('table', class_='rocket')"
   ]
  },
  {
   "cell_type": "markdown",
   "id": "d38c3dfd-a5f0-49c3-92aa-978745c003a8",
   "metadata": {},
   "source": [
    "## Downloading And Scraping The Contents OF a Web Page\n",
    "\n",
    "We download the contents of the web page:"
   ]
  },
  {
   "cell_type": "code",
   "execution_count": 109,
   "id": "4ea4cf48-458f-4bee-b7fe-997904c818b7",
   "metadata": {
    "tags": []
   },
   "outputs": [],
   "source": [
    "url = \"http://www.ibm.com\""
   ]
  },
  {
   "cell_type": "markdown",
   "id": "49318ca7-c905-4b97-81bf-6a06bf70c3a3",
   "metadata": {},
   "source": [
    "We use **get** to download the contents of the webpage in text format and store in a variable called **data**:"
   ]
  },
  {
   "cell_type": "code",
   "execution_count": 110,
   "id": "b4ec3230-3f1f-4a28-a5b0-cfb0931d3a84",
   "metadata": {
    "tags": []
   },
   "outputs": [],
   "source": [
    "data = requests.get(url).text "
   ]
  },
  {
   "cell_type": "markdown",
   "id": "6555dda9-142a-4549-8486-cd0bcdccf506",
   "metadata": {},
   "source": [
    "We create a **BeautifulSoup** object using the **BeautifulSoup** constructor:"
   ]
  },
  {
   "cell_type": "code",
   "execution_count": 111,
   "id": "13bc6e00-580d-4895-b116-9f56b1b24ede",
   "metadata": {
    "tags": []
   },
   "outputs": [],
   "source": [
    "# Create a soup object using the variable 'data'\n",
    "\n",
    "soup = BeautifulSoup(data,\"html5lib\")  "
   ]
  },
  {
   "cell_type": "markdown",
   "id": "fe66b466-dd41-4037-8ba9-f29be3076fa3",
   "metadata": {},
   "source": [
    "Scrape all links"
   ]
  },
  {
   "cell_type": "code",
   "execution_count": 112,
   "id": "7bc82248-a6e9-45ae-b189-6f50ec34dd63",
   "metadata": {
    "tags": []
   },
   "outputs": [
    {
     "name": "stdout",
     "output_type": "stream",
     "text": [
      "https://www.ibm.com/thought-leadership/institute-business-value/en-us/report/ceo-generative-ai/application-modernization/\n",
      "https://www.ibm.com/downloads/cas/WYMOR8E5\n",
      "https://www.ibm.com/products/watsonx-ai\n",
      "https://www.ibm.com/products/watsonx-data\n",
      "https://www.ibm.com/products/spss-statistics/pricing\n",
      "https://www.ibm.com/aws/sustainability\n",
      "https://www.ibm.com/cloud?lnk=flatitem\n",
      "https://www.ibm.com/products\n",
      "https://www.ibm.com/consulting\n",
      "https://www.ibm.com/about\n",
      "https://www.ibm.com/\n"
     ]
    }
   ],
   "source": [
    "# in html ancor/link is represented by the tag <a>\n",
    "\n",
    "for link in soup.find_all('a', href = True):\n",
    "    \n",
    "    print(link.get('href'))\n"
   ]
  },
  {
   "cell_type": "markdown",
   "id": "8f2e7edb-a04b-4da5-9c60-8958058cb73e",
   "metadata": {},
   "source": [
    "## Scrape all images Tags"
   ]
  },
  {
   "cell_type": "code",
   "execution_count": 113,
   "id": "2d658968-fbcc-4fbf-bdc9-2fa43dc5b4d2",
   "metadata": {
    "tags": []
   },
   "outputs": [
    {
     "name": "stdout",
     "output_type": "stream",
     "text": [
      "<img alt=\"Product image for watsonx overview page\" class=\"bx--image__img\" src=\"https://1.dam.s81c.com/p/0c9c5faa18c5c7cf/watsonx-overview-leadspace-super-hybrid-ui-homepage.png.global.xl_1x1.jpg\"/>\n",
      "https://1.dam.s81c.com/p/0c9c5faa18c5c7cf/watsonx-overview-leadspace-super-hybrid-ui-homepage.png.global.xl_1x1.jpg\n",
      "<img alt=\"Concentric illustration showing watsonx.ai capabilities\" aria-describedby=\"bx--image-3\" class=\"bx--image__img\" src=\"https://1.dam.s81c.com/p/0c3ce2dfcccd1f24/watsonx-data-square.jpg\"/>\n",
      "https://1.dam.s81c.com/p/0c3ce2dfcccd1f24/watsonx-data-square.jpg\n",
      "<img alt=\"Illustration of workers digital planning with blue dots and post-its\" aria-describedby=\"bx--image-4\" class=\"bx--image__img\" src=\"https://1.dam.s81c.com/p/0c3ce2dfcccd1f25/watsonx-ai-square.jpg\"/>\n",
      "https://1.dam.s81c.com/p/0c3ce2dfcccd1f25/watsonx-ai-square.jpg\n",
      "<img alt=\"Illustration of people at large digital dashboard\" aria-describedby=\"bx--image-5\" class=\"bx--image__img\" src=\"https://1.dam.s81c.com/p/0b5258b292cc8c3c/ibm-SPSS-home-card.png.global.xs_1x1.png\"/>\n",
      "https://1.dam.s81c.com/p/0b5258b292cc8c3c/ibm-SPSS-home-card.png.global.xs_1x1.png\n",
      "<img alt=\"Envizi hybrid-UI illustration dashboard with charts and graphs\" aria-describedby=\"bx--image-6\" class=\"bx--image__img\" src=\"https://1.dam.s81c.com/p/0c627169c3ad5dfd/0b5258b3394c8d62-envizi-overview-leadspace-illustration-homepage.jpg.global.s_1x1.jpg\"/>\n",
      "https://1.dam.s81c.com/p/0c627169c3ad5dfd/0b5258b3394c8d62-envizi-overview-leadspace-illustration-homepage.jpg.global.s_1x1.jpg\n",
      "<img alt=\"Grid of IBM consultant portraits\" class=\"bx--image__img\" src=\"https://1.dam.s81c.com/p/0aac9cf57bcbf324/dotcom-1-overview.jpg\"/>\n",
      "https://1.dam.s81c.com/p/0aac9cf57bcbf324/dotcom-1-overview.jpg\n"
     ]
    }
   ],
   "source": [
    "# in html image is represented by the tag <img>\n",
    "\n",
    "for link in soup.find_all('img'):\n",
    "    print(link)\n",
    "    print(link.get('src'))\n",
    "    "
   ]
  },
  {
   "cell_type": "markdown",
   "id": "bcceb170-4d94-4216-8dbe-c0cdbbce6292",
   "metadata": {},
   "source": [
    "## Scrape data from HTML tables"
   ]
  },
  {
   "cell_type": "code",
   "execution_count": 114,
   "id": "29e303ed-69ca-4bd5-bc82-0128f034fc90",
   "metadata": {
    "tags": []
   },
   "outputs": [],
   "source": [
    "# The below url contains an html table with data about colors and color codes.\n",
    "url = \"https://cf-courses-data.s3.us.cloud-object-storage.appdomain.cloud/IBM-DA0321EN-SkillsNetwork/labs/datasets/HTMLColorCodes.html\""
   ]
  },
  {
   "cell_type": "markdown",
   "id": "e73cf979-4fee-4c1f-a6d3-934a7370ce7d",
   "metadata": {},
   "source": [
    "Before procedding to srape a web site, you need to examine the contents and the way data is organized on the website. Open above url in your browser and check how many rows and columns there are in the colore table."
   ]
  },
  {
   "cell_type": "code",
   "execution_count": 115,
   "id": "e044845d-fe9d-470c-8789-8a43ff2daa40",
   "metadata": {
    "tags": []
   },
   "outputs": [],
   "source": [
    "# get the contents of the webpage in text format and store in a variable called data\n",
    "data = requests.get(url).text"
   ]
  },
  {
   "cell_type": "code",
   "execution_count": 117,
   "id": "2b977d68-ff82-473b-bcc7-71fc069e0391",
   "metadata": {
    "tags": []
   },
   "outputs": [],
   "source": [
    "soup = BeautifulSoup(data, \"html5lib\")"
   ]
  },
  {
   "cell_type": "code",
   "execution_count": 119,
   "id": "60eca5b4-39ac-481d-b5a8-c4653fe8d208",
   "metadata": {
    "tags": []
   },
   "outputs": [],
   "source": [
    "# Find a html table in the web page\n",
    "table = soup.find('table')\n",
    "# in html table is represented by the tag <table>"
   ]
  },
  {
   "cell_type": "code",
   "execution_count": 121,
   "id": "c934a7d7-dbcf-49bb-977d-7cc5b4a5b08c",
   "metadata": {
    "tags": []
   },
   "outputs": [
    {
     "name": "stdout",
     "output_type": "stream",
     "text": [
      "Color Name--->Hex Code#RRGGBB\n",
      "lightsalmon--->#FFA07A\n",
      "salmon--->#FA8072\n",
      "darksalmon--->#E9967A\n",
      "lightcoral--->#F08080\n",
      "coral--->#FF7F50\n",
      "tomato--->#FF6347\n",
      "orangered--->#FF4500\n",
      "gold--->#FFD700\n",
      "orange--->#FFA500\n",
      "darkorange--->#FF8C00\n",
      "lightyellow--->#FFFFE0\n",
      "lemonchiffon--->#FFFACD\n",
      "papayawhip--->#FFEFD5\n",
      "moccasin--->#FFE4B5\n",
      "peachpuff--->#FFDAB9\n",
      "palegoldenrod--->#EEE8AA\n",
      "khaki--->#F0E68C\n",
      "darkkhaki--->#BDB76B\n",
      "yellow--->#FFFF00\n",
      "lawngreen--->#7CFC00\n",
      "chartreuse--->#7FFF00\n",
      "limegreen--->#32CD32\n",
      "lime--->#00FF00\n",
      "forestgreen--->#228B22\n",
      "green--->#008000\n",
      "powderblue--->#B0E0E6\n",
      "lightblue--->#ADD8E6\n",
      "lightskyblue--->#87CEFA\n",
      "skyblue--->#87CEEB\n",
      "deepskyblue--->#00BFFF\n",
      "lightsteelblue--->#B0C4DE\n",
      "dodgerblue--->#1E90FF\n"
     ]
    }
   ],
   "source": [
    "# Get all rows from the table\n",
    "for row in table.find_all('tr'):  # in html table row is represented by <tr>\n",
    "    # Get all columns in each row.\n",
    "    cols= row.find_all('td') # in html a column is represented by <td>\n",
    "    color_name = cols[2].string # store value in column 3 as color_name\n",
    "    color_code = cols[3].text # store value in column 4 as color_code\n",
    "    print('{}--->{}'.format(color_name, color_code))"
   ]
  },
  {
   "cell_type": "code",
   "execution_count": null,
   "id": "93f85c4f-b015-4ac8-ab03-1aa7084ab641",
   "metadata": {},
   "outputs": [],
   "source": []
  }
 ],
 "metadata": {
  "kernelspec": {
   "display_name": "Python 3 (ipykernel)",
   "language": "python",
   "name": "python3"
  },
  "language_info": {
   "codemirror_mode": {
    "name": "ipython",
    "version": 3
   },
   "file_extension": ".py",
   "mimetype": "text/x-python",
   "name": "python",
   "nbconvert_exporter": "python",
   "pygments_lexer": "ipython3",
   "version": "3.11.4"
  }
 },
 "nbformat": 4,
 "nbformat_minor": 5
}
