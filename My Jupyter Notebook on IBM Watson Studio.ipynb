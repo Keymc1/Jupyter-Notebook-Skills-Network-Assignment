{
    "cells": [
        {
            "cell_type": "markdown",
            "metadata": {
                "collapsed": true
            },
            "source": "# My Jupyter Notebook on IBM Watson Studio\n"
        },
        {
            "cell_type": "markdown",
            "metadata": {},
            "source": "__Mickey McCall__\n\nI am currently unemployed and studying to go into a Data Science field.\n"
        },
        {
            "cell_type": "markdown",
            "metadata": {},
            "source": "*I am interested in data science because it seems like it would a field which would bring me great joy. I also think it is very useful to help people around the world.*"
        },
        {
            "cell_type": "markdown",
            "metadata": {},
            "source": "### Simple addition and subtraction code"
        },
        {
            "cell_type": "code",
            "execution_count": 1,
            "metadata": {},
            "outputs": [
                {
                    "data": {
                        "text/plain": "3"
                    },
                    "execution_count": 1,
                    "metadata": {},
                    "output_type": "execute_result"
                }
            ],
            "source": "4+1-2"
        },
        {
            "cell_type": "markdown",
            "metadata": {},
            "source": "| South Korean WON Currency |\n| ----------------------------- |\n| 1. [1000](https://flagpedia.net/data/currency/krw/1000-won-serieiii-obverse.jpg) |\n| 2. [5000](https://ii.mypivots.com/banknotes/krw-5000-south-korean-wons-2.jpg) |\n| 3. [10000](https://www.leftovercurrency.com/app/uploads/2017/09/10000-south-korean-won-banknote-2007-issue-obverse-1.jpg) |\n| 4. [50000](https://www.leftovercurrency.com/app/uploads/2017/09/50000-south-korean-won-banknote-2009-issue-obverse-1.jpg) |\n| Korean children love to receive the WON with Grandma on the front! |\n"
        },
        {
            "cell_type": "markdown",
            "metadata": {},
            "source": "## This is a certificate for 100000\n<img src=\"https://3.bp.blogspot.com/-72KGMEgK1_M/T52MweT20nI/AAAAAAAAAac/GGGCutsgFCc/s1600/5646.jpg\" >\n"
        },
        {
            "cell_type": "markdown",
            "metadata": {},
            "source": "### ___I hope you enjoyed my little information on the South Korean Currency!___\n#### My name is Mickey McCall\n"
        },
        {
            "cell_type": "code",
            "execution_count": null,
            "metadata": {},
            "outputs": [],
            "source": ""
        }
    ],
    "metadata": {
        "kernelspec": {
            "display_name": "Python 3.10",
            "language": "python",
            "name": "python3"
        },
        "language_info": {
            "codemirror_mode": {
                "name": "ipython",
                "version": 3
            },
            "file_extension": ".py",
            "mimetype": "text/x-python",
            "name": "python",
            "nbconvert_exporter": "python",
            "pygments_lexer": "ipython3",
            "version": "3.10.9"
        }
    },
    "nbformat": 4,
    "nbformat_minor": 1
}