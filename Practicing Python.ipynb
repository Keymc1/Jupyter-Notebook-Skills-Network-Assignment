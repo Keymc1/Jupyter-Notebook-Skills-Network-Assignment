{
 "cells": [
  {
   "cell_type": "code",
   "execution_count": 1,
   "id": "8c6a3e33-494e-4701-93ec-085e85f514b0",
   "metadata": {
    "tags": []
   },
   "outputs": [
    {
     "name": "stdout",
     "output_type": "stream",
     "text": [
      "<class 'float'>\n"
     ]
    }
   ],
   "source": [
    "x = 20.5\n",
    "print( type (x))\n"
   ]
  },
  {
   "cell_type": "code",
   "execution_count": 2,
   "id": "4567847b-ddba-4e6c-a9c3-773f9a5ae7e1",
   "metadata": {
    "tags": []
   },
   "outputs": [
    {
     "name": "stdout",
     "output_type": "stream",
     "text": [
      "<class 'list'>\n"
     ]
    }
   ],
   "source": [
    "x = [\"apple\", \"banana\", \"cherry\"]\n",
    "print ( type (x))\n"
   ]
  },
  {
   "cell_type": "markdown",
   "id": "3635b13a-6f98-461d-aa2c-fbb129628ff8",
   "metadata": {
    "tags": []
   },
   "source": [
    "# Below is a Python Tuple example\n",
    "## A Tuple is:\n",
    "1. ordered, indexed collections of data. Similar to string indices (latin plural of index), the first value in the tuple will have the index [0], the second value [1], and so on.\n",
    "2. can store duplicate values.\n",
    "3. once data is assigned to a tuple, the values cannot be changed.\n",
    "4. allow you to store several data items in one variable. you can choose to store only one kind of data in a tuple or mix it up as needed.\n"
   ]
  },
  {
   "cell_type": "code",
   "execution_count": 3,
   "id": "77bbf837-4969-4546-9db9-ffd9b630f1f1",
   "metadata": {
    "tags": []
   },
   "outputs": [
    {
     "name": "stdout",
     "output_type": "stream",
     "text": [
      "<class 'tuple'>\n"
     ]
    }
   ],
   "source": [
    "x = ( \"apple\" , \"banana\" , \"cherry\")\n",
    "print ( type (x))"
   ]
  },
  {
   "cell_type": "markdown",
   "id": "d84da10f-c525-4024-9cea-0919c1966b08",
   "metadata": {},
   "source": [
    "## Here are examples of declared tuples:"
   ]
  },
  {
   "cell_type": "code",
   "execution_count": 1,
   "id": "db5b6a6b-0102-410f-af8b-a9af4a844854",
   "metadata": {
    "tags": []
   },
   "outputs": [
    {
     "name": "stdout",
     "output_type": "stream",
     "text": [
      "1\n",
      "W\n",
      "bread\n"
     ]
    }
   ],
   "source": [
    "tuple1 = ( 1, 3, 5, 7, 9 );\n",
    "\n",
    "tuple2 = \"W\" , \"X\" , \"c\" , \"d\";\n",
    "\n",
    "tuple3 = ('bread' , 'cheese' , 1999, 2019);\n",
    "\n",
    "print (tuple1 [0])\n",
    "# Output: 1\n",
    "print (tuple2 [0])\n",
    "# Output: W\n",
    "print (tuple3 [0])\n",
    "# Output: bread\n",
    "\n"
   ]
  },
  {
   "cell_type": "markdown",
   "id": "bc151e20-3a6a-4f7d-9045-efae1f6f9942",
   "metadata": {},
   "source": [
    "## You can also create an empty tuple by putting no values between the brackets, like so:"
   ]
  },
  {
   "cell_type": "code",
   "execution_count": 2,
   "id": "b8226203-0520-463e-955e-f0e291da8f20",
   "metadata": {
    "tags": []
   },
   "outputs": [],
   "source": [
    "tuple1 = ();"
   ]
  },
  {
   "cell_type": "markdown",
   "id": "ba4bb46e-b6af-4697-bb39-75e9b7210452",
   "metadata": {},
   "source": [
    "# Creating a tuple with just one value must include a comma entering the value before closing the bracket:\n",
    "\n",
    "***tuple = ( 1, );***\n",
    "\n"
   ]
  },
  {
   "cell_type": "markdown",
   "id": "969d85ce-f639-4679-af08-3491000aefe5",
   "metadata": {},
   "source": [
    "## Here is an example of accessing a tuple using indexing (Python indexing starts with 0):"
   ]
  },
  {
   "cell_type": "code",
   "execution_count": 7,
   "id": "3b9707d5-0015-4a48-b962-25e079ce6143",
   "metadata": {
    "tags": []
   },
   "outputs": [
    {
     "name": "stdout",
     "output_type": "stream",
     "text": [
      "1\n"
     ]
    }
   ],
   "source": [
    "tuple1 = ( 1, 3, 5, 7, 9);\n",
    "print (tuple1 [0])\n",
    "# Output:1"
   ]
  },
  {
   "cell_type": "markdown",
   "id": "13f963ff-ebe1-4dfb-8194-7998fa4921b6",
   "metadata": {},
   "source": [
    "## You can also put tuples inside of tuples. **Nesting tuples.** \n",
    "## To access a value of a tuple that is inside another tuple you **must chain the index operators like:**\n"
   ]
  },
  {
   "cell_type": "code",
   "execution_count": 13,
   "id": "674d06d7-aaf7-4513-9ccb-cc2a74f0e58a",
   "metadata": {
    "tags": []
   },
   "outputs": [
    {
     "name": "stdout",
     "output_type": "stream",
     "text": [
      "3\n",
      "5\n"
     ]
    }
   ],
   "source": [
    "tuple1 = (( 1, 3) ,  ( 5, 7));\n",
    "print (tuple1 [0] [1])\n",
    "print (tuple1 [1] [0])\n",
    "# Output:\n",
    "# 3\n",
    "# 5\n"
   ]
  },
  {
   "cell_type": "markdown",
   "id": "fb3021e7-1e8f-4f77-a060-c5c59ebb0acd",
   "metadata": {},
   "source": [
    "## Negative indexing\n",
    "the index **\"-1\"** in tuples refers to the **last item** in the list, index ***\"-2\"*** refers to the ***second-last item***, and so on."
   ]
  },
  {
   "cell_type": "code",
   "execution_count": 14,
   "id": "816e889d-b83d-4570-99e1-27e72eeb2639",
   "metadata": {
    "tags": []
   },
   "outputs": [
    {
     "name": "stdout",
     "output_type": "stream",
     "text": [
      "7\n",
      "5\n"
     ]
    }
   ],
   "source": [
    "## Here is how you can use negative indexing to access tuuple elements in Python:\n",
    "\n",
    "tuple1 = ( 1, 3, 5, 7 );\n",
    "print (tuple1 [-1])\n",
    "print (tuple1 [-2])\n",
    "# Output:\n",
    "# 7\n",
    "# 5\n"
   ]
  },
  {
   "cell_type": "markdown",
   "id": "7a3af077-3f3b-4f66-88cd-c7cd592109d5",
   "metadata": {},
   "source": [
    "# Slicing\n",
    "Means accessing the elements using the slicing operatoor, which is the colon **(\":\")**\n"
   ]
  },
  {
   "cell_type": "code",
   "execution_count": 15,
   "id": "84ce54dc-2564-4bdf-a953-da847a472c62",
   "metadata": {
    "tags": []
   },
   "outputs": [
    {
     "name": "stdout",
     "output_type": "stream",
     "text": [
      "('y', 't', 'h')\n",
      "('p', 'y')\n",
      "('h', 'o', 'n')\n",
      "('p', 'y', 't', 'h', 'o', 'n')\n"
     ]
    }
   ],
   "source": [
    "## Here is slicing\n",
    "\n",
    "tuple1 = ( 'p', 'y', 't', 'h', 'o', 'n' );\n",
    "\n",
    "# To print second to fourth elements\n",
    "print (tuple1 [1 : 4])\n",
    "# Output: ( 'y', 't', 'h' )\n",
    "\n",
    "# To print elements from the beginning to the second value\n",
    "print ( tuple1 [: -4 ])\n",
    "# Output: ( 'p', 'y' )\n",
    "\n",
    "# To print elements from the fourth element to the end\n",
    "print ( tuple1 [ 3 : ])\n",
    "# Output: ( 'h', 'o', 'n' )\n",
    "\n",
    "# To print all elements from the beginning of the tuple to the end\n",
    "print ( tuple1 [ : ])\n",
    "# Output: ( 'p', 'y', 't', 'h', 'o', 'n' )\n"
   ]
  },
  {
   "cell_type": "markdown",
   "id": "96166f6b-cae7-491d-87af-dd8fd08c003a",
   "metadata": {},
   "source": [
    "## Visualing the elements of a tuple below\n",
    "\n",
    "# Elements: --------        p  y  t  h  o  n\n",
    "# Index:        ----------- 0  1  2  3  4  5\n",
    "# Negative Index:  -6 -5 -4 -3 -2 -1 "
   ]
  },
  {
   "cell_type": "markdown",
   "id": "39a145bc-56ad-495a-a27f-3825ded5a6f0",
   "metadata": {},
   "source": [
    "## Primary"
   ]
  },
  {
   "cell_type": "markdown",
   "id": "d87edf14-279d-40df-b176-eb80e9981231",
   "metadata": {},
   "source": [
    "## Storing mutable lists in tuples\n",
    "Here is and example:"
   ]
  },
  {
   "cell_type": "code",
   "execution_count": 18,
   "id": "881c948b-5661-49d3-a18d-6352761ff8cb",
   "metadata": {
    "tags": []
   },
   "outputs": [
    {
     "name": "stdout",
     "output_type": "stream",
     "text": [
      "(1, 2, 3, [7, 5])\n"
     ]
    },
    {
     "ename": "TypeError",
     "evalue": "'tuple' object does not support item assignment",
     "output_type": "error",
     "traceback": [
      "\u001b[1;31m---------------------------------------------------------------------------\u001b[0m",
      "\u001b[1;31mTypeError\u001b[0m                                 Traceback (most recent call last)",
      "Cell \u001b[1;32mIn[18], line 9\u001b[0m\n\u001b[0;32m      5\u001b[0m \u001b[38;5;28mprint\u001b[39m ( tuple1 )\n\u001b[0;32m      7\u001b[0m \u001b[38;5;66;03m# Output: ( 1, 2, 3, [ 7, 5 ] )\u001b[39;00m\n\u001b[1;32m----> 9\u001b[0m tuple1 [ \u001b[38;5;241m1\u001b[39m ] \u001b[38;5;241m=\u001b[39m \u001b[38;5;241m7\u001b[39m\n\u001b[0;32m     10\u001b[0m \u001b[38;5;28mprint\u001b[39m (tuple1)\n",
      "\u001b[1;31mTypeError\u001b[0m: 'tuple' object does not support item assignment"
     ]
    }
   ],
   "source": [
    "tuple1 = ( 1, 2, 3, [4, 5] )\n",
    "\n",
    "tuple1 [ 3 ] [ 0 ] = 7\n",
    "\n",
    "print ( tuple1 )\n",
    "\n",
    "# Output: ( 1, 2, 3, [ 7, 5 ] )\n",
    "\n",
    "tuple1 [ 1 ] = 7\n",
    "print (tuple1)\n"
   ]
  },
  {
   "cell_type": "code",
   "execution_count": null,
   "id": "b56c58a6-6cae-40ee-bd22-9c0b2fe7b204",
   "metadata": {},
   "outputs": [],
   "source": []
  }
 ],
 "metadata": {
  "kernelspec": {
   "display_name": "Python 3 (ipykernel)",
   "language": "python",
   "name": "python3"
  },
  "language_info": {
   "codemirror_mode": {
    "name": "ipython",
    "version": 3
   },
   "file_extension": ".py",
   "mimetype": "text/x-python",
   "name": "python",
   "nbconvert_exporter": "python",
   "pygments_lexer": "ipython3",
   "version": "3.11.4"
  }
 },
 "nbformat": 4,
 "nbformat_minor": 5
}
